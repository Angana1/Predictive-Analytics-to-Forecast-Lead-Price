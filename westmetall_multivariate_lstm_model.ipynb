{
  "nbformat": 4,
  "nbformat_minor": 0,
  "metadata": {
    "colab": {
      "name": "westmetall multivariate lstm model.ipynb",
      "provenance": []
    },
    "kernelspec": {
      "name": "python3",
      "display_name": "Python 3"
    },
    "language_info": {
      "name": "python"
    }
  },
  "cells": [
    {
      "cell_type": "code",
      "metadata": {
        "id": "MMxNvynCMzZp"
      },
      "source": [
        "import pandas as pd\n",
        "import numpy as np\n",
        "from sklearn.preprocessing import MinMaxScaler\n",
        "from tensorflow.keras.models import Sequential\n",
        "from tensorflow.keras.layers import Dense,Dropout\n",
        "from tensorflow.keras.layers import LSTM\n",
        "from matplotlib import pyplot as plt"
      ],
      "execution_count": null,
      "outputs": []
    },
    {
      "cell_type": "code",
      "metadata": {
        "colab": {
          "base_uri": "https://localhost:8080/"
        },
        "id": "0PIhqMdqNUsY",
        "outputId": "28e274a3-ed0d-4d60-ba40-20c762dd9084"
      },
      "source": [
        "df1=pd.read_csv('/content/LEAD_finalWithBfill.csv');\n",
        "print(df1.dtypes)\n",
        "print(df1)"
      ],
      "execution_count": null,
      "outputs": [
        {
          "output_type": "stream",
          "text": [
            "Date                         object\n",
            "LME Lead Cash-Settlement    float64\n",
            "dtype: object\n",
            "            Date  LME Lead Cash-Settlement\n",
            "0     01-01-2008                    2580.0\n",
            "1     02-01-2008                    2580.0\n",
            "2     03-01-2008                    2593.0\n",
            "3     04-01-2008                    2665.0\n",
            "4     05-01-2008                    2601.0\n",
            "...          ...                       ...\n",
            "4884  16-05-2021                    2181.5\n",
            "4885  17-05-2021                    2181.5\n",
            "4886  18-05-2021                    2213.5\n",
            "4887  19-05-2021                    2202.0\n",
            "4888  20-05-2021                    2202.5\n",
            "\n",
            "[4889 rows x 2 columns]\n"
          ],
          "name": "stdout"
        }
      ]
    },
    {
      "cell_type": "code",
      "metadata": {
        "colab": {
          "base_uri": "https://localhost:8080/"
        },
        "id": "SzKCOVn-OAQE",
        "outputId": "1045315a-6c24-4999-8f44-f7b01a9149cf"
      },
      "source": [
        "df2=pd.read_csv('/content/GOLD_finalWithBfill.csv');\n",
        "df2['Gold'] = df2['Gold'].astype(float)\n",
        "print(df2.dtypes)\n",
        "print(df2)"
      ],
      "execution_count": null,
      "outputs": [
        {
          "output_type": "stream",
          "text": [
            "Date     object\n",
            "Gold    float64\n",
            "dtype: object\n",
            "            Date     Gold\n",
            "0     01-01-2008  19750.0\n",
            "1     02-01-2008  19750.0\n",
            "2     03-01-2008  19750.0\n",
            "3     04-01-2008  19750.0\n",
            "4     05-01-2008  19750.0\n",
            "...          ...      ...\n",
            "4884  16-05-2021  48120.0\n",
            "4885  17-05-2021  48120.0\n",
            "4886  18-05-2021  48300.0\n",
            "4887  19-05-2021  48140.0\n",
            "4888  20-05-2021  48500.0\n",
            "\n",
            "[4889 rows x 2 columns]\n"
          ],
          "name": "stdout"
        }
      ]
    },
    {
      "cell_type": "code",
      "metadata": {
        "colab": {
          "base_uri": "https://localhost:8080/"
        },
        "id": "KBv3oKycOazy",
        "outputId": "73b6d1aa-bcf9-418f-8a49-739c80bf072a"
      },
      "source": [
        "df3=pd.read_csv('/content/USDINR_final_withoutNAN.csv');\n",
        "print(df3.dtypes)\n",
        "print(df3)\n"
      ],
      "execution_count": null,
      "outputs": [
        {
          "output_type": "stream",
          "text": [
            "Date      object\n",
            "Close    float64\n",
            "dtype: object\n",
            "            Date      Close\n",
            "0     01-01-2008  39.244999\n",
            "1     02-01-2008  39.375000\n",
            "2     03-01-2008  39.353001\n",
            "3     04-01-2008  39.095001\n",
            "4     05-01-2008  39.095001\n",
            "...          ...        ...\n",
            "4884  16-05-2021  73.444901\n",
            "4885  17-05-2021  73.278900\n",
            "4886  18-05-2021  73.269699\n",
            "4887  19-05-2021  73.128197\n",
            "4888  20-05-2021  73.222900\n",
            "\n",
            "[4889 rows x 2 columns]\n"
          ],
          "name": "stdout"
        }
      ]
    },
    {
      "cell_type": "code",
      "metadata": {
        "colab": {
          "base_uri": "https://localhost:8080/"
        },
        "id": "d4X0CGj48T3Z",
        "outputId": "ae7ba788-de65-43b8-ca5c-5dd616713342"
      },
      "source": [
        "print(df3['Close'][91])"
      ],
      "execution_count": null,
      "outputs": [
        {
          "output_type": "stream",
          "text": [
            "39.889\n"
          ],
          "name": "stdout"
        }
      ]
    },
    {
      "cell_type": "code",
      "metadata": {
        "colab": {
          "base_uri": "https://localhost:8080/"
        },
        "id": "P-4pYn2sOk83",
        "outputId": "8d527023-c37a-41db-c7da-f691afad75cd"
      },
      "source": [
        "data = pd.DataFrame(df1, columns=['LME Lead Cash-Settlement'])\n",
        "data=pd.concat([data, df2['Gold']], axis=1,ignore_index=True)\n",
        "data=pd.concat([data, df3['Close']], axis=1,ignore_index=True)\n",
        "data.columns = ['LME Lead Cash-Settlement', 'Gold','Close']\n",
        "print(data.dtypes)\n",
        "print(data)"
      ],
      "execution_count": null,
      "outputs": [
        {
          "output_type": "stream",
          "text": [
            "LME Lead Cash-Settlement    float64\n",
            "Gold                        float64\n",
            "Close                       float64\n",
            "dtype: object\n",
            "      LME Lead Cash-Settlement     Gold      Close\n",
            "0                       2580.0  19750.0  39.244999\n",
            "1                       2580.0  19750.0  39.375000\n",
            "2                       2593.0  19750.0  39.353001\n",
            "3                       2665.0  19750.0  39.095001\n",
            "4                       2601.0  19750.0  39.095001\n",
            "...                        ...      ...        ...\n",
            "4884                    2181.5  48120.0  73.444901\n",
            "4885                    2181.5  48120.0  73.278900\n",
            "4886                    2213.5  48300.0  73.269699\n",
            "4887                    2202.0  48140.0  73.128197\n",
            "4888                    2202.5  48500.0  73.222900\n",
            "\n",
            "[4889 rows x 3 columns]\n"
          ],
          "name": "stdout"
        }
      ]
    },
    {
      "cell_type": "code",
      "metadata": {
        "id": "fCMKX5hy7A8M"
      },
      "source": [
        "data.to_csv('data.csv')"
      ],
      "execution_count": null,
      "outputs": []
    },
    {
      "cell_type": "code",
      "metadata": {
        "colab": {
          "base_uri": "https://localhost:8080/"
        },
        "id": "uFfFacKbS4ph",
        "outputId": "58cd0614-5769-4e01-d316-10996b6d022b"
      },
      "source": [
        "All_dates = pd.to_datetime(df1['Date'])\n",
        "print(All_dates.dtype)\n",
        "print(All_dates)"
      ],
      "execution_count": null,
      "outputs": [
        {
          "output_type": "stream",
          "text": [
            "datetime64[ns]\n",
            "0      2008-01-01\n",
            "1      2008-02-01\n",
            "2      2008-03-01\n",
            "3      2008-04-01\n",
            "4      2008-05-01\n",
            "          ...    \n",
            "4884   2021-05-16\n",
            "4885   2021-05-17\n",
            "4886   2021-05-18\n",
            "4887   2021-05-19\n",
            "4888   2021-05-20\n",
            "Name: Date, Length: 4889, dtype: datetime64[ns]\n"
          ],
          "name": "stdout"
        }
      ]
    },
    {
      "cell_type": "code",
      "metadata": {
        "colab": {
          "base_uri": "https://localhost:8080/"
        },
        "id": "ZtUPvDekTJp-",
        "outputId": "cf041426-71f0-4e14-e036-c01635b9811b"
      },
      "source": [
        "scaler = MinMaxScaler(feature_range=(0,1))\n",
        "scaler = scaler.fit(data)\n",
        "data_scaled = scaler.transform(data)#data_scaled is a list\n",
        "print(data)\n",
        "print(data_scaled)"
      ],
      "execution_count": null,
      "outputs": [
        {
          "output_type": "stream",
          "text": [
            "      LME Lead Cash-Settlement     Gold      Close\n",
            "0                       2580.0  19750.0  39.244999\n",
            "1                       2580.0  19750.0  39.375000\n",
            "2                       2593.0  19750.0  39.353001\n",
            "3                       2665.0  19750.0  39.095001\n",
            "4                       2601.0  19750.0  39.095001\n",
            "...                        ...      ...        ...\n",
            "4884                    2181.5  48120.0  73.444901\n",
            "4885                    2181.5  48120.0  73.278900\n",
            "4886                    2213.5  48300.0  73.269699\n",
            "4887                    2202.0  48140.0  73.128197\n",
            "4888                    2202.5  48500.0  73.222900\n",
            "\n",
            "[4889 rows x 3 columns]\n",
            "[[0.71624184 0.07112861 0.00389858]\n",
            " [0.71624184 0.07112861 0.00727743]\n",
            " [0.72171898 0.07112861 0.00670565]\n",
            " ...\n",
            " [0.56182852 0.82047244 0.88823129]\n",
            " [0.55698336 0.81627297 0.88455353]\n",
            " [0.55719402 0.82572178 0.88701494]]\n"
          ],
          "name": "stdout"
        }
      ]
    },
    {
      "cell_type": "code",
      "metadata": {
        "colab": {
          "base_uri": "https://localhost:8080/"
        },
        "id": "Qhu6O7x2BnuZ",
        "outputId": "8839589a-bdf2-493c-f797-8187eb0e6569"
      },
      "source": [
        "data_scaled.shape"
      ],
      "execution_count": null,
      "outputs": [
        {
          "output_type": "execute_result",
          "data": {
            "text/plain": [
              "(4889, 3)"
            ]
          },
          "metadata": {
            "tags": []
          },
          "execution_count": 155
        }
      ]
    },
    {
      "cell_type": "code",
      "metadata": {
        "colab": {
          "base_uri": "https://localhost:8080/"
        },
        "id": "3k8KBhp-UtHr",
        "outputId": "6423508f-2ef0-46c2-bb83-05d0cae99b96"
      },
      "source": [
        "training_size=int(len(data)*0.93)\n",
        "test_size=len(data)-training_size\n",
        "#train_data,test_data=df1[0:training_size,:],df1[training_size:len(df1),:]\n",
        "training_size,test_size"
      ],
      "execution_count": null,
      "outputs": [
        {
          "output_type": "execute_result",
          "data": {
            "text/plain": [
              "(4546, 343)"
            ]
          },
          "metadata": {
            "tags": []
          },
          "execution_count": 131
        }
      ]
    },
    {
      "cell_type": "code",
      "metadata": {
        "colab": {
          "base_uri": "https://localhost:8080/"
        },
        "id": "R4pf2AlUWXc9",
        "outputId": "56967b5d-969f-43dd-e8ea-5e90388135b6"
      },
      "source": [
        "data_scaled_list = data_scaled.tolist()\n",
        "type(data_scaled_list)\n",
        "print(len(data_scaled_list[0]))"
      ],
      "execution_count": null,
      "outputs": [
        {
          "output_type": "stream",
          "text": [
            "3\n"
          ],
          "name": "stdout"
        }
      ]
    },
    {
      "cell_type": "code",
      "metadata": {
        "id": "FND0KoHPkbIH"
      },
      "source": [
        "#Making test data\n",
        "testX=[]\n",
        "testY=[]\n",
        "n_future=90\n",
        "n_past=20\n",
        "for i in range(len(data_scaled_list)-test_size+n_past, len(data_scaled_list )-n_future):\n",
        "    temp=[]\n",
        "    testX.append(data_scaled_list[i - n_past:i])\n",
        "    for j in range(i,i+n_future):\n",
        "      temp.append(data_scaled_list[j][0])\n",
        "    \n",
        "    testY.append(temp)"
      ],
      "execution_count": null,
      "outputs": []
    },
    {
      "cell_type": "code",
      "metadata": {
        "colab": {
          "base_uri": "https://localhost:8080/"
        },
        "id": "L0Pj9LKiw6O8",
        "outputId": "40b9b58e-2d26-443b-a226-5f36ce885dbd"
      },
      "source": [
        "testX, testY = np.array(testX), np.array(testY)\n",
        "\n",
        "print('testX shape == {}.'.format(testX.shape))\n",
        "print('testY shape == {}.'.format(testY.shape))\n",
        "\n",
        "#(number of train/test example, lookback_days/predict_days, number of features)"
      ],
      "execution_count": null,
      "outputs": [
        {
          "output_type": "stream",
          "text": [
            "testX shape == (233, 20, 3).\n",
            "testY shape == (233, 90).\n"
          ],
          "name": "stdout"
        }
      ]
    },
    {
      "cell_type": "code",
      "metadata": {
        "colab": {
          "base_uri": "https://localhost:8080/"
        },
        "id": "n1Cl0JUCxGnl",
        "outputId": "72aae97d-af5f-474d-940a-05d7d330ab24"
      },
      "source": [
        "print(testX)\n",
        "print(testY)"
      ],
      "execution_count": null,
      "outputs": [
        {
          "output_type": "stream",
          "text": [
            "[[[0.36212345 0.82572178 0.96933071]\n",
            "  [0.35306509 0.81417323 0.96933071]\n",
            "  [0.35306509 0.81417323 0.96933071]\n",
            "  ...\n",
            "  [0.38045081 0.85616798 0.94931246]\n",
            "  [0.38276806 0.86272966 0.95139693]\n",
            "  [0.3711818  0.87401575 0.95269655]]\n",
            "\n",
            " [[0.35306509 0.81417323 0.96933071]\n",
            "  [0.35306509 0.81417323 0.96933071]\n",
            "  [0.35306509 0.81417323 0.95807153]\n",
            "  ...\n",
            "  [0.38276806 0.86272966 0.95139693]\n",
            "  [0.3711818  0.87401575 0.95269655]\n",
            "  [0.37307773 0.85485564 0.94502672]]\n",
            "\n",
            " [[0.35306509 0.81417323 0.96933071]\n",
            "  [0.35306509 0.81417323 0.95807153]\n",
            "  [0.37097114 0.8183727  0.9586224 ]\n",
            "  ...\n",
            "  [0.3711818  0.87401575 0.95269655]\n",
            "  [0.37307773 0.85485564 0.94502672]\n",
            "  [0.36907521 0.86404199 0.92595194]]\n",
            "\n",
            " ...\n",
            "\n",
            " [[0.4758795  0.81338583 0.88218588]\n",
            "  [0.47735412 0.82073491 0.87963085]\n",
            "  [0.48219928 0.82939633 0.87963085]\n",
            "  ...\n",
            "  [0.51801138 0.79606299 0.87367129]\n",
            "  [0.51801138 0.79606299 0.87069013]\n",
            "  [0.51885401 0.7976378  0.87183111]]\n",
            "\n",
            " [[0.47735412 0.82073491 0.87963085]\n",
            "  [0.48219928 0.82939633 0.87963085]\n",
            "  [0.48219928 0.82939633 0.87963085]\n",
            "  ...\n",
            "  [0.51801138 0.79606299 0.87069013]\n",
            "  [0.51885401 0.7976378  0.87183111]\n",
            "  [0.51274489 0.7832021  0.87953211]]\n",
            "\n",
            " [[0.48219928 0.82939633 0.87963085]\n",
            "  [0.48219928 0.82939633 0.87963085]\n",
            "  [0.48219928 0.82939633 0.87879404]\n",
            "  ...\n",
            "  [0.51885401 0.7976378  0.87183111]\n",
            "  [0.51274489 0.7832021  0.87953211]\n",
            "  [0.52749105 0.77900262 0.87595327]]]\n",
            "[[0.37307773 0.36907521 0.37960817 ... 0.38971982 0.38971982 0.39646092]\n",
            " [0.36907521 0.37960817 0.37960817 ... 0.38971982 0.39646092 0.38803455]\n",
            " [0.37960817 0.37960817 0.37960817 ... 0.39646092 0.38803455 0.39161576]\n",
            " ...\n",
            " [0.51274489 0.52749105 0.52327786 ... 0.54834632 0.54834632 0.54834632]\n",
            " [0.52749105 0.52327786 0.53591742 ... 0.54834632 0.54834632 0.56182852]\n",
            " [0.52327786 0.53591742 0.53591742 ... 0.54834632 0.56182852 0.55698336]]\n"
          ],
          "name": "stdout"
        }
      ]
    },
    {
      "cell_type": "code",
      "metadata": {
        "id": "BiunoD1wVDek"
      },
      "source": [
        "trainX = []\n",
        "trainY = []"
      ],
      "execution_count": null,
      "outputs": []
    },
    {
      "cell_type": "code",
      "metadata": {
        "id": "AAfWbb3NVWEj"
      },
      "source": [
        "n_future = 90  # Number of days we want to predict into the future\n",
        "n_past = 20    # Number of past days we want to use to predict the future"
      ],
      "execution_count": null,
      "outputs": []
    },
    {
      "cell_type": "code",
      "metadata": {
        "id": "ObYTIg0LVg4F"
      },
      "source": [
        "for i in range(n_past, training_size - n_future +1):\n",
        "    temp=[]\n",
        "    trainX.append(data_scaled_list[i - n_past:i])\n",
        "    for j in range(i,i+n_future):\n",
        "      temp.append(data_scaled_list[j][0])\n",
        "    \n",
        "    trainY.append(temp)\n",
        "    \n",
        "  "
      ],
      "execution_count": null,
      "outputs": []
    },
    {
      "cell_type": "code",
      "metadata": {
        "colab": {
          "base_uri": "https://localhost:8080/"
        },
        "id": "PiuMmsmxYl6F",
        "outputId": "a3310673-edc4-40b6-b43d-6e9a65e2d0ef"
      },
      "source": [
        "trainX, trainY = np.array(trainX), np.array(trainY)\n",
        "\n",
        "print('trainX shape == {}.'.format(trainX.shape))\n",
        "print('trainY shape == {}.'.format(trainY.shape))\n",
        "\n",
        "#(number of train/test example, lookback_days/predict_days, number of features)"
      ],
      "execution_count": null,
      "outputs": [
        {
          "output_type": "stream",
          "text": [
            "trainX shape == (4437, 20, 3).\n",
            "trainY shape == (4437, 90).\n"
          ],
          "name": "stdout"
        }
      ]
    },
    {
      "cell_type": "code",
      "metadata": {
        "colab": {
          "base_uri": "https://localhost:8080/"
        },
        "id": "BVfbt6pkhbw1",
        "outputId": "ef56e65d-f722-4797-9b3e-9583c07a841e"
      },
      "source": [
        "print(trainX)\n",
        "print(trainY)"
      ],
      "execution_count": null,
      "outputs": [
        {
          "output_type": "stream",
          "text": [
            "[[[0.71624184 0.07112861 0.00389858]\n",
            "  [0.71624184 0.07112861 0.00727743]\n",
            "  [0.72171898 0.07112861 0.00670565]\n",
            "  ...\n",
            "  [0.70360228 0.07112861 0.00491225]\n",
            "  [0.68822414 0.07112861 0.00491225]\n",
            "  [0.68822414 0.07112861 0.00491225]]\n",
            "\n",
            " [[0.71624184 0.07112861 0.00727743]\n",
            "  [0.72171898 0.07112861 0.00670565]\n",
            "  [0.75205393 0.07112861 0.        ]\n",
            "  ...\n",
            "  [0.68822414 0.07112861 0.00491225]\n",
            "  [0.68822414 0.07112861 0.00491225]\n",
            "  [0.68822414 0.07112861 0.00990256]]\n",
            "\n",
            " [[0.72171898 0.07112861 0.00670565]\n",
            "  [0.75205393 0.07112861 0.        ]\n",
            "  [0.72508953 0.07112861 0.        ]\n",
            "  ...\n",
            "  [0.68822414 0.07112861 0.00491225]\n",
            "  [0.68822414 0.07112861 0.00990256]\n",
            "  [0.67410996 0.07112861 0.00558804]]\n",
            "\n",
            " ...\n",
            "\n",
            " [[0.42174005 0.80708661 0.85808969]\n",
            "  [0.41457763 0.84278215 0.85808969]\n",
            "  [0.41457763 0.84278215 0.85808969]\n",
            "  ...\n",
            "  [0.40846851 0.77244094 0.90709032]\n",
            "  [0.41268169 0.7648294  0.91776473]\n",
            "  [0.39309037 0.77139108 0.91254066]]\n",
            "\n",
            " [[0.41457763 0.84278215 0.85808969]\n",
            "  [0.41457763 0.84278215 0.85808969]\n",
            "  [0.41457763 0.84278215 0.85228857]\n",
            "  ...\n",
            "  [0.41268169 0.7648294  0.91776473]\n",
            "  [0.39309037 0.77139108 0.91254066]\n",
            "  [0.36612597 0.76141732 0.92696561]]\n",
            "\n",
            " [[0.41457763 0.84278215 0.85808969]\n",
            "  [0.41457763 0.84278215 0.85228857]\n",
            "  [0.43901411 0.82020997 0.85644444]\n",
            "  ...\n",
            "  [0.39309037 0.77139108 0.91254066]\n",
            "  [0.36612597 0.76141732 0.92696561]\n",
            "  [0.37960817 0.73307087 0.94100073]]]\n",
            "[[0.68822414 0.67410996 0.69959975 ... 0.38845587 0.38845587 0.38845587]\n",
            " [0.67410996 0.69959975 0.71603118 ... 0.38845587 0.38845587 0.38845587]\n",
            " [0.69959975 0.71603118 0.74594481 ... 0.38845587 0.38845587 0.38845587]\n",
            " ...\n",
            " [0.36612597 0.37960817 0.33916158 ... 0.36149147 0.36149147 0.35643564]\n",
            " [0.37960817 0.33916158 0.33916158 ... 0.36149147 0.35643564 0.36085949]\n",
            " [0.33916158 0.33916158 0.33916158 ... 0.35643564 0.36085949 0.35011586]]\n"
          ],
          "name": "stdout"
        }
      ]
    },
    {
      "cell_type": "code",
      "metadata": {
        "colab": {
          "base_uri": "https://localhost:8080/"
        },
        "id": "MybroTe2iW-i",
        "outputId": "72f6a297-3964-4a90-e6dc-dcfdf24e0380"
      },
      "source": [
        "type(trainY)"
      ],
      "execution_count": null,
      "outputs": [
        {
          "output_type": "execute_result",
          "data": {
            "text/plain": [
              "numpy.ndarray"
            ]
          },
          "metadata": {
            "tags": []
          },
          "execution_count": 141
        }
      ]
    },
    {
      "cell_type": "code",
      "metadata": {
        "id": "fAVPHEjVibTw"
      },
      "source": [
        "model=Sequential()\n",
        "model.add(LSTM(50,return_sequences=True,input_shape=(20,3)))\n",
        "model.add(LSTM(50,return_sequences=True))\n",
        "model.add(LSTM(50))\n",
        "model.add(Dropout(0.2))\n",
        "model.add(Dense(90))\n",
        "model.compile(loss='mean_squared_error',optimizer='adam')"
      ],
      "execution_count": null,
      "outputs": []
    },
    {
      "cell_type": "code",
      "metadata": {
        "id": "A0z_W0gx0Fd1"
      },
      "source": [
        "model=Sequential()\n",
        "model.add(LSTM(64, input_shape=(trainX.shape[1], trainX.shape[2]), return_sequences=True))\n",
        "model.add(LSTM(32, return_sequences=False))\n",
        "model.add(Dropout(0.2))\n",
        "model.add(Dense(trainY.shape[1]))\n",
        "model.compile(loss='mean_squared_error',optimizer='adam')"
      ],
      "execution_count": null,
      "outputs": []
    },
    {
      "cell_type": "code",
      "metadata": {
        "id": "4D5bs2uS3Fcc"
      },
      "source": [
        "regressor =Sequential()\n",
        "\n",
        "# Adding the first LSTM layer and some Dropout regularisation\n",
        "regressor.add(LSTM(units = 50, return_sequences = True))\n",
        "regressor.add(Dropout(0.2))\n",
        "\n",
        "# Adding a second LSTM layer and some Dropout regularisation\n",
        "regressor.add(LSTM(units = 50, return_sequences = True))\n",
        "regressor.add(Dropout(0.2))\n",
        "\n",
        "# Adding a third LSTM layer and some Dropout regularisation\n",
        "regressor.add(LSTM(units = 50, return_sequences = True))\n",
        "regressor.add(Dropout(0.2))\n",
        "\n",
        "# Adding a fourth LSTM layer and some Dropout regularisation\n",
        "regressor.add(LSTM(units = 50))\n",
        "regressor.add(Dropout(0.2))\n",
        "\n",
        "# Adding the output layer\n",
        "regressor.add(Dense(units = 1))\n",
        "\n",
        "# Compiling the RNN\n",
        "regressor.compile(optimizer = 'adam', loss = 'mean_squared_error')"
      ],
      "execution_count": null,
      "outputs": []
    },
    {
      "cell_type": "code",
      "metadata": {
        "id": "r9bMmsro2d_s"
      },
      "source": [
        "from keras import optimizers\n",
        "\n",
        "optimizer = optimizers.Adam(clipvalue=0.5)\n",
        "model.compile(optimizer=optimizer, loss='mean_squared_error')"
      ],
      "execution_count": null,
      "outputs": []
    },
    {
      "cell_type": "code",
      "metadata": {
        "colab": {
          "base_uri": "https://localhost:8080/"
        },
        "id": "GDsoLAfZjeeC",
        "outputId": "3618d1c4-c614-4ec5-a906-bd9c1ba3764b"
      },
      "source": [
        "model.summary()"
      ],
      "execution_count": null,
      "outputs": [
        {
          "output_type": "stream",
          "text": [
            "Model: \"sequential_17\"\n",
            "_________________________________________________________________\n",
            "Layer (type)                 Output Shape              Param #   \n",
            "=================================================================\n",
            "lstm_40 (LSTM)               (None, 20, 50)            10800     \n",
            "_________________________________________________________________\n",
            "lstm_41 (LSTM)               (None, 20, 50)            20200     \n",
            "_________________________________________________________________\n",
            "lstm_42 (LSTM)               (None, 50)                20200     \n",
            "_________________________________________________________________\n",
            "dropout_18 (Dropout)         (None, 50)                0         \n",
            "_________________________________________________________________\n",
            "dense_16 (Dense)             (None, 90)                4590      \n",
            "=================================================================\n",
            "Total params: 55,790\n",
            "Trainable params: 55,790\n",
            "Non-trainable params: 0\n",
            "_________________________________________________________________\n"
          ],
          "name": "stdout"
        }
      ]
    },
    {
      "cell_type": "code",
      "metadata": {
        "id": "GFmahGf6zk1e"
      },
      "source": [
        "from keras.callbacks import EarlyStopping, ReduceLROnPlateau, ModelCheckpoint, TensorBoard\n",
        "es = EarlyStopping(monitor='val_loss', min_delta=1e-10, patience=10, verbose=1)\n",
        "rlr = ReduceLROnPlateau(monitor='val_loss', factor=0.5, patience=10, verbose=1)\n",
        "mcp = ModelCheckpoint(filepath='weights.h5', monitor='val_loss', verbose=1, save_best_only=True, save_weights_only=True)\n",
        "\n",
        "tb = TensorBoard('logs')"
      ],
      "execution_count": null,
      "outputs": []
    },
    {
      "cell_type": "code",
      "metadata": {
        "colab": {
          "base_uri": "https://localhost:8080/"
        },
        "id": "aPyj0aUMkBGw",
        "outputId": "17d01cf5-25cb-48d9-d12b-6f3db3474eea"
      },
      "source": [
        "model.fit(trainX,trainY,validation_data=(testX,testY),epochs=100,batch_size=256,verbose=1)"
      ],
      "execution_count": null,
      "outputs": [
        {
          "output_type": "stream",
          "text": [
            "Epoch 1/100\n",
            "18/18 [==============================] - 7s 161ms/step - loss: 0.2145 - val_loss: 0.0442\n",
            "Epoch 2/100\n",
            "18/18 [==============================] - 2s 94ms/step - loss: 0.0659 - val_loss: 0.0069\n",
            "Epoch 3/100\n",
            "18/18 [==============================] - 2s 96ms/step - loss: 0.0285 - val_loss: 0.0028\n",
            "Epoch 4/100\n",
            "18/18 [==============================] - 2s 96ms/step - loss: 0.0205 - val_loss: 0.0024\n",
            "Epoch 5/100\n",
            "18/18 [==============================] - 2s 94ms/step - loss: 0.0180 - val_loss: 0.0053\n",
            "Epoch 6/100\n",
            "18/18 [==============================] - 2s 95ms/step - loss: 0.0162 - val_loss: 0.0084\n",
            "Epoch 7/100\n",
            "18/18 [==============================] - 2s 96ms/step - loss: 0.0154 - val_loss: 0.0039\n",
            "Epoch 8/100\n",
            "18/18 [==============================] - 2s 95ms/step - loss: 0.0143 - val_loss: 0.0089\n",
            "Epoch 9/100\n",
            "18/18 [==============================] - 2s 96ms/step - loss: 0.0134 - val_loss: 0.0109\n",
            "Epoch 10/100\n",
            "18/18 [==============================] - 2s 94ms/step - loss: 0.0127 - val_loss: 0.0111\n",
            "Epoch 11/100\n",
            "18/18 [==============================] - 2s 94ms/step - loss: 0.0121 - val_loss: 0.0184\n",
            "Epoch 12/100\n",
            "18/18 [==============================] - 2s 94ms/step - loss: 0.0119 - val_loss: 0.0240\n",
            "Epoch 13/100\n",
            "18/18 [==============================] - 2s 97ms/step - loss: 0.0114 - val_loss: 0.0222\n",
            "Epoch 14/100\n",
            "18/18 [==============================] - 2s 94ms/step - loss: 0.0111 - val_loss: 0.0214\n",
            "Epoch 15/100\n",
            "18/18 [==============================] - 2s 94ms/step - loss: 0.0108 - val_loss: 0.0215\n",
            "Epoch 16/100\n",
            "18/18 [==============================] - 2s 95ms/step - loss: 0.0103 - val_loss: 0.0222\n",
            "Epoch 17/100\n",
            "18/18 [==============================] - 2s 93ms/step - loss: 0.0099 - val_loss: 0.0300\n",
            "Epoch 18/100\n",
            "18/18 [==============================] - 2s 95ms/step - loss: 0.0097 - val_loss: 0.0240\n",
            "Epoch 19/100\n",
            "18/18 [==============================] - 2s 95ms/step - loss: 0.0095 - val_loss: 0.0204\n",
            "Epoch 20/100\n",
            "18/18 [==============================] - 2s 95ms/step - loss: 0.0094 - val_loss: 0.0158\n",
            "Epoch 21/100\n",
            "18/18 [==============================] - 2s 95ms/step - loss: 0.0093 - val_loss: 0.0162\n",
            "Epoch 22/100\n",
            "18/18 [==============================] - 2s 95ms/step - loss: 0.0090 - val_loss: 0.0120\n",
            "Epoch 23/100\n",
            "18/18 [==============================] - 2s 95ms/step - loss: 0.0091 - val_loss: 0.0136\n",
            "Epoch 24/100\n",
            "18/18 [==============================] - 2s 94ms/step - loss: 0.0091 - val_loss: 0.0048\n",
            "Epoch 25/100\n",
            "18/18 [==============================] - 2s 95ms/step - loss: 0.0088 - val_loss: 0.0068\n",
            "Epoch 26/100\n",
            "18/18 [==============================] - 2s 95ms/step - loss: 0.0085 - val_loss: 0.0089\n",
            "Epoch 27/100\n",
            "18/18 [==============================] - 2s 96ms/step - loss: 0.0084 - val_loss: 0.0072\n",
            "Epoch 28/100\n",
            "18/18 [==============================] - 2s 98ms/step - loss: 0.0083 - val_loss: 0.0093\n",
            "Epoch 29/100\n",
            "18/18 [==============================] - 2s 98ms/step - loss: 0.0081 - val_loss: 0.0115\n",
            "Epoch 30/100\n",
            "18/18 [==============================] - 2s 95ms/step - loss: 0.0084 - val_loss: 0.0064\n",
            "Epoch 31/100\n",
            "18/18 [==============================] - 2s 96ms/step - loss: 0.0083 - val_loss: 0.0052\n",
            "Epoch 32/100\n",
            "18/18 [==============================] - 2s 96ms/step - loss: 0.0083 - val_loss: 0.0055\n",
            "Epoch 33/100\n",
            "18/18 [==============================] - 2s 96ms/step - loss: 0.0080 - val_loss: 0.0076\n",
            "Epoch 34/100\n",
            "18/18 [==============================] - 2s 94ms/step - loss: 0.0079 - val_loss: 0.0071\n",
            "Epoch 35/100\n",
            "18/18 [==============================] - 2s 96ms/step - loss: 0.0077 - val_loss: 0.0066\n",
            "Epoch 36/100\n",
            "18/18 [==============================] - 2s 97ms/step - loss: 0.0080 - val_loss: 0.0119\n",
            "Epoch 37/100\n",
            "18/18 [==============================] - 2s 96ms/step - loss: 0.0078 - val_loss: 0.0055\n",
            "Epoch 38/100\n",
            "18/18 [==============================] - 2s 96ms/step - loss: 0.0077 - val_loss: 0.0051\n",
            "Epoch 39/100\n",
            "18/18 [==============================] - 2s 95ms/step - loss: 0.0076 - val_loss: 0.0076\n",
            "Epoch 40/100\n",
            "18/18 [==============================] - 2s 94ms/step - loss: 0.0078 - val_loss: 0.0074\n",
            "Epoch 41/100\n",
            "18/18 [==============================] - 2s 97ms/step - loss: 0.0076 - val_loss: 0.0050\n",
            "Epoch 42/100\n",
            "18/18 [==============================] - 2s 98ms/step - loss: 0.0078 - val_loss: 0.0042\n",
            "Epoch 43/100\n",
            "18/18 [==============================] - 2s 97ms/step - loss: 0.0077 - val_loss: 0.0056\n",
            "Epoch 44/100\n",
            "18/18 [==============================] - 2s 96ms/step - loss: 0.0074 - val_loss: 0.0067\n",
            "Epoch 45/100\n",
            "18/18 [==============================] - 2s 97ms/step - loss: 0.0072 - val_loss: 0.0088\n",
            "Epoch 46/100\n",
            "18/18 [==============================] - 2s 97ms/step - loss: 0.0075 - val_loss: 0.0089\n",
            "Epoch 47/100\n",
            "18/18 [==============================] - 2s 96ms/step - loss: 0.0073 - val_loss: 0.0064\n",
            "Epoch 48/100\n",
            "18/18 [==============================] - 2s 96ms/step - loss: 0.0072 - val_loss: 0.0087\n",
            "Epoch 49/100\n",
            "18/18 [==============================] - 2s 118ms/step - loss: 0.0072 - val_loss: 0.0102\n",
            "Epoch 50/100\n",
            "18/18 [==============================] - 2s 96ms/step - loss: 0.0071 - val_loss: 0.0082\n",
            "Epoch 51/100\n",
            "18/18 [==============================] - 2s 98ms/step - loss: 0.0072 - val_loss: 0.0072\n",
            "Epoch 52/100\n",
            "18/18 [==============================] - 2s 97ms/step - loss: 0.0071 - val_loss: 0.0121\n",
            "Epoch 53/100\n",
            "18/18 [==============================] - 2s 100ms/step - loss: 0.0071 - val_loss: 0.0076\n",
            "Epoch 54/100\n",
            "18/18 [==============================] - 2s 97ms/step - loss: 0.0070 - val_loss: 0.0095\n",
            "Epoch 55/100\n",
            "18/18 [==============================] - 2s 98ms/step - loss: 0.0068 - val_loss: 0.0082\n",
            "Epoch 56/100\n",
            "18/18 [==============================] - 2s 97ms/step - loss: 0.0072 - val_loss: 0.0113\n",
            "Epoch 57/100\n",
            "18/18 [==============================] - 2s 100ms/step - loss: 0.0068 - val_loss: 0.0082\n",
            "Epoch 58/100\n",
            "18/18 [==============================] - 2s 96ms/step - loss: 0.0068 - val_loss: 0.0084\n",
            "Epoch 59/100\n",
            "18/18 [==============================] - 2s 98ms/step - loss: 0.0066 - val_loss: 0.0056\n",
            "Epoch 60/100\n",
            "18/18 [==============================] - 2s 97ms/step - loss: 0.0068 - val_loss: 0.0077\n",
            "Epoch 61/100\n",
            "18/18 [==============================] - 2s 98ms/step - loss: 0.0066 - val_loss: 0.0125\n",
            "Epoch 62/100\n",
            "18/18 [==============================] - 2s 95ms/step - loss: 0.0069 - val_loss: 0.0137\n",
            "Epoch 63/100\n",
            "18/18 [==============================] - 2s 99ms/step - loss: 0.0066 - val_loss: 0.0103\n",
            "Epoch 64/100\n",
            "18/18 [==============================] - 2s 97ms/step - loss: 0.0065 - val_loss: 0.0062\n",
            "Epoch 65/100\n",
            "18/18 [==============================] - 2s 98ms/step - loss: 0.0065 - val_loss: 0.0081\n",
            "Epoch 66/100\n",
            "18/18 [==============================] - 2s 97ms/step - loss: 0.0065 - val_loss: 0.0087\n",
            "Epoch 67/100\n",
            "18/18 [==============================] - 2s 101ms/step - loss: 0.0063 - val_loss: 0.0126\n",
            "Epoch 68/100\n",
            "18/18 [==============================] - 2s 98ms/step - loss: 0.0065 - val_loss: 0.0059\n",
            "Epoch 69/100\n",
            "18/18 [==============================] - 2s 97ms/step - loss: 0.0061 - val_loss: 0.0054\n",
            "Epoch 70/100\n",
            "18/18 [==============================] - 2s 98ms/step - loss: 0.0060 - val_loss: 0.0075\n",
            "Epoch 71/100\n",
            "18/18 [==============================] - 2s 98ms/step - loss: 0.0061 - val_loss: 0.0087\n",
            "Epoch 72/100\n",
            "18/18 [==============================] - 2s 97ms/step - loss: 0.0059 - val_loss: 0.0093\n",
            "Epoch 73/100\n",
            "18/18 [==============================] - 2s 97ms/step - loss: 0.0061 - val_loss: 0.0124\n",
            "Epoch 74/100\n",
            "18/18 [==============================] - 2s 97ms/step - loss: 0.0061 - val_loss: 0.0092\n",
            "Epoch 75/100\n",
            "18/18 [==============================] - 2s 97ms/step - loss: 0.0062 - val_loss: 0.0097\n",
            "Epoch 76/100\n",
            "18/18 [==============================] - 2s 98ms/step - loss: 0.0058 - val_loss: 0.0075\n",
            "Epoch 77/100\n",
            "18/18 [==============================] - 2s 98ms/step - loss: 0.0059 - val_loss: 0.0087\n",
            "Epoch 78/100\n",
            "18/18 [==============================] - 2s 97ms/step - loss: 0.0064 - val_loss: 0.0058\n",
            "Epoch 79/100\n",
            "18/18 [==============================] - 2s 100ms/step - loss: 0.0059 - val_loss: 0.0058\n",
            "Epoch 80/100\n",
            "18/18 [==============================] - 2s 99ms/step - loss: 0.0057 - val_loss: 0.0046\n",
            "Epoch 81/100\n",
            "18/18 [==============================] - 2s 96ms/step - loss: 0.0058 - val_loss: 0.0087\n",
            "Epoch 82/100\n",
            "18/18 [==============================] - 2s 99ms/step - loss: 0.0057 - val_loss: 0.0076\n",
            "Epoch 83/100\n",
            "18/18 [==============================] - 2s 98ms/step - loss: 0.0057 - val_loss: 0.0032\n",
            "Epoch 84/100\n",
            "18/18 [==============================] - 2s 96ms/step - loss: 0.0056 - val_loss: 0.0049\n",
            "Epoch 85/100\n",
            "18/18 [==============================] - 2s 95ms/step - loss: 0.0055 - val_loss: 0.0085\n",
            "Epoch 86/100\n",
            "18/18 [==============================] - 2s 97ms/step - loss: 0.0055 - val_loss: 0.0047\n",
            "Epoch 87/100\n",
            "18/18 [==============================] - 2s 99ms/step - loss: 0.0055 - val_loss: 0.0059\n",
            "Epoch 88/100\n",
            "18/18 [==============================] - 2s 97ms/step - loss: 0.0054 - val_loss: 0.0086\n",
            "Epoch 89/100\n",
            "18/18 [==============================] - 2s 98ms/step - loss: 0.0053 - val_loss: 0.0051\n",
            "Epoch 90/100\n",
            "18/18 [==============================] - 2s 97ms/step - loss: 0.0055 - val_loss: 0.0039\n",
            "Epoch 91/100\n",
            "18/18 [==============================] - 2s 98ms/step - loss: 0.0055 - val_loss: 0.0048\n",
            "Epoch 92/100\n",
            "18/18 [==============================] - 2s 97ms/step - loss: 0.0052 - val_loss: 0.0056\n",
            "Epoch 93/100\n",
            "18/18 [==============================] - 2s 97ms/step - loss: 0.0051 - val_loss: 0.0073\n",
            "Epoch 94/100\n",
            "18/18 [==============================] - 2s 96ms/step - loss: 0.0056 - val_loss: 0.0045\n",
            "Epoch 95/100\n",
            "18/18 [==============================] - 2s 98ms/step - loss: 0.0052 - val_loss: 0.0064\n",
            "Epoch 96/100\n",
            "18/18 [==============================] - 2s 96ms/step - loss: 0.0051 - val_loss: 0.0071\n",
            "Epoch 97/100\n",
            "18/18 [==============================] - 2s 97ms/step - loss: 0.0049 - val_loss: 0.0061\n",
            "Epoch 98/100\n",
            "18/18 [==============================] - 2s 97ms/step - loss: 0.0050 - val_loss: 0.0082\n",
            "Epoch 99/100\n",
            "18/18 [==============================] - 2s 96ms/step - loss: 0.0048 - val_loss: 0.0102\n",
            "Epoch 100/100\n",
            "18/18 [==============================] - 2s 99ms/step - loss: 0.0051 - val_loss: 0.0107\n"
          ],
          "name": "stdout"
        },
        {
          "output_type": "execute_result",
          "data": {
            "text/plain": [
              "<tensorflow.python.keras.callbacks.History at 0x7f79b7498510>"
            ]
          },
          "metadata": {
            "tags": []
          },
          "execution_count": 147
        }
      ]
    },
    {
      "cell_type": "code",
      "metadata": {
        "id": "qVkWjrGpATsM"
      },
      "source": [
        "forecast = model.predict(testX) #forecast "
      ],
      "execution_count": null,
      "outputs": []
    },
    {
      "cell_type": "code",
      "metadata": {
        "colab": {
          "base_uri": "https://localhost:8080/"
        },
        "id": "GCFwPTlIAzSV",
        "outputId": "953fc825-be3d-4c38-e867-943e8790085e"
      },
      "source": [
        "forecast.shape"
      ],
      "execution_count": null,
      "outputs": [
        {
          "output_type": "execute_result",
          "data": {
            "text/plain": [
              "(233, 90)"
            ]
          },
          "metadata": {
            "tags": []
          },
          "execution_count": 152
        }
      ]
    },
    {
      "cell_type": "code",
      "metadata": {
        "colab": {
          "base_uri": "https://localhost:8080/"
        },
        "id": "p2OPJgl5VArt",
        "outputId": "65ffbb62-a610-419b-9c54-9a4ce48db931"
      },
      "source": [
        "import math\n",
        "from sklearn.metrics import mean_squared_error\n",
        "math.sqrt(mean_squared_error(testY,forecast))"
      ],
      "execution_count": null,
      "outputs": [
        {
          "output_type": "execute_result",
          "data": {
            "text/plain": [
              "0.1034973105467132"
            ]
          },
          "metadata": {
            "tags": []
          },
          "execution_count": 209
        }
      ]
    },
    {
      "cell_type": "code",
      "metadata": {
        "colab": {
          "base_uri": "https://localhost:8080/"
        },
        "id": "ehMzx1W6BWKM",
        "outputId": "4209bd53-e356-4918-c7da-c0dd7020cf16"
      },
      "source": [
        "forecast[0].shape"
      ],
      "execution_count": null,
      "outputs": [
        {
          "output_type": "execute_result",
          "data": {
            "text/plain": [
              "(90,)"
            ]
          },
          "metadata": {
            "tags": []
          },
          "execution_count": 156
        }
      ]
    },
    {
      "cell_type": "code",
      "metadata": {
        "colab": {
          "base_uri": "https://localhost:8080/"
        },
        "id": "Lr1ivGPuCbf2",
        "outputId": "d4db96ae-6d4a-4017-ec33-41ab6d0b4ae2"
      },
      "source": [
        "element=forecast[0]\n",
        "element= np. reshape(element, (element.shape[0], 1))\n",
        "print(element.shape)"
      ],
      "execution_count": null,
      "outputs": [
        {
          "output_type": "stream",
          "text": [
            "(90, 1)\n"
          ],
          "name": "stdout"
        }
      ]
    },
    {
      "cell_type": "code",
      "metadata": {
        "colab": {
          "base_uri": "https://localhost:8080/"
        },
        "id": "ytNYSinxB0xH",
        "outputId": "7ee897da-b933-4ad8-f5b3-ba6c1345d3b4"
      },
      "source": [
        "forecast_copies = np.repeat(element, 3, axis=1)\n",
        "forecast_copies.shape"
      ],
      "execution_count": null,
      "outputs": [
        {
          "output_type": "execute_result",
          "data": {
            "text/plain": [
              "(90, 3)"
            ]
          },
          "metadata": {
            "tags": []
          },
          "execution_count": 167
        }
      ]
    },
    {
      "cell_type": "code",
      "metadata": {
        "id": "AN6aT-ZuC47-"
      },
      "source": [
        "y_pred_future = scaler.inverse_transform(forecast_copies)"
      ],
      "execution_count": null,
      "outputs": []
    },
    {
      "cell_type": "code",
      "metadata": {
        "colab": {
          "base_uri": "https://localhost:8080/"
        },
        "id": "rOxx66OQDAaB",
        "outputId": "30f31b60-d88c-44e1-d9bf-566b0d628ec7"
      },
      "source": [
        "#take 1st val of y_pred, then visualise results of some test set series samples.\n",
        "#print(y_pred_future)\n",
        "print(y_pred_future.shape)\n",
        "#print(type(y_pred_future))"
      ],
      "execution_count": null,
      "outputs": [
        {
          "output_type": "stream",
          "text": [
            "(90, 3)\n"
          ],
          "name": "stdout"
        }
      ]
    },
    {
      "cell_type": "code",
      "metadata": {
        "colab": {
          "base_uri": "https://localhost:8080/"
        },
        "id": "rhVblX_zNqWs",
        "outputId": "5ef31b64-be07-456e-a1b5-91115f5bf4d7"
      },
      "source": [
        "y_pred=[] \n",
        "for arr in y_pred_future:\n",
        "  y_pred.append(arr[0])\n",
        "y_pred= np.array(y_pred)\n",
        "print(y_pred.shape)\n"
      ],
      "execution_count": null,
      "outputs": [
        {
          "output_type": "stream",
          "text": [
            "(90,)\n"
          ],
          "name": "stdout"
        }
      ]
    },
    {
      "cell_type": "code",
      "metadata": {
        "colab": {
          "base_uri": "https://localhost:8080/"
        },
        "id": "K4jkjSBgOwgt",
        "outputId": "1d7ffc15-4a22-45b7-cfc0-85afca7a98c6"
      },
      "source": [
        "print(data)\n",
        "print(type(data))\n",
        "print(data.shape)"
      ],
      "execution_count": null,
      "outputs": [
        {
          "output_type": "stream",
          "text": [
            "      LME Lead Cash-Settlement     Gold      Close\n",
            "0                       2580.0  19750.0  39.244999\n",
            "1                       2580.0  19750.0  39.375000\n",
            "2                       2593.0  19750.0  39.353001\n",
            "3                       2665.0  19750.0  39.095001\n",
            "4                       2601.0  19750.0  39.095001\n",
            "...                        ...      ...        ...\n",
            "4884                    2181.5  48120.0  73.444901\n",
            "4885                    2181.5  48120.0  73.278900\n",
            "4886                    2213.5  48300.0  73.269699\n",
            "4887                    2202.0  48140.0  73.128197\n",
            "4888                    2202.5  48500.0  73.222900\n",
            "\n",
            "[4889 rows x 3 columns]\n",
            "<class 'pandas.core.frame.DataFrame'>\n",
            "(4889, 3)\n"
          ],
          "name": "stdout"
        }
      ]
    },
    {
      "cell_type": "code",
      "metadata": {
        "id": "pxTLlrmwO3Uk"
      },
      "source": [
        "dataLead=data['LME Lead Cash-Settlement']"
      ],
      "execution_count": null,
      "outputs": []
    },
    {
      "cell_type": "code",
      "metadata": {
        "colab": {
          "base_uri": "https://localhost:8080/"
        },
        "id": "CT-ghOTgPcp1",
        "outputId": "e78d1af6-133c-4e9e-be21-7ee224c1d0b8"
      },
      "source": [
        "test_size"
      ],
      "execution_count": null,
      "outputs": [
        {
          "output_type": "execute_result",
          "data": {
            "text/plain": [
              "343"
            ]
          },
          "metadata": {
            "tags": []
          },
          "execution_count": 183
        }
      ]
    },
    {
      "cell_type": "code",
      "metadata": {
        "colab": {
          "base_uri": "https://localhost:8080/"
        },
        "id": "pUTODdEjP_WM",
        "outputId": "32aabf31-11e9-429c-f141-827846654e3b"
      },
      "source": [
        "dataLead_list = dataLead.values.tolist()\n",
        "print(dataLead_list)"
      ],
      "execution_count": null,
      "outputs": [
        {
          "output_type": "stream",
          "text": [
            "[2580.0, 2580.0, 2593.0, 2665.0, 2601.0, 2601.0, 2601.0, 2580.5, 2630.0, 2525.5, 2551.0, 2640.0, 2640.0, 2640.0, 2680.0, 2610.0, 2610.0, 2550.0, 2513.5, 2513.5, 2513.5, 2480.0, 2540.5, 2579.5, 2650.5, 2586.5, 2586.5, 2586.5, 2730.0, 2741.0, 2741.5, 2845.0, 2865.0, 2865.0, 2865.0, 2770.0, 2800.0, 2786.0, 2880.0, 3012.0, 3012.0, 3012.0, 3032.0, 3020.0, 3071.0, 3045.0, 3020.0, 3020.0, 3020.0, 3110.0, 3253.5, 3253.5, 3253.5, 3253.5, 3253.5, 3253.5, 3253.5, 1802.0, 1802.0, 1802.0, 1802.0, 1802.0, 1802.0, 1802.0, 1802.0, 1802.0, 1802.0, 1802.0, 1802.0, 1802.0, 1802.0, 1802.0, 1802.0, 1802.0, 1802.0, 1802.0, 1802.0, 1802.0, 1802.0, 1802.0, 1802.0, 1802.0, 1802.0, 1802.0, 1802.0, 1802.0, 1802.0, 1802.0, 1802.0, 1802.0, 1802.0, 1802.0, 1802.0, 1802.0, 1802.0, 1802.0, 1802.0, 1802.0, 1802.0, 1802.0, 1802.0, 1802.0, 1802.0, 1802.0, 1802.0, 1802.0, 1802.0, 1802.0, 1802.0, 1802.0, 1802.0, 1802.0, 1802.0, 1802.0, 1802.0, 1802.0, 1802.0, 1802.0, 1802.0, 1802.0, 1802.0, 1802.0, 1802.0, 1802.0, 1802.0, 1802.0, 1802.0, 1802.0, 1802.0, 1802.0, 1802.0, 1802.0, 1802.0, 1802.0, 1802.0, 1802.0, 1802.0, 1802.0, 1802.0, 1802.0, 1802.0, 1802.0, 1802.0, 1802.0, 1802.0, 1802.0, 1802.0, 1802.0, 1802.0, 1802.0, 1802.0, 1802.0, 1802.0, 1802.0, 1802.0, 1802.0, 1802.0, 1802.0, 1802.0, 1802.0, 1802.0, 1802.0, 1802.0, 1802.0, 1802.0, 1802.0, 1802.0, 1802.0, 1802.0, 1886.0, 1806.5, 1870.0, 1821.0, 1821.0, 1821.0, 1801.0, 1773.5, 1800.0, 1796.0, 1735.5, 1735.5, 1735.5, 1761.0, 1720.0, 1621.0, 1546.5, 1564.5, 1564.5, 1564.5, 1652.0, 1707.0, 1902.0, 2005.5, 1946.0, 1946.0, 1946.0, 1968.5, 1896.0, 1941.0, 1946.0, 2035.5, 2035.5, 2035.5, 2159.5, 2134.0, 2185.0, 2145.0, 2181.0, 2181.0, 2181.0, 2245.0, 2241.0, 2230.0, 2160.0, 2090.0, 2090.0, 2090.0, 2016.0, 2111.0, 2119.0, 2005.0, 1961.0, 1961.0, 1961.0, 1893.0, 1707.5, 1775.0, 1695.0, 1724.0, 1724.0, 1724.0, 1780.0, 1819.0, 1895.0, 1880.0, 1855.0, 1855.0, 1855.0, 1855.0, 1916.0, 2111.0, 1959.0, 1951.0, 1951.0, 1951.0, 1875.0, 1920.0, 1975.0, 1806.0, 1850.0, 1850.0, 1850.0, 1805.0, 1788.0, 1806.0, 1885.0, 1803.5, 1803.5, 1803.5, 1784.0, 1813.0, 1805.0, 1832.5, 1921.0, 1921.0, 1921.0, 1920.5, 2001.0, 1946.0, 1980.0, 1835.5, 1835.5, 1835.5, 1801.0, 1806.0, 1740.0, 1681.0, 1615.0, 1615.0, 1615.0, 1650.5, 1605.0, 1605.0, 1484.0, 1518.0, 1518.0, 1518.0, 1615.0, 1512.0, 1440.0, 1326.0, 1407.0, 1407.0, 1407.0, 1336.0, 1240.0, 1150.5, 1140.0, 1206.0, 1206.0, 1206.0, 1445.0, 1531.0, 1520.5, 1469.0, 1455.0, 1455.0, 1455.0, 1521.0, 1478.0, 1470.0, 1446.0, 1446.0, 1411.0, 1411.0, 1285.0, 1257.0, 1302.0, 1349.0, 1258.0, 1258.0, 1258.0, 1245.0, 1240.0, 1171.0, 1217.0, 1189.0, 1189.0, 1189.0, 1186.0, 1176.0, 1086.0, 1080.0, 1083.0, 1083.0, 1083.0, 1060.0, 1003.0, 1000.0, 915.0, 936.0, 936.0, 936.0, 968.0, 970.5, 1031.0, 982.0, 1016.0, 1016.0, 1016.0, 980.0, 967.0, 945.5, 882.0, 880.0, 880.0, 880.0, 907.0, 900.0, 900.5, 900.5, 900.5, 900.5, 900.5, 945.0, 949.0, 1040.5, 1040.5, 1079.5, 1079.5, 1079.5, 1165.0, 1177.0, 1145.5, 1185.0, 1150.0, 1150.0, 1150.0, 1080.0, 1136.0, 1130.0, 1162.0, 1131.0, 1131.0, 1131.0, 1145.0, 1120.5, 1105.5, 1075.0, 1153.0, 1153.0, 1153.0, 1150.0, 1160.0, 1145.0, 1152.0, 1115.5, 1115.5, 1115.5, 1114.0, 1195.0, 1165.0, 1165.0, 1180.0, 1180.0, 1180.0, 1152.0, 1145.0, 1135.0, 1145.0, 1135.5, 1135.5, 1135.5, 1102.5, 1060.0, 1085.0, 1015.5, 1026.0, 1026.0, 1026.0, 991.5, 1008.0, 1050.0, 1025.0, 1024.0, 1024.0, 1024.0, 1042.0, 1104.0, 1160.5, 1190.0, 1216.0, 1216.0, 1216.0, 1250.0, 1280.0, 1230.5, 1266.5, 1285.0, 1285.0, 1285.0, 1333.5, 1320.5, 1335.0, 1302.0, 1341.0, 1341.0, 1341.0, 1251.0, 1252.0, 1310.5, 1255.0, 1235.0, 1235.0, 1235.0, 1272.0, 1242.0, 1259.0, 1283.0, 1312.0, 1312.0, 1312.0, 1315.0, 1302.5, 1352.5, 1425.0, 1425.0, 1425.0, 1425.0, 1425.0, 1502.0, 1525.0, 1525.0, 1509.0, 1509.0, 1509.0, 1438.0, 1443.0, 1461.5, 1410.5, 1375.0, 1375.0, 1375.0, 1309.0, 1318.0, 1355.0, 1334.5, 1426.5, 1426.5, 1426.5, 1426.5, 1408.0, 1481.0, 1473.5, 1440.5, 1440.5, 1440.5, 1461.0, 1451.0, 1395.0, 1422.5, 1460.0, 1460.0, 1460.0, 1527.5, 1436.0, 1420.0, 1422.5, 1409.0, 1409.0, 1409.0, 1409.0, 1427.5, 1437.0, 1530.0, 1640.0, 1640.0, 1640.0, 1627.5, 1612.5, 1565.5, 1654.5, 1616.0, 1616.0, 1616.0, 1690.0, 1744.5, 1787.0, 1796.5, 1720.0, 1720.0, 1720.0, 1690.0, 1610.0, 1639.0, 1700.0, 1600.0, 1600.0, 1600.0, 1633.0, 1645.0, 1710.0, 1718.0, 1709.0, 1709.0, 1709.0, 1730.0, 1695.0, 1708.0, 1690.5, 1653.0, 1653.0, 1653.0, 1714.5, 1625.0, 1594.5, 1594.0, 1567.0, 1567.0, 1567.0, 1569.0, 1611.0, 1600.5, 1604.0, 1699.0, 1699.0, 1699.0, 1674.5, 1658.0, 1699.0, 1739.0, 1789.0, 1789.0, 1789.0, 1774.0, 1732.5, 1774.5, 1842.5, 1949.0, 1949.0, 1949.0, 1894.0, 1930.5, 1897.0, 1815.5, 1891.0, 1891.0, 1891.0, 1825.0, 1775.0, 1886.5, 1905.0, 1785.5, 1785.5, 1785.5, 1825.0, 1790.0, 1821.0, 1845.0, 1945.5, 1945.5, 1945.5, 2006.0, 2077.0, 2020.5, 2118.0, 2072.0, 2072.0, 2072.0, 2072.0, 2060.0, 2224.0, 2255.0, 2352.5, 2352.5, 2352.5, 2447.5, 2440.0, 2181.0, 2109.5, 2045.5, 2045.5, 2045.5, 2113.0, 2220.5, 2241.0, 2171.0, 2135.5, 2135.5, 2135.5, 2234.0, 2213.0, 2200.0, 2175.0, 2150.0, 2150.0, 2150.0, 2184.0, 2276.0, 2192.0, 2085.0, 2115.0, 2115.0, 2115.0, 2128.0, 2142.0, 2221.0, 2250.0, 2263.0, 2263.0, 2263.0, 2301.0, 2169.0, 2140.0, 2180.0, 2191.0, 2191.0, 2191.0, 2315.0, 2246.0, 2410.5, 2405.5, 2376.0, 2376.0, 2376.0, 2305.0, 2243.0, 2297.0, 2322.0, 2260.0, 2260.0, 2260.0, 2250.5, 2312.0, 2320.0, 2320.0, 2278.0, 2278.0, 2278.0, 2258.0, 2312.5, 2251.0, 2241.0, 2290.5, 2290.5, 2290.5, 2331.0, 2405.0, 2335.0, 2309.0, 2375.5, 2375.5, 2375.5, 2358.0, 2354.0, 2344.0, 2289.0, 2290.0, 2290.0, 2290.0, 2343.0, 2445.0, 2413.0, 2345.0, 2297.0, 2297.0, 2297.0, 2256.0, 2275.0, 2260.0, 2290.0, 2291.0, 2291.0, 2291.0, 2294.0, 2368.0, 2332.0, 2314.5, 2320.0, 2320.0, 2320.0, 2271.0, 2300.0, 2327.0, 2365.5, 2365.5, 2365.5, 2365.5, 2365.5, 2397.0, 2395.0, 2451.5, 2451.5, 2451.5, 2451.5, 2440.0, 2582.0, 2591.0, 2524.0, 2576.0, 2576.0, 2576.0, 2414.5, 2435.0, 2451.0, 2440.0, 2451.5, 2451.5, 2451.5, 2420.5, 2405.5, 2273.0, 2227.0, 2235.0, 2235.0, 2235.0, 2165.5, 2140.0, 2089.5, 2055.0, 2001.0, 2001.0, 2001.0, 2095.0, 2110.0, 2005.0, 1925.0, 1935.0, 1935.0, 1935.0, 1972.0, 2079.5, 2065.0, 2080.0, 2135.0, 2135.0, 2135.0, 2196.0, 2275.0, 2240.0, 2289.5, 2319.5, 2319.5, 2319.5, 2295.0, 2167.5, 2150.0, 2138.5, 2151.5, 2151.5, 2151.5, 2150.0, 2201.0, 2196.5, 2178.0, 2240.5, 2240.5, 2240.5, 2206.0, 2282.5, 2241.0, 2251.0, 2185.0, 2185.0, 2185.0, 2194.5, 2245.0, 2222.5, 2210.5, 2140.0, 2140.0, 2140.0, 2136.0, 2001.0, 2025.5, 2090.0, 2153.0, 2153.0, 2153.0, 2137.0, 2120.0, 2182.5, 2228.0, 2228.0, 2228.0, 2228.0, 2228.0, 2262.5, 2225.0, 2280.0, 2315.0, 2315.0, 2315.0, 2305.5, 2333.5, 2290.0, 2368.0, 2187.5, 2187.5, 2187.5, 2264.0, 2295.0, 2275.5, 2253.5, 2310.5, 2310.5, 2310.5, 2291.0, 2225.0, 2229.0, 2176.0, 2129.5, 2129.5, 2129.5, 2129.5, 1962.0, 1965.0, 1979.0, 2081.0, 2081.0, 2081.0, 1976.0, 2026.0, 2016.5, 1952.0, 1864.0, 1864.0, 1864.0, 1795.5, 1721.0, 1720.0, 1722.5, 1779.0, 1779.0, 1779.0, 1724.0, 1760.0, 1777.0, 1821.0, 1751.0, 1751.0, 1751.0, 1751.0, 1709.5, 1640.5, 1621.0, 1558.5, 1558.5, 1558.5, 1562.5, 1655.0, 1655.5, 1676.0, 1674.0, 1674.0, 1674.0, 1685.0, 1701.0, 1715.0, 1706.5, 1786.0, 1786.0, 1786.0, 1766.0, 1782.0, 1780.5, 1802.0, 1828.0, 1828.0, 1828.0, 1741.5, 1690.0, 1692.5, 1736.0, 1731.5, 1731.5, 1731.5, 1755.0, 1756.0, 1804.0, 1808.0, 1807.0, 1807.0, 1807.0, 1766.5, 1814.0, 1801.0, 1789.0, 1751.5, 1751.5, 1751.5, 1762.0, 1844.0, 1894.0, 1930.5, 1960.0, 1960.0, 1960.0, 1975.0, 1968.0, 2003.0, 2065.0, 2085.0, 2085.0, 2085.0, 2175.5, 2183.0, 2190.5, 2167.5, 2171.0, 2171.0, 2171.0, 2100.5, 2047.0, 2028.0, 2065.5, 2040.5, 2040.5, 2040.5, 2113.0, 2119.0, 2103.5, 2040.0, 2021.5, 2021.5, 2021.5, 1991.0, 1937.0, 1980.5, 2010.0, 2010.5, 2010.5, 2010.5, 2010.5, 2089.0, 2130.0, 2137.0, 2160.0, 2160.0, 2160.0, 2126.0, 2151.0, 2162.0, 2170.0, 2186.0, 2186.0, 2186.0, 2189.0, 2196.5, 2191.5, 2208.5, 2188.0, 2188.0, 2188.0, 2126.0, 2160.5, 2217.5, 2256.0, 2251.0, 2251.0, 2251.0, 2223.0, 2272.5, 2262.0, 2276.5, 2265.5, 2265.5, 2265.5, 2275.0, 2293.5, 2281.0, 2199.0, 2270.5, 2270.5, 2270.5, 2275.0, 2408.0, 2402.0, 2377.0, 2373.0, 2373.0, 2373.0, 2377.0, 2381.0, 2475.0, 2494.0, 2560.0, 2560.0, 2560.0, 2541.0, 2532.0, 2480.0, 2437.0, 2472.5, 2472.5, 2472.5, 2476.0, 2490.0, 2500.0, 2505.0, 2484.0, 2484.0, 2484.0, 2553.5, 2575.0, 2593.5, 2534.0, 2420.0, 2420.0, 2420.0, 2384.0, 2222.0, 2306.0, 2247.0, 2226.5, 2226.5, 2226.5, 2150.0, 2199.0, 2221.0, 2264.0, 2255.0, 2255.0, 2255.0, 2210.0, 2265.0, 2292.0, 2330.5, 2320.5, 2320.5, 2320.5, 2402.0, 2362.0, 2367.5, 2402.0, 2419.5, 2419.5, 2419.5, 2440.0, 2392.0, 2380.0, 2378.5, 2452.0, 2452.0, 2452.0, 2470.0, 2460.0, 2417.0, 2440.0, 2535.0, 2535.0, 2535.0, 2535.0, 2535.0, 2559.0, 2587.0, 2593.0, 2593.0, 2593.0, 2593.0, 2569.0, 2703.0, 2660.0, 2642.0, 2642.0, 2642.0, 2630.0, 2662.0, 2699.0, 2652.0, 2720.0, 2720.0, 2720.0, 2693.0, 2650.0, 2530.0, 2550.0, 2490.0, 2490.0, 2490.0, 2535.0, 2444.0, 2490.0, 2545.0, 2576.0, 2576.0, 2576.0, 2620.0, 2613.0, 2642.0, 2638.0, 2645.0, 2645.0, 2645.0, 2568.0, 2575.0, 2505.5, 2525.0, 2631.0, 2631.0, 2631.0, 2654.0, 2619.0, 2587.0, 2613.0, 2658.0, 2658.0, 2658.0, 2563.0, 2545.0, 2485.0, 2512.0, 2535.0, 2535.0, 2535.0, 2573.0, 2532.0, 2611.5, 2672.0, 2620.0, 2620.0, 2620.0, 2559.0, 2590.0, 2459.5, 2428.5, 2506.5, 2506.5, 2506.5, 2490.0, 2593.0, 2690.0, 2722.0, 2712.5, 2712.5, 2712.5, 2663.0, 2730.0, 2730.0, 2705.0, 2679.0, 2679.0, 2679.0, 2670.0, 2700.0, 2720.0, 2730.5, 2840.0, 2840.0, 2840.0, 2778.0, 2815.0, 2878.0, 2905.0, 2939.0, 2939.0, 2939.0, 2880.0, 2817.5, 2683.0, 2732.0, 2720.0, 2720.0, 2720.0, 2598.0, 2661.0, 2670.0, 2582.5, 2582.5, 2582.5, 2582.5, 2582.5, 2580.0, 2531.0, 2545.0, 2545.0, 2545.0, 2545.0, 2545.0, 2519.0, 2379.0, 2295.0, 2380.0, 2380.0, 2380.0, 2380.0, 2359.0, 2272.0, 2365.0, 2277.0, 2277.0, 2277.0, 2309.0, 2362.0, 2455.5, 2485.0, 2421.0, 2421.0, 2421.0, 2491.0, 2532.0, 2503.0, 2545.0, 2533.0, 2533.0, 2533.0, 2533.0, 2513.0, 2485.0, 2426.0, 2471.0, 2471.0, 2471.0, 2510.0, 2520.5, 2571.0, 2577.5, 2512.5, 2512.5, 2512.5, 2550.5, 2542.0, 2472.0, 2461.0, 2380.0, 2380.0, 2380.0, 2442.0, 2455.5, 2517.5, 2555.0, 2545.5, 2545.5, 2545.5, 2553.0, 2585.5, 2622.5, 2636.5, 2655.0, 2655.0, 2655.0, 2660.5, 2661.0, 2694.0, 2706.0, 2650.5, 2650.5, 2650.5, 2660.0, 2745.0, 2687.0, 2650.0, 2730.0, 2730.0, 2730.0, 2741.5, 2720.0, 2667.0, 2707.5, 2670.0, 2670.0, 2670.0, 2705.5, 2694.0, 2680.0, 2613.5, 2627.5, 2627.5, 2627.5, 2539.5, 2522.5, 2493.0, 2419.0, 2345.0, 2345.0, 2345.0, 2278.0, 2338.5, 2300.5, 2387.0, 2355.0, 2355.0, 2355.0, 2355.0, 2396.0, 2340.0, 2316.0, 2300.0, 2300.0, 2300.0, 2324.5, 2344.0, 2399.5, 2471.0, 2497.0, 2497.0, 2497.0, 2497.0, 2555.0, 2559.0, 2527.0, 2444.0, 2444.0, 2444.0, 2424.0, 2432.0, 2423.5, 2455.0, 2430.0, 2430.0, 2430.0, 2425.5, 2383.0, 2406.0, 2426.0, 2321.0, 2321.0, 2321.0, 2330.0, 2260.0, 2167.0, 2050.0, 1994.0, 1994.0, 1994.0, 2015.0, 2035.0, 2006.0, 2060.5, 1999.5, 1999.5, 1999.5, 1961.0, 1947.0, 1944.5, 1946.0, 1976.0, 1976.0, 1976.0, 1956.5, 2009.5, 1996.0, 2008.0, 1990.5, 1990.5, 1990.5, 1906.0, 1890.0, 1791.5, 1841.0, 1940.5, 1940.5, 1940.5, 1961.5, 1937.5, 1951.0, 1986.0, 1981.0, 1981.0, 1981.0, 1997.0, 1978.0, 1993.0, 2022.0, 1976.0, 1976.0, 1976.0, 1995.5, 1966.5, 1921.5, 1949.0, 1990.5, 1990.5, 1990.5, 1983.0, 1982.0, 1975.0, 1996.0, 2001.0, 2001.0, 2001.0, 1976.0, 1957.0, 1982.5, 1975.0, 2004.0, 2004.0, 2004.0, 1999.0, 1985.5, 2062.0, 2102.5, 2077.0, 2077.0, 2077.0, 2063.5, 2100.0, 2119.0, 2092.5, 2088.0, 2088.0, 2088.0, 2077.0, 2017.0, 1980.0, 1980.0, 1937.5, 1937.5, 1937.5, 1933.0, 1933.5, 1955.5, 1986.0, 1950.5, 1950.5, 1950.5, 1950.5, 1950.5, 1945.0, 1980.0, 1994.5, 1994.5, 1994.5, 1994.5, 2043.0, 2015.5, 1975.5, 1942.5, 1942.5, 1942.5, 1999.0, 1968.5, 2000.0, 2004.0, 1989.0, 1989.0, 1989.0, 2046.0, 2092.0, 2131.5, 2130.5, 2178.0, 2178.0, 2178.0, 2216.0, 2196.0, 2277.0, 2288.0, 2238.0, 2238.0, 2238.0, 2251.0, 2210.0, 2184.0, 2147.0, 2165.5, 2165.5, 2165.5, 2126.0, 2190.5, 2141.5, 2169.0, 2127.5, 2127.5, 2127.5, 2076.0, 2048.5, 1985.0, 2029.0, 2028.0, 2028.0, 2028.0, 2057.0, 2070.0, 2114.0, 2153.5, 2156.0, 2156.0, 2156.0, 2238.0, 2232.5, 2155.5, 2135.0, 2122.5, 2122.5, 2122.5, 2068.5, 2040.0, 2087.0, 2090.5, 2085.5, 2085.5, 2085.5, 2122.0, 2108.0, 2095.5, 2107.0, 2095.0, 2095.0, 2095.0, 2042.5, 2026.0, 2000.0, 1995.0, 1982.0, 1982.0, 1982.0, 1998.0, 1987.0, 1989.0, 2020.5, 2007.0, 2007.0, 2007.0, 2045.0, 2014.0, 1994.0, 2038.0, 2038.0, 2038.0, 2038.0, 2038.0, 2019.0, 2081.0, 2073.0, 2033.5, 2033.5, 2033.5, 2066.0, 2042.0, 2039.5, 2100.0, 2087.0, 2087.0, 2087.0, 2080.0, 2083.0, 2113.0, 2127.0, 2156.0, 2156.0, 2156.0, 2150.5, 2143.5, 2104.5, 2080.0, 2077.5, 2077.5, 2077.5, 2077.5, 2036.0, 2063.0, 2053.0, 2026.5, 2026.5, 2026.5, 2016.5, 1973.0, 1930.0, 1950.0, 1942.0, 1942.0, 1942.0, 1928.5, 1922.0, 1934.0, 1945.0, 1933.5, 1933.5, 1933.5, 1932.0, 1912.5, 1922.5, 1880.5, 1907.5, 1907.5, 1907.5, 1907.5, 1907.5, 1916.0, 1884.0, 1895.0, 1895.0, 1895.0, 1893.5, 1883.0, 1885.0, 1914.5, 1893.5, 1893.5, 1893.5, 1885.5, 1899.0, 1842.0, 1791.5, 1792.5, 1792.5, 1792.5, 1768.0, 1744.0, 1769.0, 1796.0, 1851.5, 1851.5, 1851.5, 1900.5, 1895.5, 1901.5, 1858.0, 1839.5, 1839.5, 1839.5, 1863.0, 1861.5, 1830.0, 1874.5, 1851.0, 1851.0, 1851.0, 1889.0, 1872.5, 1920.5, 1899.0, 1850.5, 1850.5, 1850.5, 1840.5, 1849.0, 1870.0, 1907.5, 1909.0, 1909.0, 1909.0, 1946.5, 1886.5, 1868.5, 1862.0, 1868.5, 1868.5, 1868.5, 1899.0, 1896.5, 1893.0, 1889.0, 1866.0, 1866.0, 1866.0, 1862.5, 1835.0, 1816.5, 1871.0, 1871.0, 1871.0, 1871.0, 1913.0, 1905.0, 1921.5, 1942.0, 1954.5, 1954.5, 1954.5, 1954.5, 1959.0, 1963.0, 1963.5, 1982.0, 1982.0, 1982.0, 1999.0, 1991.5, 2036.0, 2061.5, 2117.5, 2117.5, 2117.5, 2101.5, 2120.5, 2112.5, 2243.5, 2243.0, 2243.0, 2243.0, 2235.0, 2271.5, 2229.0, 2276.5, 2241.5, 2241.5, 2241.5, 2285.0, 2273.0, 2265.5, 2300.0, 2238.5, 2238.5, 2238.5, 2315.0, 2293.5, 2308.5, 2265.0, 2243.0, 2243.0, 2243.0, 2251.0, 2215.0, 2208.0, 2169.0, 2139.0, 2139.0, 2139.0, 2128.0, 2112.0, 2167.0, 2134.5, 2093.5, 2093.5, 2093.5, 2024.0, 2020.0, 2029.5, 2002.0, 2010.0, 2010.0, 2010.0, 2064.5, 2095.5, 2123.0, 2148.0, 2096.5, 2096.5, 2096.5, 2170.0, 2203.0, 2203.0, 2180.0, 2180.0, 2180.0, 2180.0, 2163.5, 2188.0, 2188.0, 2180.0, 2174.5, 2174.5, 2174.5, 2187.0, 2147.0, 2166.0, 2170.0, 2201.0, 2201.0, 2201.0, 2198.5, 2188.0, 2239.0, 2254.5, 2244.0, 2244.0, 2244.0, 2230.0, 2232.0, 2224.0, 2179.0, 2258.0, 2258.0, 2258.0, 2279.0, 2287.0, 2279.0, 2293.0, 2270.0, 2270.0, 2270.0, 2292.5, 2311.0, 2312.0, 2276.0, 2299.0, 2299.0, 2299.0, 2311.0, 2311.0, 2311.0, 2318.0, 2340.0, 2340.0, 2340.0, 2385.0, 2385.0, 2412.5, 2343.0, 2289.0, 2289.0, 2289.0, 2297.0, 2323.5, 2332.0, 2323.0, 2305.0, 2305.0, 2305.0, 2257.5, 2254.5, 2270.0, 2320.0, 2296.0, 2296.0, 2296.0, 2315.5, 2372.5, 2369.0, 2399.5, 2367.0, 2367.0, 2367.0, 2378.0, 2438.5, 2438.0, 2426.0, 2443.0, 2443.0, 2443.0, 2448.0, 2424.5, 2406.5, 2409.0, 2409.0, 2409.0, 2409.0, 2375.5, 2423.0, 2401.0, 2404.0, 2395.5, 2395.5, 2395.5, 2374.0, 2364.0, 2315.0, 2321.0, 2306.5, 2306.5, 2306.5, 2280.0, 2311.0, 2287.5, 2220.0, 2235.0, 2235.0, 2235.0, 2207.0, 2202.0, 2167.0, 2195.0, 2171.0, 2171.0, 2171.0, 2219.0, 2234.0, 2235.0, 2235.0, 2164.5, 2164.5, 2164.5, 2160.0, 2163.0, 2184.0, 2163.5, 2169.0, 2169.0, 2169.0, 2162.5, 2089.0, 2094.0, 2078.0, 2078.0, 2078.0, 2078.0, 2078.0, 2039.5, 2037.5, 2042.5, 2038.0, 2038.0, 2038.0, 2049.0, 2088.0, 2061.5, 2047.0, 1982.5, 1982.5, 1982.5, 2038.0, 2013.0, 1997.5, 2008.5, 1997.5, 1997.5, 1997.5, 1990.0, 2009.5, 2041.0, 2037.0, 2021.0, 2021.0, 2021.0, 2019.0, 1970.0, 1979.0, 1970.0, 2020.0, 2020.0, 2020.0, 2020.0, 2048.5, 2012.5, 1983.5, 1981.0, 1981.0, 1981.0, 1976.0, 1949.0, 1966.5, 2003.0, 2002.0, 2002.0, 2002.0, 2040.5, 2053.5, 2025.0, 2056.0, 2098.0, 2098.0, 2098.0, 2098.0, 2117.0, 2150.0, 2193.0, 2210.0, 2210.0, 2210.0, 2219.0, 2246.5, 2205.5, 2188.0, 2123.0, 2123.0, 2123.0, 2129.0, 2133.0, 2092.0, 2100.0, 2099.5, 2099.5, 2099.5, 2076.0, 2082.0, 2009.0, 2017.0, 1996.0, 1996.0, 1996.0, 2023.0, 2032.0, 2038.0, 2058.0, 2059.0, 2059.0, 2059.0, 2088.0, 2058.0, 2067.5, 2035.5, 2032.0, 2032.0, 2032.0, 2029.0, 2046.0, 2093.0, 2050.0, 2049.5, 2049.5, 2049.5, 2044.5, 2037.5, 2016.5, 2036.0, 2036.0, 2036.0, 2036.0, 2039.5, 2063.0, 2050.0, 2060.5, 2056.0, 2056.0, 2056.0, 2029.0, 2033.5, 2090.0, 2111.5, 2112.0, 2112.0, 2112.0, 2118.0, 2090.0, 2120.0, 2152.0, 2180.0, 2180.0, 2180.0, 2178.0, 2169.0, 2190.0, 2224.5, 2238.0, 2238.0, 2238.0, 2229.5, 2220.0, 2227.5, 2197.0, 2205.5, 2205.5, 2205.5, 2205.5, 2229.5, 2200.0, 2160.5, 2152.0, 2152.0, 2152.0, 2151.5, 2122.0, 2122.0, 2151.0, 2134.5, 2134.5, 2134.5, 2125.0, 2120.0, 2083.0, 2063.0, 2039.5, 2039.5, 2039.5, 2023.0, 2053.0, 2092.0, 2075.5, 2043.0, 2043.0, 2043.0, 2045.0, 2042.5, 2061.0, 2083.0, 2075.0, 2075.0, 2075.0, 2052.5, 2035.0, 2048.0, 2027.0, 2028.0, 2028.0, 2028.0, 2056.0, 2061.0, 2054.0, 2073.0, 2102.0, 2102.0, 2102.0, 2113.0, 2103.5, 2128.0, 2158.5, 2157.5, 2157.5, 2157.5, 2183.0, 2159.0, 2141.0, 2149.0, 2183.0, 2183.0, 2183.0, 2195.0, 2186.5, 2170.0, 2171.0, 2139.0, 2139.0, 2139.0, 2123.5, 2150.0, 2117.0, 2117.0, 2107.5, 2107.5, 2107.5, 2092.0, 2077.0, 2074.0, 2073.0, 2072.0, 2072.0, 2072.0, 2062.5, 2074.0, 2061.0, 2083.0, 2068.0, 2068.0, 2068.0, 2073.0, 2067.0, 2041.0, 2051.5, 2040.5, 2040.5, 2040.5, 2035.5, 2047.0, 2074.0, 2067.0, 2085.5, 2085.5, 2085.5, 2103.5, 2114.0, 2114.0, 2115.5, 2151.5, 2151.5, 2151.5, 2150.0, 2131.5, 2137.5, 2169.0, 2195.5, 2195.5, 2195.5, 2223.5, 2259.0, 2259.0, 2259.0, 2240.0, 2240.0, 2240.0, 2206.0, 2212.0, 2212.0, 2168.0, 2136.0, 2136.0, 2136.0, 2157.0, 2127.0, 2093.0, 2097.0, 2119.0, 2119.0, 2119.0, 2181.5, 2151.0, 2198.5, 2175.5, 2187.5, 2187.5, 2187.5, 2176.5, 2182.0, 2155.0, 2145.5, 2136.0, 2136.0, 2136.0, 2127.0, 2143.0, 2116.0, 2091.5, 2087.5, 2087.5, 2087.5, 2091.5, 2093.0, 2078.0, 2117.0, 2111.5, 2111.5, 2111.5, 2085.0, 2103.5, 2105.0, 2123.0, 2131.5, 2131.5, 2131.5, 2132.5, 2155.0, 2124.0, 2133.0, 2102.0, 2102.0, 2102.0, 2112.0, 2110.0, 2099.0, 2115.5, 2081.0, 2081.0, 2081.0, 2102.5, 2123.5, 2105.0, 2084.5, 2039.0, 2039.0, 2039.0, 2079.0, 2022.0, 2008.0, 2018.0, 2035.5, 2035.5, 2035.5, 2027.0, 2035.5, 2046.0, 2061.0, 2049.5, 2049.5, 2049.5, 2059.0, 2065.0, 2043.5, 2058.0, 2041.0, 2041.0, 2041.0, 2026.0, 2036.0, 2016.0, 2046.0, 2022.0, 2022.0, 2022.0, 2040.5, 2070.5, 2087.5, 2104.5, 2075.0, 2075.0, 2075.0, 2090.5, 2110.0, 2121.0, 2133.0, 2133.0, 2133.0, 2133.0, 2133.0, 2141.5, 2147.5, 2143.0, 2125.0, 2125.0, 2125.0, 2095.0, 2088.5, 2070.5, 2060.5, 2091.0, 2091.0, 2091.0, 2091.0, 2082.0, 2064.0, 2081.0, 2093.0, 2093.0, 2093.0, 2100.0, 2113.0, 2125.0, 2110.5, 2121.0, 2121.0, 2121.0, 2114.0, 2085.0, 2112.5, 2123.0, 2120.0, 2120.0, 2120.0, 2120.0, 2117.0, 2075.0, 2084.5, 2089.0, 2089.0, 2089.0, 2095.0, 2095.0, 2080.0, 2063.0, 2104.5, 2104.5, 2104.5, 2108.0, 2090.5, 2084.5, 2054.0, 2064.0, 2064.0, 2064.0, 2092.0, 2100.0, 2097.5, 2108.0, 2137.0, 2137.0, 2137.0, 2160.0, 2139.5, 2140.5, 2138.5, 2129.0, 2129.0, 2129.0, 2129.0, 2140.0, 2160.5, 2156.0, 2161.0, 2161.0, 2161.0, 2169.0, 2194.0, 2149.0, 2175.5, 2193.5, 2193.5, 2193.5, 2175.0, 2180.0, 2161.0, 2168.0, 2174.0, 2174.0, 2174.0, 2206.0, 2199.0, 2208.5, 2265.0, 2269.0, 2269.0, 2269.0, 2265.0, 2218.0, 2237.0, 2196.5, 2240.0, 2240.0, 2240.0, 2247.0, 2212.5, 2248.0, 2237.0, 2248.0, 2248.0, 2248.0, 2260.0, 2230.5, 2206.0, 2194.5, 2200.5, 2200.5, 2200.5, 2240.5, 2235.5, 2254.0, 2259.5, 2257.0, 2257.0, 2257.0, 2257.0, 2251.0, 2254.5, 2259.0, 2230.0, 2230.0, 2230.0, 2233.0, 2217.0, 2227.0, 2200.0, 2194.0, 2194.0, 2194.0, 2158.0, 2100.0, 2112.0, 2115.0, 2103.0, 2103.0, 2103.0, 2091.0, 2092.0, 2078.0, 2068.0, 2050.5, 2050.5, 2050.5, 2074.0, 2058.0, 2074.0, 2075.0, 2057.0, 2057.0, 2057.0, 2083.0, 2071.0, 2078.0, 2080.0, 2085.0, 2085.0, 2085.0, 2095.0, 2095.0, 2082.0, 2057.0, 2072.0, 2072.0, 2072.0, 2053.5, 2042.5, 1956.0, 1998.0, 2012.0, 2012.0, 2012.0, 1999.5, 2037.5, 2006.0, 2011.0, 1987.0, 1987.0, 1987.0, 2019.0, 2020.0, 2004.0, 2015.0, 2000.0, 2000.0, 2000.0, 2007.0, 1975.0, 1979.5, 1997.0, 2029.0, 2029.0, 2029.0, 2018.0, 2034.0, 2022.5, 2025.0, 2022.5, 2022.5, 2022.5, 2017.0, 2026.0, 2017.0, 2060.0, 2046.0, 2046.0, 2046.0, 2061.0, 2046.0, 2065.0, 2027.0, 2025.0, 2025.0, 2025.0, 2018.0, 2017.0, 2030.0, 2026.5, 2020.0, 2020.0, 2020.0, 2009.0, 2004.0, 1982.5, 1972.0, 1963.5, 1963.5, 1963.5, 1936.5, 1867.0, 1854.0, 1870.0, 1864.0, 1864.0, 1864.0, 1862.5, 1847.5, 1822.0, 1822.0, 1822.0, 1822.0, 1822.0, 1814.0, 1853.0, 1845.0, 1845.0, 1833.0, 1833.0, 1833.0, 1831.0, 1820.0, 1853.0, 1826.0, 1831.0, 1831.0, 1831.0, 1800.5, 1745.0, 1771.0, 1766.5, 1827.5, 1827.5, 1827.5, 1875.5, 1862.0, 1881.5, 1831.0, 1845.0, 1845.0, 1845.0, 1844.0, 1853.5, 1827.0, 1843.5, 1839.0, 1839.0, 1839.0, 1848.0, 1841.0, 1847.0, 1850.0, 1846.0, 1846.0, 1846.0, 1835.0, 1827.0, 1810.0, 1834.0, 1821.0, 1821.0, 1821.0, 1795.5, 1774.0, 1783.5, 1774.5, 1757.0, 1757.0, 1757.0, 1762.0, 1764.0, 1759.0, 1726.0, 1725.0, 1725.0, 1725.0, 1736.0, 1747.0, 1783.5, 1805.0, 1815.0, 1815.0, 1815.0, 1808.0, 1811.5, 1812.5, 1792.0, 1757.0, 1757.0, 1757.0, 1724.0, 1715.0, 1696.0, 1758.5, 1823.5, 1823.5, 1823.5, 1831.0, 1830.0, 1844.0, 1831.0, 1816.0, 1816.0, 1816.0, 1808.0, 1820.0, 1865.0, 1886.5, 1886.5, 1886.5, 1886.5, 1886.5, 1915.0, 1944.5, 1998.0, 1986.0, 1986.0, 1986.0, 1963.0, 1976.5, 2039.0, 2042.0, 2036.5, 2036.5, 2036.5, 2014.0, 2048.5, 2022.0, 2053.0, 2082.0, 2082.0, 2082.0, 2095.0, 2085.0, 2124.5, 2139.0, 2140.0, 2140.0, 2140.0, 2140.0, 2114.0, 2080.5, 2070.0, 2023.0, 2023.0, 2023.0, 2021.0, 2039.0, 1994.5, 1961.5, 1960.0, 1960.0, 1960.0, 1936.0, 1919.0, 1952.5, 1942.5, 1932.0, 1932.0, 1932.0, 1932.0, 1921.0, 1968.0, 1959.5, 1909.0, 1909.0, 1909.0, 1916.0, 1912.0, 1928.5, 1902.5, 1901.5, 1901.5, 1901.5, 1925.0, 1941.0, 1895.5, 1831.0, 1806.0, 1806.0, 1806.0, 1791.0, 1784.5, 1810.5, 1785.0, 1765.0, 1765.0, 1765.0, 1767.5, 1786.5, 1775.5, 1770.5, 1741.5, 1741.5, 1741.5, 1754.0, 1751.0, 1768.0, 1756.0, 1732.0, 1732.0, 1732.0, 1743.0, 1734.0, 1804.0, 1815.0, 1819.5, 1819.5, 1819.5, 1809.0, 1857.0, 1824.5, 1824.5, 1801.0, 1801.0, 1801.0, 1796.0, 1750.0, 1753.0, 1706.5, 1690.5, 1690.5, 1690.5, 1703.5, 1712.5, 1695.5, 1688.0, 1681.0, 1681.0, 1681.0, 1716.0, 1710.5, 1705.5, 1685.5, 1711.0, 1711.0, 1711.0, 1719.0, 1708.0, 1720.0, 1738.0, 1716.0, 1716.0, 1716.0, 1678.0, 1694.0, 1706.5, 1693.0, 1628.0, 1628.0, 1628.0, 1677.5, 1641.0, 1652.5, 1677.0, 1719.5, 1719.5, 1719.5, 1719.5, 1712.5, 1715.0, 1677.0, 1668.0, 1668.0, 1668.0, 1670.5, 1711.5, 1715.0, 1702.0, 1666.0, 1666.0, 1666.0, 1664.0, 1693.5, 1700.5, 1690.0, 1667.0, 1667.0, 1667.0, 1671.0, 1679.5, 1670.0, 1681.0, 1625.0, 1625.0, 1625.0, 1651.0, 1655.5, 1663.0, 1619.0, 1623.5, 1623.5, 1623.5, 1619.0, 1650.0, 1667.5, 1771.5, 1792.0, 1792.0, 1792.0, 1767.5, 1776.5, 1816.5, 1793.5, 1787.0, 1787.0, 1787.0, 1763.0, 1748.0, 1735.0, 1757.0, 1742.0, 1742.0, 1742.0, 1737.0, 1719.0, 1712.0, 1681.0, 1674.0, 1674.0, 1674.0, 1671.0, 1677.5, 1647.0, 1639.0, 1652.0, 1652.0, 1652.0, 1630.5, 1596.0, 1592.5, 1593.5, 1597.0, 1597.0, 1597.0, 1589.0, 1573.5, 1561.5, 1617.0, 1555.0, 1555.0, 1555.0, 1593.0, 1593.0, 1640.0, 1613.5, 1630.0, 1630.0, 1630.0, 1630.5, 1639.0, 1641.0, 1669.0, 1686.0, 1686.0, 1686.0, 1670.0, 1709.0, 1684.0, 1717.5, 1712.5, 1712.5, 1712.5, 1714.5, 1676.0, 1635.0, 1669.0, 1719.0, 1719.0, 1719.0, 1720.0, 1735.0, 1747.0, 1763.0, 1763.0, 1763.0, 1763.0, 1763.0, 1788.0, 1802.0, 1762.0, 1762.0, 1762.0, 1762.0, 1728.5, 1695.0, 1613.0, 1647.0, 1602.0, 1602.0, 1602.0, 1597.0, 1610.0, 1630.0, 1612.0, 1608.5, 1608.5, 1608.5, 1638.0, 1611.0, 1615.5, 1665.5, 1628.5, 1628.5, 1628.5, 1639.0, 1655.5, 1669.5, 1711.5, 1716.0, 1716.0, 1716.0, 1775.5, 1768.0, 1818.0, 1789.0, 1774.0, 1774.0, 1774.0, 1827.0, 1830.0, 1827.0, 1845.0, 1854.0, 1854.0, 1854.0, 1821.5, 1750.0, 1710.5, 1733.0, 1757.5, 1757.5, 1757.5, 1718.0, 1689.5, 1708.0, 1714.0, 1777.5, 1777.5, 1777.5, 1776.0, 1795.0, 1831.5, 1849.0, 1896.5, 1896.5, 1896.5, 1878.0, 1858.0, 1853.0, 1840.0, 1841.0, 1841.0, 1841.0, 1797.0, 1768.0, 1812.0, 1820.5, 1806.5, 1806.5, 1806.5, 1810.0, 1795.0, 1755.0, 1744.0, 1744.0, 1744.0, 1744.0, 1744.0, 1738.0, 1704.5, 1719.5, 1726.0, 1726.0, 1726.0, 1698.0, 1683.0, 1688.0, 1683.0, 1686.0, 1686.0, 1686.0, 1690.5, 1716.5, 1740.5, 1708.5, 1711.5, 1711.5, 1711.5, 1728.0, 1773.5, 1793.5, 1774.0, 1773.0, 1773.0, 1773.0, 1733.5, 1745.0, 1735.0, 1795.5, 1780.0, 1780.0, 1780.0, 1780.0, 1765.5, 1745.0, 1741.5, 1737.0, 1737.0, 1737.0, 1750.0, 1784.5, 1750.5, 1724.0, 1701.5, 1701.5, 1701.5, 1720.0, 1702.0, 1696.0, 1694.5, 1646.5, 1646.5, 1646.5, 1651.5, 1646.0, 1667.0, 1694.0, 1691.5, 1691.5, 1691.5, 1691.5, 1674.0, 1727.0, 1724.0, 1727.5, 1727.5, 1727.5, 1727.0, 1733.0, 1740.5, 1727.0, 1698.5, 1698.5, 1698.5, 1685.5, 1702.0, 1682.5, 1707.0, 1702.0, 1702.0, 1702.0, 1697.5, 1712.0, 1720.0, 1693.5, 1698.0, 1698.0, 1698.0, 1713.5, 1734.0, 1780.0, 1815.0, 1867.0, 1867.0, 1867.0, 1821.0, 1788.0, 1830.0, 1815.5, 1816.0, 1816.0, 1816.0, 1852.0, 1863.0, 1877.0, 1901.0, 1851.0, 1851.0, 1851.0, 1856.0, 1823.0, 1852.5, 1845.5, 1843.0, 1843.0, 1843.0, 1826.0, 1806.0, 1800.0, 1784.0, 1835.0, 1835.0, 1835.0, 1818.0, 1803.0, 1788.0, 1795.0, 1793.0, 1793.0, 1793.0, 1791.0, 1839.0, 1817.0, 1811.0, 1828.0, 1828.0, 1828.0, 1864.0, 1876.0, 1893.0, 1884.0, 1847.5, 1847.5, 1847.5, 1850.0, 1850.0, 1840.0, 1878.0, 1880.0, 1880.0, 1880.0, 1880.0, 1875.0, 1914.0, 1940.0, 1959.0, 1959.0, 1959.0, 1950.5, 1926.5, 1888.0, 1896.5, 1864.0, 1864.0, 1864.0, 1903.0, 1904.0, 1936.0, 1936.0, 1937.0, 1937.0, 1937.0, 1953.5, 1956.0, 1951.0, 1912.0, 1907.0, 1907.0, 1907.0, 1962.5, 1987.0, 2035.5, 2105.5, 2074.0, 2074.0, 2074.0, 2099.0, 2060.0, 2045.0, 2079.0, 2095.0, 2095.0, 2095.0, 2066.0, 2041.0, 2013.0, 1991.5, 1986.5, 1986.5, 1986.5, 1995.0, 1965.0, 2004.5, 2010.0, 2010.0, 2010.0, 2010.0, 2069.0, 2058.0, 2063.5, 2048.0, 2065.5, 2065.5, 2065.5, 2052.0, 2047.5, 2061.0, 2070.5, 2093.0, 2093.0, 2093.0, 2073.0, 2127.0, 2155.0, 2151.5, 2150.5, 2150.5, 2150.5, 2154.0, 2186.5, 2142.0, 2158.0, 2170.0, 2170.0, 2170.0, 2174.0, 2175.0, 2237.0, 2302.0, 2466.0, 2466.0, 2466.0, 2459.0, 2330.0, 2374.0, 2274.0, 2285.0, 2285.0, 2285.0, 2307.0, 2369.0, 2331.0, 2310.0, 2310.0, 2310.0, 2310.0, 2377.0, 2342.0, 2314.0, 2263.0, 2185.0, 2185.0, 2185.0, 2183.0, 2168.0, 2092.0, 2087.0, 2070.0, 2070.0, 2070.0, 2070.0, 2070.0, 1990.5, 1985.0, 2007.0, 2007.0, 2007.0, 2007.0, 2026.5, 2056.0, 2041.0, 2060.0, 2060.0, 2060.0, 2143.5, 2165.0, 2190.0, 2221.0, 2315.5, 2315.5, 2315.5, 2268.0, 2303.5, 2315.0, 2309.0, 2350.5, 2350.5, 2350.5, 2390.0, 2379.0, 2390.0, 2365.0, 2320.0, 2320.0, 2320.0, 2355.0, 2351.5, 2334.0, 2294.0, 2325.5, 2325.5, 2325.5, 2329.0, 2379.5, 2399.0, 2406.0, 2442.0, 2442.0, 2442.0, 2415.0, 2338.0, 2273.0, 2269.0, 2275.0, 2275.0, 2275.0, 2284.0, 2290.0, 2270.0, 2231.0, 2257.0, 2257.0, 2257.0, 2272.0, 2287.0, 2273.0, 2247.5, 2223.0, 2223.0, 2223.0, 2220.0, 2240.0, 2227.0, 2258.0, 2284.5, 2284.5, 2284.5, 2210.5, 2217.0, 2267.0, 2260.0, 2280.5, 2280.5, 2280.5, 2284.0, 2319.0, 2363.0, 2346.0, 2305.0, 2305.0, 2305.0, 2308.0, 2308.0, 2340.0, 2310.0, 2287.0, 2287.0, 2287.0, 2275.0, 2314.5, 2327.5, 2260.0, 2260.0, 2260.0, 2260.0, 2261.0, 2251.0, 2256.0, 2185.0, 2185.0, 2185.0, 2185.0, 2185.0, 2148.0, 2160.5, 2142.0, 2155.0, 2155.0, 2155.0, 2173.0, 2191.0, 2237.0, 2280.0, 2250.0, 2250.0, 2250.0, 2250.0, 2225.0, 2177.0, 2190.0, 2159.5, 2159.5, 2159.5, 2182.0, 2175.0, 2196.0, 2165.5, 2131.5, 2131.5, 2131.5, 2084.0, 2102.0, 2052.0, 2088.0, 2102.0, 2102.0, 2102.0, 2088.0, 2072.0, 2090.0, 2090.0, 2101.5, 2101.5, 2101.5, 2101.5, 2075.0, 2083.5, 2072.0, 2068.0, 2068.0, 2068.0, 2080.0, 2055.0, 2065.5, 2097.0, 2077.0, 2077.0, 2077.0, 2036.0, 2055.0, 2078.5, 2083.5, 2113.0, 2113.0, 2113.0, 2118.0, 2121.0, 2181.0, 2186.5, 2237.0, 2237.0, 2237.0, 2247.5, 2265.0, 2292.0, 2274.0, 2284.0, 2284.0, 2284.0, 2272.0, 2245.0, 2266.0, 2270.0, 2267.5, 2267.5, 2267.5, 2292.0, 2310.0, 2294.0, 2264.0, 2302.0, 2302.0, 2302.0, 2245.5, 2210.0, 2200.0, 2212.0, 2221.0, 2221.0, 2221.0, 2266.0, 2284.0, 2296.5, 2281.0, 2312.0, 2312.0, 2312.0, 2299.0, 2315.0, 2342.0, 2349.0, 2355.0, 2355.0, 2355.0, 2349.0, 2367.5, 2358.0, 2322.5, 2317.0, 2317.0, 2317.0, 2370.0, 2395.0, 2457.0, 2389.0, 2360.0, 2360.0, 2360.0, 2346.0, 2393.0, 2330.0, 2342.0, 2370.0, 2370.0, 2370.0, 2370.0, 2362.0, 2373.0, 2369.0, 2364.0, 2364.0, 2364.0, 2350.0, 2320.5, 2307.5, 2272.0, 2260.0, 2260.0, 2260.0, 2233.0, 2274.0, 2266.5, 2317.0, 2369.0, 2369.0, 2369.0, 2381.0, 2443.0, 2472.0, 2477.5, 2513.0, 2513.0, 2513.0, 2490.0, 2458.0, 2467.0, 2519.0, 2538.0, 2538.0, 2538.0, 2501.0, 2585.0, 2548.0, 2539.5, 2515.0, 2515.0, 2515.0, 2509.0, 2525.0, 2568.5, 2542.0, 2566.0, 2566.0, 2566.0, 2496.0, 2493.0, 2491.0, 2502.0, 2472.0, 2472.0, 2472.0, 2504.0, 2485.5, 2492.0, 2431.0, 2414.0, 2414.0, 2414.0, 2421.0, 2452.0, 2466.0, 2475.0, 2490.0, 2490.0, 2490.0, 2483.0, 2499.0, 2504.0, 2547.0, 2502.0, 2502.0, 2502.0, 2477.0, 2420.0, 2424.0, 2409.0, 2429.5, 2429.5, 2429.5, 2460.5, 2459.5, 2437.0, 2480.5, 2452.0, 2452.0, 2452.0, 2445.0, 2431.0, 2474.0, 2505.0, 2552.0, 2552.0, 2552.0, 2512.0, 2500.0, 2506.0, 2428.0, 2495.0, 2495.0, 2495.0, 2518.0, 2515.0, 2473.0, 2511.0, 2586.5, 2586.5, 2586.5, 2559.0, 2542.5, 2491.0, 2473.0, 2494.0, 2494.0, 2494.0, 2494.0, 2494.0, 2511.5, 2495.0, 2544.0, 2544.0, 2544.0, 2544.0, 2580.0, 2573.0, 2590.0, 2566.0, 2566.0, 2566.0, 2608.0, 2596.0, 2572.0, 2536.0, 2582.0, 2582.0, 2582.0, 2542.5, 2555.0, 2581.0, 2608.0, 2607.0, 2607.0, 2607.0, 2610.0, 2612.0, 2621.0, 2604.0, 2643.0, 2643.0, 2643.0, 2620.5, 2624.0, 2670.0, 2683.0, 2646.0, 2646.0, 2646.0, 2592.0, 2593.0, 2540.0, 2530.0, 2511.0, 2511.0, 2511.0, 2522.0, 2577.0, 2610.0, 2640.0, 2608.0, 2608.0, 2608.0, 2569.0, 2561.0, 2524.0, 2533.0, 2598.5, 2598.5, 2598.5, 2578.5, 2530.5, 2458.0, 2454.5, 2432.0, 2432.0, 2432.0, 2436.0, 2419.5, 2372.0, 2352.0, 2347.0, 2347.0, 2347.0, 2404.0, 2453.5, 2395.0, 2416.0, 2360.0, 2360.0, 2360.0, 2345.5, 2377.0, 2378.0, 2359.5, 2366.5, 2366.5, 2366.5, 2397.0, 2403.0, 2411.0, 2400.0, 2400.0, 2400.0, 2400.0, 2400.0, 2380.0, 2383.5, 2358.5, 2397.0, 2397.0, 2397.0, 2401.0, 2388.0, 2333.0, 2329.0, 2341.5, 2341.5, 2341.5, 2342.0, 2378.0, 2347.0, 2366.0, 2348.0, 2348.0, 2348.0, 2348.5, 2325.0, 2300.5, 2336.0, 2345.0, 2345.0, 2345.0, 2336.0, 2320.0, 2279.0, 2274.0, 2301.5, 2301.5, 2301.5, 2301.5, 2291.0, 2300.0, 2332.0, 2380.0, 2380.0, 2380.0, 2346.0, 2321.0, 2325.0, 2330.5, 2360.0, 2360.0, 2360.0, 2448.0, 2441.0, 2502.0, 2465.0, 2423.0, 2423.0, 2423.0, 2423.0, 2421.0, 2445.5, 2430.0, 2428.0, 2428.0, 2428.0, 2504.0, 2510.5, 2545.0, 2468.0, 2480.0, 2480.0, 2480.0, 2458.0, 2461.0, 2464.0, 2431.0, 2411.5, 2411.5, 2411.5, 2402.5, 2397.0, 2385.0, 2389.0, 2414.0, 2414.0, 2414.0, 2408.0, 2430.0, 2407.0, 2432.0, 2398.0, 2398.0, 2398.0, 2405.0, 2373.0, 2373.0, 2321.0, 2357.0, 2357.0, 2357.0, 2283.0, 2244.0, 2140.0, 2162.0, 2183.0, 2183.0, 2183.0, 2164.0, 2118.0, 2092.5, 2100.0, 2140.0, 2140.0, 2140.0, 2132.5, 2132.5, 2141.0, 2137.5, 2133.0, 2133.0, 2133.0, 2154.0, 2115.5, 2143.0, 2136.0, 2073.0, 2073.0, 2073.0, 2122.5, 2131.0, 2136.5, 2092.0, 2070.0, 2070.0, 2070.0, 2090.0, 1992.0, 2002.0, 1977.0, 1997.0, 1997.0, 1997.0, 1999.0, 1998.0, 2006.0, 2079.0, 2069.0, 2069.0, 2069.0, 2069.0, 2065.5, 2071.0, 2062.0, 2101.0, 2101.0, 2101.0, 2086.0, 2067.0, 2044.0, 2036.5, 2056.0, 2056.0, 2056.0, 1970.0, 1982.0, 2042.0, 2050.0, 2040.0, 2040.0, 2040.0, 2046.0, 2025.0, 2003.0, 1995.5, 2029.0, 2029.0, 2029.0, 2018.0, 1996.5, 1975.0, 2002.0, 2009.0, 2009.0, 2009.0, 2001.0, 2020.5, 2020.0, 1971.0, 1981.0, 1981.0, 1981.0, 1934.0, 1915.0, 1909.0, 2037.0, 2091.0, 2091.0, 2091.0, 2079.0, 2013.0, 1992.0, 1966.0, 1997.0, 1997.0, 1997.0, 1995.0, 2003.5, 1988.0, 1982.0, 1971.5, 1971.5, 1971.5, 1916.0, 1867.0, 1933.0, 1995.0, 1948.5, 1948.5, 1948.5, 1910.0, 1899.0, 1947.0, 1957.0, 1910.0, 1910.0, 1910.0, 1908.0, 1918.5, 1943.0, 1960.0, 2005.0, 2005.0, 2005.0, 1970.0, 1949.0, 1974.0, 1936.0, 1918.5, 1918.5, 1918.5, 1906.0, 1907.0, 1932.5, 1956.5, 1964.5, 1964.5, 1964.5, 1974.0, 1976.0, 1947.0, 1965.0, 1975.5, 1975.5, 1975.5, 1969.5, 1965.0, 1953.0, 1927.0, 1912.0, 1912.0, 1912.0, 1939.0, 1942.0, 1961.5, 1958.0, 1976.5, 1976.5, 1976.5, 1996.5, 1996.5, 1996.5, 2033.0, 2009.0, 2009.0, 2009.0, 1975.0, 1975.0, 1943.0, 1936.0, 1934.5, 1934.5, 1934.5, 1940.0, 1965.5, 1960.0, 1961.5, 1962.0, 1962.0, 1962.0, 1954.0, 1952.5, 1948.0, 1972.0, 2003.0, 2003.0, 2003.0, 2002.5, 2011.5, 2026.5, 2085.0, 2107.5, 2107.5, 2107.5, 2075.5, 2066.0, 2090.0, 2093.0, 2096.0, 2096.0, 2096.0, 2091.0, 2080.0, 2066.0, 2066.0, 2050.5, 2050.5, 2050.5, 2032.0, 2002.0, 2033.5, 2068.0, 2029.0, 2029.0, 2029.0, 2009.0, 2025.0, 2045.0, 2059.0, 2072.5, 2072.5, 2072.5, 2063.0, 2107.0, 2154.0, 2152.5, 2109.0, 2109.0, 2109.0, 2091.0, 2090.5, 2096.0, 2072.0, 2081.0, 2081.0, 2081.0, 2070.0, 2105.5, 2111.0, 2053.5, 2028.0, 2028.0, 2028.0, 2017.5, 2013.5, 2035.5, 2020.0, 2007.5, 2007.5, 2007.5, 1982.0, 1978.0, 2010.0, 2022.0, 2022.0, 2022.0, 2022.0, 1974.0, 1985.0, 1988.0, 1973.0, 1980.0, 1980.0, 1980.0, 1977.5, 1956.0, 1942.0, 1910.0, 1932.0, 1932.0, 1932.0, 1942.5, 1930.0, 1919.0, 1927.0, 1927.0, 1927.0, 1927.0, 1927.0, 1905.0, 1902.0, 1924.0, 1947.0, 1947.0, 1947.0, 1941.0, 1885.5, 1859.0, 1880.0, 1867.0, 1867.0, 1867.0, 1867.0, 1860.0, 1855.0, 1823.0, 1785.0, 1785.0, 1785.0, 1768.0, 1780.0, 1826.0, 1809.0, 1797.0, 1797.0, 1797.0, 1795.5, 1787.0, 1781.0, 1816.5, 1809.0, 1809.0, 1809.0, 1809.0, 1798.0, 1797.5, 1782.5, 1791.0, 1791.0, 1791.0, 1834.0, 1881.5, 1945.0, 1837.0, 1888.0, 1888.0, 1888.0, 1949.0, 1918.0, 1903.0, 1882.0, 1873.5, 1873.5, 1873.5, 1886.0, 1897.0, 1916.0, 1894.0, 1887.5, 1887.5, 1887.5, 1901.5, 1919.5, 1912.5, 1914.0, 1922.5, 1922.5, 1922.5, 1877.0, 1874.0, 1875.5, 1863.0, 1884.0, 1884.0, 1884.0, 1901.5, 1955.0, 1950.0, 1972.0, 1974.5, 1974.5, 1974.5, 1977.5, 1977.5, 2020.0, 2071.5, 2001.0, 2001.0, 2001.0, 2024.5, 2068.0, 2123.5, 2075.0, 2030.0, 2030.0, 2030.0, 2003.0, 1982.0, 1974.0, 1950.5, 1939.0, 1939.0, 1939.0, 2007.0, 2004.5, 2070.0, 2086.0, 2103.5, 2103.5, 2103.5, 2044.0, 2040.5, 2045.0, 2050.0, 2031.5, 2031.5, 2031.5, 2046.0, 2085.0, 2068.0, 2082.5, 2095.5, 2095.5, 2095.5, 2095.5, 2084.0, 2061.5, 2039.0, 2020.0, 2020.0, 2020.0, 1996.0, 2030.0, 2065.0, 2036.0, 2085.0, 2085.0, 2085.0, 2104.0, 2102.0, 2086.0, 2094.0, 2104.0, 2104.0, 2104.0, 2056.0, 2054.0, 2079.0, 2107.0, 2086.0, 2086.0, 2086.0, 2054.5, 2067.5, 2109.0, 2068.0, 2085.0, 2085.0, 2085.0, 2114.0, 2077.0, 2096.0, 2148.0, 2188.0, 2188.0, 2188.0, 2177.0, 2129.0, 2162.0, 2177.0, 2129.0, 2129.0, 2129.0, 2144.0, 2173.0, 2190.0, 2211.0, 2202.0, 2202.0, 2202.0, 2235.0, 2236.0, 2242.0, 2244.5, 2232.0, 2232.0, 2232.0, 2267.0, 2255.5, 2210.0, 2176.0, 2176.0, 2176.0, 2176.0, 2173.0, 2138.0, 2105.0, 2101.0, 2115.0, 2115.0, 2115.0, 2078.5, 2037.0, 2023.5, 2004.0, 1976.0, 1976.0, 1976.0, 1967.5, 1997.0, 1972.5, 1958.0, 1945.0, 1945.0, 1945.0, 1908.0, 1946.0, 1926.0, 1947.0, 1912.0, 1912.0, 1912.0, 1883.5, 1900.0, 1893.0, 1881.0, 1866.0, 1866.0, 1866.0, 1893.0, 1903.0, 1920.0, 1934.0, 1873.5, 1873.5, 1873.5, 1873.0, 1872.0, 1896.5, 1909.0, 1905.0, 1905.0, 1905.0, 1905.0, 1910.0, 1910.0, 1910.0, 1932.0, 1932.0, 1932.0, 1923.5, 1904.0, 1904.0, 1889.5, 1900.0, 1900.0, 1900.0, 1905.0, 1908.5, 1902.0, 1922.0, 1891.5, 1891.5, 1891.5, 1897.0, 1960.5, 2027.0, 1977.0, 1982.0, 1982.0, 1982.0, 1952.0, 1974.0, 1989.0, 1960.0, 1901.0, 1901.0, 1901.0, 1915.0, 1886.0, 1836.0, 1874.5, 1879.0, 1879.0, 1879.0, 1854.5, 1843.5, 1844.0, 1835.0, 1810.0, 1810.0, 1810.0, 1820.0, 1861.0, 1877.0, 1875.0, 1911.0, 1911.0, 1911.0, 1901.0, 1920.0, 1939.0, 1881.0, 1864.0, 1864.0, 1864.0, 1922.0, 1870.0, 1870.0, 1869.0, 1905.0, 1905.0, 1905.0, 1900.0, 1887.0, 1860.0, 1880.0, 1849.5, 1849.5, 1849.5, 1859.5, 1813.0, 1749.0, 1781.0, 1685.0, 1685.0, 1685.0, 1693.0, 1616.0, 1661.0, 1673.5, 1608.5, 1608.5, 1608.5, 1617.0, 1589.0, 1659.0, 1690.0, 1694.0, 1694.0, 1694.0, 1712.0, 1692.5, 1684.5, 1661.0, 1629.5, 1629.5, 1629.5, 1692.5, 1698.0, 1684.5, 1685.0, 1685.0, 1685.0, 1685.0, 1685.0, 1664.0, 1675.0, 1651.5, 1650.5, 1650.5, 1650.5, 1632.0, 1640.5, 1632.5, 1601.0, 1608.0, 1608.0, 1608.0, 1623.5, 1614.5, 1610.0, 1583.0, 1592.5, 1592.5, 1592.5, 1611.0, 1618.5, 1619.5, 1629.5, 1629.5, 1629.5, 1629.5, 1638.5, 1601.5, 1576.5, 1578.5, 1611.0, 1611.0, 1611.0, 1638.0, 1663.0, 1654.5, 1603.5, 1660.0, 1660.0, 1660.0, 1660.0, 1641.5, 1609.0, 1615.5, 1635.0, 1635.0, 1635.0, 1663.0, 1696.0, 1679.5, 1749.5, 1738.0, 1738.0, 1738.0, 1726.0, 1736.5, 1711.0, 1739.5, 1718.0, 1718.0, 1718.0, 1760.5, 1775.5, 1796.5, 1777.5, 1763.5, 1763.5, 1763.5, 1744.0, 1742.5, 1775.5, 1778.0, 1783.0, 1783.0, 1783.0, 1788.5, 1761.0, 1765.5, 1756.0, 1781.0, 1781.0, 1781.0, 1779.0, 1819.5, 1817.5, 1842.0, 1858.0, 1858.0, 1858.0, 1839.5, 1836.0, 1824.0, 1811.0, 1805.0, 1805.0, 1805.0, 1814.0, 1800.5, 1794.5, 1808.0, 1801.0, 1801.0, 1801.0, 1835.0, 1847.0, 1841.5, 1843.0, 1866.5, 1866.5, 1866.5, 1834.0, 1889.0, 1913.0, 1921.0, 1880.0, 1880.0, 1880.0, 1901.0, 1934.0, 1932.0, 1946.0, 1956.5, 1956.5, 1956.5, 1964.0, 1994.0, 1964.0, 1965.0, 1960.0, 1960.0, 1960.0, 1984.5, 1969.0, 1954.0, 1976.5, 1984.0, 1984.0, 1984.0, 1984.0, 1951.0, 1912.0, 1940.0, 1961.5, 1961.5, 1961.5, 1925.0, 1888.0, 1859.0, 1869.0, 1873.5, 1873.5, 1873.5, 1909.5, 1883.5, 1851.0, 1889.0, 1871.5, 1871.5, 1871.5, 1873.0, 1851.5, 1856.0, 1815.0, 1805.0, 1805.0, 1805.0, 1821.0, 1801.0, 1809.5, 1763.0, 1744.5, 1744.5, 1744.5, 1759.0, 1777.0, 1779.0, 1779.5, 1823.5, 1823.5, 1823.5, 1826.5, 1771.5, 1754.5, 1756.5, 1742.5, 1742.5, 1742.5, 1748.0, 1790.5, 1792.0, 1792.5, 1750.0, 1750.0, 1750.0, 1780.5, 1764.5, 1801.0, 1790.0, 1776.0, 1776.0, 1776.0, 1808.0, 1813.5, 1836.5, 1838.0, 1841.5, 1841.5, 1841.5, 1818.0, 1849.5, 1868.5, 1886.0, 1882.5, 1882.5, 1882.5, 1900.5, 1919.5, 1951.0, 1987.0, 1990.0, 1990.0, 1990.0, 2006.0, 2030.0, 2031.5, 2053.0, 2117.5, 2117.5, 2117.5, 2065.0, 2031.5, 2046.5, 2026.5, 2012.5, 2012.5, 2012.5, 2063.0, 2100.0, 2083.0, 2058.5, 2045.0, 2045.0, 2045.0, 2034.0, 2062.0, 2046.5, 2040.5, 1957.0, 1957.0, 1957.0, 1932.5, 1955.0, 1956.5, 1937.0, 1937.0, 1937.0, 1937.0, 1937.0, 1966.0, 1972.0, 2023.5, 2023.5, 2023.5, 2023.5, 2043.5, 2068.5, 2026.5, 2000.0, 1974.0, 1974.0, 1974.0, 1963.5, 2018.0, 2040.0, 1981.0, 1981.5, 1981.5, 1981.5, 1987.0, 2013.0, 2033.0, 2007.0, 2040.0, 2040.0, 2040.0, 2036.0, 2040.0, 2009.5, 2013.0, 2024.5, 2024.5, 2024.5, 2008.5, 2008.0, 2010.0, 2030.5, 2052.5, 2052.5, 2052.5, 2080.5, 2082.0, 2080.0, 2116.5, 2109.5, 2109.5, 2109.5, 2111.5, 2097.0, 2132.0, 2122.0, 2152.0, 2152.0, 2152.0, 2129.0, 2103.5, 2158.5, 2107.0, 2075.0, 2075.0, 2075.0, 2069.5, 2039.5, 2014.5, 2023.0, 1983.0, 1983.0, 1983.0, 1956.0, 1924.5, 1934.5, 1940.0, 1936.0, 1936.0, 1936.0, 1943.5, 1921.0, 1896.0, 1917.5, 1951.0, 1951.0, 1951.0, 1949.0, 1944.0, 1907.0, 1938.5, 1934.0, 1934.0, 1934.0, 1944.0, 1956.5, 1942.5, 1947.5, 1947.5, 1947.5, 1947.5, 1947.5, 1949.0, 1969.0, 1958.0, 1948.5, 1948.5, 1948.5, 1959.5, 1968.0, 1984.5, 2033.0, 2025.0, 2025.0, 2025.0, 2026.0, 1982.0, 2017.5, 2021.0, 2054.0, 2054.0, 2054.0, 2051.0, 2076.0, 2097.5, 2117.0, 2165.0, 2165.0, 2165.0, 2165.0, 2186.0, 2177.0, 2218.0, 2228.5, 2228.5, 2228.5, 2218.0, 2203.5, 2116.0, 2148.5, 2181.5, 2181.5, 2181.5, 2213.5, 2202.0, 2202.5]\n"
          ],
          "name": "stdout"
        }
      ]
    },
    {
      "cell_type": "code",
      "metadata": {
        "colab": {
          "base_uri": "https://localhost:8080/"
        },
        "id": "8mX2TSNgQYic",
        "outputId": "0b5ff6e4-7ff3-4d19-cfd0-e0fd2b660ee4"
      },
      "source": [
        "dataLead_list = dataLead_list[-test_size:]\n",
        "print(dataLead_list)\n",
        "print(len(dataLead_list))"
      ],
      "execution_count": null,
      "outputs": [
        {
          "output_type": "stream",
          "text": [
            "[1739.5, 1718.0, 1718.0, 1718.0, 1760.5, 1775.5, 1796.5, 1777.5, 1763.5, 1763.5, 1763.5, 1744.0, 1742.5, 1775.5, 1778.0, 1783.0, 1783.0, 1783.0, 1788.5, 1761.0, 1765.5, 1756.0, 1781.0, 1781.0, 1781.0, 1779.0, 1819.5, 1817.5, 1842.0, 1858.0, 1858.0, 1858.0, 1839.5, 1836.0, 1824.0, 1811.0, 1805.0, 1805.0, 1805.0, 1814.0, 1800.5, 1794.5, 1808.0, 1801.0, 1801.0, 1801.0, 1835.0, 1847.0, 1841.5, 1843.0, 1866.5, 1866.5, 1866.5, 1834.0, 1889.0, 1913.0, 1921.0, 1880.0, 1880.0, 1880.0, 1901.0, 1934.0, 1932.0, 1946.0, 1956.5, 1956.5, 1956.5, 1964.0, 1994.0, 1964.0, 1965.0, 1960.0, 1960.0, 1960.0, 1984.5, 1969.0, 1954.0, 1976.5, 1984.0, 1984.0, 1984.0, 1984.0, 1951.0, 1912.0, 1940.0, 1961.5, 1961.5, 1961.5, 1925.0, 1888.0, 1859.0, 1869.0, 1873.5, 1873.5, 1873.5, 1909.5, 1883.5, 1851.0, 1889.0, 1871.5, 1871.5, 1871.5, 1873.0, 1851.5, 1856.0, 1815.0, 1805.0, 1805.0, 1805.0, 1821.0, 1801.0, 1809.5, 1763.0, 1744.5, 1744.5, 1744.5, 1759.0, 1777.0, 1779.0, 1779.5, 1823.5, 1823.5, 1823.5, 1826.5, 1771.5, 1754.5, 1756.5, 1742.5, 1742.5, 1742.5, 1748.0, 1790.5, 1792.0, 1792.5, 1750.0, 1750.0, 1750.0, 1780.5, 1764.5, 1801.0, 1790.0, 1776.0, 1776.0, 1776.0, 1808.0, 1813.5, 1836.5, 1838.0, 1841.5, 1841.5, 1841.5, 1818.0, 1849.5, 1868.5, 1886.0, 1882.5, 1882.5, 1882.5, 1900.5, 1919.5, 1951.0, 1987.0, 1990.0, 1990.0, 1990.0, 2006.0, 2030.0, 2031.5, 2053.0, 2117.5, 2117.5, 2117.5, 2065.0, 2031.5, 2046.5, 2026.5, 2012.5, 2012.5, 2012.5, 2063.0, 2100.0, 2083.0, 2058.5, 2045.0, 2045.0, 2045.0, 2034.0, 2062.0, 2046.5, 2040.5, 1957.0, 1957.0, 1957.0, 1932.5, 1955.0, 1956.5, 1937.0, 1937.0, 1937.0, 1937.0, 1937.0, 1966.0, 1972.0, 2023.5, 2023.5, 2023.5, 2023.5, 2043.5, 2068.5, 2026.5, 2000.0, 1974.0, 1974.0, 1974.0, 1963.5, 2018.0, 2040.0, 1981.0, 1981.5, 1981.5, 1981.5, 1987.0, 2013.0, 2033.0, 2007.0, 2040.0, 2040.0, 2040.0, 2036.0, 2040.0, 2009.5, 2013.0, 2024.5, 2024.5, 2024.5, 2008.5, 2008.0, 2010.0, 2030.5, 2052.5, 2052.5, 2052.5, 2080.5, 2082.0, 2080.0, 2116.5, 2109.5, 2109.5, 2109.5, 2111.5, 2097.0, 2132.0, 2122.0, 2152.0, 2152.0, 2152.0, 2129.0, 2103.5, 2158.5, 2107.0, 2075.0, 2075.0, 2075.0, 2069.5, 2039.5, 2014.5, 2023.0, 1983.0, 1983.0, 1983.0, 1956.0, 1924.5, 1934.5, 1940.0, 1936.0, 1936.0, 1936.0, 1943.5, 1921.0, 1896.0, 1917.5, 1951.0, 1951.0, 1951.0, 1949.0, 1944.0, 1907.0, 1938.5, 1934.0, 1934.0, 1934.0, 1944.0, 1956.5, 1942.5, 1947.5, 1947.5, 1947.5, 1947.5, 1947.5, 1949.0, 1969.0, 1958.0, 1948.5, 1948.5, 1948.5, 1959.5, 1968.0, 1984.5, 2033.0, 2025.0, 2025.0, 2025.0, 2026.0, 1982.0, 2017.5, 2021.0, 2054.0, 2054.0, 2054.0, 2051.0, 2076.0, 2097.5, 2117.0, 2165.0, 2165.0, 2165.0, 2165.0, 2186.0, 2177.0, 2218.0, 2228.5, 2228.5, 2228.5, 2218.0, 2203.5, 2116.0, 2148.5, 2181.5, 2181.5, 2181.5, 2213.5, 2202.0, 2202.5]\n",
            "343\n"
          ],
          "name": "stdout"
        }
      ]
    },
    {
      "cell_type": "code",
      "metadata": {
        "id": "hWgPNSnIOvUO"
      },
      "source": [
        "#Making test data\n",
        "testX_unscaled=[]\n",
        "testY_unscaled=[]\n",
        "n_future=90\n",
        "n_past=20\n",
        "for i in range(len(dataLead_list)-n_future-n_past):\n",
        "    temp=[]\n",
        "    testX_unscaled.append(dataLead_list[i:i+n_past])\n",
        "    for j in range(i+n_past,i+n_past+n_future):\n",
        "      temp.append(dataLead_list[j])\n",
        "    testY_unscaled.append(temp)"
      ],
      "execution_count": null,
      "outputs": []
    },
    {
      "cell_type": "code",
      "metadata": {
        "colab": {
          "base_uri": "https://localhost:8080/"
        },
        "id": "W9GTkKs5RbVD",
        "outputId": "d7036aad-7281-4880-ccda-72d876b7137e"
      },
      "source": [
        "testX_unscaled= np.array(testX_unscaled)\n",
        "testY_unscaled= np.array(testY_unscaled)\n",
        "print(testX_unscaled)\n",
        "print(testX_unscaled.shape)\n",
        "print(type(testX_unscaled))\n",
        "print(testY_unscaled)\n",
        "print(testY_unscaled.shape)\n",
        "print(type(testY_unscaled))"
      ],
      "execution_count": null,
      "outputs": [
        {
          "output_type": "stream",
          "text": [
            "[[1739.5 1718.  1718.  ... 1783.  1788.5 1761. ]\n",
            " [1718.  1718.  1718.  ... 1788.5 1761.  1765.5]\n",
            " [1718.  1718.  1760.5 ... 1761.  1765.5 1756. ]\n",
            " ...\n",
            " [2009.5 2013.  2024.5 ... 2109.5 2109.5 2111.5]\n",
            " [2013.  2024.5 2024.5 ... 2109.5 2111.5 2097. ]\n",
            " [2024.5 2024.5 2024.5 ... 2111.5 2097.  2132. ]]\n",
            "(233, 20)\n",
            "<class 'numpy.ndarray'>\n",
            "[[1765.5 1756.  1781.  ... 1805.  1805.  1821. ]\n",
            " [1756.  1781.  1781.  ... 1805.  1821.  1801. ]\n",
            " [1781.  1781.  1781.  ... 1821.  1801.  1809.5]\n",
            " ...\n",
            " [2097.  2132.  2122.  ... 2181.5 2181.5 2181.5]\n",
            " [2132.  2122.  2152.  ... 2181.5 2181.5 2213.5]\n",
            " [2122.  2152.  2152.  ... 2181.5 2213.5 2202. ]]\n",
            "(233, 90)\n",
            "<class 'numpy.ndarray'>\n"
          ],
          "name": "stdout"
        }
      ]
    },
    {
      "cell_type": "code",
      "metadata": {
        "colab": {
          "base_uri": "https://localhost:8080/",
          "height": 265
        },
        "id": "7o9te-hUT5dS",
        "outputId": "619f036a-0fa9-48a3-acc9-a1218bd0a181"
      },
      "source": [
        "#testX_unscaled[0] - original x test series\n",
        "#testY_unscaled[0] - original y value\n",
        "#y_pred - prediction\n",
        "#on x axis: 20+90 = 110 days\n",
        "\n",
        "x_axis=np.array([])\n",
        "for i in range(110):\n",
        "  x_axis=np.append(x_axis, i)\n",
        "\n",
        "plt.plot(x_axis[0:20],testX_unscaled[0])#Traintemp and testtemp store actual values, not transformed. \n",
        "plt.plot(x_axis[20:110],testY_unscaled[0])\n",
        "plt.plot(x_axis[20:110],y_pred)\n",
        "plt.legend([\"Original\",\"original y\",\"Predicted\"])\n",
        "plt.show()\n"
      ],
      "execution_count": null,
      "outputs": [
        {
          "output_type": "display_data",
          "data": {
            "image/png": "[encoded data removed]",
            "text/plain": [
              "<Figure size 432x288 with 1 Axes>"
            ]
          },
          "metadata": {
            "tags": [],
            "needs_background": "light"
          }
        }
      ]
    },
    {
      "cell_type": "code",
      "metadata": {
        "colab": {
          "base_uri": "https://localhost:8080/",
          "height": 265
        },
        "id": "WP3HlMnDVbca",
        "outputId": "85e5003b-1876-4639-d71a-27c52bc7654f"
      },
      "source": [
        "#forecast[1]\n",
        "test_num=1\n",
        "\n",
        "element=forecast[test_num]\n",
        "element= np. reshape(element, (element.shape[0], 1))\n",
        "forecast_copies = np.repeat(element, 3, axis=1)\n",
        "y_pred_future = scaler.inverse_transform(forecast_copies)\n",
        "y_pred=[] \n",
        "for arr in y_pred_future:\n",
        "  y_pred.append(arr[0])\n",
        "y_pred= np.array(y_pred)\n",
        "\n",
        "\n",
        "plt.plot(x_axis[0:20],testX_unscaled[test_num])#Traintemp and testtemp store actual values, not transformed. \n",
        "plt.plot(x_axis[20:110],testY_unscaled[test_num])\n",
        "plt.plot(x_axis[20:110],y_pred)\n",
        "plt.legend([\"Original\",\"original y\",\"Predicted\"])\n",
        "plt.show()"
      ],
      "execution_count": null,
      "outputs": [
        {
          "output_type": "display_data",
          "data": {
            "image/png": "[encoded data removed]",
            "text/plain": [
              "<Figure size 432x288 with 1 Axes>"
            ]
          },
          "metadata": {
            "tags": [],
            "needs_background": "light"
          }
        }
      ]
    },
    {
      "cell_type": "code",
      "metadata": {
        "colab": {
          "base_uri": "https://localhost:8080/",
          "height": 265
        },
        "id": "3M06qGGFWNoq",
        "outputId": "d0844a58-98a8-48d7-8d01-76bd0a837ace"
      },
      "source": [
        "test_num=150\n",
        "\n",
        "element=forecast[test_num]\n",
        "element= np. reshape(element, (element.shape[0], 1))\n",
        "forecast_copies = np.repeat(element, 3, axis=1)\n",
        "y_pred_future = scaler.inverse_transform(forecast_copies)\n",
        "y_pred=[] \n",
        "for arr in y_pred_future:\n",
        "  y_pred.append(arr[0])\n",
        "y_pred= np.array(y_pred)\n",
        "\n",
        "\n",
        "plt.plot(x_axis[0:20],testX_unscaled[test_num])#Traintemp and testtemp store actual values, not transformed. \n",
        "plt.plot(x_axis[20:110],testY_unscaled[test_num])\n",
        "plt.plot(x_axis[20:110],y_pred)\n",
        "plt.legend([\"Original\",\"original y\",\"Predicted\"])\n",
        "plt.show()"
      ],
      "execution_count": null,
      "outputs": [
        {
          "output_type": "display_data",
          "data": {
            "image/png": "[encoded data removed]",
            "text/plain": [
              "<Figure size 432x288 with 1 Axes>"
            ]
          },
          "metadata": {
            "tags": [],
            "needs_background": "light"
          }
        }
      ]
    },
    {
      "cell_type": "code",
      "metadata": {
        "colab": {
          "base_uri": "https://localhost:8080/",
          "height": 265
        },
        "id": "-9KxOsUsWnWO",
        "outputId": "8bd6e4b2-e23b-43e6-a306-7215928e61f6"
      },
      "source": [
        "test_num=232\n",
        "\n",
        "element=forecast[test_num]\n",
        "element= np. reshape(element, (element.shape[0], 1))\n",
        "forecast_copies = np.repeat(element, 3, axis=1)\n",
        "y_pred_future = scaler.inverse_transform(forecast_copies)\n",
        "y_pred=[] \n",
        "for arr in y_pred_future:\n",
        "  y_pred.append(arr[0])\n",
        "y_pred= np.array(y_pred)\n",
        "\n",
        "\n",
        "plt.plot(x_axis[0:20],testX_unscaled[test_num])#Traintemp and testtemp store actual values, not transformed. \n",
        "plt.plot(x_axis[20:110],testY_unscaled[test_num])\n",
        "plt.plot(x_axis[20:110],y_pred)\n",
        "plt.legend([\"Original\",\"original y\",\"Predicted\"])\n",
        "plt.show()"
      ],
      "execution_count": null,
      "outputs": [
        {
          "output_type": "display_data",
          "data": {
            "image/png": "[encoded data removed]",
            "text/plain": [
              "<Figure size 432x288 with 1 Axes>"
            ]
          },
          "metadata": {
            "tags": [],
            "needs_background": "light"
          }
        }
      ]
    },
    {
      "cell_type": "code",
      "metadata": {
        "colab": {
          "base_uri": "https://localhost:8080/",
          "height": 265
        },
        "id": "Vz99UIifXszJ",
        "outputId": "ead7eb0f-a172-4c3e-a67c-59b9501be59c"
      },
      "source": [
        "test_num=69\n",
        "\n",
        "element=forecast[test_num]\n",
        "element= np. reshape(element, (element.shape[0], 1))\n",
        "forecast_copies = np.repeat(element, 3, axis=1)\n",
        "y_pred_future = scaler.inverse_transform(forecast_copies)\n",
        "y_pred=[] \n",
        "for arr in y_pred_future:\n",
        "  y_pred.append(arr[0])\n",
        "y_pred= np.array(y_pred)\n",
        "\n",
        "\n",
        "plt.plot(x_axis[0:20],testX_unscaled[test_num])#Traintemp and testtemp store actual values, not transformed. \n",
        "plt.plot(x_axis[20:110],testY_unscaled[test_num])\n",
        "plt.plot(x_axis[20:110],y_pred)\n",
        "plt.legend([\"Original\",\"original y\",\"Predicted\"])\n",
        "plt.show()"
      ],
      "execution_count": null,
      "outputs": [
        {
          "output_type": "display_data",
          "data": {
            "image/png": "[encoded data removed]",
            "text/plain": [
              "<Figure size 432x288 with 1 Axes>"
            ]
          },
          "metadata": {
            "tags": [],
            "needs_background": "light"
          }
        }
      ]
    },
    {
      "cell_type": "code",
      "metadata": {
        "colab": {
          "base_uri": "https://localhost:8080/",
          "height": 265
        },
        "id": "V9OTvx5OX7Vb",
        "outputId": "e6c827c2-707f-4b8b-f02e-d3db2a3b9a84"
      },
      "source": [
        "test_num=43\n",
        "\n",
        "element=forecast[test_num]\n",
        "element= np. reshape(element, (element.shape[0], 1))\n",
        "forecast_copies = np.repeat(element, 3, axis=1)\n",
        "y_pred_future = scaler.inverse_transform(forecast_copies)\n",
        "y_pred=[] \n",
        "for arr in y_pred_future:\n",
        "  y_pred.append(arr[0])\n",
        "y_pred= np.array(y_pred)\n",
        "\n",
        "\n",
        "plt.plot(x_axis[0:20],testX_unscaled[test_num])#Traintemp and testtemp store actual values, not transformed. \n",
        "plt.plot(x_axis[20:110],testY_unscaled[test_num])\n",
        "plt.plot(x_axis[20:110],y_pred)\n",
        "plt.legend([\"Original\",\"original y\",\"Predicted\"])\n",
        "plt.show()"
      ],
      "execution_count": null,
      "outputs": [
        {
          "output_type": "display_data",
          "data": {
            "image/png": "[encoded data removed]",
            "text/plain": [
              "<Figure size 432x288 with 1 Axes>"
            ]
          },
          "metadata": {
            "tags": [],
            "needs_background": "light"
          }
        }
      ]
    }
  ]
}