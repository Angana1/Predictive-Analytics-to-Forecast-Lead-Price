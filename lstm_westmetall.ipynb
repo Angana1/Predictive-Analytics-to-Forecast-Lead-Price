{
  "nbformat": 4,
  "nbformat_minor": 0,
  "metadata": {
    "colab": {
      "name": "basic lstm westmetall.ipynb",
      "provenance": [],
      "collapsed_sections": [],
      "authorship_tag": "ABX9TyMdETDmRcc8PpU76RCiMNFR"
    },
    "kernelspec": {
      "name": "python3",
      "display_name": "Python 3"
    },
    "language_info": {
      "name": "python"
    }
  },
  "cells": [
    {
      "cell_type": "code",
      "metadata": {
        "id": "Di7N9ESBFJXz"
      },
      "source": [
        "import pandas as pd"
      ],
      "execution_count": 1,
      "outputs": []
    },
    {
      "cell_type": "code",
      "metadata": {
        "id": "Xynd_48dJUvk"
      },
      "source": [
        "df=pd.read_html('https://www.westmetall.com/en/markdaten.php?action=table&field=LME_Pb_cash')"
      ],
      "execution_count": 2,
      "outputs": []
    },
    {
      "cell_type": "code",
      "metadata": {
        "colab": {
          "base_uri": "https://localhost:8080/"
        },
        "id": "cpUhTlfnL-tY",
        "outputId": "8df87054-63a9-4d46-d2f3-879f18301bec"
      },
      "source": [
        "print(df)"
      ],
      "execution_count": 3,
      "outputs": [
        {
          "output_type": "stream",
          "text": [
            "[                date LME Lead Cash-Settlement LME Lead 3-month LME Lead stock\n",
            "0     28. April 2021                  2076.00          2097.50         111325\n",
            "1     27. April 2021                  2051.00          2073.50         111200\n",
            "2     26. April 2021                  2054.00          2076.00         112675\n",
            "3     23. April 2021                  2021.00          2042.00         112975\n",
            "4     22. April 2021                  2017.50          2040.00         113350\n",
            "..               ...                      ...              ...            ...\n",
            "79  08. January 2021                  2000.00          2019.50         131975\n",
            "80  07. January 2021                  2026.50          2042.00         132125\n",
            "81  06. January 2021                  2068.50          2081.50         132550\n",
            "82  05. January 2021                  2043.50          2059.00         132750\n",
            "83  04. January 2021                  2023.50          2042.00         133175\n",
            "\n",
            "[84 rows x 4 columns],                   date LME Lead Cash-Settlement LME Lead 3-month LME Lead stock\n",
            "0    31. December 2020                  1972.00          1982.50         133475\n",
            "1    30. December 2020                  1966.00          1981.50         133650\n",
            "2    29. December 2020                  1937.00          1959.00         133850\n",
            "3    24. December 2020                  1956.50          1976.00         133850\n",
            "4    23. December 2020                  1955.00          1972.50         133850\n",
            "..                 ...                      ...              ...            ...\n",
            "260   08. January 2020                  1908.50          1925.50          66525\n",
            "261   07. January 2020                  1905.00          1923.00          66525\n",
            "262   06. January 2020                  1900.00          1910.00          66525\n",
            "263   03. January 2020                  1889.50          1903.00          66100\n",
            "264   02. January 2020                  1904.00          1915.00          66200\n",
            "\n",
            "[265 rows x 4 columns],                   date LME Lead Cash-Settlement LME Lead 3-month LME Lead stock\n",
            "0    31. December 2019                  1923.50          1937.00          66325\n",
            "1    30. December 2019                  1932.00          1942.00          66575\n",
            "2    27. December 2019                  1910.00          1925.00          66575\n",
            "3    24. December 2019                  1905.00          1923.00          66725\n",
            "4    23. December 2019                  1905.00          1918.00          66975\n",
            "..                 ...                      ...              ...            ...\n",
            "259   08. January 2019                  1940.00          1952.00         107025\n",
            "260   07. January 2019                  1934.50          1950.00         107050\n",
            "261   04. January 2019                  1936.00          1950.00         107300\n",
            "262   03. January 2019                  1943.00          1952.00         107375\n",
            "263   02. January 2019                  1975.00          1987.00         107375\n",
            "\n",
            "[264 rows x 4 columns],                   date LME Lead Cash-Settlement LME Lead 3-month LME Lead stock\n",
            "0    31. December 2018                  2009.00          2018.00         107450\n",
            "1    28. December 2018                  2033.00          2039.00         107475\n",
            "2    27. December 2018                  1996.50          1992.00         107475\n",
            "3    24. December 2018                  1976.50          1982.00         107575\n",
            "4    21. December 2018                  1958.00          1963.00         107625\n",
            "..                 ...                      ...              ...            ...\n",
            "259   08. January 2018                  2566.00          2558.00         144000\n",
            "260   05. January 2018                  2590.00          2586.00         141925\n",
            "261   04. January 2018                  2573.00          2573.00         142075\n",
            "262   03. January 2018                  2580.00          2566.50         142075\n",
            "263   02. January 2018                  2544.00          2538.00         142225\n",
            "\n",
            "[264 rows x 4 columns],                   date LME Lead Cash-Settlement LME Lead 3-month LME Lead stock\n",
            "0    29. December 2017                  2495.00          2502.00         142250\n",
            "1    28. December 2017                  2511.50          2523.00         142250\n",
            "2    27. December 2017                  2494.00          2500.00         141750\n",
            "3    22. December 2017                  2473.00          2483.00         141950\n",
            "4    21. December 2017                  2491.00          2497.50         141875\n",
            "..                 ...                      ...              ...            ...\n",
            "257   09. January 2017                  2060.00          2080.00         193300\n",
            "258   06. January 2017                  2041.00          2060.00         193700\n",
            "259   05. January 2017                  2056.00          2077.00         193875\n",
            "260   04. January 2017                  2026.50          2050.00         193900\n",
            "261   03. January 2017                  2007.00          2022.00         194900\n",
            "\n",
            "[262 rows x 4 columns],                   date LME Lead Cash-Settlement LME Lead 3-month LME Lead stock\n",
            "0    30. December 2016                  1985.00          1996.00         194950\n",
            "1    29. December 2016                  1990.50          2011.00         195750\n",
            "2    28. December 2016                  2070.00          2075.00         195800\n",
            "3    23. December 2016                  2087.00          2110.00         196000\n",
            "4    22. December 2016                  2092.00          2115.50         195950\n",
            "..                 ...                      ...              ...            ...\n",
            "259   08. January 2016                  1647.00          1646.00         191175\n",
            "260   07. January 2016                  1613.00          1618.00         191275\n",
            "261   06. January 2016                  1695.00          1699.00         190900\n",
            "262   05. January 2016                  1728.50          1740.00         190900\n",
            "263   04. January 2016                  1762.00          1760.00         191650\n",
            "\n",
            "[264 rows x 4 columns],                   date LME Lead Cash-Settlement LME Lead 3-month LME Lead stock\n",
            "0    31. December 2015                  1802.00          1797.00         191650\n",
            "1    30. December 2015                  1788.00          1778.00         191675\n",
            "2    29. December 2015                  1763.00          1754.00         191675\n",
            "3    24. December 2015                  1747.00          1732.00         191675\n",
            "4    23. December 2015                  1735.00          1726.00         191800\n",
            "..                 ...                      ...              ...            ...\n",
            "259   08. January 2015                  1853.00          1867.00         221975\n",
            "260   07. January 2015                  1820.00          1840.00         221975\n",
            "261   06. January 2015                  1831.00          1846.00         221975\n",
            "262   05. January 2015                  1833.00          1846.50         221975\n",
            "263   02. January 2015                  1845.00          1860.00         221975\n",
            "\n",
            "[264 rows x 4 columns],                   date LME Lead Cash-Settlement LME Lead 3-month LME Lead stock\n",
            "0    31. December 2014                  1853.00          1866.00         221975\n",
            "1    30. December 2014                  1814.00          1824.00         222000\n",
            "2    29. December 2014                  1822.00          1840.00         222025\n",
            "3    24. December 2014                  1847.50          1855.00         221025\n",
            "4    23. December 2014                  1862.50          1875.00         220725\n",
            "..                 ...                      ...              ...            ...\n",
            "259   08. January 2014                  2127.00          2156.00         214000\n",
            "260   07. January 2014                  2157.00          2181.00         214500\n",
            "261   06. January 2014                  2136.00          2163.00         215000\n",
            "262   03. January 2014                  2168.00          2195.00         215200\n",
            "263   02. January 2014                  2212.00          2242.00         213950\n",
            "\n",
            "[264 rows x 4 columns],                   date LME Lead Cash-Settlement LME Lead 3-month LME Lead stock\n",
            "0    31. December 2013                  2206.00          2232.50         213950\n",
            "1    30. December 2013                  2240.00          2264.00         214950\n",
            "2    27. December 2013                  2259.00          2279.00         214950\n",
            "3    24. December 2013                  2223.50          2247.00         215450\n",
            "4    23. December 2013                  2195.50          2219.00         216450\n",
            "..                 ...                      ...              ...            ...\n",
            "259   08. January 2013                  2297.00          2308.50         308350\n",
            "260   07. January 2013                  2289.00          2295.50         309675\n",
            "261   04. January 2013                  2343.00          2355.00         312625\n",
            "262   03. January 2013                  2412.50          2419.50         314550\n",
            "263   02. January 2013                  2385.00          2390.50         317700\n",
            "\n",
            "[264 rows x 4 columns],                   date LME Lead Cash-Settlement LME Lead 3-month LME Lead stock\n",
            "0    31. December 2012                  2340.00          2342.00         320325\n",
            "1    28. December 2012                  2318.00          2324.00         323400\n",
            "2    27. December 2012                  2311.00          2326.00         327650\n",
            "3    24. December 2012                  2299.00          2319.00         329150\n",
            "4    21. December 2012                  2276.00          2294.00         330550\n",
            "..                 ...                      ...              ...            ...\n",
            "258   09. January 2012                  1942.50          1963.50         350875\n",
            "259   06. January 2012                  1975.50          1995.50         349775\n",
            "260   05. January 2012                  2015.50          2038.00         351850\n",
            "261   04. January 2012                  2043.00          2067.00         353075\n",
            "262   03. January 2012                  1994.50          2016.00         351725\n",
            "\n",
            "[263 rows x 4 columns],                   date LME Lead Cash-Settlement LME Lead 3-month LME Lead stock\n",
            "0    30. December 2011                  1980.00          2003.00         353075\n",
            "1    29. December 2011                  1945.00          1964.00         353250\n",
            "2    28. December 2011                  1950.50          1977.00         356175\n",
            "3    23. December 2011                  1986.00          2010.00         356225\n",
            "4    22. December 2011                  1955.50          1976.00         357775\n",
            "..                 ...                      ...              ...            ...\n",
            "257   10. January 2011                  2642.00          2616.00         210375\n",
            "258   07. January 2011                  2660.00          2635.00         209700\n",
            "259   06. January 2011                  2703.00          2676.50         209850\n",
            "260   05. January 2011                  2569.00          2543.00         209900\n",
            "261   04. January 2011                  2593.00          2572.00         208550\n",
            "\n",
            "[262 rows x 4 columns],                   date LME Lead Cash-Settlement LME Lead 3-month LME Lead stock\n",
            "0    31. December 2010                  2587.00          2563.50         208275\n",
            "1    30. December 2010                  2559.00          2542.50         206850\n",
            "2    29. December 2010                  2535.00          2530.00         207700\n",
            "3    24. December 2010                  2440.00          2436.00         207850\n",
            "4    23. December 2010                  2417.00          2412.50         207875\n",
            "..                 ...                      ...              ...            ...\n",
            "259   08. January 2010                  2524.00          2543.00         149375\n",
            "260   07. January 2010                  2591.00          2620.00         149150\n",
            "261   06. January 2010                  2582.00          2615.00         147850\n",
            "262   05. January 2010                  2440.00          2480.00         147175\n",
            "263   04. January 2010                  2451.50          2485.00         146775\n",
            "\n",
            "[264 rows x 4 columns],                   date LME Lead Cash-Settlement LME Lead 3-month LME Lead stock\n",
            "0    31. December 2009                  2395.00          2416.00         146500\n",
            "1    30. December 2009                  2397.00          2425.50         146075\n",
            "2    29. December 2009                  2365.50          2395.50         145225\n",
            "3    24. December 2009                  2327.00          2360.00         144275\n",
            "4    23. December 2009                  2300.00          2328.00         144175\n",
            "..                 ...                      ...              ...            ...\n",
            "259   08. January 2009                  1145.50          1145.50          44600\n",
            "260   07. January 2009                  1177.00          1174.00          44450\n",
            "261   06. January 2009                  1165.00          1151.00          44775\n",
            "262   05. January 2009                  1079.50          1070.00          45150\n",
            "263   02. January 2009                  1040.50          1031.00          45150\n",
            "\n",
            "[264 rows x 4 columns],                   date LME Lead Cash-Settlement LME Lead 3-month LME Lead stock\n",
            "0    31. December 2008                   949.00           925.00          45150\n",
            "1    30. December 2008                   945.00           925.00          45350\n",
            "2    29. December 2008                   900.50           875.00          44975\n",
            "3    24. December 2008                   900.00           876.00          44575\n",
            "4    23. December 2008                   907.00           900.50          44525\n",
            "..                 ...                      ...              ...            ...\n",
            "179   08. January 2008                  2580.50          2600.00          49200\n",
            "180   07. January 2008                  2601.00          2611.00          48900\n",
            "181   04. January 2008                  2665.00          2670.00          46850\n",
            "182   03. January 2008                  2593.00          2601.00          46750\n",
            "183   02. January 2008                  2580.00          2580.00          45350\n",
            "\n",
            "[184 rows x 4 columns]]\n"
          ],
          "name": "stdout"
        }
      ]
    },
    {
      "cell_type": "code",
      "metadata": {
        "colab": {
          "base_uri": "https://localhost:8080/"
        },
        "id": "POINaaU1Nkw_",
        "outputId": "c36f11d2-0858-4c8a-bbc7-1ea76ff95212"
      },
      "source": [
        "print(len(df))\n",
        "#Thus, there are 14 tables which have been found - df[0]...df[14]"
      ],
      "execution_count": 4,
      "outputs": [
        {
          "output_type": "stream",
          "text": [
            "14\n"
          ],
          "name": "stdout"
        }
      ]
    },
    {
      "cell_type": "code",
      "metadata": {
        "colab": {
          "base_uri": "https://localhost:8080/"
        },
        "id": "BHH1A4TUN4kc",
        "outputId": "4cd7b1a1-7d9b-4427-dff6-bd5cb3b63797"
      },
      "source": [
        "for i in range(14):\n",
        "  print(df[i].shape,'\\n')"
      ],
      "execution_count": 5,
      "outputs": [
        {
          "output_type": "stream",
          "text": [
            "(84, 4) \n",
            "\n",
            "(265, 4) \n",
            "\n",
            "(264, 4) \n",
            "\n",
            "(264, 4) \n",
            "\n",
            "(262, 4) \n",
            "\n",
            "(264, 4) \n",
            "\n",
            "(264, 4) \n",
            "\n",
            "(264, 4) \n",
            "\n",
            "(264, 4) \n",
            "\n",
            "(263, 4) \n",
            "\n",
            "(262, 4) \n",
            "\n",
            "(264, 4) \n",
            "\n",
            "(264, 4) \n",
            "\n",
            "(184, 4) \n",
            "\n"
          ],
          "name": "stdout"
        }
      ]
    },
    {
      "cell_type": "code",
      "metadata": {
        "colab": {
          "base_uri": "https://localhost:8080/"
        },
        "id": "L8sxf4JnIO1x",
        "outputId": "75d41cd2-e22f-4ea3-b141-c5d1bec2c01c"
      },
      "source": [
        "#we will create 'data' dataframe where all the dataframes have been appended\n",
        "data=pd.DataFrame()\n",
        "for i in range(14):\n",
        "  data=data.append(df[i], ignore_index=True)\n",
        "print(data)\n",
        "print(data.shape)"
      ],
      "execution_count": 6,
      "outputs": [
        {
          "output_type": "stream",
          "text": [
            "                  date LME Lead Cash-Settlement LME Lead 3-month LME Lead stock\n",
            "0       28. April 2021                  2076.00          2097.50         111325\n",
            "1       27. April 2021                  2051.00          2073.50         111200\n",
            "2       26. April 2021                  2054.00          2076.00         112675\n",
            "3       23. April 2021                  2021.00          2042.00         112975\n",
            "4       22. April 2021                  2017.50          2040.00         113350\n",
            "...                ...                      ...              ...            ...\n",
            "3427  08. January 2008                  2580.50          2600.00          49200\n",
            "3428  07. January 2008                  2601.00          2611.00          48900\n",
            "3429  04. January 2008                  2665.00          2670.00          46850\n",
            "3430  03. January 2008                  2593.00          2601.00          46750\n",
            "3431  02. January 2008                  2580.00          2580.00          45350\n",
            "\n",
            "[3432 rows x 4 columns]\n",
            "(3432, 4)\n"
          ],
          "name": "stdout"
        }
      ]
    },
    {
      "cell_type": "code",
      "metadata": {
        "colab": {
          "base_uri": "https://localhost:8080/"
        },
        "id": "bokwi29oKBzu",
        "outputId": "484ec7f6-f9bb-4ad4-add6-aeb6ec79fd85"
      },
      "source": [
        "df1=data.reset_index()['LME Lead Cash-Settlement']\n",
        "print(df1)\n",
        "print(df1.shape)"
      ],
      "execution_count": 7,
      "outputs": [
        {
          "output_type": "stream",
          "text": [
            "0       2076.00\n",
            "1       2051.00\n",
            "2       2054.00\n",
            "3       2021.00\n",
            "4       2017.50\n",
            "         ...   \n",
            "3427    2580.50\n",
            "3428    2601.00\n",
            "3429    2665.00\n",
            "3430    2593.00\n",
            "3431    2580.00\n",
            "Name: LME Lead Cash-Settlement, Length: 3432, dtype: object\n",
            "(3432,)\n"
          ],
          "name": "stdout"
        }
      ]
    },
    {
      "cell_type": "code",
      "metadata": {
        "id": "ML2DV4A6WOT1"
      },
      "source": [
        "import numpy as np\n",
        "from sklearn.preprocessing import MinMaxScaler\n"
      ],
      "execution_count": 8,
      "outputs": []
    },
    {
      "cell_type": "code",
      "metadata": {
        "id": "qPlZPIMVS36K"
      },
      "source": [
        "#df1.to_csv('df1.csv') some rows show 'LME Lead Cash Settlement'"
      ],
      "execution_count": 9,
      "outputs": []
    },
    {
      "cell_type": "code",
      "metadata": {
        "colab": {
          "base_uri": "https://localhost:8080/"
        },
        "id": "q116_tLoUHao",
        "outputId": "4e24e2a8-709f-44ab-f5a8-ca7aa3c36186"
      },
      "source": [
        "df1 = df1.apply (pd.to_numeric, errors='coerce')\n",
        "df1 = df1.apply (pd.to_numeric, errors='coerce')\n",
        "df1 = df1.dropna()\n",
        "#df1.to_csv('df1.csv') Now df1 stores only numeric values\n",
        "print(df1)\n",
        "print(type(df1))\n",
        "print(df1.shape)"
      ],
      "execution_count": 10,
      "outputs": [
        {
          "output_type": "stream",
          "text": [
            "0       2076.0\n",
            "1       2051.0\n",
            "2       2054.0\n",
            "3       2021.0\n",
            "4       2017.5\n",
            "         ...  \n",
            "3427    2580.5\n",
            "3428    2601.0\n",
            "3429    2665.0\n",
            "3430    2593.0\n",
            "3431    2580.0\n",
            "Name: LME Lead Cash-Settlement, Length: 3289, dtype: float64\n",
            "<class 'pandas.core.series.Series'>\n",
            "(3289,)\n"
          ],
          "name": "stdout"
        }
      ]
    },
    {
      "cell_type": "code",
      "metadata": {
        "colab": {
          "base_uri": "https://localhost:8080/",
          "height": 283
        },
        "id": "k2ftEUztKhQV",
        "outputId": "d22e7b3d-462b-40fe-caf8-69c3da0b8d5a"
      },
      "source": [
        "from matplotlib import pyplot as plt\n",
        "plt.plot(df1)\n",
        "plt.figure(figsize=(100,100))\n",
        "plt.show()\n"
      ],
      "execution_count": 11,
      "outputs": [
        {
          "output_type": "display_data",
          "data": {
            "image/png": "[encoded data removed]",
            "text/plain": [
              "<Figure size 432x288 with 1 Axes>"
            ]
          },
          "metadata": {
            "tags": [],
            "needs_background": "light"
          }
        },
        {
          "output_type": "display_data",
          "data": {
            "text/plain": [
              "<Figure size 7200x7200 with 0 Axes>"
            ]
          },
          "metadata": {
            "tags": []
          }
        }
      ]
    },
    {
      "cell_type": "code",
      "metadata": {
        "colab": {
          "base_uri": "https://localhost:8080/"
        },
        "id": "_19MENF6LJKw",
        "outputId": "dbd2d187-ec48-4559-eace-3090c807932d"
      },
      "source": [
        "df1.shape"
      ],
      "execution_count": 12,
      "outputs": [
        {
          "output_type": "execute_result",
          "data": {
            "text/plain": [
              "(3289,)"
            ]
          },
          "metadata": {
            "tags": []
          },
          "execution_count": 12
        }
      ]
    },
    {
      "cell_type": "code",
      "metadata": {
        "colab": {
          "base_uri": "https://localhost:8080/"
        },
        "id": "BV-iFuwTVLdK",
        "outputId": "5fcc4581-5cab-40c9-f091-31865d4dbfa0"
      },
      "source": [
        "scaler=MinMaxScaler(feature_range=(0,1))\n",
        "df1=scaler.fit_transform(np.array(df1).reshape(-1,1))\n",
        "print(df1) #We have feature scaled using Normalisation. So, all values are now between 0 and 1."
      ],
      "execution_count": 13,
      "outputs": [
        {
          "output_type": "stream",
          "text": [
            "[[0.5038972 ]\n",
            " [0.49336423]\n",
            " [0.49462819]\n",
            " ...\n",
            " [0.75205393]\n",
            " [0.72171898]\n",
            " [0.71624184]]\n"
          ],
          "name": "stdout"
        }
      ]
    },
    {
      "cell_type": "code",
      "metadata": {
        "colab": {
          "base_uri": "https://localhost:8080/"
        },
        "id": "8dh7lIebFZb5",
        "outputId": "3c38954e-bd01-40ec-baab-911439b0f3c8"
      },
      "source": [
        "print(df1)"
      ],
      "execution_count": 14,
      "outputs": [
        {
          "output_type": "stream",
          "text": [
            "[[0.5038972 ]\n",
            " [0.49336423]\n",
            " [0.49462819]\n",
            " ...\n",
            " [0.75205393]\n",
            " [0.72171898]\n",
            " [0.71624184]]\n"
          ],
          "name": "stdout"
        }
      ]
    },
    {
      "cell_type": "code",
      "metadata": {
        "colab": {
          "base_uri": "https://localhost:8080/"
        },
        "id": "JqflDEdeVVfh",
        "outputId": "58ce880c-f887-4faf-cb00-3b88d7376b28"
      },
      "source": [
        "#We split into train and test data. Lookback=100, Lookfront=66\n",
        "training_size=int(len(df1)*0.90)\n",
        "test_size=len(df1)-training_size\n",
        "train_data,test_data=df1[0:training_size,:],df1[training_size:len(df1),:]\n",
        "training_size,test_size"
      ],
      "execution_count": 15,
      "outputs": [
        {
          "output_type": "execute_result",
          "data": {
            "text/plain": [
              "(2960, 329)"
            ]
          },
          "metadata": {
            "tags": []
          },
          "execution_count": 15
        }
      ]
    },
    {
      "cell_type": "code",
      "metadata": {
        "colab": {
          "base_uri": "https://localhost:8080/"
        },
        "id": "vqBoFSSfV8xP",
        "outputId": "47f0388b-f157-4438-87e0-e27e722bfeb2"
      },
      "source": [
        "type(test_data)\n",
        "type(train_data)"
      ],
      "execution_count": 16,
      "outputs": [
        {
          "output_type": "execute_result",
          "data": {
            "text/plain": [
              "numpy.ndarray"
            ]
          },
          "metadata": {
            "tags": []
          },
          "execution_count": 16
        }
      ]
    },
    {
      "cell_type": "code",
      "metadata": {
        "colab": {
          "base_uri": "https://localhost:8080/"
        },
        "id": "qXp70ojdWD60",
        "outputId": "14ac64c7-49b1-4a02-e9bd-56555fca22f7"
      },
      "source": [
        "print(train_data)\n",
        "print(train_data.shape)"
      ],
      "execution_count": 17,
      "outputs": [
        {
          "output_type": "stream",
          "text": [
            "[[0.5038972 ]\n",
            " [0.49336423]\n",
            " [0.49462819]\n",
            " ...\n",
            " [0.4240573 ]\n",
            " [0.37708026]\n",
            " [0.3981462 ]]\n",
            "(2960, 1)\n"
          ],
          "name": "stdout"
        }
      ]
    },
    {
      "cell_type": "code",
      "metadata": {
        "colab": {
          "base_uri": "https://localhost:8080/"
        },
        "id": "jVdyNWs5MECJ",
        "outputId": "430e4d0e-b78f-4667-c5d8-d29164f25de1"
      },
      "source": [
        "print(test_data)\n",
        "print(test_data.shape)"
      ],
      "execution_count": 18,
      "outputs": [
        {
          "output_type": "stream",
          "text": [
            "[[4.25953234e-01]\n",
            " [3.94143670e-01]\n",
            " [4.28481146e-01]\n",
            " [4.42595323e-01]\n",
            " [4.27217190e-01]\n",
            " [4.50389720e-01]\n",
            " [4.05519275e-01]\n",
            " [3.76869602e-01]\n",
            " [3.59174215e-01]\n",
            " [3.76658942e-01]\n",
            " [3.82978723e-01]\n",
            " [3.61912787e-01]\n",
            " [3.45060038e-01]\n",
            " [3.27785970e-01]\n",
            " [3.34737729e-01]\n",
            " [3.45060038e-01]\n",
            " [3.05034759e-01]\n",
            " [3.03560143e-01]\n",
            " [3.07983990e-01]\n",
            " [2.90288603e-01]\n",
            " [2.89445966e-01]\n",
            " [3.00821572e-01]\n",
            " [3.01032231e-01]\n",
            " [3.13882452e-01]\n",
            " [3.51590478e-01]\n",
            " [3.25679376e-01]\n",
            " [3.41478829e-01]\n",
            " [3.48851906e-01]\n",
            " [3.43374763e-01]\n",
            " [3.58120918e-01]\n",
            " [3.49273225e-01]\n",
            " [3.53065094e-01]\n",
            " [3.49694544e-01]\n",
            " [3.22308827e-01]\n",
            " [3.17253002e-01]\n",
            " [3.03349484e-01]\n",
            " [3.45481357e-01]\n",
            " [3.19780914e-01]\n",
            " [3.07562671e-01]\n",
            " [3.41268169e-01]\n",
            " [3.53907731e-01]\n",
            " [3.86138614e-01]\n",
            " [3.82136086e-01]\n",
            " [3.64230040e-01]\n",
            " [3.41268169e-01]\n",
            " [3.10090584e-01]\n",
            " [3.26311355e-01]\n",
            " [2.88813988e-01]\n",
            " [3.08615968e-01]\n",
            " [3.14935749e-01]\n",
            " [3.20202233e-01]\n",
            " [2.73857173e-01]\n",
            " [2.34674531e-01]\n",
            " [2.30672003e-01]\n",
            " [2.22877607e-01]\n",
            " [2.28565410e-01]\n",
            " [2.27512113e-01]\n",
            " [2.34253213e-01]\n",
            " [2.72803876e-01]\n",
            " [2.44364862e-01]\n",
            " [2.28565410e-01]\n",
            " [2.16979145e-01]\n",
            " [2.40572993e-01]\n",
            " [2.44786181e-01]\n",
            " [2.36149147e-01]\n",
            " [2.50052665e-01]\n",
            " [2.53212555e-01]\n",
            " [2.22456288e-01]\n",
            " [2.30250685e-01]\n",
            " [1.91489362e-01]\n",
            " [2.00126396e-01]\n",
            " [1.84537603e-01]\n",
            " [1.80745734e-01]\n",
            " [2.08552770e-01]\n",
            " [2.23509585e-01]\n",
            " [2.44996840e-01]\n",
            " [2.37202444e-01]\n",
            " [2.35095850e-01]\n",
            " [2.65009480e-01]\n",
            " [2.71750579e-01]\n",
            " [2.71750579e-01]\n",
            " [2.62060249e-01]\n",
            " [2.29618707e-01]\n",
            " [1.99073099e-01]\n",
            " [1.78007162e-01]\n",
            " [1.83273647e-01]\n",
            " [1.82009690e-01]\n",
            " [1.69791447e-01]\n",
            " [1.59679798e-01]\n",
            " [1.52517379e-01]\n",
            " [1.65156941e-01]\n",
            " [1.49568148e-01]\n",
            " [1.57994523e-01]\n",
            " [1.81377712e-01]\n",
            " [1.56730567e-01]\n",
            " [1.56309248e-01]\n",
            " [1.94227933e-01]\n",
            " [1.77796503e-01]\n",
            " [1.91700021e-01]\n",
            " [1.85590900e-01]\n",
            " [1.91068043e-01]\n",
            " [1.70634085e-01]\n",
            " [1.62839688e-01]\n",
            " [1.47672214e-01]\n",
            " [1.68527491e-01]\n",
            " [1.55887929e-01]\n",
            " [1.41563092e-01]\n",
            " [1.30608806e-01]\n",
            " [1.18179903e-01]\n",
            " [9.43753950e-02]\n",
            " [6.82536339e-02]\n",
            " [6.06698968e-02]\n",
            " [6.10912155e-02]\n",
            " [7.16241837e-02]\n",
            " [5.39287971e-02]\n",
            " [4.69770381e-02]\n",
            " [6.15125342e-02]\n",
            " [5.70886876e-02]\n",
            " [8.63703392e-02]\n",
            " [7.58373710e-02]\n",
            " [9.37434169e-02]\n",
            " [1.07646935e-01]\n",
            " [1.11649463e-01]\n",
            " [1.07436276e-01]\n",
            " [1.11649463e-01]\n",
            " [1.14598694e-01]\n",
            " [1.26395618e-01]\n",
            " [1.20075837e-01]\n",
            " [1.20075837e-01]\n",
            " [1.32715399e-01]\n",
            " [9.85885823e-02]\n",
            " [9.92205604e-02]\n",
            " [1.14598694e-01]\n",
            " [1.11649463e-01]\n",
            " [1.17969244e-01]\n",
            " [1.13756056e-01]\n",
            " [1.15020013e-01]\n",
            " [8.21571519e-02]\n",
            " [9.50073731e-02]\n",
            " [1.01327154e-01]\n",
            " [1.11649463e-01]\n",
            " [1.05751001e-01]\n",
            " [1.18811881e-01]\n",
            " [1.05329682e-01]\n",
            " [1.07857594e-01]\n",
            " [8.42637455e-02]\n",
            " [1.13756056e-01]\n",
            " [1.28502212e-01]\n",
            " [1.11860122e-01]\n",
            " [1.25131662e-01]\n",
            " [1.20075837e-01]\n",
            " [8.40530862e-02]\n",
            " [6.76216558e-02]\n",
            " [2.90709922e-02]\n",
            " [2.73857173e-02]\n",
            " [8.63703392e-03]\n",
            " [8.42637455e-03]\n",
            " [1.13756056e-02]\n",
            " [0.00000000e+00]\n",
            " [8.42637455e-04]\n",
            " [2.75963767e-02]\n",
            " [3.66547293e-02]\n",
            " [4.21318728e-02]\n",
            " [5.72993470e-02]\n",
            " [4.29745102e-02]\n",
            " [6.36191279e-02]\n",
            " [3.81293448e-02]\n",
            " [3.70760480e-02]\n",
            " [2.35938487e-02]\n",
            " [1.47461555e-02]\n",
            " [5.05582473e-02]\n",
            " [5.18222035e-02]\n",
            " [7.58373710e-02]\n",
            " [8.55277017e-02]\n",
            " [8.42637455e-02]\n",
            " [8.67916579e-02]\n",
            " [1.24710343e-01]\n",
            " [1.28923531e-01]\n",
            " [1.30187487e-01]\n",
            " [1.41984411e-01]\n",
            " [1.22603750e-01]\n",
            " [1.51674742e-01]\n",
            " [1.53781336e-01]\n",
            " [1.59258479e-01]\n",
            " [1.97598483e-01]\n",
            " [1.77796503e-01]\n",
            " [1.58837160e-01]\n",
            " [1.70634085e-01]\n",
            " [2.23720244e-01]\n",
            " [2.38466400e-01]\n",
            " [2.38466400e-01]\n",
            " [2.48578049e-01]\n",
            " [2.51948599e-01]\n",
            " [2.70065304e-01]\n",
            " [2.42258268e-01]\n",
            " [2.48156731e-01]\n",
            " [2.69854645e-01]\n",
            " [2.74278492e-01]\n",
            " [2.38045081e-01]\n",
            " [1.37349905e-01]\n",
            " [1.09542869e-01]\n",
            " [1.13966716e-01]\n",
            " [1.51674742e-01]\n",
            " [1.92121340e-01]\n",
            " [2.22034969e-01]\n",
            " [1.87908153e-01]\n",
            " [2.35938487e-01]\n",
            " [2.66273436e-01]\n",
            " [3.09669265e-01]\n",
            " [2.68801348e-01]\n",
            " [2.54476511e-01]\n",
            " [3.05456078e-01]\n",
            " [3.05456078e-01]\n",
            " [3.24626080e-01]\n",
            " [3.09669265e-01]\n",
            " [3.37476301e-01]\n",
            " [3.62334106e-01]\n",
            " [3.90141142e-01]\n",
            " [3.88034548e-01]\n",
            " [4.02570044e-01]\n",
            " [4.63450600e-01]\n",
            " [4.49125764e-01]\n",
            " [4.72298294e-01]\n",
            " [4.38382136e-01]\n",
            " [4.38592795e-01]\n",
            " [4.01306088e-01]\n",
            " [3.89719823e-01]\n",
            " [3.93090373e-01]\n",
            " [3.80872130e-01]\n",
            " [3.89087845e-01]\n",
            " [4.23425321e-01]\n",
            " [3.90141142e-01]\n",
            " [3.82557405e-01]\n",
            " [3.89719823e-01]\n",
            " [4.08679166e-01]\n",
            " [3.90141142e-01]\n",
            " [4.61344007e-01]\n",
            " [4.38171477e-01]\n",
            " [4.19212134e-01]\n",
            " [4.51232357e-01]\n",
            " [4.54602907e-01]\n",
            " [5.18643354e-01]\n",
            " [4.36486202e-01]\n",
            " [4.10785759e-01]\n",
            " [4.21318728e-01]\n",
            " [4.27638509e-01]\n",
            " [3.95618285e-01]\n",
            " [3.79186855e-01]\n",
            " [3.55593006e-01]\n",
            " [3.43374763e-01]\n",
            " [3.77080261e-01]\n",
            " [3.48641247e-01]\n",
            " [4.26795871e-01]\n",
            " [4.55445545e-01]\n",
            " [4.73983569e-01]\n",
            " [5.22013904e-01]\n",
            " [5.18643354e-01]\n",
            " [4.78618075e-01]\n",
            " [5.09795660e-01]\n",
            " [5.39287971e-01]\n",
            " [5.68780282e-01]\n",
            " [5.73414788e-01]\n",
            " [5.75100063e-01]\n",
            " [5.48135665e-01]\n",
            " [5.32968190e-01]\n",
            " [5.49820940e-01]\n",
            " [5.28333684e-01]\n",
            " [5.39077312e-01]\n",
            " [4.86833790e-01]\n",
            " [4.49125764e-01]\n",
            " [4.47019170e-01]\n",
            " [4.28059827e-01]\n",
            " [4.58605435e-01]\n",
            " [4.49125764e-01]\n",
            " [4.74194228e-01]\n",
            " [4.30587740e-01]\n",
            " [3.48430588e-01]\n",
            " [3.25258058e-01]\n",
            " [2.88392669e-01]\n",
            " [2.80808932e-01]\n",
            " [3.12197177e-01]\n",
            " [3.53907731e-01]\n",
            " [3.71181799e-01]\n",
            " [3.60438171e-01]\n",
            " [3.85927954e-01]\n",
            " [3.87613229e-01]\n",
            " [3.76448283e-01]\n",
            " [3.88034548e-01]\n",
            " [3.96460923e-01]\n",
            " [4.17105540e-01]\n",
            " [3.90351801e-01]\n",
            " [4.23846640e-01]\n",
            " [3.88455867e-01]\n",
            " [1.00000000e+00]\n",
            " [9.39540763e-01]\n",
            " [9.01622077e-01]\n",
            " [9.12155045e-01]\n",
            " [9.23109332e-01]\n",
            " [9.01622077e-01]\n",
            " [9.06677902e-01]\n",
            " [8.98251527e-01]\n",
            " [8.42637455e-01]\n",
            " [8.03033495e-01]\n",
            " [8.08931957e-01]\n",
            " [7.96292395e-01]\n",
            " [8.36317674e-01]\n",
            " [8.27891300e-01]\n",
            " [7.84284811e-01]\n",
            " [7.84074152e-01]\n",
            " [7.79439646e-01]\n",
            " [7.18980409e-01]\n",
            " [7.45944807e-01]\n",
            " [7.16031178e-01]\n",
            " [6.99599747e-01]\n",
            " [6.74109964e-01]\n",
            " [6.88224142e-01]\n",
            " [7.03602275e-01]\n",
            " [7.28881399e-01]\n",
            " [7.28881399e-01]\n",
            " [7.58373710e-01]\n",
            " [7.41520961e-01]\n",
            " [7.04023594e-01]\n",
            " [6.93279966e-01]\n",
            " [7.37307773e-01]\n",
            " [7.16452496e-01]\n",
            " [7.25089530e-01]\n",
            " [7.52053929e-01]\n",
            " [7.21718980e-01]\n",
            " [7.16241837e-01]]\n",
            "(329, 1)\n"
          ],
          "name": "stdout"
        }
      ]
    },
    {
      "cell_type": "code",
      "metadata": {
        "id": "xuOaATlFWSwc"
      },
      "source": [
        "def create_dataset(dataset, time_step=100):\n",
        "\tdataX, dataY = [], []\n",
        "\tfor i in range(len(dataset)-time_step-1):\n",
        "\t\ta = dataset[i:(i+time_step), 0]   ###i=0, 0,1,2,3-----99   100 \n",
        "\t\tdataX.append(a)\n",
        "\t\tdataY.append(dataset[i + time_step, 0])\n",
        "\treturn np.array(dataX), np.array(dataY)"
      ],
      "execution_count": 19,
      "outputs": []
    },
    {
      "cell_type": "code",
      "metadata": {
        "colab": {
          "base_uri": "https://localhost:8080/"
        },
        "id": "FPSZn6PpW3cp",
        "outputId": "794b7c40-d570-4f7b-aad6-8bad851e6f57"
      },
      "source": [
        "# reshape into X=t,t+1,t+2,t+3 and Y=t+4\n",
        "time_step = 100\n",
        "X_train, y_train = create_dataset(train_data, time_step)\n",
        "X_test, ytest = create_dataset(test_data, time_step)\n",
        "print(X_train.shape)\n",
        "print(y_train.shape)\n",
        "#Thus, number of training examples = 2859. \n",
        "#In each training example, number of days = 100\n",
        "#For target ouput values of training examples = 2859 y values"
      ],
      "execution_count": 20,
      "outputs": [
        {
          "output_type": "stream",
          "text": [
            "(2859, 100)\n",
            "(2859,)\n"
          ],
          "name": "stdout"
        }
      ]
    },
    {
      "cell_type": "code",
      "metadata": {
        "colab": {
          "base_uri": "https://localhost:8080/"
        },
        "id": "acClNyUhXbjy",
        "outputId": "e66021c9-03c9-4a69-9661-e222d1da8a8f"
      },
      "source": [
        "print(X_test.shape)\n",
        "print(ytest.shape)\n",
        "#Thus, number of test examples = 2859. \n",
        "#In each test example, number of days = 100\n",
        "#For target ouput values of test examples = 2859 y values"
      ],
      "execution_count": 21,
      "outputs": [
        {
          "output_type": "stream",
          "text": [
            "(228, 100)\n",
            "(228,)\n"
          ],
          "name": "stdout"
        }
      ]
    },
    {
      "cell_type": "code",
      "metadata": {
        "colab": {
          "base_uri": "https://localhost:8080/"
        },
        "id": "Jh44-rNPXv88",
        "outputId": "f79ea2c0-4fe4-4b8e-a911-41c8a7124b31"
      },
      "source": [
        "X_train =X_train.reshape(X_train.shape[0],X_train.shape[1] , 1)\n",
        "X_test = X_test.reshape(X_test.shape[0],X_test.shape[1] , 1)\n",
        "print(X_train.shape)\n",
        "print(X_test.shape)"
      ],
      "execution_count": 22,
      "outputs": [
        {
          "output_type": "stream",
          "text": [
            "(2859, 100, 1)\n",
            "(228, 100, 1)\n"
          ],
          "name": "stdout"
        }
      ]
    },
    {
      "cell_type": "code",
      "metadata": {
        "id": "jW2efu8PX6FI"
      },
      "source": [
        "from tensorflow.keras.models import Sequential\n",
        "from tensorflow.keras.layers import Dense\n",
        "from tensorflow.keras.layers import LSTM\n",
        "model=Sequential()\n",
        "model.add(LSTM(50,return_sequences=True,input_shape=(100,1)))\n",
        "model.add(LSTM(50,return_sequences=True))\n",
        "model.add(LSTM(50))\n",
        "model.add(Dense(1))\n",
        "model.compile(loss='mean_squared_error',optimizer='adam')"
      ],
      "execution_count": 23,
      "outputs": []
    },
    {
      "cell_type": "code",
      "metadata": {
        "colab": {
          "base_uri": "https://localhost:8080/"
        },
        "id": "VPUBqakrYG9J",
        "outputId": "51b087ee-be44-4cba-d268-03ecb9271903"
      },
      "source": [
        "model.fit(X_train,y_train,validation_data=(X_test,ytest),epochs=100,batch_size=64,verbose=1)"
      ],
      "execution_count": 24,
      "outputs": [
        {
          "output_type": "stream",
          "text": [
            "Epoch 1/100\n",
            "45/45 [==============================] - 13s 183ms/step - loss: 0.0718 - val_loss: 0.0210\n",
            "Epoch 2/100\n",
            "45/45 [==============================] - 7s 155ms/step - loss: 0.0025 - val_loss: 0.0156\n",
            "Epoch 3/100\n",
            "45/45 [==============================] - 7s 154ms/step - loss: 0.0017 - val_loss: 0.0138\n",
            "Epoch 4/100\n",
            "45/45 [==============================] - 7s 151ms/step - loss: 0.0015 - val_loss: 0.0132\n",
            "Epoch 5/100\n",
            "45/45 [==============================] - 7s 153ms/step - loss: 0.0015 - val_loss: 0.0126\n",
            "Epoch 6/100\n",
            "45/45 [==============================] - 7s 156ms/step - loss: 0.0013 - val_loss: 0.0119\n",
            "Epoch 7/100\n",
            "45/45 [==============================] - 7s 153ms/step - loss: 0.0013 - val_loss: 0.0113\n",
            "Epoch 8/100\n",
            "45/45 [==============================] - 7s 153ms/step - loss: 0.0012 - val_loss: 0.0105\n",
            "Epoch 9/100\n",
            "45/45 [==============================] - 7s 152ms/step - loss: 0.0012 - val_loss: 0.0097\n",
            "Epoch 10/100\n",
            "45/45 [==============================] - 7s 153ms/step - loss: 0.0010 - val_loss: 0.0088\n",
            "Epoch 11/100\n",
            "45/45 [==============================] - 7s 154ms/step - loss: 9.1629e-04 - val_loss: 0.0082\n",
            "Epoch 12/100\n",
            "45/45 [==============================] - 7s 152ms/step - loss: 8.5493e-04 - val_loss: 0.0077\n",
            "Epoch 13/100\n",
            "45/45 [==============================] - 7s 154ms/step - loss: 7.7305e-04 - val_loss: 0.0072\n",
            "Epoch 14/100\n",
            "45/45 [==============================] - 7s 155ms/step - loss: 6.9503e-04 - val_loss: 0.0068\n",
            "Epoch 15/100\n",
            "45/45 [==============================] - 7s 156ms/step - loss: 7.1115e-04 - val_loss: 0.0066\n",
            "Epoch 16/100\n",
            "45/45 [==============================] - 7s 154ms/step - loss: 7.2897e-04 - val_loss: 0.0062\n",
            "Epoch 17/100\n",
            "45/45 [==============================] - 7s 154ms/step - loss: 6.2655e-04 - val_loss: 0.0059\n",
            "Epoch 18/100\n",
            "45/45 [==============================] - 7s 154ms/step - loss: 6.1111e-04 - val_loss: 0.0056\n",
            "Epoch 19/100\n",
            "45/45 [==============================] - 7s 155ms/step - loss: 6.7553e-04 - val_loss: 0.0055\n",
            "Epoch 20/100\n",
            "45/45 [==============================] - 7s 155ms/step - loss: 5.9965e-04 - val_loss: 0.0053\n",
            "Epoch 21/100\n",
            "45/45 [==============================] - 7s 155ms/step - loss: 5.9248e-04 - val_loss: 0.0050\n",
            "Epoch 22/100\n",
            "45/45 [==============================] - 7s 153ms/step - loss: 5.8314e-04 - val_loss: 0.0049\n",
            "Epoch 23/100\n",
            "45/45 [==============================] - 7s 154ms/step - loss: 5.7513e-04 - val_loss: 0.0047\n",
            "Epoch 24/100\n",
            "45/45 [==============================] - 7s 157ms/step - loss: 5.2682e-04 - val_loss: 0.0045\n",
            "Epoch 25/100\n",
            "45/45 [==============================] - 7s 153ms/step - loss: 5.1440e-04 - val_loss: 0.0044\n",
            "Epoch 26/100\n",
            "45/45 [==============================] - 7s 153ms/step - loss: 4.9237e-04 - val_loss: 0.0043\n",
            "Epoch 27/100\n",
            "45/45 [==============================] - 7s 153ms/step - loss: 5.0767e-04 - val_loss: 0.0041\n",
            "Epoch 28/100\n",
            "45/45 [==============================] - 7s 152ms/step - loss: 4.3892e-04 - val_loss: 0.0040\n",
            "Epoch 29/100\n",
            "45/45 [==============================] - 7s 153ms/step - loss: 5.0556e-04 - val_loss: 0.0039\n",
            "Epoch 30/100\n",
            "45/45 [==============================] - 7s 153ms/step - loss: 4.2918e-04 - val_loss: 0.0038\n",
            "Epoch 31/100\n",
            "45/45 [==============================] - 7s 154ms/step - loss: 3.8631e-04 - val_loss: 0.0036\n",
            "Epoch 32/100\n",
            "45/45 [==============================] - 7s 153ms/step - loss: 3.5560e-04 - val_loss: 0.0035\n",
            "Epoch 33/100\n",
            "45/45 [==============================] - 7s 153ms/step - loss: 3.7634e-04 - val_loss: 0.0035\n",
            "Epoch 34/100\n",
            "45/45 [==============================] - 7s 153ms/step - loss: 3.7061e-04 - val_loss: 0.0033\n",
            "Epoch 35/100\n",
            "45/45 [==============================] - 7s 154ms/step - loss: 4.0315e-04 - val_loss: 0.0033\n",
            "Epoch 36/100\n",
            "45/45 [==============================] - 7s 154ms/step - loss: 3.7083e-04 - val_loss: 0.0033\n",
            "Epoch 37/100\n",
            "45/45 [==============================] - 7s 156ms/step - loss: 3.2530e-04 - val_loss: 0.0031\n",
            "Epoch 38/100\n",
            "45/45 [==============================] - 7s 155ms/step - loss: 3.1100e-04 - val_loss: 0.0030\n",
            "Epoch 39/100\n",
            "45/45 [==============================] - 7s 154ms/step - loss: 3.2900e-04 - val_loss: 0.0030\n",
            "Epoch 40/100\n",
            "45/45 [==============================] - 7s 156ms/step - loss: 2.7575e-04 - val_loss: 0.0030\n",
            "Epoch 41/100\n",
            "45/45 [==============================] - 7s 155ms/step - loss: 3.0460e-04 - val_loss: 0.0029\n",
            "Epoch 42/100\n",
            "45/45 [==============================] - 7s 155ms/step - loss: 2.7719e-04 - val_loss: 0.0029\n",
            "Epoch 43/100\n",
            "45/45 [==============================] - 7s 155ms/step - loss: 2.9412e-04 - val_loss: 0.0028\n",
            "Epoch 44/100\n",
            "45/45 [==============================] - 7s 155ms/step - loss: 2.8447e-04 - val_loss: 0.0027\n",
            "Epoch 45/100\n",
            "45/45 [==============================] - 7s 156ms/step - loss: 2.7796e-04 - val_loss: 0.0027\n",
            "Epoch 46/100\n",
            "45/45 [==============================] - 7s 154ms/step - loss: 2.6421e-04 - val_loss: 0.0027\n",
            "Epoch 47/100\n",
            "45/45 [==============================] - 7s 158ms/step - loss: 2.8505e-04 - val_loss: 0.0027\n",
            "Epoch 48/100\n",
            "45/45 [==============================] - 7s 157ms/step - loss: 2.8559e-04 - val_loss: 0.0026\n",
            "Epoch 49/100\n",
            "45/45 [==============================] - 7s 155ms/step - loss: 2.6542e-04 - val_loss: 0.0026\n",
            "Epoch 50/100\n",
            "45/45 [==============================] - 7s 157ms/step - loss: 2.2504e-04 - val_loss: 0.0026\n",
            "Epoch 51/100\n",
            "45/45 [==============================] - 7s 154ms/step - loss: 2.4266e-04 - val_loss: 0.0026\n",
            "Epoch 52/100\n",
            "45/45 [==============================] - 7s 155ms/step - loss: 2.9205e-04 - val_loss: 0.0026\n",
            "Epoch 53/100\n",
            "45/45 [==============================] - 7s 154ms/step - loss: 3.0552e-04 - val_loss: 0.0026\n",
            "Epoch 54/100\n",
            "45/45 [==============================] - 7s 154ms/step - loss: 2.7210e-04 - val_loss: 0.0027\n",
            "Epoch 55/100\n",
            "45/45 [==============================] - 7s 156ms/step - loss: 2.8046e-04 - val_loss: 0.0026\n",
            "Epoch 56/100\n",
            "45/45 [==============================] - 7s 156ms/step - loss: 2.4598e-04 - val_loss: 0.0026\n",
            "Epoch 57/100\n",
            "45/45 [==============================] - 7s 157ms/step - loss: 2.8885e-04 - val_loss: 0.0026\n",
            "Epoch 58/100\n",
            "45/45 [==============================] - 7s 157ms/step - loss: 2.6904e-04 - val_loss: 0.0026\n",
            "Epoch 59/100\n",
            "45/45 [==============================] - 7s 157ms/step - loss: 3.2760e-04 - val_loss: 0.0026\n",
            "Epoch 60/100\n",
            "45/45 [==============================] - 7s 157ms/step - loss: 2.4948e-04 - val_loss: 0.0025\n",
            "Epoch 61/100\n",
            "45/45 [==============================] - 7s 156ms/step - loss: 2.8778e-04 - val_loss: 0.0027\n",
            "Epoch 62/100\n",
            "45/45 [==============================] - 7s 159ms/step - loss: 2.6306e-04 - val_loss: 0.0026\n",
            "Epoch 63/100\n",
            "45/45 [==============================] - 7s 155ms/step - loss: 2.6189e-04 - val_loss: 0.0026\n",
            "Epoch 64/100\n",
            "45/45 [==============================] - 7s 156ms/step - loss: 2.2272e-04 - val_loss: 0.0025\n",
            "Epoch 65/100\n",
            "45/45 [==============================] - 7s 156ms/step - loss: 2.5419e-04 - val_loss: 0.0025\n",
            "Epoch 66/100\n",
            "45/45 [==============================] - 7s 157ms/step - loss: 2.6802e-04 - val_loss: 0.0026\n",
            "Epoch 67/100\n",
            "45/45 [==============================] - 7s 157ms/step - loss: 2.4982e-04 - val_loss: 0.0025\n",
            "Epoch 68/100\n",
            "45/45 [==============================] - 7s 156ms/step - loss: 2.5028e-04 - val_loss: 0.0025\n",
            "Epoch 69/100\n",
            "45/45 [==============================] - 7s 155ms/step - loss: 2.3579e-04 - val_loss: 0.0025\n",
            "Epoch 70/100\n",
            "45/45 [==============================] - 7s 157ms/step - loss: 2.5632e-04 - val_loss: 0.0025\n",
            "Epoch 71/100\n",
            "45/45 [==============================] - 7s 157ms/step - loss: 2.6787e-04 - val_loss: 0.0025\n",
            "Epoch 72/100\n",
            "45/45 [==============================] - 7s 159ms/step - loss: 2.2877e-04 - val_loss: 0.0026\n",
            "Epoch 73/100\n",
            "45/45 [==============================] - 7s 155ms/step - loss: 2.9970e-04 - val_loss: 0.0025\n",
            "Epoch 74/100\n",
            "45/45 [==============================] - 7s 156ms/step - loss: 2.7880e-04 - val_loss: 0.0025\n",
            "Epoch 75/100\n",
            "45/45 [==============================] - 7s 156ms/step - loss: 2.4451e-04 - val_loss: 0.0025\n",
            "Epoch 76/100\n",
            "45/45 [==============================] - 7s 156ms/step - loss: 2.4256e-04 - val_loss: 0.0025\n",
            "Epoch 77/100\n",
            "45/45 [==============================] - 7s 156ms/step - loss: 2.5122e-04 - val_loss: 0.0025\n",
            "Epoch 78/100\n",
            "45/45 [==============================] - 7s 156ms/step - loss: 2.7303e-04 - val_loss: 0.0025\n",
            "Epoch 79/100\n",
            "45/45 [==============================] - 7s 155ms/step - loss: 2.3277e-04 - val_loss: 0.0025\n",
            "Epoch 80/100\n",
            "45/45 [==============================] - 7s 156ms/step - loss: 2.6715e-04 - val_loss: 0.0025\n",
            "Epoch 81/100\n",
            "45/45 [==============================] - 7s 155ms/step - loss: 2.2978e-04 - val_loss: 0.0025\n",
            "Epoch 82/100\n",
            "45/45 [==============================] - 7s 156ms/step - loss: 2.5712e-04 - val_loss: 0.0025\n",
            "Epoch 83/100\n",
            "45/45 [==============================] - 7s 156ms/step - loss: 2.2532e-04 - val_loss: 0.0025\n",
            "Epoch 84/100\n",
            "45/45 [==============================] - 7s 156ms/step - loss: 2.4779e-04 - val_loss: 0.0025\n",
            "Epoch 85/100\n",
            "45/45 [==============================] - 7s 157ms/step - loss: 2.4871e-04 - val_loss: 0.0025\n",
            "Epoch 86/100\n",
            "45/45 [==============================] - 7s 157ms/step - loss: 2.5932e-04 - val_loss: 0.0025\n",
            "Epoch 87/100\n",
            "45/45 [==============================] - 7s 156ms/step - loss: 2.3876e-04 - val_loss: 0.0025\n",
            "Epoch 88/100\n",
            "45/45 [==============================] - 7s 156ms/step - loss: 2.1762e-04 - val_loss: 0.0026\n",
            "Epoch 89/100\n",
            "45/45 [==============================] - 7s 157ms/step - loss: 2.6434e-04 - val_loss: 0.0025\n",
            "Epoch 90/100\n",
            "45/45 [==============================] - 7s 156ms/step - loss: 2.3360e-04 - val_loss: 0.0025\n",
            "Epoch 91/100\n",
            "45/45 [==============================] - 7s 157ms/step - loss: 2.2208e-04 - val_loss: 0.0025\n",
            "Epoch 92/100\n",
            "45/45 [==============================] - 7s 160ms/step - loss: 2.3972e-04 - val_loss: 0.0025\n",
            "Epoch 93/100\n",
            "45/45 [==============================] - 7s 156ms/step - loss: 2.8197e-04 - val_loss: 0.0025\n",
            "Epoch 94/100\n",
            "45/45 [==============================] - 7s 158ms/step - loss: 2.3835e-04 - val_loss: 0.0025\n",
            "Epoch 95/100\n",
            "45/45 [==============================] - 7s 156ms/step - loss: 2.3370e-04 - val_loss: 0.0025\n",
            "Epoch 96/100\n",
            "45/45 [==============================] - 7s 156ms/step - loss: 2.2015e-04 - val_loss: 0.0025\n",
            "Epoch 97/100\n",
            "45/45 [==============================] - 7s 157ms/step - loss: 2.4109e-04 - val_loss: 0.0025\n",
            "Epoch 98/100\n",
            "45/45 [==============================] - 7s 156ms/step - loss: 2.8189e-04 - val_loss: 0.0025\n",
            "Epoch 99/100\n",
            "45/45 [==============================] - 7s 157ms/step - loss: 2.5210e-04 - val_loss: 0.0024\n",
            "Epoch 100/100\n",
            "45/45 [==============================] - 7s 157ms/step - loss: 2.5559e-04 - val_loss: 0.0025\n"
          ],
          "name": "stdout"
        },
        {
          "output_type": "execute_result",
          "data": {
            "text/plain": [
              "<tensorflow.python.keras.callbacks.History at 0x7ff394bb0850>"
            ]
          },
          "metadata": {
            "tags": []
          },
          "execution_count": 24
        }
      ]
    },
    {
      "cell_type": "code",
      "metadata": {
        "colab": {
          "base_uri": "https://localhost:8080/"
        },
        "id": "ZGS7V1eab4nh",
        "outputId": "d755a0a4-fec4-405a-f7ee-4f5aba1762b3"
      },
      "source": [
        "import tensorflow as tf\n",
        "#prediction and check performance metrics\n",
        "train_predict=model.predict(X_train)\n",
        "test_predict=model.predict(X_test)\n",
        "print(X_train)\n",
        "print(X_test)\n"
      ],
      "execution_count": 25,
      "outputs": [
        {
          "output_type": "stream",
          "text": [
            "[[[0.5038972 ]\n",
            "  [0.49336423]\n",
            "  [0.49462819]\n",
            "  ...\n",
            "  [0.47714346]\n",
            "  [0.48304192]\n",
            "  [0.4914683 ]]\n",
            "\n",
            " [[0.49336423]\n",
            "  [0.49462819]\n",
            "  [0.48072467]\n",
            "  ...\n",
            "  [0.48304192]\n",
            "  [0.4914683 ]\n",
            "  [0.48514851]]\n",
            "\n",
            " [[0.49462819]\n",
            "  [0.48072467]\n",
            "  [0.47925005]\n",
            "  ...\n",
            "  [0.4914683 ]\n",
            "  [0.48514851]\n",
            "  [0.49926269]]\n",
            "\n",
            " ...\n",
            "\n",
            " [[0.72087634]\n",
            "  [0.71708447]\n",
            "  [0.65725722]\n",
            "  ...\n",
            "  [0.38340004]\n",
            "  [0.3981462 ]\n",
            "  [0.38150411]]\n",
            "\n",
            " [[0.71708447]\n",
            "  [0.65725722]\n",
            "  [0.66210238]\n",
            "  ...\n",
            "  [0.3981462 ]\n",
            "  [0.38150411]\n",
            "  [0.4318517 ]]\n",
            "\n",
            " [[0.65725722]\n",
            "  [0.66210238]\n",
            "  [0.63829787]\n",
            "  ...\n",
            "  [0.38150411]\n",
            "  [0.4318517 ]\n",
            "  [0.4240573 ]]]\n",
            "[[[0.42595323]\n",
            "  [0.39414367]\n",
            "  [0.42848115]\n",
            "  ...\n",
            "  [0.1777965 ]\n",
            "  [0.19170002]\n",
            "  [0.1855909 ]]\n",
            "\n",
            " [[0.39414367]\n",
            "  [0.42848115]\n",
            "  [0.44259532]\n",
            "  ...\n",
            "  [0.19170002]\n",
            "  [0.1855909 ]\n",
            "  [0.19106804]]\n",
            "\n",
            " [[0.42848115]\n",
            "  [0.44259532]\n",
            "  [0.42721719]\n",
            "  ...\n",
            "  [0.1855909 ]\n",
            "  [0.19106804]\n",
            "  [0.17063408]]\n",
            "\n",
            " ...\n",
            "\n",
            " [[0.40130609]\n",
            "  [0.38971982]\n",
            "  [0.39309037]\n",
            "  ...\n",
            "  [0.69327997]\n",
            "  [0.73730777]\n",
            "  [0.7164525 ]]\n",
            "\n",
            " [[0.38971982]\n",
            "  [0.39309037]\n",
            "  [0.38087213]\n",
            "  ...\n",
            "  [0.73730777]\n",
            "  [0.7164525 ]\n",
            "  [0.72508953]]\n",
            "\n",
            " [[0.39309037]\n",
            "  [0.38087213]\n",
            "  [0.38908784]\n",
            "  ...\n",
            "  [0.7164525 ]\n",
            "  [0.72508953]\n",
            "  [0.75205393]]]\n"
          ],
          "name": "stdout"
        }
      ]
    },
    {
      "cell_type": "code",
      "metadata": {
        "colab": {
          "base_uri": "https://localhost:8080/"
        },
        "id": "FQnhbMguoM2g",
        "outputId": "8fba4c2a-e8c8-49d9-c6e5-dfb67f1a8a54"
      },
      "source": [
        "train_predict=scaler.inverse_transform(train_predict)\n",
        "test_predict=scaler.inverse_transform(test_predict)\n",
        "print(\"Train:\")\n",
        "print(train_predict)\n",
        "print(\"Test:\")\n",
        "print(test_predict)"
      ],
      "execution_count": 26,
      "outputs": [
        {
          "output_type": "stream",
          "text": [
            "Train:\n",
            "[[2046.535 ]\n",
            " [2034.1418]\n",
            " [2061.2996]\n",
            " ...\n",
            " [1796.2477]\n",
            " [1885.1835]\n",
            " [1893.4408]]\n",
            "Test:\n",
            "[[1340.0358 ]\n",
            " [1344.3329 ]\n",
            " [1324.7424 ]\n",
            " [1300.8446 ]\n",
            " [1271.9685 ]\n",
            " [1277.2562 ]\n",
            " [1275.5021 ]\n",
            " [1257.63   ]\n",
            " [1233.2438 ]\n",
            " [1206.4788 ]\n",
            " [1169.1187 ]\n",
            " [1122.5323 ]\n",
            " [1086.3971 ]\n",
            " [1067.6348 ]\n",
            " [1068.7242 ]\n",
            " [1062.6875 ]\n",
            " [1050.521  ]\n",
            " [1050.2737 ]\n",
            " [1051.8047 ]\n",
            " [1072.8656 ]\n",
            " [1087.4221 ]\n",
            " [1106.1812 ]\n",
            " [1130.9688 ]\n",
            " [1152.5107 ]\n",
            " [1161.5598 ]\n",
            " [1166.2145 ]\n",
            " [1170.5322 ]\n",
            " [1183.0996 ]\n",
            " [1188.5659 ]\n",
            " [1189.2354 ]\n",
            " [1199.2183 ]\n",
            " [1179.1914 ]\n",
            " [1157.8641 ]\n",
            " [1158.0671 ]\n",
            " [1162.8575 ]\n",
            " [1171.8768 ]\n",
            " [1175.0186 ]\n",
            " [1175.8899 ]\n",
            " [1148.497  ]\n",
            " [1133.172  ]\n",
            " [1133.5298 ]\n",
            " [1147.0311 ]\n",
            " [1154.5709 ]\n",
            " [1167.5474 ]\n",
            " [1166.4246 ]\n",
            " [1162.9397 ]\n",
            " [1141.328  ]\n",
            " [1145.7455 ]\n",
            " [1170.4281 ]\n",
            " [1177.7393 ]\n",
            " [1186.9532 ]\n",
            " [1189.5211 ]\n",
            " [1158.6382 ]\n",
            " [1116.7444 ]\n",
            " [1060.0399 ]\n",
            " [1018.3893 ]\n",
            " [ 984.6767 ]\n",
            " [ 963.9673 ]\n",
            " [ 955.92957]\n",
            " [ 948.4422 ]\n",
            " [ 942.81726]\n",
            " [ 953.5588 ]\n",
            " [ 974.0568 ]\n",
            " [ 995.3976 ]\n",
            " [1019.1684 ]\n",
            " [1028.7905 ]\n",
            " [1041.2194 ]\n",
            " [1036.8026 ]\n",
            " [1025.4143 ]\n",
            " [1007.59094]\n",
            " [ 987.66754]\n",
            " [ 993.2152 ]\n",
            " [1010.155  ]\n",
            " [1040.4583 ]\n",
            " [1073.7097 ]\n",
            " [1096.2976 ]\n",
            " [1108.5839 ]\n",
            " [1140.882  ]\n",
            " [1174.7795 ]\n",
            " [1197.2206 ]\n",
            " [1217.0133 ]\n",
            " [1212.0659 ]\n",
            " [1226.4948 ]\n",
            " [1244.6685 ]\n",
            " [1261.2156 ]\n",
            " [1308.2638 ]\n",
            " [1323.7506 ]\n",
            " [1302.8658 ]\n",
            " [1294.8662 ]\n",
            " [1351.8031 ]\n",
            " [1416.7762 ]\n",
            " [1450.0374 ]\n",
            " [1470.8607 ]\n",
            " [1482.3492 ]\n",
            " [1509.4211 ]\n",
            " [1486.8242 ]\n",
            " [1475.9855 ]\n",
            " [1503.6655 ]\n",
            " [1528.2701 ]\n",
            " [1486.9854 ]\n",
            " [1331.61   ]\n",
            " [1218.3187 ]\n",
            " [1175.9395 ]\n",
            " [1206.2202 ]\n",
            " [1282.142  ]\n",
            " [1366.8849 ]\n",
            " [1371.8724 ]\n",
            " [1411.3713 ]\n",
            " [1477.0693 ]\n",
            " [1570.695  ]\n",
            " [1559.8248 ]\n",
            " [1516.2571 ]\n",
            " [1565.5209 ]\n",
            " [1602.2694 ]\n",
            " [1642.7946 ]\n",
            " [1635.37   ]\n",
            " [1669.7543 ]\n",
            " [1727.859  ]\n",
            " [1795.6215 ]\n",
            " [1811.1206 ]\n",
            " [1834.2318 ]\n",
            " [1954.1597 ]\n",
            " [1959.3641 ]\n",
            " [1994.107  ]\n",
            " [1933.1987 ]\n",
            " [1917.1426 ]\n",
            " [1844.6594 ]\n",
            " [1807.6112 ]\n",
            " [1811.2134 ]\n",
            " [1790.6007 ]\n",
            " [1799.8569 ]\n",
            " [1868.5928 ]\n",
            " [1819.4944 ]\n",
            " [1786.6993 ]\n",
            " [1795.402  ]\n",
            " [1835.9513 ]\n",
            " [1811.3319 ]\n",
            " [1939.5406 ]\n",
            " [1929.3809 ]\n",
            " [1879.6495 ]\n",
            " [1934.4984 ]\n",
            " [1958.3715 ]\n",
            " [2092.2874 ]\n",
            " [1944.183  ]\n",
            " [1858.8154 ]\n",
            " [1876.0942 ]\n",
            " [1897.8279 ]\n",
            " [1837.4149 ]\n",
            " [1791.3153 ]\n",
            " [1739.6573 ]\n",
            " [1706.1719 ]\n",
            " [1760.9534 ]\n",
            " [1727.0337 ]\n",
            " [1854.7502 ]\n",
            " [1950.7345 ]\n",
            " [2000.5676 ]\n",
            " [2102.4216 ]\n",
            " [2111.7217 ]\n",
            " [2020.5658 ]\n",
            " [2075.755  ]\n",
            " [2157.555  ]\n",
            " [2231.31   ]\n",
            " [2244.6204 ]\n",
            " [2244.7747 ]\n",
            " [2181.101  ]\n",
            " [2143.045  ]\n",
            " [2183.8684 ]\n",
            " [2136.7524 ]\n",
            " [2154.821  ]\n",
            " [2037.2653 ]\n",
            " [1943.9481 ]\n",
            " [1936.5353 ]\n",
            " [1898.0835 ]\n",
            " [1955.2759 ]\n",
            " [1944.3573 ]\n",
            " [1990.2579 ]\n",
            " [1907.0945 ]\n",
            " [1729.4227 ]\n",
            " [1659.3561 ]\n",
            " [1589.1445 ]\n",
            " [1561.4176 ]\n",
            " [1609.7675 ]\n",
            " [1700.4121 ]\n",
            " [1759.5684 ]\n",
            " [1752.8156 ]\n",
            " [1788.8812 ]\n",
            " [1804.8682 ]\n",
            " [1786.738  ]\n",
            " [1801.3033 ]\n",
            " [1824.2378 ]\n",
            " [1869.2566 ]\n",
            " [1830.8704 ]\n",
            " [1879.5101 ]\n",
            " [1829.1168 ]\n",
            " [3023.1045 ]\n",
            " [3180.6448 ]\n",
            " [2965.8691 ]\n",
            " [3016.1377 ]\n",
            " [3066.8171 ]\n",
            " [3004.7134 ]\n",
            " [3036.9402 ]\n",
            " [3014.3523 ]\n",
            " [2854.2317 ]\n",
            " [2773.7856 ]\n",
            " [2807.1995 ]\n",
            " [2749.9736 ]\n",
            " [2845.6082 ]\n",
            " [2787.3213 ]\n",
            " [2659.0364 ]\n",
            " [2683.2764 ]\n",
            " [2672.835  ]\n",
            " [2511.0542 ]\n",
            " [2615.4055 ]\n",
            " [2534.1167 ]\n",
            " [2500.6729 ]\n",
            " [2449.7961 ]\n",
            " [2497.9456 ]\n",
            " [2537.0947 ]\n",
            " [2596.4907 ]\n",
            " [2590.7273 ]\n",
            " [2667.4692 ]\n",
            " [2619.9275 ]\n",
            " [2529.3977 ]\n",
            " [2522.6853 ]\n",
            " [2644.9834 ]\n",
            " [2577.31   ]\n",
            " [2599.7668 ]\n",
            " [2670.2568 ]]\n"
          ],
          "name": "stdout"
        }
      ]
    },
    {
      "cell_type": "code",
      "metadata": {
        "colab": {
          "base_uri": "https://localhost:8080/"
        },
        "id": "00XjFGBzpMPx",
        "outputId": "03dbb335-7701-4017-edce-337e54420461"
      },
      "source": [
        "import math\n",
        "from sklearn.metrics import mean_squared_error\n",
        "math.sqrt(mean_squared_error(y_train,train_predict))"
      ],
      "execution_count": 27,
      "outputs": [
        {
          "output_type": "execute_result",
          "data": {
            "text/plain": [
              "2097.64840514257"
            ]
          },
          "metadata": {
            "tags": []
          },
          "execution_count": 27
        }
      ]
    },
    {
      "cell_type": "code",
      "metadata": {
        "colab": {
          "base_uri": "https://localhost:8080/"
        },
        "id": "5apRasnSpQk3",
        "outputId": "d81a83d9-713d-47d8-c71c-d3b2fb095d64"
      },
      "source": [
        "### Test Data RMSE\n",
        "math.sqrt(mean_squared_error(ytest,test_predict))"
      ],
      "execution_count": 28,
      "outputs": [
        {
          "output_type": "execute_result",
          "data": {
            "text/plain": [
              "1762.9742119602045"
            ]
          },
          "metadata": {
            "tags": []
          },
          "execution_count": 28
        }
      ]
    },
    {
      "cell_type": "code",
      "metadata": {
        "colab": {
          "base_uri": "https://localhost:8080/",
          "height": 265
        },
        "id": "TMRhwUeMpTni",
        "outputId": "cc63c838-562f-411f-b907-234156b60030"
      },
      "source": [
        "### Plotting \n",
        "# shift train predictions for plotting\n",
        "look_back=100\n",
        "trainPredictPlot = np.empty_like(df1)\n",
        "trainPredictPlot[:, :] = np.nan\n",
        "trainPredictPlot[look_back:len(train_predict)+look_back, :] = train_predict\n",
        "# shift test predictions for plotting\n",
        "testPredictPlot = np.empty_like(df1)\n",
        "testPredictPlot[:, :] = np.nan\n",
        "testPredictPlot[len(train_predict)+(look_back*2)+1:len(df1)-1, :] = test_predict\n",
        "# plot baseline and predictions\n",
        "df1=scaler.inverse_transform(df1)\n",
        "plt.plot(df1)#original values\n",
        "plt.plot(trainPredictPlot)#already reverse scaled\n",
        "plt.plot(testPredictPlot)#already reverse scaled\n",
        "plt.show()"
      ],
      "execution_count": 29,
      "outputs": [
        {
          "output_type": "display_data",
          "data": {
            "image/png": "[encoded data removed]",
            "text/plain": [
              "<Figure size 432x288 with 1 Axes>"
            ]
          },
          "metadata": {
            "tags": [],
            "needs_background": "light"
          }
        }
      ]
    },
    {
      "cell_type": "code",
      "metadata": {
        "colab": {
          "base_uri": "https://localhost:8080/"
        },
        "id": "-9nLApZWr0lT",
        "outputId": "fc2267e7-3d92-4afc-b31b-92ab08c7a75a"
      },
      "source": [
        "print(train_predict.shape)\n",
        "print(test_predict.shape)"
      ],
      "execution_count": 30,
      "outputs": [
        {
          "output_type": "stream",
          "text": [
            "(2859, 1)\n",
            "(228, 1)\n"
          ],
          "name": "stdout"
        }
      ]
    },
    {
      "cell_type": "markdown",
      "metadata": {
        "id": "a_euz-EO96ft"
      },
      "source": [
        "# Predicting for next 66 days."
      ]
    },
    {
      "cell_type": "code",
      "metadata": {
        "colab": {
          "base_uri": "https://localhost:8080/"
        },
        "id": "KkXKJwIls0L2",
        "outputId": "1fa99815-901e-4ae7-d993-bbff5f76db9a"
      },
      "source": [
        "#Now we take first 100 days from X_test, and predict first day of ytest.\n",
        "x_input_single=X_test[0]\n",
        "x_input_single=x_input_single.reshape(1,x_input_single.shape[0],x_input_single.shape[1])\n",
        "x_input_single.shape \n",
        "print(x_input_single) #this is going to be fed into our predictor"
      ],
      "execution_count": 31,
      "outputs": [
        {
          "output_type": "stream",
          "text": [
            "[[[0.42595323]\n",
            "  [0.39414367]\n",
            "  [0.42848115]\n",
            "  [0.44259532]\n",
            "  [0.42721719]\n",
            "  [0.45038972]\n",
            "  [0.40551928]\n",
            "  [0.3768696 ]\n",
            "  [0.35917422]\n",
            "  [0.37665894]\n",
            "  [0.38297872]\n",
            "  [0.36191279]\n",
            "  [0.34506004]\n",
            "  [0.32778597]\n",
            "  [0.33473773]\n",
            "  [0.34506004]\n",
            "  [0.30503476]\n",
            "  [0.30356014]\n",
            "  [0.30798399]\n",
            "  [0.2902886 ]\n",
            "  [0.28944597]\n",
            "  [0.30082157]\n",
            "  [0.30103223]\n",
            "  [0.31388245]\n",
            "  [0.35159048]\n",
            "  [0.32567938]\n",
            "  [0.34147883]\n",
            "  [0.34885191]\n",
            "  [0.34337476]\n",
            "  [0.35812092]\n",
            "  [0.34927323]\n",
            "  [0.35306509]\n",
            "  [0.34969454]\n",
            "  [0.32230883]\n",
            "  [0.317253  ]\n",
            "  [0.30334948]\n",
            "  [0.34548136]\n",
            "  [0.31978091]\n",
            "  [0.30756267]\n",
            "  [0.34126817]\n",
            "  [0.35390773]\n",
            "  [0.38613861]\n",
            "  [0.38213609]\n",
            "  [0.36423004]\n",
            "  [0.34126817]\n",
            "  [0.31009058]\n",
            "  [0.32631135]\n",
            "  [0.28881399]\n",
            "  [0.30861597]\n",
            "  [0.31493575]\n",
            "  [0.32020223]\n",
            "  [0.27385717]\n",
            "  [0.23467453]\n",
            "  [0.230672  ]\n",
            "  [0.22287761]\n",
            "  [0.22856541]\n",
            "  [0.22751211]\n",
            "  [0.23425321]\n",
            "  [0.27280388]\n",
            "  [0.24436486]\n",
            "  [0.22856541]\n",
            "  [0.21697914]\n",
            "  [0.24057299]\n",
            "  [0.24478618]\n",
            "  [0.23614915]\n",
            "  [0.25005266]\n",
            "  [0.25321256]\n",
            "  [0.22245629]\n",
            "  [0.23025068]\n",
            "  [0.19148936]\n",
            "  [0.2001264 ]\n",
            "  [0.1845376 ]\n",
            "  [0.18074573]\n",
            "  [0.20855277]\n",
            "  [0.22350959]\n",
            "  [0.24499684]\n",
            "  [0.23720244]\n",
            "  [0.23509585]\n",
            "  [0.26500948]\n",
            "  [0.27175058]\n",
            "  [0.27175058]\n",
            "  [0.26206025]\n",
            "  [0.22961871]\n",
            "  [0.1990731 ]\n",
            "  [0.17800716]\n",
            "  [0.18327365]\n",
            "  [0.18200969]\n",
            "  [0.16979145]\n",
            "  [0.1596798 ]\n",
            "  [0.15251738]\n",
            "  [0.16515694]\n",
            "  [0.14956815]\n",
            "  [0.15799452]\n",
            "  [0.18137771]\n",
            "  [0.15673057]\n",
            "  [0.15630925]\n",
            "  [0.19422793]\n",
            "  [0.1777965 ]\n",
            "  [0.19170002]\n",
            "  [0.1855909 ]]]\n"
          ],
          "name": "stdout"
        }
      ]
    },
    {
      "cell_type": "code",
      "metadata": {
        "colab": {
          "base_uri": "https://localhost:8080/"
        },
        "id": "WIAj0IF_vsJI",
        "outputId": "2c5ba5a1-ba6a-497d-92bd-708d65ca0b77"
      },
      "source": [
        "pred_single=model.predict(x_input_single)\n",
        "print(pred_single.shape)\n",
        "print(pred_single)"
      ],
      "execution_count": 32,
      "outputs": [
        {
          "output_type": "stream",
          "text": [
            "(1, 1)\n",
            "[[0.19382165]]\n"
          ],
          "name": "stdout"
        }
      ]
    },
    {
      "cell_type": "code",
      "metadata": {
        "colab": {
          "base_uri": "https://localhost:8080/"
        },
        "id": "Ge86yfzWwsrE",
        "outputId": "1e9e6ddc-4391-4280-a75b-d0f1a93b9bc8"
      },
      "source": [
        "#Now I will make predictions for next 66 days (3 months = 66 days in our dataset)\n",
        "#pred_single=scaler.inverse_transform(pred_single)\n",
        "pred_single_unscaled=scaler.inverse_transform(pred_single)\n",
        "test_66=np.array(pred_single_unscaled)\n",
        "print(test_66)"
      ],
      "execution_count": 35,
      "outputs": [
        {
          "output_type": "stream",
          "text": [
            "[[1340.0356]]\n"
          ],
          "name": "stdout"
        }
      ]
    },
    {
      "cell_type": "code",
      "metadata": {
        "colab": {
          "base_uri": "https://localhost:8080/"
        },
        "id": "PPYUwGTmraLa",
        "outputId": "b160ede7-4c00-44af-f801-6bc90768a5ed"
      },
      "source": [
        "print(pred_single) #pred_single is scaled. Pred_single_unscaled is unscaled."
      ],
      "execution_count": 36,
      "outputs": [
        {
          "output_type": "stream",
          "text": [
            "[[0.19382165]]\n"
          ],
          "name": "stdout"
        }
      ]
    },
    {
      "cell_type": "code",
      "metadata": {
        "colab": {
          "base_uri": "https://localhost:8080/"
        },
        "id": "OCIR7-QpxLfw",
        "outputId": "a828dfa8-11e0-4562-d63c-024a186ac92d"
      },
      "source": [
        "x_input=x_input_single;\n",
        "pred_single=pred_single.reshape(1,1,1)\n",
        "print(\"pred_single reshaped to 3d: \",pred_single.shape)\n",
        "x_input=np.append(x_input, pred_single, axis=1)\n",
        "print(\"x_input: \", x_input.shape)\n",
        "print(x_input)\n",
        "\n",
        "x_input=x_input[:,1:101,:]\n",
        "print(\"x_input excluding first ele: \",x_input.shape)\n",
        "print(x_input)\n"
      ],
      "execution_count": 37,
      "outputs": [
        {
          "output_type": "stream",
          "text": [
            "pred_single reshaped to 3d:  (1, 1, 1)\n",
            "x_input:  (1, 101, 1)\n",
            "[[[0.42595323]\n",
            "  [0.39414367]\n",
            "  [0.42848115]\n",
            "  [0.44259532]\n",
            "  [0.42721719]\n",
            "  [0.45038972]\n",
            "  [0.40551928]\n",
            "  [0.3768696 ]\n",
            "  [0.35917422]\n",
            "  [0.37665894]\n",
            "  [0.38297872]\n",
            "  [0.36191279]\n",
            "  [0.34506004]\n",
            "  [0.32778597]\n",
            "  [0.33473773]\n",
            "  [0.34506004]\n",
            "  [0.30503476]\n",
            "  [0.30356014]\n",
            "  [0.30798399]\n",
            "  [0.2902886 ]\n",
            "  [0.28944597]\n",
            "  [0.30082157]\n",
            "  [0.30103223]\n",
            "  [0.31388245]\n",
            "  [0.35159048]\n",
            "  [0.32567938]\n",
            "  [0.34147883]\n",
            "  [0.34885191]\n",
            "  [0.34337476]\n",
            "  [0.35812092]\n",
            "  [0.34927323]\n",
            "  [0.35306509]\n",
            "  [0.34969454]\n",
            "  [0.32230883]\n",
            "  [0.317253  ]\n",
            "  [0.30334948]\n",
            "  [0.34548136]\n",
            "  [0.31978091]\n",
            "  [0.30756267]\n",
            "  [0.34126817]\n",
            "  [0.35390773]\n",
            "  [0.38613861]\n",
            "  [0.38213609]\n",
            "  [0.36423004]\n",
            "  [0.34126817]\n",
            "  [0.31009058]\n",
            "  [0.32631135]\n",
            "  [0.28881399]\n",
            "  [0.30861597]\n",
            "  [0.31493575]\n",
            "  [0.32020223]\n",
            "  [0.27385717]\n",
            "  [0.23467453]\n",
            "  [0.230672  ]\n",
            "  [0.22287761]\n",
            "  [0.22856541]\n",
            "  [0.22751211]\n",
            "  [0.23425321]\n",
            "  [0.27280388]\n",
            "  [0.24436486]\n",
            "  [0.22856541]\n",
            "  [0.21697914]\n",
            "  [0.24057299]\n",
            "  [0.24478618]\n",
            "  [0.23614915]\n",
            "  [0.25005266]\n",
            "  [0.25321256]\n",
            "  [0.22245629]\n",
            "  [0.23025068]\n",
            "  [0.19148936]\n",
            "  [0.2001264 ]\n",
            "  [0.1845376 ]\n",
            "  [0.18074573]\n",
            "  [0.20855277]\n",
            "  [0.22350959]\n",
            "  [0.24499684]\n",
            "  [0.23720244]\n",
            "  [0.23509585]\n",
            "  [0.26500948]\n",
            "  [0.27175058]\n",
            "  [0.27175058]\n",
            "  [0.26206025]\n",
            "  [0.22961871]\n",
            "  [0.1990731 ]\n",
            "  [0.17800716]\n",
            "  [0.18327365]\n",
            "  [0.18200969]\n",
            "  [0.16979145]\n",
            "  [0.1596798 ]\n",
            "  [0.15251738]\n",
            "  [0.16515694]\n",
            "  [0.14956815]\n",
            "  [0.15799452]\n",
            "  [0.18137771]\n",
            "  [0.15673057]\n",
            "  [0.15630925]\n",
            "  [0.19422793]\n",
            "  [0.1777965 ]\n",
            "  [0.19170002]\n",
            "  [0.1855909 ]\n",
            "  [0.19382165]]]\n",
            "x_input excluding first ele:  (1, 100, 1)\n",
            "[[[0.39414367]\n",
            "  [0.42848115]\n",
            "  [0.44259532]\n",
            "  [0.42721719]\n",
            "  [0.45038972]\n",
            "  [0.40551928]\n",
            "  [0.3768696 ]\n",
            "  [0.35917422]\n",
            "  [0.37665894]\n",
            "  [0.38297872]\n",
            "  [0.36191279]\n",
            "  [0.34506004]\n",
            "  [0.32778597]\n",
            "  [0.33473773]\n",
            "  [0.34506004]\n",
            "  [0.30503476]\n",
            "  [0.30356014]\n",
            "  [0.30798399]\n",
            "  [0.2902886 ]\n",
            "  [0.28944597]\n",
            "  [0.30082157]\n",
            "  [0.30103223]\n",
            "  [0.31388245]\n",
            "  [0.35159048]\n",
            "  [0.32567938]\n",
            "  [0.34147883]\n",
            "  [0.34885191]\n",
            "  [0.34337476]\n",
            "  [0.35812092]\n",
            "  [0.34927323]\n",
            "  [0.35306509]\n",
            "  [0.34969454]\n",
            "  [0.32230883]\n",
            "  [0.317253  ]\n",
            "  [0.30334948]\n",
            "  [0.34548136]\n",
            "  [0.31978091]\n",
            "  [0.30756267]\n",
            "  [0.34126817]\n",
            "  [0.35390773]\n",
            "  [0.38613861]\n",
            "  [0.38213609]\n",
            "  [0.36423004]\n",
            "  [0.34126817]\n",
            "  [0.31009058]\n",
            "  [0.32631135]\n",
            "  [0.28881399]\n",
            "  [0.30861597]\n",
            "  [0.31493575]\n",
            "  [0.32020223]\n",
            "  [0.27385717]\n",
            "  [0.23467453]\n",
            "  [0.230672  ]\n",
            "  [0.22287761]\n",
            "  [0.22856541]\n",
            "  [0.22751211]\n",
            "  [0.23425321]\n",
            "  [0.27280388]\n",
            "  [0.24436486]\n",
            "  [0.22856541]\n",
            "  [0.21697914]\n",
            "  [0.24057299]\n",
            "  [0.24478618]\n",
            "  [0.23614915]\n",
            "  [0.25005266]\n",
            "  [0.25321256]\n",
            "  [0.22245629]\n",
            "  [0.23025068]\n",
            "  [0.19148936]\n",
            "  [0.2001264 ]\n",
            "  [0.1845376 ]\n",
            "  [0.18074573]\n",
            "  [0.20855277]\n",
            "  [0.22350959]\n",
            "  [0.24499684]\n",
            "  [0.23720244]\n",
            "  [0.23509585]\n",
            "  [0.26500948]\n",
            "  [0.27175058]\n",
            "  [0.27175058]\n",
            "  [0.26206025]\n",
            "  [0.22961871]\n",
            "  [0.1990731 ]\n",
            "  [0.17800716]\n",
            "  [0.18327365]\n",
            "  [0.18200969]\n",
            "  [0.16979145]\n",
            "  [0.1596798 ]\n",
            "  [0.15251738]\n",
            "  [0.16515694]\n",
            "  [0.14956815]\n",
            "  [0.15799452]\n",
            "  [0.18137771]\n",
            "  [0.15673057]\n",
            "  [0.15630925]\n",
            "  [0.19422793]\n",
            "  [0.1777965 ]\n",
            "  [0.19170002]\n",
            "  [0.1855909 ]\n",
            "  [0.19382165]]]\n"
          ],
          "name": "stdout"
        }
      ]
    },
    {
      "cell_type": "code",
      "metadata": {
        "colab": {
          "base_uri": "https://localhost:8080/"
        },
        "id": "g32dc4AI7y-I",
        "outputId": "00bf8243-c28f-401c-fad8-40f0e6a6c1ec"
      },
      "source": [
        "pred=model.predict(x_input)\n",
        "print(pred)\n",
        "print(pred.shape)\n",
        "pred_unscaled=scaler.inverse_transform(pred)\n",
        "print(pred_unscaled)\n",
        "print(pred_unscaled.shape)\n",
        "test_66=np.append(test_66,pred_unscaled[0][0])\n",
        "print(test_66)\n",
        "print(test_66.shape)"
      ],
      "execution_count": 38,
      "outputs": [
        {
          "output_type": "stream",
          "text": [
            "[[0.19691871]]\n",
            "(1, 1)\n",
            "[[1347.3865]]\n",
            "(1, 1)\n",
            "[1340.0356 1347.3865]\n",
            "(2,)\n"
          ],
          "name": "stdout"
        }
      ]
    },
    {
      "cell_type": "code",
      "metadata": {
        "colab": {
          "base_uri": "https://localhost:8080/"
        },
        "id": "K4O-5qu487wV",
        "outputId": "8bd8c2c3-be16-4eec-8b4a-feb9685154f9"
      },
      "source": [
        "while(len(test_66)<66):\n",
        "  pred=pred.reshape(1,1,1)\n",
        "  x_input=np.append(x_input, pred, axis=1)\n",
        "  x_input=x_input[:,1:101,:]\n",
        "  pred=model.predict(x_input)\n",
        "  pred_unscaled=scaler.inverse_transform(pred)\n",
        "  test_66=np.append(test_66,pred_unscaled[0][0])\n",
        "print(test_66)\n",
        "print(test_66.shape)"
      ],
      "execution_count": 39,
      "outputs": [
        {
          "output_type": "stream",
          "text": [
            "[1340.0356 1347.3865 1356.0634 1364.901  1373.6821 1382.3495 1390.8595\n",
            " 1399.1726 1407.2584 1415.0969 1422.6787 1430.0039 1437.0804 1443.9219\n",
            " 1450.546  1456.9728 1463.2227 1469.3158 1475.2715 1481.1072 1486.8386\n",
            " 1492.4792 1498.0411 1503.5339 1508.966  1514.3441 1519.6735 1524.9581\n",
            " 1530.2015 1535.4056 1540.5721 1545.7013 1550.7937 1555.8488 1560.8657\n",
            " 1565.8441 1570.7825 1575.6796 1580.534  1585.3446 1590.1102 1594.8295\n",
            " 1599.5012 1604.1249 1608.6997 1613.2249 1617.7001 1622.125  1626.4994\n",
            " 1630.8234 1635.0972 1639.3212 1643.495  1647.6198 1651.6957 1655.7234\n",
            " 1659.7035 1663.6366 1667.523  1671.3639 1675.1594 1678.9106 1682.6179\n",
            " 1686.2819 1689.9033 1693.4825]\n",
            "(66,)\n"
          ],
          "name": "stdout"
        }
      ]
    },
    {
      "cell_type": "code",
      "metadata": {
        "id": "AfV5CiBpszLm"
      },
      "source": [
        ""
      ],
      "execution_count": null,
      "outputs": []
    },
    {
      "cell_type": "code",
      "metadata": {
        "colab": {
          "base_uri": "https://localhost:8080/"
        },
        "id": "NuEODIwD9zjM",
        "outputId": "893a13e7-08ab-4998-9a79-77314b97b605"
      },
      "source": [
        "#test_66 is the predicted values\n",
        "#for original graph, we need X_test[0] + ytest[0] + ytest[1] + ... + ytest[65]\n",
        "\n",
        "original_unscaled=scaler.inverse_transform(X_test[0])\n",
        "print(original_unscaled)\n",
        "original=original_unscaled.reshape(100)\n",
        "original_y=np.array([])\n",
        "ytest_unscaled=scaler.inverse_transform(ytest.reshape(len(ytest),1))\n",
        "for i in range(66):\n",
        "  original_y=np.append(original_y, ytest_unscaled[i][0])\n",
        "\n",
        "print(original.shape)\n",
        "print(original_y.shape)\n",
        "print(test_66.shape)\n",
        "\n",
        "x_axis=np.array([])\n",
        "for i in range(166):\n",
        "  x_axis=np.append(x_axis, i)\n",
        "\n",
        "print(x_axis.shape)\n",
        "print(x_axis)"
      ],
      "execution_count": 45,
      "outputs": [
        {
          "output_type": "stream",
          "text": [
            "[[1891. ]\n",
            " [1815.5]\n",
            " [1897. ]\n",
            " [1930.5]\n",
            " [1894. ]\n",
            " [1949. ]\n",
            " [1842.5]\n",
            " [1774.5]\n",
            " [1732.5]\n",
            " [1774. ]\n",
            " [1789. ]\n",
            " [1739. ]\n",
            " [1699. ]\n",
            " [1658. ]\n",
            " [1674.5]\n",
            " [1699. ]\n",
            " [1604. ]\n",
            " [1600.5]\n",
            " [1611. ]\n",
            " [1569. ]\n",
            " [1567. ]\n",
            " [1594. ]\n",
            " [1594.5]\n",
            " [1625. ]\n",
            " [1714.5]\n",
            " [1653. ]\n",
            " [1690.5]\n",
            " [1708. ]\n",
            " [1695. ]\n",
            " [1730. ]\n",
            " [1709. ]\n",
            " [1718. ]\n",
            " [1710. ]\n",
            " [1645. ]\n",
            " [1633. ]\n",
            " [1600. ]\n",
            " [1700. ]\n",
            " [1639. ]\n",
            " [1610. ]\n",
            " [1690. ]\n",
            " [1720. ]\n",
            " [1796.5]\n",
            " [1787. ]\n",
            " [1744.5]\n",
            " [1690. ]\n",
            " [1616. ]\n",
            " [1654.5]\n",
            " [1565.5]\n",
            " [1612.5]\n",
            " [1627.5]\n",
            " [1640. ]\n",
            " [1530. ]\n",
            " [1437. ]\n",
            " [1427.5]\n",
            " [1409. ]\n",
            " [1422.5]\n",
            " [1420. ]\n",
            " [1436. ]\n",
            " [1527.5]\n",
            " [1460. ]\n",
            " [1422.5]\n",
            " [1395. ]\n",
            " [1451. ]\n",
            " [1461. ]\n",
            " [1440.5]\n",
            " [1473.5]\n",
            " [1481. ]\n",
            " [1408. ]\n",
            " [1426.5]\n",
            " [1334.5]\n",
            " [1355. ]\n",
            " [1318. ]\n",
            " [1309. ]\n",
            " [1375. ]\n",
            " [1410.5]\n",
            " [1461.5]\n",
            " [1443. ]\n",
            " [1438. ]\n",
            " [1509. ]\n",
            " [1525. ]\n",
            " [1525. ]\n",
            " [1502. ]\n",
            " [1425. ]\n",
            " [1352.5]\n",
            " [1302.5]\n",
            " [1315. ]\n",
            " [1312. ]\n",
            " [1283. ]\n",
            " [1259. ]\n",
            " [1242. ]\n",
            " [1272. ]\n",
            " [1235. ]\n",
            " [1255. ]\n",
            " [1310.5]\n",
            " [1252. ]\n",
            " [1251. ]\n",
            " [1341. ]\n",
            " [1302. ]\n",
            " [1335. ]\n",
            " [1320.5]]\n",
            "(100,)\n",
            "(66,)\n",
            "(66,)\n",
            "(166,)\n",
            "[  0.   1.   2.   3.   4.   5.   6.   7.   8.   9.  10.  11.  12.  13.\n",
            "  14.  15.  16.  17.  18.  19.  20.  21.  22.  23.  24.  25.  26.  27.\n",
            "  28.  29.  30.  31.  32.  33.  34.  35.  36.  37.  38.  39.  40.  41.\n",
            "  42.  43.  44.  45.  46.  47.  48.  49.  50.  51.  52.  53.  54.  55.\n",
            "  56.  57.  58.  59.  60.  61.  62.  63.  64.  65.  66.  67.  68.  69.\n",
            "  70.  71.  72.  73.  74.  75.  76.  77.  78.  79.  80.  81.  82.  83.\n",
            "  84.  85.  86.  87.  88.  89.  90.  91.  92.  93.  94.  95.  96.  97.\n",
            "  98.  99. 100. 101. 102. 103. 104. 105. 106. 107. 108. 109. 110. 111.\n",
            " 112. 113. 114. 115. 116. 117. 118. 119. 120. 121. 122. 123. 124. 125.\n",
            " 126. 127. 128. 129. 130. 131. 132. 133. 134. 135. 136. 137. 138. 139.\n",
            " 140. 141. 142. 143. 144. 145. 146. 147. 148. 149. 150. 151. 152. 153.\n",
            " 154. 155. 156. 157. 158. 159. 160. 161. 162. 163. 164. 165.]\n"
          ],
          "name": "stdout"
        }
      ]
    },
    {
      "cell_type": "code",
      "metadata": {
        "colab": {
          "base_uri": "https://localhost:8080/",
          "height": 269
        },
        "id": "HltEr-y2DLRX",
        "outputId": "46ba7da4-4e66-46b3-f6e2-b23468af18ce"
      },
      "source": [
        "plt.plot(x_axis[0:100],original )\n",
        "plt.plot(x_axis[100:166],original_y)\n",
        "plt.plot(x_axis[100:166],test_66)\n",
        "plt.legend([\"Original\",\"original y\",\"Predicted\"])\n",
        "plt.show()\n"
      ],
      "execution_count": 46,
      "outputs": [
        {
          "output_type": "display_data",
          "data": {
            "image/png": "[encoded data removed]",
            "text/plain": [
              "<Figure size 432x288 with 1 Axes>"
            ]
          },
          "metadata": {
            "tags": [],
            "needs_background": "light"
          }
        }
      ]
    },
    {
      "cell_type": "markdown",
      "metadata": {
        "id": "uSowpt73F5qP"
      },
      "source": [
        "  \n",
        "  \n",
        "Now considering last 166 elements of df1 (lookback = 100 days, lookforward = 66 days)\n",
        "\n"
      ]
    },
    {
      "cell_type": "code",
      "metadata": {
        "id": "i2PANGjD_CL0"
      },
      "source": [
        "scalerr=MinMaxScaler(feature_range=(0,1))"
      ],
      "execution_count": 69,
      "outputs": []
    },
    {
      "cell_type": "code",
      "metadata": {
        "colab": {
          "base_uri": "https://localhost:8080/",
          "height": 407
        },
        "id": "xUTCPGwhGK9v",
        "outputId": "b99d918d-49be-4ea3-baed-dcfaf4880f75"
      },
      "source": [
        "\n",
        "print(df1)\n",
        "plt.plot(df1[len(df1)-166:len(df1)])"
      ],
      "execution_count": 70,
      "outputs": [
        {
          "output_type": "stream",
          "text": [
            "[[2076.]\n",
            " [2051.]\n",
            " [2054.]\n",
            " ...\n",
            " [2665.]\n",
            " [2593.]\n",
            " [2580.]]\n"
          ],
          "name": "stdout"
        },
        {
          "output_type": "execute_result",
          "data": {
            "text/plain": [
              "[<matplotlib.lines.Line2D at 0x7ff38bdbe610>]"
            ]
          },
          "metadata": {
            "tags": []
          },
          "execution_count": 70
        },
        {
          "output_type": "display_data",
          "data": {
            "image/png": "[encoded data removed]",
            "text/plain": [
              "<Figure size 432x288 with 1 Axes>"
            ]
          },
          "metadata": {
            "tags": [],
            "needs_background": "light"
          }
        }
      ]
    },
    {
      "cell_type": "code",
      "metadata": {
        "colab": {
          "base_uri": "https://localhost:8080/"
        },
        "id": "so0VUTKSHLl5",
        "outputId": "3151dc99-8c1c-4b72-8a9c-7fbfb9cdd9b1"
      },
      "source": [
        "new_df1=df1[len(df1)-166:len(df1)]\n",
        "type(new_df1)\n",
        "print(new_df1.shape)\n",
        "\n",
        "new_orig=new_df1[0:100]\n",
        "print(new_orig.shape)#stores original, which is fed as input. It is unscaled\n",
        "new_orig_y=new_df1[100:166]\n",
        "print(new_orig_y.shape)#stores original y values. It is unscaled "
      ],
      "execution_count": 71,
      "outputs": [
        {
          "output_type": "stream",
          "text": [
            "(166, 1)\n",
            "(100, 1)\n",
            "(66, 1)\n"
          ],
          "name": "stdout"
        }
      ]
    },
    {
      "cell_type": "code",
      "metadata": {
        "colab": {
          "base_uri": "https://localhost:8080/"
        },
        "id": "6kLXMRn9zMte",
        "outputId": "5451d404-c76d-4ec5-fb26-1d8db0344bfd"
      },
      "source": [
        "print(new_orig)"
      ],
      "execution_count": 72,
      "outputs": [
        {
          "output_type": "stream",
          "text": [
            "[[1016. ]\n",
            " [ 982. ]\n",
            " [1031. ]\n",
            " [ 970.5]\n",
            " [ 968. ]\n",
            " [ 936. ]\n",
            " [ 915. ]\n",
            " [1000. ]\n",
            " [1003. ]\n",
            " [1060. ]\n",
            " [1083. ]\n",
            " [1080. ]\n",
            " [1086. ]\n",
            " [1176. ]\n",
            " [1186. ]\n",
            " [1189. ]\n",
            " [1217. ]\n",
            " [1171. ]\n",
            " [1240. ]\n",
            " [1245. ]\n",
            " [1258. ]\n",
            " [1349. ]\n",
            " [1302. ]\n",
            " [1257. ]\n",
            " [1285. ]\n",
            " [1411. ]\n",
            " [1446. ]\n",
            " [1446. ]\n",
            " [1470. ]\n",
            " [1478. ]\n",
            " [1521. ]\n",
            " [1455. ]\n",
            " [1469. ]\n",
            " [1520.5]\n",
            " [1531. ]\n",
            " [1445. ]\n",
            " [1206. ]\n",
            " [1140. ]\n",
            " [1150.5]\n",
            " [1240. ]\n",
            " [1336. ]\n",
            " [1407. ]\n",
            " [1326. ]\n",
            " [1440. ]\n",
            " [1512. ]\n",
            " [1615. ]\n",
            " [1518. ]\n",
            " [1484. ]\n",
            " [1605. ]\n",
            " [1605. ]\n",
            " [1650.5]\n",
            " [1615. ]\n",
            " [1681. ]\n",
            " [1740. ]\n",
            " [1806. ]\n",
            " [1801. ]\n",
            " [1835.5]\n",
            " [1980. ]\n",
            " [1946. ]\n",
            " [2001. ]\n",
            " [1920.5]\n",
            " [1921. ]\n",
            " [1832.5]\n",
            " [1805. ]\n",
            " [1813. ]\n",
            " [1784. ]\n",
            " [1803.5]\n",
            " [1885. ]\n",
            " [1806. ]\n",
            " [1788. ]\n",
            " [1805. ]\n",
            " [1850. ]\n",
            " [1806. ]\n",
            " [1975. ]\n",
            " [1920. ]\n",
            " [1875. ]\n",
            " [1951. ]\n",
            " [1959. ]\n",
            " [2111. ]\n",
            " [1916. ]\n",
            " [1855. ]\n",
            " [1880. ]\n",
            " [1895. ]\n",
            " [1819. ]\n",
            " [1780. ]\n",
            " [1724. ]\n",
            " [1695. ]\n",
            " [1775. ]\n",
            " [1707.5]\n",
            " [1893. ]\n",
            " [1961. ]\n",
            " [2005. ]\n",
            " [2119. ]\n",
            " [2111. ]\n",
            " [2016. ]\n",
            " [2090. ]\n",
            " [2160. ]\n",
            " [2230. ]\n",
            " [2241. ]\n",
            " [2245. ]]\n"
          ],
          "name": "stdout"
        }
      ]
    },
    {
      "cell_type": "code",
      "metadata": {
        "colab": {
          "base_uri": "https://localhost:8080/"
        },
        "id": "yFC5QkuTv06T",
        "outputId": "367c7fb6-c2f0-4dd9-c8c4-44027b1ee8f2"
      },
      "source": [
        "x=scalerr.fit_transform(np.array(new_orig).reshape(-1,1))\n",
        "new_orig_y_scaled=scalerr.fit_transform(np.array(new_orig_y).reshape(-1,1))\n",
        "print(x.shape)# 100x1    Scaled\n",
        "print(new_orig_y_scaled.shape)# 66x1     Scaled"
      ],
      "execution_count": 73,
      "outputs": [
        {
          "output_type": "stream",
          "text": [
            "(100, 1)\n",
            "(66, 1)\n"
          ],
          "name": "stdout"
        }
      ]
    },
    {
      "cell_type": "code",
      "metadata": {
        "colab": {
          "base_uri": "https://localhost:8080/"
        },
        "id": "neK6isY-J2po",
        "outputId": "1d11ba00-5750-4d5d-88c7-e1eb4d7adfc8"
      },
      "source": [
        "#x_inp=x.reshape(1,100,1)\n",
        "#print(x_inp)\n",
        "#pred2=model.predict(x_inp)\n",
        "#pred_unscale=scaler.inverse_transform(pred2)   # pred2 is scaled, ready to be fed into next set of input array, which goes into the predictor\n",
        "#print(\"\\n Pred_Unscale : \" ,pred_unscale)    #pred_unscale stores the unscaled actual prediction-value of pred2, which is to be pushed into prediction array."
      ],
      "execution_count": 56,
      "outputs": [
        {
          "output_type": "stream",
          "text": [
            "[[[0.07593985]\n",
            "  [0.05037594]\n",
            "  [0.08721805]\n",
            "  [0.04172932]\n",
            "  [0.03984962]\n",
            "  [0.01578947]\n",
            "  [0.        ]\n",
            "  [0.06390977]\n",
            "  [0.06616541]\n",
            "  [0.10902256]\n",
            "  [0.12631579]\n",
            "  [0.12406015]\n",
            "  [0.12857143]\n",
            "  [0.1962406 ]\n",
            "  [0.2037594 ]\n",
            "  [0.20601504]\n",
            "  [0.22706767]\n",
            "  [0.1924812 ]\n",
            "  [0.2443609 ]\n",
            "  [0.2481203 ]\n",
            "  [0.25789474]\n",
            "  [0.32631579]\n",
            "  [0.29097744]\n",
            "  [0.25714286]\n",
            "  [0.27819549]\n",
            "  [0.37293233]\n",
            "  [0.39924812]\n",
            "  [0.39924812]\n",
            "  [0.41729323]\n",
            "  [0.42330827]\n",
            "  [0.4556391 ]\n",
            "  [0.40601504]\n",
            "  [0.41654135]\n",
            "  [0.45526316]\n",
            "  [0.46315789]\n",
            "  [0.39849624]\n",
            "  [0.21879699]\n",
            "  [0.16917293]\n",
            "  [0.17706767]\n",
            "  [0.2443609 ]\n",
            "  [0.31654135]\n",
            "  [0.36992481]\n",
            "  [0.30902256]\n",
            "  [0.39473684]\n",
            "  [0.44887218]\n",
            "  [0.52631579]\n",
            "  [0.45338346]\n",
            "  [0.42781955]\n",
            "  [0.51879699]\n",
            "  [0.51879699]\n",
            "  [0.55300752]\n",
            "  [0.52631579]\n",
            "  [0.57593985]\n",
            "  [0.62030075]\n",
            "  [0.66992481]\n",
            "  [0.66616541]\n",
            "  [0.69210526]\n",
            "  [0.80075188]\n",
            "  [0.77518797]\n",
            "  [0.81654135]\n",
            "  [0.75601504]\n",
            "  [0.75639098]\n",
            "  [0.68984962]\n",
            "  [0.66917293]\n",
            "  [0.67518797]\n",
            "  [0.65338346]\n",
            "  [0.66804511]\n",
            "  [0.72932331]\n",
            "  [0.66992481]\n",
            "  [0.65639098]\n",
            "  [0.66917293]\n",
            "  [0.70300752]\n",
            "  [0.66992481]\n",
            "  [0.79699248]\n",
            "  [0.7556391 ]\n",
            "  [0.72180451]\n",
            "  [0.77894737]\n",
            "  [0.78496241]\n",
            "  [0.89924812]\n",
            "  [0.75263158]\n",
            "  [0.70676692]\n",
            "  [0.72556391]\n",
            "  [0.73684211]\n",
            "  [0.67969925]\n",
            "  [0.65037594]\n",
            "  [0.60827068]\n",
            "  [0.58646617]\n",
            "  [0.64661654]\n",
            "  [0.59586466]\n",
            "  [0.73533835]\n",
            "  [0.78646617]\n",
            "  [0.81954887]\n",
            "  [0.90526316]\n",
            "  [0.89924812]\n",
            "  [0.82781955]\n",
            "  [0.88345865]\n",
            "  [0.93609023]\n",
            "  [0.9887218 ]\n",
            "  [0.99699248]\n",
            "  [1.        ]]]\n",
            "\n",
            " Pred_Unscale :  [[3222.4539]]\n"
          ],
          "name": "stdout"
        }
      ]
    },
    {
      "cell_type": "code",
      "metadata": {
        "colab": {
          "base_uri": "https://localhost:8080/"
        },
        "id": "qAdcUx0KHyN-",
        "outputId": "352dc3eb-c789-4ef5-c13f-08c1a18c291a"
      },
      "source": [
        "x_inp=x.reshape(1,100,1)\n",
        "pred66=np.array([])\n",
        "\n",
        "pred2=model.predict(x_inp)\n",
        "pred_unscale=scalerr.inverse_transform(pred2)\n",
        "pred66=np.append(pred66,pred_unscale[0][0])\n",
        "\n",
        "while(len(pred66)<66):\n",
        "  pred2=pred2.reshape(1,1,1)\n",
        "  x_inp=np.append(x_inp, pred2, axis=1)\n",
        "  x_inp=x_inp[:,1:101,:]\n",
        "  pred2=model.predict(x_inp)\n",
        "  pred_unscale=scalerr.inverse_transform(pred2)\n",
        "  pred66=np.append(pred66,pred_unscale[0][0])\n",
        "\n",
        "print(pred66)\n",
        "print(pred66.shape)\n"
      ],
      "execution_count": 74,
      "outputs": [
        {
          "output_type": "stream",
          "text": [
            "[3222.45385742 3188.24682617 3158.45532227 3134.23803711 3112.0324707\n",
            " 3088.70361328 3062.68237305 3033.86206055 3003.08911133 2971.62158203\n",
            " 2940.7175293  2911.40673828 2884.41333008 2860.1730957  2838.89135742\n",
            " 2820.60717773 2805.24291992 2792.64160156 2782.59204102 2774.84423828\n",
            " 2769.12036133 2765.12524414 2762.55273438 2761.09692383 2760.45898438\n",
            " 2760.35351562 2760.515625   2760.70898438 2760.72680664 2760.39648438\n",
            " 2759.57958984 2758.17333984 2756.109375   2753.35083008 2749.8894043\n",
            " 2745.74316406 2740.95141602 2735.57250977 2729.67749023 2723.34960938\n",
            " 2716.67626953 2709.7487793  2702.6574707  2695.48901367 2688.32592773\n",
            " 2681.24145508 2674.30029297 2667.55615234 2661.05249023 2654.82250977\n",
            " 2648.88769531 2643.26049805 2637.94360352 2632.93188477 2628.21289062\n",
            " 2623.76904297 2619.57836914 2615.61474609 2611.85107422 2608.25878906\n",
            " 2604.80957031 2601.47631836 2598.23291016 2595.05541992 2591.92260742\n",
            " 2588.81616211]\n",
            "(66,)\n"
          ],
          "name": "stdout"
        }
      ]
    },
    {
      "cell_type": "code",
      "metadata": {
        "colab": {
          "base_uri": "https://localhost:8080/",
          "height": 265
        },
        "id": "T7UvQRLGybv6",
        "outputId": "2f915b50-841f-4273-fca9-bf5c6eb02b98"
      },
      "source": [
        "plt.plot(x_axis[0:100],new_orig)\n",
        "plt.plot(x_axis[100:166],new_orig_y)\n",
        "plt.plot(x_axis[100:166],pred66)\n",
        "plt.legend([\"Original\",\"original y\",\"Predicted\"])\n",
        "plt.show()"
      ],
      "execution_count": 75,
      "outputs": [
        {
          "output_type": "display_data",
          "data": {
            "image/png": "[encoded data removed]",
            "text/plain": [
              "<Figure size 432x288 with 1 Axes>"
            ]
          },
          "metadata": {
            "tags": [],
            "needs_background": "light"
          }
        }
      ]
    }
  ]
}