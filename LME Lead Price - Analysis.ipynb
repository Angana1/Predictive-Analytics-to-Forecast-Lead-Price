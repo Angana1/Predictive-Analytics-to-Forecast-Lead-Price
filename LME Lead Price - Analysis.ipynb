{
 "cells": [
  {
   "cell_type": "markdown",
   "metadata": {},
   "source": [
    "# LME Lead Stock Prices: Yearly, Quarterly and Monthly Analysis"
   ]
  },
  {
   "cell_type": "markdown",
   "metadata": {},
   "source": [
    "**By Angana Mondal**"
   ]
  },
  {
   "cell_type": "markdown",
   "metadata": {},
   "source": [
    "Datasets used:\n",
    "* LME Lead Stock prices (Daily 2008 to 2021) https://www.westmetall.com/en/markdaten.php?action=table&field=LME_Pb_cash\n",
    "* LME Lead Stock volume (Daily 2008 to 2021) https://www.westmetall.com/en/markdaten.php?action=table&field=LME_Pb_cash\n",
    "* USD/INR Exchange Rate (Daily 2008 to 2021) https://in.finance.yahoo.com/quote/INR%3DX/history?p=INR%3DX\n"
   ]
  },
  {
   "cell_type": "markdown",
   "metadata": {},
   "source": [
    "## Yearly Analysis"
   ]
  },
  {
   "cell_type": "markdown",
   "metadata": {},
   "source": [
    "**LME Lead Stock Price Analysis** "
   ]
  },
  {
   "cell_type": "markdown",
   "metadata": {},
   "source": [
    "Over the course of one year, the weighted average of Lead stock price over the volume (number of lead stocks) was calculated, along with the maximum and minimum stock price within that year. This analysis was done for 14 years from 2008 to 2021. The datatable and visualisation obtained are as follows:\n",
    "Note: Data represents US Dollars per tonne"
   ]
  },
  {
   "cell_type": "code",
   "execution_count": 27,
   "metadata": {},
   "outputs": [
    {
     "data": {
      "text/html": [
       "<div>\n",
       "<style scoped>\n",
       "    .dataframe tbody tr th:only-of-type {\n",
       "        vertical-align: middle;\n",
       "    }\n",
       "\n",
       "    .dataframe tbody tr th {\n",
       "        vertical-align: top;\n",
       "    }\n",
       "\n",
       "    .dataframe thead th {\n",
       "        text-align: right;\n",
       "    }\n",
       "</style>\n",
       "<table border=\"1\" class=\"dataframe\">\n",
       "  <thead>\n",
       "    <tr style=\"text-align: right;\">\n",
       "      <th></th>\n",
       "      <th>Year</th>\n",
       "      <th>Weighted Average Price</th>\n",
       "      <th>Minimum Price</th>\n",
       "      <th>Maximum Price</th>\n",
       "      <th>Max-min</th>\n",
       "    </tr>\n",
       "  </thead>\n",
       "  <tbody>\n",
       "    <tr>\n",
       "      <th>0</th>\n",
       "      <td>2008</td>\n",
       "      <td>$1,843.63</td>\n",
       "      <td>$880.00</td>\n",
       "      <td>$3,253.50</td>\n",
       "      <td>$2,373.50</td>\n",
       "    </tr>\n",
       "    <tr>\n",
       "      <th>1</th>\n",
       "      <td>2009</td>\n",
       "      <td>$1,876.03</td>\n",
       "      <td>$991.50</td>\n",
       "      <td>$2,447.50</td>\n",
       "      <td>$1,456.00</td>\n",
       "    </tr>\n",
       "    <tr>\n",
       "      <th>2</th>\n",
       "      <td>2010</td>\n",
       "      <td>$2,150.71</td>\n",
       "      <td>$1,558.50</td>\n",
       "      <td>$2,593.50</td>\n",
       "      <td>$1,035.00</td>\n",
       "    </tr>\n",
       "    <tr>\n",
       "      <th>3</th>\n",
       "      <td>2011</td>\n",
       "      <td>$2,368.49</td>\n",
       "      <td>$1,791.50</td>\n",
       "      <td>$2,939.00</td>\n",
       "      <td>$1,147.50</td>\n",
       "    </tr>\n",
       "    <tr>\n",
       "      <th>4</th>\n",
       "      <td>2012</td>\n",
       "      <td>$2,058.28</td>\n",
       "      <td>$1,744.00</td>\n",
       "      <td>$2,340.00</td>\n",
       "      <td>$596.00</td>\n",
       "    </tr>\n",
       "    <tr>\n",
       "      <th>5</th>\n",
       "      <td>2013</td>\n",
       "      <td>$2,149.92</td>\n",
       "      <td>$1,949.00</td>\n",
       "      <td>$2,448.00</td>\n",
       "      <td>$499.00</td>\n",
       "    </tr>\n",
       "    <tr>\n",
       "      <th>6</th>\n",
       "      <td>2014</td>\n",
       "      <td>$2,094.15</td>\n",
       "      <td>$1,814.00</td>\n",
       "      <td>$2,269.00</td>\n",
       "      <td>$455.00</td>\n",
       "    </tr>\n",
       "    <tr>\n",
       "      <th>7</th>\n",
       "      <td>2015</td>\n",
       "      <td>$1,791.16</td>\n",
       "      <td>$1,555.00</td>\n",
       "      <td>$2,140.00</td>\n",
       "      <td>$585.00</td>\n",
       "    </tr>\n",
       "    <tr>\n",
       "      <th>8</th>\n",
       "      <td>2016</td>\n",
       "      <td>$1,873.41</td>\n",
       "      <td>$1,597.00</td>\n",
       "      <td>$2,466.00</td>\n",
       "      <td>$869.00</td>\n",
       "    </tr>\n",
       "    <tr>\n",
       "      <th>9</th>\n",
       "      <td>2017</td>\n",
       "      <td>$2,308.09</td>\n",
       "      <td>$2,007.00</td>\n",
       "      <td>$2,586.50</td>\n",
       "      <td>$579.50</td>\n",
       "    </tr>\n",
       "    <tr>\n",
       "      <th>10</th>\n",
       "      <td>2018</td>\n",
       "      <td>$2,257.76</td>\n",
       "      <td>$1,867.00</td>\n",
       "      <td>$2,683.00</td>\n",
       "      <td>$816.00</td>\n",
       "    </tr>\n",
       "    <tr>\n",
       "      <th>11</th>\n",
       "      <td>2019</td>\n",
       "      <td>$1,997.45</td>\n",
       "      <td>$1,768.00</td>\n",
       "      <td>$2,267.00</td>\n",
       "      <td>$499.00</td>\n",
       "    </tr>\n",
       "    <tr>\n",
       "      <th>12</th>\n",
       "      <td>2020</td>\n",
       "      <td>$1,838.61</td>\n",
       "      <td>$1,576.50</td>\n",
       "      <td>$2,117.50</td>\n",
       "      <td>$541.00</td>\n",
       "    </tr>\n",
       "    <tr>\n",
       "      <th>13</th>\n",
       "      <td>2021</td>\n",
       "      <td>$2,033.24</td>\n",
       "      <td>$1,896.00</td>\n",
       "      <td>$2,228.50</td>\n",
       "      <td>$332.50</td>\n",
       "    </tr>\n",
       "  </tbody>\n",
       "</table>\n",
       "</div>"
      ],
      "text/plain": [
       "    Year Weighted Average Price Minimum Price Maximum Price    Max-min\n",
       "0   2008              $1,843.63       $880.00     $3,253.50  $2,373.50\n",
       "1   2009              $1,876.03       $991.50     $2,447.50  $1,456.00\n",
       "2   2010              $2,150.71     $1,558.50     $2,593.50  $1,035.00\n",
       "3   2011              $2,368.49     $1,791.50     $2,939.00  $1,147.50\n",
       "4   2012              $2,058.28     $1,744.00     $2,340.00    $596.00\n",
       "5   2013              $2,149.92     $1,949.00     $2,448.00    $499.00\n",
       "6   2014              $2,094.15     $1,814.00     $2,269.00    $455.00\n",
       "7   2015              $1,791.16     $1,555.00     $2,140.00    $585.00\n",
       "8   2016              $1,873.41     $1,597.00     $2,466.00    $869.00\n",
       "9   2017              $2,308.09     $2,007.00     $2,586.50    $579.50\n",
       "10  2018              $2,257.76     $1,867.00     $2,683.00    $816.00\n",
       "11  2019              $1,997.45     $1,768.00     $2,267.00    $499.00\n",
       "12  2020              $1,838.61     $1,576.50     $2,117.50    $541.00\n",
       "13  2021              $2,033.24     $1,896.00     $2,228.50    $332.50"
      ]
     },
     "execution_count": 27,
     "metadata": {},
     "output_type": "execute_result"
    }
   ],
   "source": [
    "import pandas as pd\n",
    "df = pd.read_csv (r'Yearly Lead Price.csv')\n",
    "df.head(14)"
   ]
  },
  {
   "cell_type": "markdown",
   "metadata": {},
   "source": [
    "<img src=\"yearly_lead_price.png\" style=\"width:754px;height:527px\"/>"
   ]
  },
  {
   "cell_type": "markdown",
   "metadata": {},
   "source": [
    "*Observations and Conclusions:*\n",
    "\n",
    "* **Low price in 2008**: The global financial crisis of 2007-2008 (tied to the housing bubble in the US, and bail-outs of financial institutions) caused a drop in metal prices.\n",
    "\n",
    "* **Price rises and peaks in 2011**: Demand for industrial metals around the world increased as economies recovered. Chinese demand grew strongly due to its focus on public investment.\n",
    "\n",
    "* **Price falls in 2015 and 2016**: Prices of base metals dropped sharply in 2015 and hit multi-year lows at the start of 2016. A combination of a global surplus of output in many commodity markets and decreased demand drove prices down. The World Bank specifically cited demand weakness from China as a principle reason for the fall in metal prices in 2014. \n",
    "\n",
    "* **Price rises in 2017 and 2018**:The biggest cause for rise in base metal prices was the credit-fuelled construction boom in China. Other factors included strong demand for industrial metals, especially from China, and supply constraints, including mine disruptions in Chile, Indonesia and Peru.\n",
    "\n",
    "* **Price falls in 2020**: The global economic downturn due to the COVID-19 pandemic drove commodity prices down and thus lead prices reached a low in 2020. With relaxation of lockdowns and economic recovery, prices are following an increasing trend in 2021.\n",
    "\n",
    "* **The (Max-Min) variation** is decreasing over time as can be seen from the datatable.\n",
    "\n",
    "From the visualisation above, the safe average price range to purchase Lead stocks lies within **₹1800 to ₹2300**. Purchase should be avoided when lead prices are **above ₹2300**.\n"
   ]
  },
  {
   "cell_type": "markdown",
   "metadata": {},
   "source": [
    "<img src=\"max-min.png\"/>"
   ]
  },
  {
   "cell_type": "markdown",
   "metadata": {},
   "source": [
    "    "
   ]
  },
  {
   "cell_type": "markdown",
   "metadata": {},
   "source": [
    "**LME Lead Stock Volume Analysis**"
   ]
  },
  {
   "cell_type": "markdown",
   "metadata": {},
   "source": [
    "For each year from 2008 to 2021, the yearly averages of lead stocks were obtained, and the trend was visualised. "
   ]
  },
  {
   "cell_type": "code",
   "execution_count": 26,
   "metadata": {},
   "outputs": [
    {
     "data": {
      "text/html": [
       "<div>\n",
       "<style scoped>\n",
       "    .dataframe tbody tr th:only-of-type {\n",
       "        vertical-align: middle;\n",
       "    }\n",
       "\n",
       "    .dataframe tbody tr th {\n",
       "        vertical-align: top;\n",
       "    }\n",
       "\n",
       "    .dataframe thead th {\n",
       "        text-align: right;\n",
       "    }\n",
       "</style>\n",
       "<table border=\"1\" class=\"dataframe\">\n",
       "  <thead>\n",
       "    <tr style=\"text-align: right;\">\n",
       "      <th></th>\n",
       "      <th>Year</th>\n",
       "      <th>Average Number of Lead Stocks</th>\n",
       "    </tr>\n",
       "  </thead>\n",
       "  <tbody>\n",
       "    <tr>\n",
       "      <th>0</th>\n",
       "      <td>2008</td>\n",
       "      <td>73854.84973</td>\n",
       "    </tr>\n",
       "    <tr>\n",
       "      <th>1</th>\n",
       "      <td>2009</td>\n",
       "      <td>93838.11475</td>\n",
       "    </tr>\n",
       "    <tr>\n",
       "      <th>2</th>\n",
       "      <td>2010</td>\n",
       "      <td>184212.15850</td>\n",
       "    </tr>\n",
       "    <tr>\n",
       "      <th>3</th>\n",
       "      <td>2011</td>\n",
       "      <td>318945.69670</td>\n",
       "    </tr>\n",
       "    <tr>\n",
       "      <th>4</th>\n",
       "      <td>2012</td>\n",
       "      <td>340727.25410</td>\n",
       "    </tr>\n",
       "    <tr>\n",
       "      <th>5</th>\n",
       "      <td>2013</td>\n",
       "      <td>238617.55460</td>\n",
       "    </tr>\n",
       "    <tr>\n",
       "      <th>6</th>\n",
       "      <td>2014</td>\n",
       "      <td>210513.72950</td>\n",
       "    </tr>\n",
       "    <tr>\n",
       "      <th>7</th>\n",
       "      <td>2015</td>\n",
       "      <td>185072.13110</td>\n",
       "    </tr>\n",
       "    <tr>\n",
       "      <th>8</th>\n",
       "      <td>2016</td>\n",
       "      <td>184980.19130</td>\n",
       "    </tr>\n",
       "    <tr>\n",
       "      <th>9</th>\n",
       "      <td>2017</td>\n",
       "      <td>167367.96450</td>\n",
       "    </tr>\n",
       "    <tr>\n",
       "      <th>10</th>\n",
       "      <td>2018</td>\n",
       "      <td>124564.75410</td>\n",
       "    </tr>\n",
       "    <tr>\n",
       "      <th>11</th>\n",
       "      <td>2019</td>\n",
       "      <td>74114.75410</td>\n",
       "    </tr>\n",
       "    <tr>\n",
       "      <th>12</th>\n",
       "      <td>2020</td>\n",
       "      <td>93921.78962</td>\n",
       "    </tr>\n",
       "    <tr>\n",
       "      <th>13</th>\n",
       "      <td>2021</td>\n",
       "      <td>109691.18850</td>\n",
       "    </tr>\n",
       "  </tbody>\n",
       "</table>\n",
       "</div>"
      ],
      "text/plain": [
       "    Year  Average Number of Lead Stocks\n",
       "0   2008                    73854.84973\n",
       "1   2009                    93838.11475\n",
       "2   2010                   184212.15850\n",
       "3   2011                   318945.69670\n",
       "4   2012                   340727.25410\n",
       "5   2013                   238617.55460\n",
       "6   2014                   210513.72950\n",
       "7   2015                   185072.13110\n",
       "8   2016                   184980.19130\n",
       "9   2017                   167367.96450\n",
       "10  2018                   124564.75410\n",
       "11  2019                    74114.75410\n",
       "12  2020                    93921.78962\n",
       "13  2021                   109691.18850"
      ]
     },
     "execution_count": 26,
     "metadata": {},
     "output_type": "execute_result"
    }
   ],
   "source": [
    "yearly_lead_stocks = pd.read_csv (r'yearly Lead Stocks.csv')\n",
    "yearly_lead_stocks.head(14)"
   ]
  },
  {
   "cell_type": "markdown",
   "metadata": {},
   "source": [
    "<img src=\"yearly lead stocks.png\"/>"
   ]
  },
  {
   "cell_type": "markdown",
   "metadata": {},
   "source": [
    "*Observation:*\n",
    "\n",
    "As we can see from the data, the number of Lead stocks follows the **same trend as the lead stock price (low in 2008, high in 2011, low in 2015, stable in 2016 and 2017, low in 2019)**. When lead stocks are higher in number, price is higher. Similarly when lead stocks are lower in number, price is lower. High price corresponds to a higher inventory count, whereas low price corresponds to a lower inventory count. It can be thus concluded that the **number of lead stocks affects the lead price.** "
   ]
  },
  {
   "cell_type": "markdown",
   "metadata": {},
   "source": [
    "   "
   ]
  },
  {
   "cell_type": "markdown",
   "metadata": {},
   "source": [
    "**USD/INR Exchange Rate Analysis**"
   ]
  },
  {
   "cell_type": "markdown",
   "metadata": {},
   "source": [
    "For each year, the average USD/INR Exchange Rate was obtained, and the trend was visualised. \n",
    "Note: The data represents the value of 1 USD in terms of Indian Rupees."
   ]
  },
  {
   "cell_type": "code",
   "execution_count": 25,
   "metadata": {},
   "outputs": [
    {
     "data": {
      "text/html": [
       "<div>\n",
       "<style scoped>\n",
       "    .dataframe tbody tr th:only-of-type {\n",
       "        vertical-align: middle;\n",
       "    }\n",
       "\n",
       "    .dataframe tbody tr th {\n",
       "        vertical-align: top;\n",
       "    }\n",
       "\n",
       "    .dataframe thead th {\n",
       "        text-align: right;\n",
       "    }\n",
       "</style>\n",
       "<table border=\"1\" class=\"dataframe\">\n",
       "  <thead>\n",
       "    <tr style=\"text-align: right;\">\n",
       "      <th></th>\n",
       "      <th>Year</th>\n",
       "      <th>Average</th>\n",
       "    </tr>\n",
       "  </thead>\n",
       "  <tbody>\n",
       "    <tr>\n",
       "      <th>0</th>\n",
       "      <td>2008</td>\n",
       "      <td>$43.36</td>\n",
       "    </tr>\n",
       "    <tr>\n",
       "      <th>1</th>\n",
       "      <td>2009</td>\n",
       "      <td>$48.26</td>\n",
       "    </tr>\n",
       "    <tr>\n",
       "      <th>2</th>\n",
       "      <td>2010</td>\n",
       "      <td>$45.62</td>\n",
       "    </tr>\n",
       "    <tr>\n",
       "      <th>3</th>\n",
       "      <td>2011</td>\n",
       "      <td>$46.55</td>\n",
       "    </tr>\n",
       "    <tr>\n",
       "      <th>4</th>\n",
       "      <td>2012</td>\n",
       "      <td>$53.42</td>\n",
       "    </tr>\n",
       "    <tr>\n",
       "      <th>5</th>\n",
       "      <td>2013</td>\n",
       "      <td>$58.54</td>\n",
       "    </tr>\n",
       "    <tr>\n",
       "      <th>6</th>\n",
       "      <td>2014</td>\n",
       "      <td>$60.98</td>\n",
       "    </tr>\n",
       "    <tr>\n",
       "      <th>7</th>\n",
       "      <td>2015</td>\n",
       "      <td>$64.12</td>\n",
       "    </tr>\n",
       "    <tr>\n",
       "      <th>8</th>\n",
       "      <td>2016</td>\n",
       "      <td>$67.17</td>\n",
       "    </tr>\n",
       "    <tr>\n",
       "      <th>9</th>\n",
       "      <td>2017</td>\n",
       "      <td>$65.11</td>\n",
       "    </tr>\n",
       "    <tr>\n",
       "      <th>10</th>\n",
       "      <td>2018</td>\n",
       "      <td>$68.46</td>\n",
       "    </tr>\n",
       "    <tr>\n",
       "      <th>11</th>\n",
       "      <td>2019</td>\n",
       "      <td>$70.57</td>\n",
       "    </tr>\n",
       "    <tr>\n",
       "      <th>12</th>\n",
       "      <td>2020</td>\n",
       "      <td>$74.23</td>\n",
       "    </tr>\n",
       "    <tr>\n",
       "      <th>13</th>\n",
       "      <td>2021</td>\n",
       "      <td>$73.34</td>\n",
       "    </tr>\n",
       "  </tbody>\n",
       "</table>\n",
       "</div>"
      ],
      "text/plain": [
       "    Year Average \n",
       "0   2008   $43.36\n",
       "1   2009   $48.26\n",
       "2   2010   $45.62\n",
       "3   2011   $46.55\n",
       "4   2012   $53.42\n",
       "5   2013   $58.54\n",
       "6   2014   $60.98\n",
       "7   2015   $64.12\n",
       "8   2016   $67.17\n",
       "9   2017   $65.11\n",
       "10  2018   $68.46\n",
       "11  2019   $70.57\n",
       "12  2020   $74.23\n",
       "13  2021   $73.34"
      ]
     },
     "execution_count": 25,
     "metadata": {},
     "output_type": "execute_result"
    }
   ],
   "source": [
    "exchange_rate = pd.read_csv (r'USD-INR exchange rate.csv')\n",
    "exchange_rate.head(14)"
   ]
  },
  {
   "cell_type": "markdown",
   "metadata": {},
   "source": [
    "<img src=\"usdinr exchange rate.png\"/>"
   ]
  },
  {
   "cell_type": "markdown",
   "metadata": {},
   "source": [
    "*Observation:*\n",
    "\n",
    "Metal prices are tied to the global economy which is indicated via the exchange rate mechanisms, and thus metal prices change as the exchange rates fluctuate. The USD/INR exchange rate follows a continuously increasing trend over the last 14 years. As we can see from the data, **the exchange rate has an inverse relation with stock price, i.e, higher the stock price, lower the exchange rate and vice versa.** \n",
    "Thus, the USD/INR exchange rate can serve as a good indicator of LME lead prices.\n"
   ]
  },
  {
   "cell_type": "markdown",
   "metadata": {},
   "source": [
    "    "
   ]
  },
  {
   "cell_type": "markdown",
   "metadata": {},
   "source": [
    "## Quarterly Analysis"
   ]
  },
  {
   "cell_type": "markdown",
   "metadata": {},
   "source": [
    "For each quarter over the last 14 years, the weighted average, maximum and minimum value of LME Lead price was obtained, and the trend was visualised. Note:Data represents US Dollars per tonne."
   ]
  },
  {
   "cell_type": "code",
   "execution_count": 24,
   "metadata": {},
   "outputs": [
    {
     "data": {
      "text/html": [
       "<div>\n",
       "<style scoped>\n",
       "    .dataframe tbody tr th:only-of-type {\n",
       "        vertical-align: middle;\n",
       "    }\n",
       "\n",
       "    .dataframe tbody tr th {\n",
       "        vertical-align: top;\n",
       "    }\n",
       "\n",
       "    .dataframe thead th {\n",
       "        text-align: right;\n",
       "    }\n",
       "</style>\n",
       "<table border=\"1\" class=\"dataframe\">\n",
       "  <thead>\n",
       "    <tr style=\"text-align: right;\">\n",
       "      <th></th>\n",
       "      <th>Quarter</th>\n",
       "      <th>Weighted Average Lead Price</th>\n",
       "      <th>Max Price</th>\n",
       "      <th>Min Price</th>\n",
       "    </tr>\n",
       "  </thead>\n",
       "  <tbody>\n",
       "    <tr>\n",
       "      <th>0</th>\n",
       "      <td>2008</td>\n",
       "      <td></td>\n",
       "      <td></td>\n",
       "      <td></td>\n",
       "    </tr>\n",
       "    <tr>\n",
       "      <th>1</th>\n",
       "      <td>Qtr1</td>\n",
       "      <td>$2,256.33</td>\n",
       "      <td>$3,253.50</td>\n",
       "      <td>$1,802.00</td>\n",
       "    </tr>\n",
       "    <tr>\n",
       "      <th>2</th>\n",
       "      <td>Qtr2</td>\n",
       "      <td>$1,801.60</td>\n",
       "      <td>$1,886.00</td>\n",
       "      <td>$1,735.50</td>\n",
       "    </tr>\n",
       "    <tr>\n",
       "      <th>3</th>\n",
       "      <td>Qtr3</td>\n",
       "      <td>$1,909.07</td>\n",
       "      <td>$2,245.00</td>\n",
       "      <td>$1,546.50</td>\n",
       "    </tr>\n",
       "    <tr>\n",
       "      <th>4</th>\n",
       "      <td>Qtr4</td>\n",
       "      <td>$1,265.53</td>\n",
       "      <td>$1,806.00</td>\n",
       "      <td>$880.00</td>\n",
       "    </tr>\n",
       "    <tr>\n",
       "      <th>5</th>\n",
       "      <td>2009</td>\n",
       "      <td></td>\n",
       "      <td></td>\n",
       "      <td></td>\n",
       "    </tr>\n",
       "    <tr>\n",
       "      <th>6</th>\n",
       "      <td>Qtr1</td>\n",
       "      <td>$1,161.32</td>\n",
       "      <td>$1,341.00</td>\n",
       "      <td>$991.50</td>\n",
       "    </tr>\n",
       "    <tr>\n",
       "      <th>7</th>\n",
       "      <td>Qtr2</td>\n",
       "      <td>$1,516.53</td>\n",
       "      <td>$1,796.50</td>\n",
       "      <td>$1,242.00</td>\n",
       "    </tr>\n",
       "    <tr>\n",
       "      <th>8</th>\n",
       "      <td>Qtr3</td>\n",
       "      <td>$1,949.24</td>\n",
       "      <td>$2,447.50</td>\n",
       "      <td>$1,567.00</td>\n",
       "    </tr>\n",
       "    <tr>\n",
       "      <th>9</th>\n",
       "      <td>Qtr4</td>\n",
       "      <td>$2,293.43</td>\n",
       "      <td>$2,445.00</td>\n",
       "      <td>$2,085.00</td>\n",
       "    </tr>\n",
       "    <tr>\n",
       "      <th>10</th>\n",
       "      <td>2010</td>\n",
       "      <td></td>\n",
       "      <td></td>\n",
       "      <td></td>\n",
       "    </tr>\n",
       "    <tr>\n",
       "      <th>11</th>\n",
       "      <td>Qtr1</td>\n",
       "      <td>$2,219.84</td>\n",
       "      <td>$2,591.00</td>\n",
       "      <td>$1,925.00</td>\n",
       "    </tr>\n",
       "    <tr>\n",
       "      <th>12</th>\n",
       "      <td>Qtr2</td>\n",
       "      <td>$1,946.97</td>\n",
       "      <td>$2,368.00</td>\n",
       "      <td>$1,558.50</td>\n",
       "    </tr>\n",
       "    <tr>\n",
       "      <th>13</th>\n",
       "      <td>Qtr3</td>\n",
       "      <td>$2,031.08</td>\n",
       "      <td>$2,272.50</td>\n",
       "      <td>$1,692.50</td>\n",
       "    </tr>\n",
       "    <tr>\n",
       "      <th>14</th>\n",
       "      <td>Qtr4</td>\n",
       "      <td>$2,392.83</td>\n",
       "      <td>$2,593.50</td>\n",
       "      <td>$2,150.00</td>\n",
       "    </tr>\n",
       "  </tbody>\n",
       "</table>\n",
       "</div>"
      ],
      "text/plain": [
       "   Quarter Weighted Average Lead Price  Max Price  Min Price\n",
       "0     2008                                                  \n",
       "1     Qtr1                   $2,256.33  $3,253.50  $1,802.00\n",
       "2     Qtr2                   $1,801.60  $1,886.00  $1,735.50\n",
       "3     Qtr3                   $1,909.07  $2,245.00  $1,546.50\n",
       "4     Qtr4                   $1,265.53  $1,806.00    $880.00\n",
       "5     2009                                                  \n",
       "6     Qtr1                   $1,161.32  $1,341.00    $991.50\n",
       "7     Qtr2                   $1,516.53  $1,796.50  $1,242.00\n",
       "8     Qtr3                   $1,949.24  $2,447.50  $1,567.00\n",
       "9     Qtr4                   $2,293.43  $2,445.00  $2,085.00\n",
       "10    2010                                                  \n",
       "11    Qtr1                   $2,219.84  $2,591.00  $1,925.00\n",
       "12    Qtr2                   $1,946.97  $2,368.00  $1,558.50\n",
       "13    Qtr3                   $2,031.08  $2,272.50  $1,692.50\n",
       "14    Qtr4                   $2,392.83  $2,593.50  $2,150.00"
      ]
     },
     "execution_count": 24,
     "metadata": {},
     "output_type": "execute_result"
    }
   ],
   "source": [
    "import numpy as np\n",
    "q = pd.read_csv (r'quarterly price.csv')\n",
    "q = q.replace(np.nan, '', regex=True) \n",
    "\n",
    "q.head(15) #Printing quarterly values of first 3 months"
   ]
  },
  {
   "cell_type": "markdown",
   "metadata": {},
   "source": [
    "<img src=\"quarterly price.png\"/>"
   ]
  },
  {
   "cell_type": "markdown",
   "metadata": {},
   "source": [
    "*Observations:*\n",
    "\n",
    "The data visualisation follows a **long term cyclic trend with alternating lows and highs repeating over a period of approximately 7-8 years.** For example - repeating peaks in 2011 and 2018, repeating lows in 2008 and 2016, and so on. There is no clearly increasing or decreasing trend which can be observed."
   ]
  },
  {
   "cell_type": "markdown",
   "metadata": {},
   "source": [
    "**Favourable Quarters for purchasing Lead**"
   ]
  },
  {
   "cell_type": "markdown",
   "metadata": {},
   "source": [
    "To determine the quarters which are favourable for the purchase of lead, each quarterly average price was compared with the yearly average price (of that year). **If the average price in a quarter is lower than the yearly average of that year, that particular quarter is considered favourable for purchasing lead.**<br><br> Below listed are the favourable quarters for each year (i.e, quarterly average is less than yearly average) :\n"
   ]
  },
  {
   "cell_type": "markdown",
   "metadata": {},
   "source": [
    "| Year | Favourable quarters |\n",
    "|------|---------------------|\n",
    "|2008|2,4|\n",
    "|2009|1,2|\n",
    "|2010|2,3|\n",
    "|2011|4|\n",
    "|2012|2,3|\n",
    "|2013|2,3,4|\n",
    "|2014|4|\n",
    "|2015|3,4|\n",
    "|2016|1,2,3|\n",
    "|2017|1,2|\n",
    "|2018|3,4|\n",
    "|2019|2|\n",
    "|2020|2|\n",
    "|2021|1|"
   ]
  },
  {
   "cell_type": "markdown",
   "metadata": {},
   "source": [
    "*Observations and Conclusions:*\n",
    "\n",
    "In **42.85%** of cases (in 6 out of 14 years), the **second quarter** encountered the year-round lowest price of lead, and in **64.285%** of cases (in 9 out of 14 years), the price of lead in the second quarter was lower than the yearly average. \n",
    "\n",
    "In **35.71%** of cases (in 5 out of 14 years), the **fourth quarter** encountered the year-round lowest price of lead. In **42.85%** of cases (6 out of 14 years), the price of lead in the fourth quarter was lower than the yearly average - these were usually periods immediately following a peak (price hike). \n",
    "\n",
    "In **42.85%** of cases (6 out of 14 years), the price of lead in the **third quarter** was lower than the yearly average. However, the third quarter encountered the year-round lowest price of lead only in **7.14%** of cases (1 out of 14 years).\n",
    "\n",
    "According to the above analysis, the most suitable time to purchase lead would be in the **second quarter of the year (April, May, June)**, unless there is specifically a price hike in those months (price>₹2300). In that case (time periods directly following a peak), the best time to purchase lead would be in the **fourth quarter (October, November, December)**. The most favourable quarters, in descending order of preference are therefore - **second quarter, followed by the fourth quarter, followed by the third quarter**. The first quarter should be avoided while purchasing lead, since prices are usually high in the first quarter.\n"
   ]
  },
  {
   "cell_type": "markdown",
   "metadata": {},
   "source": [
    "    "
   ]
  },
  {
   "cell_type": "markdown",
   "metadata": {},
   "source": [
    "## Monthly Analysis"
   ]
  },
  {
   "cell_type": "markdown",
   "metadata": {},
   "source": [
    "The table below shows the **average Lead price (weighted over volume of lead stocks)** for each month from 2008 to 2021. Note: The data represents US dollars per tonne. <br> To determine the **most favourable months** for purchasing lead, **three months with the lowest average lead price each year** have been highlighted in green. These months are therefore favourable for the purchase of lead."
   ]
  },
  {
   "cell_type": "markdown",
   "metadata": {},
   "source": [
    "<img src=\"favourable months.png\"/>"
   ]
  },
  {
   "cell_type": "markdown",
   "metadata": {},
   "source": [
    "*Observations:*\n",
    "\n",
    "The month-columns with maximum number of highlighted blocks represent the most favourable months, since the highlighted blocks signify three months with lowest recorded average price of the year.\n",
    "    \n",
    "Thus from the above table we may conclude that **May and June are the most favourable months** for lead purchase, followed by **November, December and October**. This corresponds to our earlier finding that **the second quarter is most favourable for purchase of Lead, followed by the fourth quarter of the year**. **February, August and September are least favourable**, and thus purchase should be avoided in these months. "
   ]
  },
  {
   "cell_type": "markdown",
   "metadata": {},
   "source": [
    "      "
   ]
  },
  {
   "cell_type": "markdown",
   "metadata": {},
   "source": [
    "Furthermore, **two commonly dominant trends** can be noticed in the monthly weighted-average lead prices. \n",
    "\n",
    "* **Trend 1 (First plot below)**: Price is initially high in the first and second quarters, slightly rises in the third quarter and falls significantly in the fourth quarter. Such a trend can be seen in 2008, 2011, 2014 and 2018. When the yearly trend follows this pattern, it is favourable to purchase lead stocks in the fourth quarter.\n",
    "\n",
    "* **Trend 2 (Second plot below)** : Price is initially high in the first quarter, decreases significantly in the second quarter, then again rises in the third and fourth quarter. Such a trend can be seen in 2010, 2012, 2013,2016,2017 and 2020. When the yearly trend follows this pattern, it is favourable to purchase lead stocks in the second quarter.\n",
    "\n",
    "As we can conclude from our observations, the **second and fourth quarter of the year are the most favourable for purchase of lead stocks (lowest prices)**. However, more number of years follow the second trend, thus, on an average, **the second quarter is more favourable than the fourth quarter**. The first and third quarter have moderate to high prices, thus should generally be avoided."
   ]
  },
  {
   "cell_type": "markdown",
   "metadata": {},
   "source": [
    "|                                                    |                                                   |\n",
    "|----------------------------------------------------|---------------------------------------------------|\n",
    "|<img src=\"monthly trend 1.png\"/>|<img src=\"monthly trend 2.png\"/>|\n"
   ]
  }
 ],
 "metadata": {
  "kernelspec": {
   "display_name": "Python 3",
   "language": "python",
   "name": "python3"
  },
  "language_info": {
   "codemirror_mode": {
    "name": "ipython",
    "version": 3
   },
   "file_extension": ".py",
   "mimetype": "text/x-python",
   "name": "python",
   "nbconvert_exporter": "python",
   "pygments_lexer": "ipython3",
   "version": "3.7.9"
  }
 },
 "nbformat": 4,
 "nbformat_minor": 4
}
