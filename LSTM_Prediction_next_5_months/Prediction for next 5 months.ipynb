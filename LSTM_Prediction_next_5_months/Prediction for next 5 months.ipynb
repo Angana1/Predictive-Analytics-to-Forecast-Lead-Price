{
 "cells": [
  {
   "cell_type": "markdown",
   "metadata": {},
   "source": [
    "# LSTM Model to predict average lead price for next 5 months"
   ]
  },
  {
   "cell_type": "markdown",
   "metadata": {},
   "source": [
    "## Instructions for running:\n",
    "\n",
    "### In the 'input_data.csv' file, enter the average lead prices and USD/INR Exchange Rate values for the last 10 months in the consecutive columns. Then run all the cells below. <br>\n",
    "   "
   ]
  },
  {
   "cell_type": "code",
   "execution_count": 37,
   "metadata": {},
   "outputs": [
    {
     "name": "stdout",
     "output_type": "stream",
     "text": [
      "    Lead Price  USD/INR Exchange Rate\n",
      "0  1935.842196              74.744413\n",
      "1  1878.680372              73.584960\n",
      "2  1773.961685              73.562340\n",
      "3  1918.888424              74.279537\n",
      "4  2001.907066              73.719248\n",
      "5  2012.419036              73.138439\n",
      "6  2089.104842              72.791140\n",
      "7  1954.569200              72.801716\n",
      "8  1997.856000              74.454233\n",
      "9  2188.551802              73.582459\n"
     ]
    }
   ],
   "source": [
    "from tensorflow.keras.models import load_model\n",
    "model=load_model('model.h5')\n",
    "import numpy as np\n",
    "import pandas as pd\n",
    "df=pd.read_csv('input_data.csv')\n",
    "print(df) #Reading CSV file"
   ]
  },
  {
   "cell_type": "code",
   "execution_count": 38,
   "metadata": {},
   "outputs": [],
   "source": [
    "lead_unscaled=df['Lead Price'].tolist()\n",
    "from sklearn.preprocessing import MinMaxScaler\n",
    "scaler = MinMaxScaler(feature_range=(0,1))\n",
    "scaler = scaler.fit(df)\n",
    "data_scaled = scaler.transform(df)\n",
    "data_scaled=data_scaled.reshape(1,data_scaled.shape[0],data_scaled.shape[1]) #(samples,past days, number of features)\n",
    "forecast = model.predict(data_scaled) #forecast \n",
    "element=forecast[0]\n",
    "element= np. reshape(element, (element.shape[0], 1))\n",
    "forecast_copies = np.repeat(element, 2, axis=1)\n",
    "y_pred_future = scaler.inverse_transform(forecast_copies)\n",
    "#extracting required column from 2 repeated columns\n",
    "y_pred=[] \n",
    "for arr in y_pred_future:\n",
    "  y_pred.append(arr[0])\n",
    "y_pred= np.array(y_pred)"
   ]
  },
  {
   "cell_type": "markdown",
   "metadata": {},
   "source": [
    "## Prediction:"
   ]
  },
  {
   "cell_type": "code",
   "execution_count": 36,
   "metadata": {},
   "outputs": [
    {
     "name": "stdout",
     "output_type": "stream",
     "text": [
      "Predicted values for next 5 months: [2103.0337 2074.9592 2027.3541 2002.2565 1997.8081]\n"
     ]
    }
   ],
   "source": [
    "print(\"Predicted values for next 5 months:\",y_pred) #predictions on first test example"
   ]
  },
  {
   "cell_type": "markdown",
   "metadata": {},
   "source": [
    "## Plot of prediction:"
   ]
  },
  {
   "cell_type": "code",
   "execution_count": 39,
   "metadata": {},
   "outputs": [
    {
     "data": {
      "image/png": "[encoded data removed]",
      "text/plain": [
       "<Figure size 432x288 with 1 Axes>"
      ]
     },
     "metadata": {
      "needs_background": "light"
     },
     "output_type": "display_data"
    }
   ],
   "source": [
    "#Plotting input and prediction\n",
    "\n",
    "from matplotlib import pyplot as plt\n",
    "\n",
    "x_axis=np.array([])\n",
    "for i in range(15):\n",
    "  x_axis=np.append(x_axis, i)\n",
    "\n",
    "plt.plot(x_axis[0:10],lead_unscaled)\n",
    "plt.plot(x_axis[10:15],y_pred)\n",
    "plt.legend([\"Input\",\"Prediction\"])\n",
    "plt.show()"
   ]
  }
 ],
 "metadata": {
  "kernelspec": {
   "display_name": "Python 3",
   "language": "python",
   "name": "python3"
  },
  "language_info": {
   "codemirror_mode": {
    "name": "ipython",
    "version": 3
   },
   "file_extension": ".py",
   "mimetype": "text/x-python",
   "name": "python",
   "nbconvert_exporter": "python",
   "pygments_lexer": "ipython3",
   "version": "3.7.9"
  }
 },
 "nbformat": 4,
 "nbformat_minor": 4
}
