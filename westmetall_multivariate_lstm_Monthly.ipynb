{
  "nbformat": 4,
  "nbformat_minor": 0,
  "metadata": {
    "colab": {
      "name": "westmetall multivariate lstm Monthly.ipynb",
      "provenance": [],
      "authorship_tag": "ABX9TyOiFV38Rxx0qUvsErGZaUD9",
      "include_colab_link": true
    },
    "kernelspec": {
      "name": "python3",
      "display_name": "Python 3"
    },
    "language_info": {
      "name": "python"
    }
  },
  "cells": [
    {
      "cell_type": "markdown",
      "metadata": {
        "id": "view-in-github",
        "colab_type": "text"
      },
      "source": [
        "<a href=\"https://colab.research.google.com/github/Angana1/Stock-Price-Prediction-London-Metal-Exchange-/blob/main/westmetall_multivariate_lstm_Monthly.ipynb\" target=\"_parent\"><img src=\"https://colab.research.google.com/assets/colab-badge.svg\" alt=\"Open In Colab\"/></a>"
      ]
    },
    {
      "cell_type": "code",
      "metadata": {
        "id": "CTwJWTnbelub"
      },
      "source": [
        "import pandas as pd\n",
        "import numpy as np\n",
        "from sklearn.preprocessing import MinMaxScaler\n",
        "from tensorflow.keras.models import Sequential\n",
        "from tensorflow.keras.layers import Dense,Dropout\n",
        "from tensorflow.keras.layers import LSTM\n",
        "from matplotlib import pyplot as plt"
      ],
      "execution_count": null,
      "outputs": []
    },
    {
      "cell_type": "markdown",
      "metadata": {
        "id": "BIFb8uv1ez2B"
      },
      "source": [
        "# Getting Data"
      ]
    },
    {
      "cell_type": "code",
      "metadata": {
        "id": "hxCjru0le1Z2"
      },
      "source": [
        "lead=pd.read_csv('/content/Monthly Weighted Avg Lead Price.csv')\n",
        "usdinr=pd.read_csv('/content/USDINR_monthlyAvg.csv')"
      ],
      "execution_count": null,
      "outputs": []
    },
    {
      "cell_type": "code",
      "metadata": {
        "colab": {
          "base_uri": "https://localhost:8080/",
          "height": 204
        },
        "id": "8hnz_nHSYAMj",
        "outputId": "b27de66c-e53a-47a1-c1ba-c52b9dc42abf"
      },
      "source": [
        "usdinr.head()"
      ],
      "execution_count": null,
      "outputs": [
        {
          "output_type": "execute_result",
          "data": {
            "text/html": [
              "<div>\n",
              "<style scoped>\n",
              "    .dataframe tbody tr th:only-of-type {\n",
              "        vertical-align: middle;\n",
              "    }\n",
              "\n",
              "    .dataframe tbody tr th {\n",
              "        vertical-align: top;\n",
              "    }\n",
              "\n",
              "    .dataframe thead th {\n",
              "        text-align: right;\n",
              "    }\n",
              "</style>\n",
              "<table border=\"1\" class=\"dataframe\">\n",
              "  <thead>\n",
              "    <tr style=\"text-align: right;\">\n",
              "      <th></th>\n",
              "      <th>Date</th>\n",
              "      <th>Close Monthly Average</th>\n",
              "    </tr>\n",
              "  </thead>\n",
              "  <tbody>\n",
              "    <tr>\n",
              "      <th>0</th>\n",
              "      <td>Jan-08</td>\n",
              "      <td>39.245904</td>\n",
              "    </tr>\n",
              "    <tr>\n",
              "      <th>1</th>\n",
              "      <td>Feb-08</td>\n",
              "      <td>39.643000</td>\n",
              "    </tr>\n",
              "    <tr>\n",
              "      <th>2</th>\n",
              "      <td>Mar-08</td>\n",
              "      <td>40.080613</td>\n",
              "    </tr>\n",
              "    <tr>\n",
              "      <th>3</th>\n",
              "      <td>Apr-08</td>\n",
              "      <td>39.889666</td>\n",
              "    </tr>\n",
              "    <tr>\n",
              "      <th>4</th>\n",
              "      <td>May-08</td>\n",
              "      <td>41.944484</td>\n",
              "    </tr>\n",
              "  </tbody>\n",
              "</table>\n",
              "</div>"
            ],
            "text/plain": [
              "     Date  Close Monthly Average\n",
              "0  Jan-08              39.245904\n",
              "1  Feb-08              39.643000\n",
              "2  Mar-08              40.080613\n",
              "3  Apr-08              39.889666\n",
              "4  May-08              41.944484"
            ]
          },
          "metadata": {
            "tags": []
          },
          "execution_count": 3
        }
      ]
    },
    {
      "cell_type": "code",
      "metadata": {
        "colab": {
          "base_uri": "https://localhost:8080/"
        },
        "id": "6uMCcMLzXVEb",
        "outputId": "a301aacb-9827-4c08-ae9a-2a4ceade9281"
      },
      "source": [
        "# this is the data to be used as training data (no date column)\n",
        "data = pd.DataFrame(lead, columns=['Weighted Average Price'])\n",
        "data=pd.concat([data, usdinr['Close Monthly Average']], axis=1,ignore_index=True)\n",
        "data.columns = ['Lead Monthly Avg', 'Exchange Rate Monthly Avg']\n",
        "print(data.dtypes)\n",
        "print(data)"
      ],
      "execution_count": null,
      "outputs": [
        {
          "output_type": "stream",
          "text": [
            "Lead Monthly Avg             float64\n",
            "Exchange Rate Monthly Avg    float64\n",
            "dtype: object\n",
            "     Lead Monthly Avg  Exchange Rate Monthly Avg\n",
            "0         2601.678175                  39.245904\n",
            "1         2797.112343                  39.643000\n",
            "2         1802.000000                  40.080613\n",
            "3         1802.000000                  39.889666\n",
            "4         1802.000000                  41.944484\n",
            "..                ...                        ...\n",
            "156       2012.419036                  73.138439\n",
            "157       2089.104842                  72.791140\n",
            "158       1954.569200                  72.801716\n",
            "159       1997.856000                  74.454233\n",
            "160       2188.551802                  73.582459\n",
            "\n",
            "[161 rows x 2 columns]\n"
          ],
          "name": "stdout"
        }
      ]
    },
    {
      "cell_type": "code",
      "metadata": {
        "colab": {
          "base_uri": "https://localhost:8080/"
        },
        "id": "jOWhKuk1YlQ-",
        "outputId": "5cb48c16-5a56-468c-cd0b-a91a5b43678d"
      },
      "source": [
        "All_dates = pd.to_datetime(lead['Date'],format=\"%b-%y\")\n",
        "print(All_dates.dtype)\n",
        "print(All_dates)"
      ],
      "execution_count": null,
      "outputs": [
        {
          "output_type": "stream",
          "text": [
            "datetime64[ns]\n",
            "0     2008-01-01\n",
            "1     2008-02-01\n",
            "2     2008-03-01\n",
            "3     2008-04-01\n",
            "4     2008-05-01\n",
            "         ...    \n",
            "156   2021-01-01\n",
            "157   2021-02-01\n",
            "158   2021-03-01\n",
            "159   2021-04-01\n",
            "160   2021-05-01\n",
            "Name: Date, Length: 161, dtype: datetime64[ns]\n"
          ],
          "name": "stdout"
        }
      ]
    },
    {
      "cell_type": "code",
      "metadata": {
        "colab": {
          "base_uri": "https://localhost:8080/"
        },
        "id": "Qy_mcrQ-Y1Vb",
        "outputId": "e1c3a5fa-9510-4abf-d24c-246eafcf9531"
      },
      "source": [
        "scaler = MinMaxScaler(feature_range=(0,1))\n",
        "scaler = scaler.fit(data)\n",
        "data_scaled = scaler.transform(data) #data_scaled is a list\n",
        "print(data)\n",
        "print(data_scaled)"
      ],
      "execution_count": null,
      "outputs": [
        {
          "output_type": "stream",
          "text": [
            "     Lead Monthly Avg  Exchange Rate Monthly Avg\n",
            "0         2601.678175                  39.245904\n",
            "1         2797.112343                  39.643000\n",
            "2         1802.000000                  40.080613\n",
            "3         1802.000000                  39.889666\n",
            "4         1802.000000                  41.944484\n",
            "..                ...                        ...\n",
            "156       2012.419036                  73.138439\n",
            "157       2089.104842                  72.791140\n",
            "158       1954.569200                  72.801716\n",
            "159       1997.856000                  74.454233\n",
            "160       2188.551802                  73.582459\n",
            "\n",
            "[161 rows x 2 columns]\n",
            "[[0.89416797 0.        ]\n",
            " [1.         0.01062492]\n",
            " [0.4611241  0.02233396]\n",
            " [0.4611241  0.01722488]\n",
            " [0.4611241  0.07220475]\n",
            " [0.46047429 0.09294865]\n",
            " [0.53165819 0.09351333]\n",
            " [0.52498612 0.09156006]\n",
            " [0.49458964 0.16679858]\n",
            " [0.2860001  0.24668089]\n",
            " [0.18629122 0.25772898]\n",
            " [0.         0.24739467]\n",
            " [0.09638967 0.25112248]\n",
            " [0.08084613 0.26278266]\n",
            " [0.15646096 0.31725089]\n",
            " [0.23839882 0.28371229]\n",
            " [0.27106826 0.24474147]\n",
            " [0.39037152 0.22460614]\n",
            " [0.39500937 0.2437273 ]\n",
            " [0.52286388 0.23996584]\n",
            " [0.67410307 0.24219234]\n",
            " [0.6986953  0.19825581]\n",
            " [0.73482639 0.194175  ]\n",
            " [0.74622944 0.19466439]\n",
            " [0.76311413 0.17976962]\n",
            " [0.63757937 0.18749923]\n",
            " [0.66243897 0.16414291]\n",
            " [0.70973683 0.13783815]\n",
            " [0.51236605 0.17349217]\n",
            " [0.40884852 0.19246526]\n",
            " [0.48028682 0.19839218]\n",
            " [0.60581569 0.19315479]\n",
            " [0.66984251 0.18134522]\n",
            " [0.77550514 0.13572226]\n",
            " [0.76780365 0.14867992]\n",
            " [0.79913128 0.15573875]\n",
            " [0.89078178 0.16178488]\n",
            " [0.89071891 0.16411974]\n",
            " [0.90686592 0.15115647]\n",
            " [0.95821063 0.13528199]\n",
            " [0.80003094 0.1487363 ]\n",
            " [0.84064654 0.14795389]\n",
            " [0.93511531 0.13658191]\n",
            " [0.78490802 0.16141286]\n",
            " [0.72326819 0.21723917]\n",
            " [0.54547493 0.26759849]\n",
            " [0.56017806 0.30219306]\n",
            " [0.57525343 0.34972301]\n",
            " [0.61441614 0.33123854]\n",
            " [0.63531116 0.26598409]\n",
            " [0.6017173  0.29503691]\n",
            " [0.60255314 0.33111869]\n",
            " [0.5687299  0.40067356]\n",
            " [0.49385018 0.44742324]\n",
            " [0.49886785 0.43286518]\n",
            " [0.51184622 0.43525169]\n",
            " [0.65688234 0.41283414]\n",
            " [0.64263234 0.36722095]\n",
            " [0.66365832 0.41374655]\n",
            " [0.71920398 0.4118112 ]\n",
            " [0.74968998 0.40297291]\n",
            " [0.77401568 0.38827479]\n",
            " [0.66304298 0.40559159]\n",
            " [0.58267037 0.40442989]\n",
            " [0.58330048 0.41699162]\n",
            " [0.62458655 0.50525134]\n",
            " [0.59378381 0.54769831]\n",
            " [0.66331256 0.62573601]\n",
            " [0.61259253 0.66134647]\n",
            " [0.62928559 0.59687604]\n",
            " [0.61720331 0.62720242]\n",
            " [0.64713796 0.60594737]\n",
            " [0.64946644 0.60774179]\n",
            " [0.62773755 0.61306821]\n",
            " [0.59764046 0.58347099]\n",
            " [0.61672983 0.56523955]\n",
            " [0.62233858 0.53637944]\n",
            " [0.62485278 0.54560915]\n",
            " [0.67247264 0.5563968 ]\n",
            " [0.69658315 0.57647458]\n",
            " [0.63141124 0.57711948]\n",
            " [0.58911547 0.59035434]\n",
            " [0.58121329 0.59923377]\n",
            " [0.52736666 0.62818986]\n",
            " [0.47698748 0.61483918]\n",
            " [0.46212361 0.60916844]\n",
            " [0.45359264 0.6212953 ]\n",
            " [0.56017926 0.62414592]\n",
            " [0.57047103 0.65453817]\n",
            " [0.47337786 0.65677646]\n",
            " [0.43886028 0.65148704]\n",
            " [0.40243088 0.68864674]\n",
            " [0.3927419  0.72218379]\n",
            " [0.41937931 0.69120157]\n",
            " [0.3609594  0.71771099]\n",
            " [0.41434429 0.72953943]\n",
            " [0.38211296 0.74944887]\n",
            " [0.44601839 0.77627892]\n",
            " [0.4660584  0.74271744]\n",
            " [0.42251407 0.72853759]\n",
            " [0.41232652 0.74014365]\n",
            " [0.41234803 0.74802882]\n",
            " [0.48024553 0.74772268]\n",
            " [0.48154718 0.7397587 ]\n",
            " [0.53337491 0.73438674]\n",
            " [0.59107691 0.73576413]\n",
            " [0.67106145 0.75913102]\n",
            " [0.68007758 0.76487836]\n",
            " [0.69184988 0.77084294]\n",
            " [0.74296727 0.7423829 ]\n",
            " [0.71793341 0.71441306]\n",
            " [0.6918805  0.67663865]\n",
            " [0.63994478 0.67358609]\n",
            " [0.63747585 0.67433474]\n",
            " [0.71454409 0.67489264]\n",
            " [0.76100673 0.66222483]\n",
            " [0.77502919 0.67241049]\n",
            " [0.84135451 0.6902592 ]\n",
            " [0.82045179 0.68472877]\n",
            " [0.84781732 0.66927195]\n",
            " [0.88806298 0.65294977]\n",
            " [0.88487152 0.67177028]\n",
            " [0.78061059 0.6903161 ]\n",
            " [0.76343981 0.70648743]\n",
            " [0.76581827 0.75909033]\n",
            " [0.80523221 0.7647797 ]\n",
            " [0.68620951 0.7898065 ]\n",
            " [0.60174647 0.81121384]\n",
            " [0.58728117 0.88117148]\n",
            " [0.563957   0.92363158]\n",
            " [0.53675628 0.87809082]\n",
            " [0.55108651 0.84329454]\n",
            " [0.5626185  0.84233839]\n",
            " [0.60234416 0.85689152]\n",
            " [0.5967563  0.81610134]\n",
            " [0.53981131 0.80905996]\n",
            " [0.46987511 0.82117819]\n",
            " [0.50593657 0.81266817]\n",
            " [0.55268318 0.79259893]\n",
            " [0.59166123 0.85355822]\n",
            " [0.608379   0.87822486]\n",
            " [0.66868336 0.85969987]\n",
            " [0.58735852 0.86290284]\n",
            " [0.51364009 0.85515341]\n",
            " [0.52649895 0.85610629]\n",
            " [0.49887973 0.86520161]\n",
            " [0.42732459 0.94623829]\n",
            " [0.37951356 1.        ]\n",
            " [0.36386187 0.97872516]\n",
            " [0.42860548 0.97977828]\n",
            " [0.46713707 0.95764242]\n",
            " [0.53360269 0.94981831]\n",
            " [0.50264826 0.91879533]\n",
            " [0.44594072 0.91819009]\n",
            " [0.52442183 0.93737982]\n",
            " [0.56937831 0.92238842]\n",
            " [0.57507078 0.90684795]\n",
            " [0.61659788 0.89755543]\n",
            " [0.54374378 0.8978384 ]\n",
            " [0.56718457 0.9420541 ]\n",
            " [0.67045067 0.91872842]]\n"
          ],
          "name": "stdout"
        }
      ]
    },
    {
      "cell_type": "code",
      "metadata": {
        "colab": {
          "base_uri": "https://localhost:8080/"
        },
        "id": "XNIyrEaQZER-",
        "outputId": "f4db8725-13d4-4d8b-b49f-e70f53cbb168"
      },
      "source": [
        "data_scaled.shape # 161 training examples, 2 columns in each(Lead price, USD/INR Exchange Rate)"
      ],
      "execution_count": null,
      "outputs": [
        {
          "output_type": "execute_result",
          "data": {
            "text/plain": [
              "(161, 2)"
            ]
          },
          "metadata": {
            "tags": []
          },
          "execution_count": 9
        }
      ]
    },
    {
      "cell_type": "code",
      "metadata": {
        "colab": {
          "base_uri": "https://localhost:8080/"
        },
        "id": "cdU5BOw6ZK16",
        "outputId": "610699bb-c91b-450f-ec40-73fa500e1f37"
      },
      "source": [
        "type(data_scaled)"
      ],
      "execution_count": null,
      "outputs": [
        {
          "output_type": "execute_result",
          "data": {
            "text/plain": [
              "numpy.ndarray"
            ]
          },
          "metadata": {
            "tags": []
          },
          "execution_count": 10
        }
      ]
    },
    {
      "cell_type": "code",
      "metadata": {
        "colab": {
          "base_uri": "https://localhost:8080/"
        },
        "id": "a-F0WtcmZiYd",
        "outputId": "17ae13ad-73da-4c97-dc57-fb8780a6ca92"
      },
      "source": [
        "data_scaled_list = data_scaled.tolist()\n",
        "print(type(data_scaled_list)) # type is list\n",
        "print(len(data_scaled_list[0])) # 2 features"
      ],
      "execution_count": null,
      "outputs": [
        {
          "output_type": "stream",
          "text": [
            "<class 'list'>\n",
            "2\n"
          ],
          "name": "stdout"
        }
      ]
    },
    {
      "cell_type": "markdown",
      "metadata": {
        "id": "bF1Jq2gOaa_w"
      },
      "source": [
        "# Preparing Training and Test Data"
      ]
    },
    {
      "cell_type": "code",
      "metadata": {
        "id": "sI9uVh6IZpL-"
      },
      "source": [
        "training_size=141\n",
        "test_size=20"
      ],
      "execution_count": null,
      "outputs": []
    },
    {
      "cell_type": "code",
      "metadata": {
        "id": "Ah32R7n2aWUg"
      },
      "source": [
        "#Making test data\n",
        "testX=[]\n",
        "testY=[]\n",
        "testXdates=[]\n",
        "testYdates=[]\n",
        "n_future=5\n",
        "n_past=10\n",
        "for i in range(len(data_scaled_list)-test_size+n_past, len(data_scaled_list )-n_future):\n",
        "    temp1=[]\n",
        "    temp2=[]\n",
        "    testX.append(data_scaled_list[i - n_past:i])\n",
        "    testXdates.append(All_dates[i - n_past:i])\n",
        "    for j in range(i,i+n_future):\n",
        "      temp1.append(data_scaled_list[j][0])\n",
        "      temp2.append(All_dates[j])\n",
        "    testY.append(temp1)\n",
        "    testYdates.append(temp2)"
      ],
      "execution_count": null,
      "outputs": []
    },
    {
      "cell_type": "code",
      "metadata": {
        "colab": {
          "base_uri": "https://localhost:8080/"
        },
        "id": "lTmRM3dxckI0",
        "outputId": "9529a440-3fef-4e44-9805-b2b7b7e1d5bf"
      },
      "source": [
        "print(\"Length of TestX:\",len(testX))\n",
        "print(\"Length of TestY:\",len(testY))"
      ],
      "execution_count": null,
      "outputs": [
        {
          "output_type": "stream",
          "text": [
            "Length of TestX: 5\n",
            "Length of TestY: 5\n"
          ],
          "name": "stdout"
        }
      ]
    },
    {
      "cell_type": "code",
      "metadata": {
        "colab": {
          "base_uri": "https://localhost:8080/"
        },
        "id": "QAIZCzNWcp8r",
        "outputId": "c5505c4c-5780-4035-9776-5cf839009c8d"
      },
      "source": [
        "print(\"Length of TestXdates:\",len(testXdates))\n",
        "print(\"Length of TestYdates:\",len(testYdates))"
      ],
      "execution_count": null,
      "outputs": [
        {
          "output_type": "stream",
          "text": [
            "Length of TestXdates: 5\n",
            "Length of TestYdates: 5\n"
          ],
          "name": "stdout"
        }
      ]
    },
    {
      "cell_type": "code",
      "metadata": {
        "colab": {
          "base_uri": "https://localhost:8080/"
        },
        "id": "Fh1jN9exdu1I",
        "outputId": "27e3df07-f140-4446-93bf-8d4111942ce3"
      },
      "source": [
        "testX, testY = np.array(testX), np.array(testY)\n",
        "\n",
        "print('testX shape == {}.'.format(testX.shape))\n",
        "print('testY shape == {}.'.format(testY.shape))\n",
        "\n",
        "#(number of train/test example, lookback_days/predict_days, number of features)"
      ],
      "execution_count": null,
      "outputs": [
        {
          "output_type": "stream",
          "text": [
            "testX shape == (5, 10, 2).\n",
            "testY shape == (5, 5).\n"
          ],
          "name": "stdout"
        }
      ]
    },
    {
      "cell_type": "markdown",
      "metadata": {
        "id": "CPV39J9ehCy_"
      },
      "source": [
        "Number of testing examples (series of 15) : 5"
      ]
    },
    {
      "cell_type": "code",
      "metadata": {
        "id": "C06OyrBod7ar"
      },
      "source": [
        "# Making train data\n",
        "trainX = []\n",
        "trainY = []\n",
        "trainXdates=[]\n",
        "trainYdates=[]\n",
        "n_future=5\n",
        "n_past=10"
      ],
      "execution_count": null,
      "outputs": []
    },
    {
      "cell_type": "code",
      "metadata": {
        "colab": {
          "base_uri": "https://localhost:8080/"
        },
        "id": "oSUMnRdpevwn",
        "outputId": "f50752d9-79ec-4438-af28-7364109765cf"
      },
      "source": [
        "n_past, training_size - n_future +1"
      ],
      "execution_count": null,
      "outputs": [
        {
          "output_type": "execute_result",
          "data": {
            "text/plain": [
              "(10, 137)"
            ]
          },
          "metadata": {
            "tags": []
          },
          "execution_count": 18
        }
      ]
    },
    {
      "cell_type": "code",
      "metadata": {
        "id": "5VNyDYzseDgd"
      },
      "source": [
        "for i in range(n_past, training_size - n_future +1):\n",
        "    temp=[]\n",
        "    trainX.append(data_scaled_list[i - n_past:i])\n",
        "    trainXdates.append(All_dates[i - n_past:i])\n",
        "    for j in range(i,i+n_future):\n",
        "      temp.append(data_scaled_list[j][0])\n",
        "    \n",
        "    trainY.append(temp)\n",
        "    trainYdates.append(All_dates[i:i+n_future])\n",
        "  "
      ],
      "execution_count": null,
      "outputs": []
    },
    {
      "cell_type": "code",
      "metadata": {
        "colab": {
          "base_uri": "https://localhost:8080/"
        },
        "id": "zBIKD9OGfO1k",
        "outputId": "f97e468a-cfe7-49b1-dc86-2a0538694470"
      },
      "source": [
        "print(len(trainX))\n",
        "print(len(trainY))\n",
        "print(len(trainXdates))\n",
        "print(len(trainYdates))"
      ],
      "execution_count": null,
      "outputs": [
        {
          "output_type": "stream",
          "text": [
            "127\n",
            "127\n",
            "127\n",
            "127\n"
          ],
          "name": "stdout"
        }
      ]
    },
    {
      "cell_type": "code",
      "metadata": {
        "colab": {
          "base_uri": "https://localhost:8080/"
        },
        "id": "leG16RI7g-o6",
        "outputId": "e7c2e6f8-857c-4bec-b0f8-51cb4838dc27"
      },
      "source": [
        "trainX, trainY = np.array(trainX), np.array(trainY)\n",
        "\n",
        "print('trainX shape == {}.'.format(trainX.shape))\n",
        "print('trainY shape == {}.'.format(trainY.shape))\n",
        "\n",
        "#(number of train/test example, lookback_days/predict_days, number of features)"
      ],
      "execution_count": null,
      "outputs": [
        {
          "output_type": "stream",
          "text": [
            "trainX shape == (127, 10, 2).\n",
            "trainY shape == (127, 5).\n"
          ],
          "name": "stdout"
        }
      ]
    },
    {
      "cell_type": "markdown",
      "metadata": {
        "id": "60lltmuthmyW"
      },
      "source": [
        "Number of training examples (series of 15) : 127"
      ]
    },
    {
      "cell_type": "markdown",
      "metadata": {
        "id": "ViD4-E5Aht7s"
      },
      "source": [
        "# Creating LSTM Model"
      ]
    },
    {
      "cell_type": "code",
      "metadata": {
        "id": "R2IYxOlXhwJV"
      },
      "source": [
        "# Use this\n",
        "model=Sequential()\n",
        "model.add(LSTM(50,return_sequences=True,input_shape=(10,2)))\n",
        "model.add(LSTM(50,return_sequences=True))\n",
        "model.add(LSTM(50))\n",
        "model.add(Dropout(0.2))\n",
        "model.add(Dense(5))\n",
        "model.compile(loss='mean_squared_error',optimizer='adam',metrics=['accuracy'])"
      ],
      "execution_count": null,
      "outputs": []
    },
    {
      "cell_type": "code",
      "metadata": {
        "id": "7NLBw_4ch2jD"
      },
      "source": [
        "#ignore\n",
        "model=Sequential()\n",
        "model.add(LSTM(64, input_shape=(trainX.shape[1], trainX.shape[2]), return_sequences=True))\n",
        "model.add(LSTM(32, return_sequences=False))\n",
        "model.add(Dropout(0.2))\n",
        "model.add(Dense(trainY.shape[1]))\n",
        "model.compile(loss='mean_squared_error',optimizer='adam',metrics=['accuracy'])"
      ],
      "execution_count": null,
      "outputs": []
    },
    {
      "cell_type": "code",
      "metadata": {
        "id": "kvjAOhOlh8Bu"
      },
      "source": [
        "#ignore\n",
        "regressor =Sequential()\n",
        "\n",
        "# Adding the first LSTM layer and some Dropout regularisation\n",
        "regressor.add(LSTM(units = 50, return_sequences = True))\n",
        "regressor.add(Dropout(0.2))\n",
        "\n",
        "# Adding a second LSTM layer and some Dropout regularisation\n",
        "regressor.add(LSTM(units = 50, return_sequences = True))\n",
        "regressor.add(Dropout(0.2))\n",
        "\n",
        "# Adding a third LSTM layer and some Dropout regularisation\n",
        "regressor.add(LSTM(units = 50, return_sequences = True))\n",
        "regressor.add(Dropout(0.2))\n",
        "\n",
        "# Adding a fourth LSTM layer and some Dropout regularisation\n",
        "regressor.add(LSTM(units = 50))\n",
        "regressor.add(Dropout(0.2))\n",
        "\n",
        "# Adding the output layer\n",
        "regressor.add(Dense(units = 1))\n",
        "\n",
        "# Compiling the RNN\n",
        "regressor.compile(optimizer = 'adam', loss = 'mean_squared_error')"
      ],
      "execution_count": null,
      "outputs": []
    },
    {
      "cell_type": "code",
      "metadata": {
        "id": "gJ0mxi5xiBiS"
      },
      "source": [
        "from keras import optimizers\n",
        "\n",
        "optimizer = optimizers.Adam(clipvalue=0.5)\n",
        "model.compile(optimizer=optimizer, loss='mean_squared_error')"
      ],
      "execution_count": null,
      "outputs": []
    },
    {
      "cell_type": "code",
      "metadata": {
        "colab": {
          "base_uri": "https://localhost:8080/"
        },
        "id": "VpBqqE6WiFPT",
        "outputId": "d8e96743-04db-4e19-970c-86b4be46a9a8"
      },
      "source": [
        "model.summary() "
      ],
      "execution_count": null,
      "outputs": [
        {
          "output_type": "stream",
          "text": [
            "Model: \"sequential_10\"\n",
            "_________________________________________________________________\n",
            "Layer (type)                 Output Shape              Param #   \n",
            "=================================================================\n",
            "lstm_28 (LSTM)               (None, 10, 50)            10600     \n",
            "_________________________________________________________________\n",
            "lstm_29 (LSTM)               (None, 10, 50)            20200     \n",
            "_________________________________________________________________\n",
            "lstm_30 (LSTM)               (None, 50)                20200     \n",
            "_________________________________________________________________\n",
            "dropout_16 (Dropout)         (None, 50)                0         \n",
            "_________________________________________________________________\n",
            "dense_10 (Dense)             (None, 5)                 255       \n",
            "=================================================================\n",
            "Total params: 51,255\n",
            "Trainable params: 51,255\n",
            "Non-trainable params: 0\n",
            "_________________________________________________________________\n"
          ],
          "name": "stdout"
        }
      ]
    },
    {
      "cell_type": "code",
      "metadata": {
        "id": "zDeNOhKNiybQ"
      },
      "source": [
        "from keras.callbacks import EarlyStopping, ReduceLROnPlateau, ModelCheckpoint, TensorBoard\n",
        "es = EarlyStopping(monitor='val_loss', min_delta=1e-10, patience=10, verbose=1)\n",
        "rlr = ReduceLROnPlateau(monitor='val_loss', factor=0.5, patience=10, verbose=1)\n",
        "mcp = ModelCheckpoint(filepath='weights.h5', monitor='val_loss', verbose=1, save_best_only=True, save_weights_only=True)\n",
        "\n",
        "tb = TensorBoard('logs')"
      ],
      "execution_count": null,
      "outputs": []
    },
    {
      "cell_type": "code",
      "metadata": {
        "colab": {
          "base_uri": "https://localhost:8080/"
        },
        "id": "PQxIdamQi0xa",
        "outputId": "f04b9036-a7f5-4620-ae1a-2da74a89cf5f"
      },
      "source": [
        "history=model.fit(trainX,trainY,validation_data=(testX,testY),epochs=1000,batch_size=16,verbose=1)"
      ],
      "execution_count": null,
      "outputs": [
        {
          "output_type": "stream",
          "text": [
            "Epoch 1/1000\n",
            "8/8 [==============================] - 6s 170ms/step - loss: 0.3265 - accuracy: 0.0866 - val_loss: 0.1169 - val_accuracy: 0.0000e+00\n",
            "Epoch 2/1000\n",
            "8/8 [==============================] - 0s 20ms/step - loss: 0.1095 - accuracy: 0.1260 - val_loss: 0.1103 - val_accuracy: 0.0000e+00\n",
            "Epoch 3/1000\n",
            "8/8 [==============================] - 0s 19ms/step - loss: 0.0669 - accuracy: 0.2677 - val_loss: 0.0099 - val_accuracy: 0.6000\n",
            "Epoch 4/1000\n",
            "8/8 [==============================] - 0s 21ms/step - loss: 0.0527 - accuracy: 0.2756 - val_loss: 0.0072 - val_accuracy: 0.0000e+00\n",
            "Epoch 5/1000\n",
            "8/8 [==============================] - 0s 18ms/step - loss: 0.0460 - accuracy: 0.1496 - val_loss: 0.0216 - val_accuracy: 0.0000e+00\n",
            "Epoch 6/1000\n",
            "8/8 [==============================] - 0s 17ms/step - loss: 0.0407 - accuracy: 0.1811 - val_loss: 0.0068 - val_accuracy: 0.2000\n",
            "Epoch 7/1000\n",
            "8/8 [==============================] - 0s 16ms/step - loss: 0.0366 - accuracy: 0.1575 - val_loss: 0.0089 - val_accuracy: 0.6000\n",
            "Epoch 8/1000\n",
            "8/8 [==============================] - 0s 17ms/step - loss: 0.0381 - accuracy: 0.2835 - val_loss: 0.0096 - val_accuracy: 0.0000e+00\n",
            "Epoch 9/1000\n",
            "8/8 [==============================] - 0s 17ms/step - loss: 0.0402 - accuracy: 0.1575 - val_loss: 0.0065 - val_accuracy: 0.2000\n",
            "Epoch 10/1000\n",
            "8/8 [==============================] - 0s 16ms/step - loss: 0.0341 - accuracy: 0.2205 - val_loss: 0.0066 - val_accuracy: 0.6000\n",
            "Epoch 11/1000\n",
            "8/8 [==============================] - 0s 17ms/step - loss: 0.0347 - accuracy: 0.1575 - val_loss: 0.0035 - val_accuracy: 0.6000\n",
            "Epoch 12/1000\n",
            "8/8 [==============================] - 0s 17ms/step - loss: 0.0333 - accuracy: 0.1969 - val_loss: 0.0051 - val_accuracy: 0.6000\n",
            "Epoch 13/1000\n",
            "8/8 [==============================] - 0s 17ms/step - loss: 0.0357 - accuracy: 0.1969 - val_loss: 0.0038 - val_accuracy: 0.6000\n",
            "Epoch 14/1000\n",
            "8/8 [==============================] - 0s 16ms/step - loss: 0.0374 - accuracy: 0.1260 - val_loss: 0.0035 - val_accuracy: 0.6000\n",
            "Epoch 15/1000\n",
            "8/8 [==============================] - 0s 16ms/step - loss: 0.0326 - accuracy: 0.1969 - val_loss: 0.0031 - val_accuracy: 0.2000\n",
            "Epoch 16/1000\n",
            "8/8 [==============================] - 0s 16ms/step - loss: 0.0338 - accuracy: 0.1811 - val_loss: 0.0029 - val_accuracy: 0.6000\n",
            "Epoch 17/1000\n",
            "8/8 [==============================] - 0s 17ms/step - loss: 0.0298 - accuracy: 0.1890 - val_loss: 0.0025 - val_accuracy: 0.6000\n",
            "Epoch 18/1000\n",
            "8/8 [==============================] - 0s 18ms/step - loss: 0.0292 - accuracy: 0.2283 - val_loss: 0.0026 - val_accuracy: 0.6000\n",
            "Epoch 19/1000\n",
            "8/8 [==============================] - 0s 16ms/step - loss: 0.0307 - accuracy: 0.2126 - val_loss: 0.0030 - val_accuracy: 0.2000\n",
            "Epoch 20/1000\n",
            "8/8 [==============================] - 0s 16ms/step - loss: 0.0353 - accuracy: 0.1496 - val_loss: 0.0023 - val_accuracy: 0.6000\n",
            "Epoch 21/1000\n",
            "8/8 [==============================] - 0s 17ms/step - loss: 0.0345 - accuracy: 0.2047 - val_loss: 0.0024 - val_accuracy: 0.2000\n",
            "Epoch 22/1000\n",
            "8/8 [==============================] - 0s 16ms/step - loss: 0.0308 - accuracy: 0.2126 - val_loss: 0.0022 - val_accuracy: 0.6000\n",
            "Epoch 23/1000\n",
            "8/8 [==============================] - 0s 16ms/step - loss: 0.0312 - accuracy: 0.2283 - val_loss: 0.0035 - val_accuracy: 0.6000\n",
            "Epoch 24/1000\n",
            "8/8 [==============================] - 0s 17ms/step - loss: 0.0327 - accuracy: 0.2362 - val_loss: 0.0022 - val_accuracy: 0.2000\n",
            "Epoch 25/1000\n",
            "8/8 [==============================] - 0s 16ms/step - loss: 0.0292 - accuracy: 0.2126 - val_loss: 0.0025 - val_accuracy: 0.2000\n",
            "Epoch 26/1000\n",
            "8/8 [==============================] - 0s 16ms/step - loss: 0.0318 - accuracy: 0.1969 - val_loss: 0.0022 - val_accuracy: 0.6000\n",
            "Epoch 27/1000\n",
            "8/8 [==============================] - 0s 17ms/step - loss: 0.0302 - accuracy: 0.2047 - val_loss: 0.0022 - val_accuracy: 0.6000\n",
            "Epoch 28/1000\n",
            "8/8 [==============================] - 0s 17ms/step - loss: 0.0289 - accuracy: 0.1732 - val_loss: 0.0024 - val_accuracy: 0.6000\n",
            "Epoch 29/1000\n",
            "8/8 [==============================] - 0s 22ms/step - loss: 0.0279 - accuracy: 0.2598 - val_loss: 0.0020 - val_accuracy: 0.6000\n",
            "Epoch 30/1000\n",
            "8/8 [==============================] - 0s 22ms/step - loss: 0.0321 - accuracy: 0.1811 - val_loss: 0.0023 - val_accuracy: 0.2000\n",
            "Epoch 31/1000\n",
            "8/8 [==============================] - 0s 19ms/step - loss: 0.0289 - accuracy: 0.1732 - val_loss: 0.0033 - val_accuracy: 0.6000\n",
            "Epoch 32/1000\n",
            "8/8 [==============================] - 0s 17ms/step - loss: 0.0275 - accuracy: 0.2205 - val_loss: 0.0023 - val_accuracy: 0.2000\n",
            "Epoch 33/1000\n",
            "8/8 [==============================] - 0s 17ms/step - loss: 0.0292 - accuracy: 0.2362 - val_loss: 0.0020 - val_accuracy: 0.2000\n",
            "Epoch 34/1000\n",
            "8/8 [==============================] - 0s 17ms/step - loss: 0.0295 - accuracy: 0.2205 - val_loss: 0.0020 - val_accuracy: 0.6000\n",
            "Epoch 35/1000\n",
            "8/8 [==============================] - 0s 17ms/step - loss: 0.0275 - accuracy: 0.1890 - val_loss: 0.0021 - val_accuracy: 0.6000\n",
            "Epoch 36/1000\n",
            "8/8 [==============================] - 0s 18ms/step - loss: 0.0267 - accuracy: 0.2362 - val_loss: 0.0019 - val_accuracy: 0.6000\n",
            "Epoch 37/1000\n",
            "8/8 [==============================] - 0s 17ms/step - loss: 0.0279 - accuracy: 0.1969 - val_loss: 0.0025 - val_accuracy: 0.2000\n",
            "Epoch 38/1000\n",
            "8/8 [==============================] - 0s 16ms/step - loss: 0.0263 - accuracy: 0.2047 - val_loss: 0.0016 - val_accuracy: 0.2000\n",
            "Epoch 39/1000\n",
            "8/8 [==============================] - 0s 18ms/step - loss: 0.0260 - accuracy: 0.2441 - val_loss: 0.0016 - val_accuracy: 0.2000\n",
            "Epoch 40/1000\n",
            "8/8 [==============================] - 0s 20ms/step - loss: 0.0269 - accuracy: 0.1811 - val_loss: 0.0017 - val_accuracy: 0.2000\n",
            "Epoch 41/1000\n",
            "8/8 [==============================] - 0s 17ms/step - loss: 0.0254 - accuracy: 0.1969 - val_loss: 0.0025 - val_accuracy: 0.2000\n",
            "Epoch 42/1000\n",
            "8/8 [==============================] - 0s 17ms/step - loss: 0.0256 - accuracy: 0.2283 - val_loss: 0.0023 - val_accuracy: 0.2000\n",
            "Epoch 43/1000\n",
            "8/8 [==============================] - 0s 17ms/step - loss: 0.0268 - accuracy: 0.2520 - val_loss: 0.0016 - val_accuracy: 0.2000\n",
            "Epoch 44/1000\n",
            "8/8 [==============================] - 0s 17ms/step - loss: 0.0246 - accuracy: 0.2677 - val_loss: 0.0018 - val_accuracy: 0.2000\n",
            "Epoch 45/1000\n",
            "8/8 [==============================] - 0s 18ms/step - loss: 0.0237 - accuracy: 0.2047 - val_loss: 0.0021 - val_accuracy: 0.2000\n",
            "Epoch 46/1000\n",
            "8/8 [==============================] - 0s 17ms/step - loss: 0.0228 - accuracy: 0.2835 - val_loss: 0.0014 - val_accuracy: 0.2000\n",
            "Epoch 47/1000\n",
            "8/8 [==============================] - 0s 17ms/step - loss: 0.0213 - accuracy: 0.2205 - val_loss: 0.0059 - val_accuracy: 0.6000\n",
            "Epoch 48/1000\n",
            "8/8 [==============================] - 0s 17ms/step - loss: 0.0226 - accuracy: 0.2598 - val_loss: 0.0106 - val_accuracy: 0.6000\n",
            "Epoch 49/1000\n",
            "8/8 [==============================] - 0s 18ms/step - loss: 0.0252 - accuracy: 0.3150 - val_loss: 0.0044 - val_accuracy: 0.6000\n",
            "Epoch 50/1000\n",
            "8/8 [==============================] - 0s 17ms/step - loss: 0.0209 - accuracy: 0.2126 - val_loss: 0.0040 - val_accuracy: 0.6000\n",
            "Epoch 51/1000\n",
            "8/8 [==============================] - 0s 17ms/step - loss: 0.0229 - accuracy: 0.2441 - val_loss: 0.0031 - val_accuracy: 0.6000\n",
            "Epoch 52/1000\n",
            "8/8 [==============================] - 0s 20ms/step - loss: 0.0232 - accuracy: 0.2047 - val_loss: 0.0148 - val_accuracy: 0.6000\n",
            "Epoch 53/1000\n",
            "8/8 [==============================] - 0s 17ms/step - loss: 0.0246 - accuracy: 0.2520 - val_loss: 0.0023 - val_accuracy: 0.6000\n",
            "Epoch 54/1000\n",
            "8/8 [==============================] - 0s 18ms/step - loss: 0.0263 - accuracy: 0.2677 - val_loss: 0.0019 - val_accuracy: 0.2000\n",
            "Epoch 55/1000\n",
            "8/8 [==============================] - 0s 19ms/step - loss: 0.0248 - accuracy: 0.2283 - val_loss: 0.0081 - val_accuracy: 0.6000\n",
            "Epoch 56/1000\n",
            "8/8 [==============================] - 0s 20ms/step - loss: 0.0233 - accuracy: 0.2205 - val_loss: 0.0015 - val_accuracy: 0.2000\n",
            "Epoch 57/1000\n",
            "8/8 [==============================] - 0s 17ms/step - loss: 0.0221 - accuracy: 0.1890 - val_loss: 0.0056 - val_accuracy: 0.6000\n",
            "Epoch 58/1000\n",
            "8/8 [==============================] - 0s 17ms/step - loss: 0.0225 - accuracy: 0.3071 - val_loss: 0.0051 - val_accuracy: 0.6000\n",
            "Epoch 59/1000\n",
            "8/8 [==============================] - 0s 17ms/step - loss: 0.0232 - accuracy: 0.2362 - val_loss: 0.0019 - val_accuracy: 0.6000\n",
            "Epoch 60/1000\n",
            "8/8 [==============================] - 0s 17ms/step - loss: 0.0203 - accuracy: 0.2598 - val_loss: 0.0035 - val_accuracy: 0.6000\n",
            "Epoch 61/1000\n",
            "8/8 [==============================] - 0s 18ms/step - loss: 0.0215 - accuracy: 0.3228 - val_loss: 0.0070 - val_accuracy: 0.6000\n",
            "Epoch 62/1000\n",
            "8/8 [==============================] - 0s 17ms/step - loss: 0.0193 - accuracy: 0.2520 - val_loss: 0.0064 - val_accuracy: 0.6000\n",
            "Epoch 63/1000\n",
            "8/8 [==============================] - 0s 19ms/step - loss: 0.0208 - accuracy: 0.2362 - val_loss: 0.0026 - val_accuracy: 0.8000\n",
            "Epoch 64/1000\n",
            "8/8 [==============================] - 0s 17ms/step - loss: 0.0177 - accuracy: 0.2441 - val_loss: 0.0046 - val_accuracy: 0.2000\n",
            "Epoch 65/1000\n",
            "8/8 [==============================] - 0s 17ms/step - loss: 0.0188 - accuracy: 0.2362 - val_loss: 0.0101 - val_accuracy: 0.6000\n",
            "Epoch 66/1000\n",
            "8/8 [==============================] - 0s 19ms/step - loss: 0.0209 - accuracy: 0.2756 - val_loss: 0.0018 - val_accuracy: 0.2000\n",
            "Epoch 67/1000\n",
            "8/8 [==============================] - 0s 18ms/step - loss: 0.0212 - accuracy: 0.2441 - val_loss: 0.0060 - val_accuracy: 0.6000\n",
            "Epoch 68/1000\n",
            "8/8 [==============================] - 0s 19ms/step - loss: 0.0213 - accuracy: 0.2362 - val_loss: 0.0074 - val_accuracy: 0.6000\n",
            "Epoch 69/1000\n",
            "8/8 [==============================] - 0s 17ms/step - loss: 0.0199 - accuracy: 0.2835 - val_loss: 0.0080 - val_accuracy: 0.6000\n",
            "Epoch 70/1000\n",
            "8/8 [==============================] - 0s 16ms/step - loss: 0.0195 - accuracy: 0.2913 - val_loss: 0.0030 - val_accuracy: 0.6000\n",
            "Epoch 71/1000\n",
            "8/8 [==============================] - 0s 18ms/step - loss: 0.0192 - accuracy: 0.2362 - val_loss: 0.0019 - val_accuracy: 0.8000\n",
            "Epoch 72/1000\n",
            "8/8 [==============================] - 0s 17ms/step - loss: 0.0179 - accuracy: 0.2520 - val_loss: 0.0140 - val_accuracy: 0.6000\n",
            "Epoch 73/1000\n",
            "8/8 [==============================] - 0s 16ms/step - loss: 0.0194 - accuracy: 0.3228 - val_loss: 0.0017 - val_accuracy: 0.6000\n",
            "Epoch 74/1000\n",
            "8/8 [==============================] - 0s 17ms/step - loss: 0.0209 - accuracy: 0.2677 - val_loss: 0.0039 - val_accuracy: 0.6000\n",
            "Epoch 75/1000\n",
            "8/8 [==============================] - 0s 18ms/step - loss: 0.0189 - accuracy: 0.2362 - val_loss: 0.0058 - val_accuracy: 0.6000\n",
            "Epoch 76/1000\n",
            "8/8 [==============================] - 0s 17ms/step - loss: 0.0195 - accuracy: 0.3307 - val_loss: 0.0043 - val_accuracy: 0.6000\n",
            "Epoch 77/1000\n",
            "8/8 [==============================] - 0s 19ms/step - loss: 0.0184 - accuracy: 0.2992 - val_loss: 0.0015 - val_accuracy: 0.6000\n",
            "Epoch 78/1000\n",
            "8/8 [==============================] - 0s 18ms/step - loss: 0.0201 - accuracy: 0.3150 - val_loss: 0.0087 - val_accuracy: 0.6000\n",
            "Epoch 79/1000\n",
            "8/8 [==============================] - 0s 18ms/step - loss: 0.0175 - accuracy: 0.2913 - val_loss: 0.0018 - val_accuracy: 0.2000\n",
            "Epoch 80/1000\n",
            "8/8 [==============================] - 0s 17ms/step - loss: 0.0191 - accuracy: 0.2441 - val_loss: 0.0073 - val_accuracy: 0.6000\n",
            "Epoch 81/1000\n",
            "8/8 [==============================] - 0s 17ms/step - loss: 0.0198 - accuracy: 0.2992 - val_loss: 0.0153 - val_accuracy: 0.6000\n",
            "Epoch 82/1000\n",
            "8/8 [==============================] - 0s 20ms/step - loss: 0.0213 - accuracy: 0.2677 - val_loss: 0.0020 - val_accuracy: 0.6000\n",
            "Epoch 83/1000\n",
            "8/8 [==============================] - 0s 18ms/step - loss: 0.0191 - accuracy: 0.2520 - val_loss: 0.0018 - val_accuracy: 0.6000\n",
            "Epoch 84/1000\n",
            "8/8 [==============================] - 0s 17ms/step - loss: 0.0190 - accuracy: 0.2756 - val_loss: 0.0172 - val_accuracy: 0.6000\n",
            "Epoch 85/1000\n",
            "8/8 [==============================] - 0s 17ms/step - loss: 0.0191 - accuracy: 0.2756 - val_loss: 0.0017 - val_accuracy: 0.6000\n",
            "Epoch 86/1000\n",
            "8/8 [==============================] - 0s 17ms/step - loss: 0.0181 - accuracy: 0.3307 - val_loss: 0.0029 - val_accuracy: 0.6000\n",
            "Epoch 87/1000\n",
            "8/8 [==============================] - 0s 16ms/step - loss: 0.0168 - accuracy: 0.2913 - val_loss: 0.0056 - val_accuracy: 0.8000\n",
            "Epoch 88/1000\n",
            "8/8 [==============================] - 0s 17ms/step - loss: 0.0170 - accuracy: 0.2677 - val_loss: 0.0061 - val_accuracy: 0.6000\n",
            "Epoch 89/1000\n",
            "8/8 [==============================] - 0s 17ms/step - loss: 0.0163 - accuracy: 0.3071 - val_loss: 0.0089 - val_accuracy: 0.6000\n",
            "Epoch 90/1000\n",
            "8/8 [==============================] - 0s 21ms/step - loss: 0.0172 - accuracy: 0.2913 - val_loss: 0.0020 - val_accuracy: 0.6000\n",
            "Epoch 91/1000\n",
            "8/8 [==============================] - 0s 16ms/step - loss: 0.0183 - accuracy: 0.2362 - val_loss: 0.0021 - val_accuracy: 0.4000\n",
            "Epoch 92/1000\n",
            "8/8 [==============================] - 0s 17ms/step - loss: 0.0190 - accuracy: 0.3150 - val_loss: 0.0047 - val_accuracy: 0.6000\n",
            "Epoch 93/1000\n",
            "8/8 [==============================] - 0s 17ms/step - loss: 0.0173 - accuracy: 0.3386 - val_loss: 0.0035 - val_accuracy: 0.6000\n",
            "Epoch 94/1000\n",
            "8/8 [==============================] - 0s 16ms/step - loss: 0.0164 - accuracy: 0.3307 - val_loss: 0.0046 - val_accuracy: 0.6000\n",
            "Epoch 95/1000\n",
            "8/8 [==============================] - 0s 17ms/step - loss: 0.0166 - accuracy: 0.3071 - val_loss: 0.0051 - val_accuracy: 0.6000\n",
            "Epoch 96/1000\n",
            "8/8 [==============================] - 0s 17ms/step - loss: 0.0176 - accuracy: 0.3071 - val_loss: 0.0026 - val_accuracy: 0.6000\n",
            "Epoch 97/1000\n",
            "8/8 [==============================] - 0s 17ms/step - loss: 0.0180 - accuracy: 0.3622 - val_loss: 0.0019 - val_accuracy: 0.6000\n",
            "Epoch 98/1000\n",
            "8/8 [==============================] - 0s 18ms/step - loss: 0.0184 - accuracy: 0.2756 - val_loss: 0.0099 - val_accuracy: 0.6000\n",
            "Epoch 99/1000\n",
            "8/8 [==============================] - 0s 17ms/step - loss: 0.0154 - accuracy: 0.2913 - val_loss: 0.0020 - val_accuracy: 0.6000\n",
            "Epoch 100/1000\n",
            "8/8 [==============================] - 0s 19ms/step - loss: 0.0160 - accuracy: 0.2283 - val_loss: 0.0019 - val_accuracy: 0.6000\n",
            "Epoch 101/1000\n",
            "8/8 [==============================] - 0s 17ms/step - loss: 0.0186 - accuracy: 0.3228 - val_loss: 0.0110 - val_accuracy: 0.6000\n",
            "Epoch 102/1000\n",
            "8/8 [==============================] - 0s 17ms/step - loss: 0.0170 - accuracy: 0.2598 - val_loss: 0.0024 - val_accuracy: 0.6000\n",
            "Epoch 103/1000\n",
            "8/8 [==============================] - 0s 20ms/step - loss: 0.0163 - accuracy: 0.3071 - val_loss: 0.0077 - val_accuracy: 0.6000\n",
            "Epoch 104/1000\n",
            "8/8 [==============================] - 0s 18ms/step - loss: 0.0151 - accuracy: 0.3307 - val_loss: 0.0017 - val_accuracy: 0.6000\n",
            "Epoch 105/1000\n",
            "8/8 [==============================] - 0s 17ms/step - loss: 0.0151 - accuracy: 0.2992 - val_loss: 0.0021 - val_accuracy: 0.6000\n",
            "Epoch 106/1000\n",
            "8/8 [==============================] - 0s 17ms/step - loss: 0.0177 - accuracy: 0.3543 - val_loss: 0.0042 - val_accuracy: 0.6000\n",
            "Epoch 107/1000\n",
            "8/8 [==============================] - 0s 17ms/step - loss: 0.0155 - accuracy: 0.2205 - val_loss: 0.0071 - val_accuracy: 0.6000\n",
            "Epoch 108/1000\n",
            "8/8 [==============================] - 0s 17ms/step - loss: 0.0176 - accuracy: 0.2520 - val_loss: 0.0024 - val_accuracy: 0.6000\n",
            "Epoch 109/1000\n",
            "8/8 [==============================] - 0s 18ms/step - loss: 0.0141 - accuracy: 0.3307 - val_loss: 0.0033 - val_accuracy: 0.6000\n",
            "Epoch 110/1000\n",
            "8/8 [==============================] - 0s 20ms/step - loss: 0.0171 - accuracy: 0.3386 - val_loss: 0.0060 - val_accuracy: 0.8000\n",
            "Epoch 111/1000\n",
            "8/8 [==============================] - 0s 18ms/step - loss: 0.0159 - accuracy: 0.3543 - val_loss: 0.0038 - val_accuracy: 0.6000\n",
            "Epoch 112/1000\n",
            "8/8 [==============================] - 0s 17ms/step - loss: 0.0147 - accuracy: 0.3228 - val_loss: 0.0023 - val_accuracy: 0.6000\n",
            "Epoch 113/1000\n",
            "8/8 [==============================] - 0s 18ms/step - loss: 0.0157 - accuracy: 0.2835 - val_loss: 0.0049 - val_accuracy: 0.6000\n",
            "Epoch 114/1000\n",
            "8/8 [==============================] - 0s 18ms/step - loss: 0.0146 - accuracy: 0.3150 - val_loss: 0.0020 - val_accuracy: 0.4000\n",
            "Epoch 115/1000\n",
            "8/8 [==============================] - 0s 17ms/step - loss: 0.0152 - accuracy: 0.3465 - val_loss: 0.0067 - val_accuracy: 0.6000\n",
            "Epoch 116/1000\n",
            "8/8 [==============================] - 0s 16ms/step - loss: 0.0137 - accuracy: 0.3465 - val_loss: 0.0068 - val_accuracy: 0.6000\n",
            "Epoch 117/1000\n",
            "8/8 [==============================] - 0s 19ms/step - loss: 0.0139 - accuracy: 0.2992 - val_loss: 0.0019 - val_accuracy: 0.6000\n",
            "Epoch 118/1000\n",
            "8/8 [==============================] - 0s 17ms/step - loss: 0.0158 - accuracy: 0.3150 - val_loss: 0.0025 - val_accuracy: 0.6000\n",
            "Epoch 119/1000\n",
            "8/8 [==============================] - 0s 17ms/step - loss: 0.0145 - accuracy: 0.3622 - val_loss: 0.0042 - val_accuracy: 0.6000\n",
            "Epoch 120/1000\n",
            "8/8 [==============================] - 0s 17ms/step - loss: 0.0149 - accuracy: 0.2835 - val_loss: 0.0076 - val_accuracy: 0.6000\n",
            "Epoch 121/1000\n",
            "8/8 [==============================] - 0s 17ms/step - loss: 0.0148 - accuracy: 0.3622 - val_loss: 0.0020 - val_accuracy: 0.6000\n",
            "Epoch 122/1000\n",
            "8/8 [==============================] - 0s 17ms/step - loss: 0.0157 - accuracy: 0.3465 - val_loss: 0.0025 - val_accuracy: 0.2000\n",
            "Epoch 123/1000\n",
            "8/8 [==============================] - 0s 17ms/step - loss: 0.0162 - accuracy: 0.3071 - val_loss: 0.0070 - val_accuracy: 0.6000\n",
            "Epoch 124/1000\n",
            "8/8 [==============================] - 0s 20ms/step - loss: 0.0160 - accuracy: 0.2992 - val_loss: 0.0019 - val_accuracy: 0.6000\n",
            "Epoch 125/1000\n",
            "8/8 [==============================] - 0s 21ms/step - loss: 0.0146 - accuracy: 0.3071 - val_loss: 0.0020 - val_accuracy: 0.4000\n",
            "Epoch 126/1000\n",
            "8/8 [==============================] - 0s 18ms/step - loss: 0.0155 - accuracy: 0.3386 - val_loss: 0.0112 - val_accuracy: 0.6000\n",
            "Epoch 127/1000\n",
            "8/8 [==============================] - 0s 18ms/step - loss: 0.0147 - accuracy: 0.2677 - val_loss: 0.0019 - val_accuracy: 0.6000\n",
            "Epoch 128/1000\n",
            "8/8 [==============================] - 0s 17ms/step - loss: 0.0150 - accuracy: 0.3150 - val_loss: 0.0036 - val_accuracy: 0.6000\n",
            "Epoch 129/1000\n",
            "8/8 [==============================] - 0s 17ms/step - loss: 0.0141 - accuracy: 0.3150 - val_loss: 0.0044 - val_accuracy: 0.6000\n",
            "Epoch 130/1000\n",
            "8/8 [==============================] - 0s 17ms/step - loss: 0.0147 - accuracy: 0.2598 - val_loss: 0.0032 - val_accuracy: 0.6000\n",
            "Epoch 131/1000\n",
            "8/8 [==============================] - 0s 19ms/step - loss: 0.0153 - accuracy: 0.3228 - val_loss: 0.0022 - val_accuracy: 0.4000\n",
            "Epoch 132/1000\n",
            "8/8 [==============================] - 0s 20ms/step - loss: 0.0151 - accuracy: 0.3150 - val_loss: 0.0076 - val_accuracy: 0.6000\n",
            "Epoch 133/1000\n",
            "8/8 [==============================] - 0s 17ms/step - loss: 0.0149 - accuracy: 0.2913 - val_loss: 0.0029 - val_accuracy: 0.4000\n",
            "Epoch 134/1000\n",
            "8/8 [==============================] - 0s 17ms/step - loss: 0.0132 - accuracy: 0.2992 - val_loss: 0.0021 - val_accuracy: 0.4000\n",
            "Epoch 135/1000\n",
            "8/8 [==============================] - 0s 19ms/step - loss: 0.0149 - accuracy: 0.2913 - val_loss: 0.0041 - val_accuracy: 0.6000\n",
            "Epoch 136/1000\n",
            "8/8 [==============================] - 0s 18ms/step - loss: 0.0140 - accuracy: 0.3386 - val_loss: 0.0086 - val_accuracy: 0.6000\n",
            "Epoch 137/1000\n",
            "8/8 [==============================] - 0s 18ms/step - loss: 0.0152 - accuracy: 0.2756 - val_loss: 0.0051 - val_accuracy: 0.4000\n",
            "Epoch 138/1000\n",
            "8/8 [==============================] - 0s 19ms/step - loss: 0.0135 - accuracy: 0.3150 - val_loss: 0.0034 - val_accuracy: 0.6000\n",
            "Epoch 139/1000\n",
            "8/8 [==============================] - 0s 18ms/step - loss: 0.0131 - accuracy: 0.3307 - val_loss: 0.0024 - val_accuracy: 0.6000\n",
            "Epoch 140/1000\n",
            "8/8 [==============================] - 0s 17ms/step - loss: 0.0139 - accuracy: 0.3543 - val_loss: 0.0048 - val_accuracy: 0.6000\n",
            "Epoch 141/1000\n",
            "8/8 [==============================] - 0s 17ms/step - loss: 0.0135 - accuracy: 0.3780 - val_loss: 0.0082 - val_accuracy: 0.6000\n",
            "Epoch 142/1000\n",
            "8/8 [==============================] - 0s 17ms/step - loss: 0.0138 - accuracy: 0.3307 - val_loss: 0.0033 - val_accuracy: 0.6000\n",
            "Epoch 143/1000\n",
            "8/8 [==============================] - 0s 17ms/step - loss: 0.0131 - accuracy: 0.3071 - val_loss: 0.0022 - val_accuracy: 0.6000\n",
            "Epoch 144/1000\n",
            "8/8 [==============================] - 0s 20ms/step - loss: 0.0121 - accuracy: 0.3150 - val_loss: 0.0070 - val_accuracy: 0.6000\n",
            "Epoch 145/1000\n",
            "8/8 [==============================] - 0s 21ms/step - loss: 0.0127 - accuracy: 0.2756 - val_loss: 0.0110 - val_accuracy: 0.6000\n",
            "Epoch 146/1000\n",
            "8/8 [==============================] - 0s 17ms/step - loss: 0.0147 - accuracy: 0.2756 - val_loss: 0.0023 - val_accuracy: 0.6000\n",
            "Epoch 147/1000\n",
            "8/8 [==============================] - 0s 16ms/step - loss: 0.0137 - accuracy: 0.3228 - val_loss: 0.0024 - val_accuracy: 0.4000\n",
            "Epoch 148/1000\n",
            "8/8 [==============================] - 0s 18ms/step - loss: 0.0142 - accuracy: 0.3150 - val_loss: 0.0044 - val_accuracy: 0.6000\n",
            "Epoch 149/1000\n",
            "8/8 [==============================] - 0s 17ms/step - loss: 0.0130 - accuracy: 0.3780 - val_loss: 0.0039 - val_accuracy: 0.6000\n",
            "Epoch 150/1000\n",
            "8/8 [==============================] - 0s 18ms/step - loss: 0.0130 - accuracy: 0.3071 - val_loss: 0.0025 - val_accuracy: 0.2000\n",
            "Epoch 151/1000\n",
            "8/8 [==============================] - 0s 18ms/step - loss: 0.0147 - accuracy: 0.3071 - val_loss: 0.0076 - val_accuracy: 0.6000\n",
            "Epoch 152/1000\n",
            "8/8 [==============================] - 0s 20ms/step - loss: 0.0129 - accuracy: 0.2756 - val_loss: 0.0066 - val_accuracy: 0.4000\n",
            "Epoch 153/1000\n",
            "8/8 [==============================] - 0s 17ms/step - loss: 0.0126 - accuracy: 0.2992 - val_loss: 0.0050 - val_accuracy: 0.4000\n",
            "Epoch 154/1000\n",
            "8/8 [==============================] - 0s 18ms/step - loss: 0.0122 - accuracy: 0.3150 - val_loss: 0.0048 - val_accuracy: 0.6000\n",
            "Epoch 155/1000\n",
            "8/8 [==============================] - 0s 18ms/step - loss: 0.0126 - accuracy: 0.3543 - val_loss: 0.0045 - val_accuracy: 0.6000\n",
            "Epoch 156/1000\n",
            "8/8 [==============================] - 0s 17ms/step - loss: 0.0134 - accuracy: 0.3307 - val_loss: 0.0027 - val_accuracy: 0.4000\n",
            "Epoch 157/1000\n",
            "8/8 [==============================] - 0s 18ms/step - loss: 0.0132 - accuracy: 0.2835 - val_loss: 0.0101 - val_accuracy: 0.6000\n",
            "Epoch 158/1000\n",
            "8/8 [==============================] - 0s 18ms/step - loss: 0.0149 - accuracy: 0.3071 - val_loss: 0.0022 - val_accuracy: 0.6000\n",
            "Epoch 159/1000\n",
            "8/8 [==============================] - 0s 19ms/step - loss: 0.0140 - accuracy: 0.3071 - val_loss: 0.0031 - val_accuracy: 0.6000\n",
            "Epoch 160/1000\n",
            "8/8 [==============================] - 0s 19ms/step - loss: 0.0132 - accuracy: 0.3780 - val_loss: 0.0068 - val_accuracy: 0.6000\n",
            "Epoch 161/1000\n",
            "8/8 [==============================] - 0s 18ms/step - loss: 0.0121 - accuracy: 0.2520 - val_loss: 0.0025 - val_accuracy: 0.6000\n",
            "Epoch 162/1000\n",
            "8/8 [==============================] - 0s 17ms/step - loss: 0.0145 - accuracy: 0.2756 - val_loss: 0.0080 - val_accuracy: 0.6000\n",
            "Epoch 163/1000\n",
            "8/8 [==============================] - 0s 17ms/step - loss: 0.0108 - accuracy: 0.3228 - val_loss: 0.0029 - val_accuracy: 0.4000\n",
            "Epoch 164/1000\n",
            "8/8 [==============================] - 0s 16ms/step - loss: 0.0120 - accuracy: 0.2756 - val_loss: 0.0035 - val_accuracy: 0.6000\n",
            "Epoch 165/1000\n",
            "8/8 [==============================] - 0s 17ms/step - loss: 0.0110 - accuracy: 0.2677 - val_loss: 0.0070 - val_accuracy: 0.6000\n",
            "Epoch 166/1000\n",
            "8/8 [==============================] - 0s 18ms/step - loss: 0.0115 - accuracy: 0.3465 - val_loss: 0.0049 - val_accuracy: 0.4000\n",
            "Epoch 167/1000\n",
            "8/8 [==============================] - 0s 17ms/step - loss: 0.0121 - accuracy: 0.3228 - val_loss: 0.0067 - val_accuracy: 0.6000\n",
            "Epoch 168/1000\n",
            "8/8 [==============================] - 0s 17ms/step - loss: 0.0130 - accuracy: 0.3465 - val_loss: 0.0023 - val_accuracy: 0.6000\n",
            "Epoch 169/1000\n",
            "8/8 [==============================] - 0s 19ms/step - loss: 0.0120 - accuracy: 0.3307 - val_loss: 0.0039 - val_accuracy: 0.6000\n",
            "Epoch 170/1000\n",
            "8/8 [==============================] - 0s 19ms/step - loss: 0.0124 - accuracy: 0.3071 - val_loss: 0.0106 - val_accuracy: 0.6000\n",
            "Epoch 171/1000\n",
            "8/8 [==============================] - 0s 19ms/step - loss: 0.0122 - accuracy: 0.3150 - val_loss: 0.0024 - val_accuracy: 0.4000\n",
            "Epoch 172/1000\n",
            "8/8 [==============================] - 0s 20ms/step - loss: 0.0135 - accuracy: 0.3622 - val_loss: 0.0031 - val_accuracy: 0.6000\n",
            "Epoch 173/1000\n",
            "8/8 [==============================] - 0s 17ms/step - loss: 0.0130 - accuracy: 0.3150 - val_loss: 0.0120 - val_accuracy: 0.6000\n",
            "Epoch 174/1000\n",
            "8/8 [==============================] - 0s 18ms/step - loss: 0.0130 - accuracy: 0.3228 - val_loss: 0.0039 - val_accuracy: 0.4000\n",
            "Epoch 175/1000\n",
            "8/8 [==============================] - 0s 17ms/step - loss: 0.0120 - accuracy: 0.2520 - val_loss: 0.0032 - val_accuracy: 0.4000\n",
            "Epoch 176/1000\n",
            "8/8 [==============================] - 0s 20ms/step - loss: 0.0142 - accuracy: 0.3150 - val_loss: 0.0064 - val_accuracy: 0.4000\n",
            "Epoch 177/1000\n",
            "8/8 [==============================] - 0s 20ms/step - loss: 0.0123 - accuracy: 0.2835 - val_loss: 0.0035 - val_accuracy: 0.4000\n",
            "Epoch 178/1000\n",
            "8/8 [==============================] - 0s 18ms/step - loss: 0.0119 - accuracy: 0.3150 - val_loss: 0.0051 - val_accuracy: 0.6000\n",
            "Epoch 179/1000\n",
            "8/8 [==============================] - 0s 20ms/step - loss: 0.0116 - accuracy: 0.2913 - val_loss: 0.0035 - val_accuracy: 0.6000\n",
            "Epoch 180/1000\n",
            "8/8 [==============================] - 0s 18ms/step - loss: 0.0118 - accuracy: 0.3150 - val_loss: 0.0046 - val_accuracy: 0.6000\n",
            "Epoch 181/1000\n",
            "8/8 [==============================] - 0s 20ms/step - loss: 0.0126 - accuracy: 0.3622 - val_loss: 0.0051 - val_accuracy: 0.6000\n",
            "Epoch 182/1000\n",
            "8/8 [==============================] - 0s 18ms/step - loss: 0.0124 - accuracy: 0.3701 - val_loss: 0.0039 - val_accuracy: 0.6000\n",
            "Epoch 183/1000\n",
            "8/8 [==============================] - 0s 17ms/step - loss: 0.0116 - accuracy: 0.2913 - val_loss: 0.0030 - val_accuracy: 0.4000\n",
            "Epoch 184/1000\n",
            "8/8 [==============================] - 0s 18ms/step - loss: 0.0107 - accuracy: 0.3622 - val_loss: 0.0033 - val_accuracy: 0.6000\n",
            "Epoch 185/1000\n",
            "8/8 [==============================] - 0s 18ms/step - loss: 0.0138 - accuracy: 0.3228 - val_loss: 0.0084 - val_accuracy: 0.6000\n",
            "Epoch 186/1000\n",
            "8/8 [==============================] - 0s 20ms/step - loss: 0.0125 - accuracy: 0.3937 - val_loss: 0.0031 - val_accuracy: 0.4000\n",
            "Epoch 187/1000\n",
            "8/8 [==============================] - 0s 18ms/step - loss: 0.0128 - accuracy: 0.3780 - val_loss: 0.0049 - val_accuracy: 0.4000\n",
            "Epoch 188/1000\n",
            "8/8 [==============================] - 0s 17ms/step - loss: 0.0121 - accuracy: 0.3228 - val_loss: 0.0027 - val_accuracy: 0.4000\n",
            "Epoch 189/1000\n",
            "8/8 [==============================] - 0s 18ms/step - loss: 0.0109 - accuracy: 0.3228 - val_loss: 0.0045 - val_accuracy: 0.4000\n",
            "Epoch 190/1000\n",
            "8/8 [==============================] - 0s 17ms/step - loss: 0.0132 - accuracy: 0.3150 - val_loss: 0.0058 - val_accuracy: 0.4000\n",
            "Epoch 191/1000\n",
            "8/8 [==============================] - 0s 19ms/step - loss: 0.0120 - accuracy: 0.2677 - val_loss: 0.0023 - val_accuracy: 0.4000\n",
            "Epoch 192/1000\n",
            "8/8 [==============================] - 0s 20ms/step - loss: 0.0115 - accuracy: 0.2835 - val_loss: 0.0055 - val_accuracy: 0.4000\n",
            "Epoch 193/1000\n",
            "8/8 [==============================] - 0s 20ms/step - loss: 0.0116 - accuracy: 0.3465 - val_loss: 0.0044 - val_accuracy: 0.4000\n",
            "Epoch 194/1000\n",
            "8/8 [==============================] - 0s 18ms/step - loss: 0.0133 - accuracy: 0.3071 - val_loss: 0.0052 - val_accuracy: 0.6000\n",
            "Epoch 195/1000\n",
            "8/8 [==============================] - 0s 17ms/step - loss: 0.0114 - accuracy: 0.3465 - val_loss: 0.0051 - val_accuracy: 0.6000\n",
            "Epoch 196/1000\n",
            "8/8 [==============================] - 0s 19ms/step - loss: 0.0119 - accuracy: 0.3465 - val_loss: 0.0027 - val_accuracy: 0.4000\n",
            "Epoch 197/1000\n",
            "8/8 [==============================] - 0s 18ms/step - loss: 0.0125 - accuracy: 0.3622 - val_loss: 0.0048 - val_accuracy: 0.6000\n",
            "Epoch 198/1000\n",
            "8/8 [==============================] - 0s 17ms/step - loss: 0.0110 - accuracy: 0.3622 - val_loss: 0.0034 - val_accuracy: 0.6000\n",
            "Epoch 199/1000\n",
            "8/8 [==============================] - 0s 18ms/step - loss: 0.0111 - accuracy: 0.3465 - val_loss: 0.0050 - val_accuracy: 0.6000\n",
            "Epoch 200/1000\n",
            "8/8 [==============================] - 0s 19ms/step - loss: 0.0122 - accuracy: 0.2362 - val_loss: 0.0027 - val_accuracy: 0.6000\n",
            "Epoch 201/1000\n",
            "8/8 [==============================] - 0s 20ms/step - loss: 0.0128 - accuracy: 0.3465 - val_loss: 0.0025 - val_accuracy: 0.6000\n",
            "Epoch 202/1000\n",
            "8/8 [==============================] - 0s 20ms/step - loss: 0.0122 - accuracy: 0.2835 - val_loss: 0.0054 - val_accuracy: 0.6000\n",
            "Epoch 203/1000\n",
            "8/8 [==============================] - 0s 18ms/step - loss: 0.0106 - accuracy: 0.3465 - val_loss: 0.0030 - val_accuracy: 0.6000\n",
            "Epoch 204/1000\n",
            "8/8 [==============================] - 0s 18ms/step - loss: 0.0112 - accuracy: 0.2913 - val_loss: 0.0036 - val_accuracy: 0.6000\n",
            "Epoch 205/1000\n",
            "8/8 [==============================] - 0s 18ms/step - loss: 0.0120 - accuracy: 0.2835 - val_loss: 0.0047 - val_accuracy: 0.6000\n",
            "Epoch 206/1000\n",
            "8/8 [==============================] - 0s 18ms/step - loss: 0.0118 - accuracy: 0.3386 - val_loss: 0.0037 - val_accuracy: 0.6000\n",
            "Epoch 207/1000\n",
            "8/8 [==============================] - 0s 17ms/step - loss: 0.0114 - accuracy: 0.3386 - val_loss: 0.0037 - val_accuracy: 0.6000\n",
            "Epoch 208/1000\n",
            "8/8 [==============================] - 0s 18ms/step - loss: 0.0116 - accuracy: 0.3071 - val_loss: 0.0025 - val_accuracy: 0.6000\n",
            "Epoch 209/1000\n",
            "8/8 [==============================] - 0s 18ms/step - loss: 0.0125 - accuracy: 0.2756 - val_loss: 0.0074 - val_accuracy: 0.6000\n",
            "Epoch 210/1000\n",
            "8/8 [==============================] - 0s 17ms/step - loss: 0.0116 - accuracy: 0.3307 - val_loss: 0.0027 - val_accuracy: 0.6000\n",
            "Epoch 211/1000\n",
            "8/8 [==============================] - 0s 18ms/step - loss: 0.0120 - accuracy: 0.3701 - val_loss: 0.0031 - val_accuracy: 0.6000\n",
            "Epoch 212/1000\n",
            "8/8 [==============================] - 0s 18ms/step - loss: 0.0123 - accuracy: 0.3701 - val_loss: 0.0026 - val_accuracy: 0.4000\n",
            "Epoch 213/1000\n",
            "8/8 [==============================] - 0s 19ms/step - loss: 0.0120 - accuracy: 0.2756 - val_loss: 0.0060 - val_accuracy: 0.6000\n",
            "Epoch 214/1000\n",
            "8/8 [==============================] - 0s 18ms/step - loss: 0.0105 - accuracy: 0.3386 - val_loss: 0.0043 - val_accuracy: 0.6000\n",
            "Epoch 215/1000\n",
            "8/8 [==============================] - 0s 18ms/step - loss: 0.0112 - accuracy: 0.2835 - val_loss: 0.0023 - val_accuracy: 0.6000\n",
            "Epoch 216/1000\n",
            "8/8 [==============================] - 0s 17ms/step - loss: 0.0112 - accuracy: 0.3701 - val_loss: 0.0053 - val_accuracy: 0.6000\n",
            "Epoch 217/1000\n",
            "8/8 [==============================] - 0s 19ms/step - loss: 0.0104 - accuracy: 0.3228 - val_loss: 0.0039 - val_accuracy: 0.6000\n",
            "Epoch 218/1000\n",
            "8/8 [==============================] - 0s 19ms/step - loss: 0.0116 - accuracy: 0.3228 - val_loss: 0.0029 - val_accuracy: 0.6000\n",
            "Epoch 219/1000\n",
            "8/8 [==============================] - 0s 20ms/step - loss: 0.0115 - accuracy: 0.3622 - val_loss: 0.0044 - val_accuracy: 0.6000\n",
            "Epoch 220/1000\n",
            "8/8 [==============================] - 0s 19ms/step - loss: 0.0112 - accuracy: 0.3465 - val_loss: 0.0028 - val_accuracy: 0.6000\n",
            "Epoch 221/1000\n",
            "8/8 [==============================] - 0s 17ms/step - loss: 0.0117 - accuracy: 0.3622 - val_loss: 0.0041 - val_accuracy: 0.6000\n",
            "Epoch 222/1000\n",
            "8/8 [==============================] - 0s 17ms/step - loss: 0.0098 - accuracy: 0.3465 - val_loss: 0.0057 - val_accuracy: 0.6000\n",
            "Epoch 223/1000\n",
            "8/8 [==============================] - 0s 19ms/step - loss: 0.0114 - accuracy: 0.3858 - val_loss: 0.0027 - val_accuracy: 0.2000\n",
            "Epoch 224/1000\n",
            "8/8 [==============================] - 0s 17ms/step - loss: 0.0126 - accuracy: 0.2913 - val_loss: 0.0032 - val_accuracy: 0.6000\n",
            "Epoch 225/1000\n",
            "8/8 [==============================] - 0s 18ms/step - loss: 0.0126 - accuracy: 0.3465 - val_loss: 0.0063 - val_accuracy: 0.6000\n",
            "Epoch 226/1000\n",
            "8/8 [==============================] - 0s 17ms/step - loss: 0.0117 - accuracy: 0.2992 - val_loss: 0.0062 - val_accuracy: 0.6000\n",
            "Epoch 227/1000\n",
            "8/8 [==============================] - 0s 19ms/step - loss: 0.0106 - accuracy: 0.3386 - val_loss: 0.0032 - val_accuracy: 0.2000\n",
            "Epoch 228/1000\n",
            "8/8 [==============================] - 0s 17ms/step - loss: 0.0132 - accuracy: 0.3543 - val_loss: 0.0036 - val_accuracy: 0.6000\n",
            "Epoch 229/1000\n",
            "8/8 [==============================] - 0s 18ms/step - loss: 0.0142 - accuracy: 0.3858 - val_loss: 0.0080 - val_accuracy: 0.6000\n",
            "Epoch 230/1000\n",
            "8/8 [==============================] - 0s 19ms/step - loss: 0.0122 - accuracy: 0.3858 - val_loss: 0.0040 - val_accuracy: 0.6000\n",
            "Epoch 231/1000\n",
            "8/8 [==============================] - 0s 18ms/step - loss: 0.0132 - accuracy: 0.3071 - val_loss: 0.0071 - val_accuracy: 0.6000\n",
            "Epoch 232/1000\n",
            "8/8 [==============================] - 0s 17ms/step - loss: 0.0114 - accuracy: 0.3701 - val_loss: 0.0045 - val_accuracy: 0.6000\n",
            "Epoch 233/1000\n",
            "8/8 [==============================] - 0s 19ms/step - loss: 0.0105 - accuracy: 0.2913 - val_loss: 0.0065 - val_accuracy: 0.6000\n",
            "Epoch 234/1000\n",
            "8/8 [==============================] - 0s 21ms/step - loss: 0.0096 - accuracy: 0.3071 - val_loss: 0.0028 - val_accuracy: 0.4000\n",
            "Epoch 235/1000\n",
            "8/8 [==============================] - 0s 20ms/step - loss: 0.0112 - accuracy: 0.3071 - val_loss: 0.0075 - val_accuracy: 0.6000\n",
            "Epoch 236/1000\n",
            "8/8 [==============================] - 0s 18ms/step - loss: 0.0101 - accuracy: 0.2677 - val_loss: 0.0078 - val_accuracy: 0.6000\n",
            "Epoch 237/1000\n",
            "8/8 [==============================] - 0s 23ms/step - loss: 0.0103 - accuracy: 0.3307 - val_loss: 0.0050 - val_accuracy: 0.6000\n",
            "Epoch 238/1000\n",
            "8/8 [==============================] - 0s 19ms/step - loss: 0.0096 - accuracy: 0.3622 - val_loss: 0.0048 - val_accuracy: 0.6000\n",
            "Epoch 239/1000\n",
            "8/8 [==============================] - 0s 20ms/step - loss: 0.0104 - accuracy: 0.3543 - val_loss: 0.0048 - val_accuracy: 0.4000\n",
            "Epoch 240/1000\n",
            "8/8 [==============================] - 0s 20ms/step - loss: 0.0114 - accuracy: 0.3622 - val_loss: 0.0046 - val_accuracy: 0.6000\n",
            "Epoch 241/1000\n",
            "8/8 [==============================] - 0s 18ms/step - loss: 0.0109 - accuracy: 0.2992 - val_loss: 0.0061 - val_accuracy: 0.6000\n",
            "Epoch 242/1000\n",
            "8/8 [==============================] - 0s 21ms/step - loss: 0.0113 - accuracy: 0.3071 - val_loss: 0.0073 - val_accuracy: 0.6000\n",
            "Epoch 243/1000\n",
            "8/8 [==============================] - 0s 19ms/step - loss: 0.0107 - accuracy: 0.3307 - val_loss: 0.0053 - val_accuracy: 0.6000\n",
            "Epoch 244/1000\n",
            "8/8 [==============================] - 0s 21ms/step - loss: 0.0101 - accuracy: 0.3622 - val_loss: 0.0078 - val_accuracy: 0.6000\n",
            "Epoch 245/1000\n",
            "8/8 [==============================] - 0s 17ms/step - loss: 0.0101 - accuracy: 0.3150 - val_loss: 0.0077 - val_accuracy: 0.6000\n",
            "Epoch 246/1000\n",
            "8/8 [==============================] - 0s 19ms/step - loss: 0.0099 - accuracy: 0.3622 - val_loss: 0.0055 - val_accuracy: 0.4000\n",
            "Epoch 247/1000\n",
            "8/8 [==============================] - 0s 18ms/step - loss: 0.0109 - accuracy: 0.3307 - val_loss: 0.0107 - val_accuracy: 0.6000\n",
            "Epoch 248/1000\n",
            "8/8 [==============================] - 0s 20ms/step - loss: 0.0114 - accuracy: 0.3307 - val_loss: 0.0035 - val_accuracy: 0.2000\n",
            "Epoch 249/1000\n",
            "8/8 [==============================] - 0s 20ms/step - loss: 0.0117 - accuracy: 0.2677 - val_loss: 0.0036 - val_accuracy: 0.6000\n",
            "Epoch 250/1000\n",
            "8/8 [==============================] - 0s 19ms/step - loss: 0.0103 - accuracy: 0.3780 - val_loss: 0.0056 - val_accuracy: 0.6000\n",
            "Epoch 251/1000\n",
            "8/8 [==============================] - 0s 21ms/step - loss: 0.0111 - accuracy: 0.3937 - val_loss: 0.0043 - val_accuracy: 0.6000\n",
            "Epoch 252/1000\n",
            "8/8 [==============================] - 0s 20ms/step - loss: 0.0124 - accuracy: 0.3858 - val_loss: 0.0132 - val_accuracy: 0.6000\n",
            "Epoch 253/1000\n",
            "8/8 [==============================] - 0s 20ms/step - loss: 0.0107 - accuracy: 0.3543 - val_loss: 0.0072 - val_accuracy: 0.4000\n",
            "Epoch 254/1000\n",
            "8/8 [==============================] - 0s 18ms/step - loss: 0.0101 - accuracy: 0.2756 - val_loss: 0.0063 - val_accuracy: 0.6000\n",
            "Epoch 255/1000\n",
            "8/8 [==============================] - 0s 20ms/step - loss: 0.0093 - accuracy: 0.3543 - val_loss: 0.0073 - val_accuracy: 0.6000\n",
            "Epoch 256/1000\n",
            "8/8 [==============================] - 0s 18ms/step - loss: 0.0105 - accuracy: 0.3465 - val_loss: 0.0049 - val_accuracy: 0.4000\n",
            "Epoch 257/1000\n",
            "8/8 [==============================] - 0s 18ms/step - loss: 0.0103 - accuracy: 0.3543 - val_loss: 0.0049 - val_accuracy: 0.6000\n",
            "Epoch 258/1000\n",
            "8/8 [==============================] - 0s 20ms/step - loss: 0.0093 - accuracy: 0.3307 - val_loss: 0.0062 - val_accuracy: 0.6000\n",
            "Epoch 259/1000\n",
            "8/8 [==============================] - 0s 20ms/step - loss: 0.0089 - accuracy: 0.2756 - val_loss: 0.0078 - val_accuracy: 0.6000\n",
            "Epoch 260/1000\n",
            "8/8 [==============================] - 0s 17ms/step - loss: 0.0099 - accuracy: 0.3071 - val_loss: 0.0055 - val_accuracy: 0.4000\n",
            "Epoch 261/1000\n",
            "8/8 [==============================] - 0s 18ms/step - loss: 0.0094 - accuracy: 0.4094 - val_loss: 0.0115 - val_accuracy: 0.6000\n",
            "Epoch 262/1000\n",
            "8/8 [==============================] - 0s 20ms/step - loss: 0.0103 - accuracy: 0.2992 - val_loss: 0.0046 - val_accuracy: 0.4000\n",
            "Epoch 263/1000\n",
            "8/8 [==============================] - 0s 19ms/step - loss: 0.0093 - accuracy: 0.3465 - val_loss: 0.0075 - val_accuracy: 0.6000\n",
            "Epoch 264/1000\n",
            "8/8 [==============================] - 0s 20ms/step - loss: 0.0096 - accuracy: 0.3307 - val_loss: 0.0098 - val_accuracy: 0.6000\n",
            "Epoch 265/1000\n",
            "8/8 [==============================] - 0s 20ms/step - loss: 0.0092 - accuracy: 0.3228 - val_loss: 0.0121 - val_accuracy: 0.6000\n",
            "Epoch 266/1000\n",
            "8/8 [==============================] - 0s 23ms/step - loss: 0.0087 - accuracy: 0.3622 - val_loss: 0.0074 - val_accuracy: 0.4000\n",
            "Epoch 267/1000\n",
            "8/8 [==============================] - 0s 19ms/step - loss: 0.0102 - accuracy: 0.3228 - val_loss: 0.0092 - val_accuracy: 0.6000\n",
            "Epoch 268/1000\n",
            "8/8 [==============================] - 0s 17ms/step - loss: 0.0095 - accuracy: 0.3307 - val_loss: 0.0088 - val_accuracy: 0.6000\n",
            "Epoch 269/1000\n",
            "8/8 [==============================] - 0s 18ms/step - loss: 0.0075 - accuracy: 0.3701 - val_loss: 0.0079 - val_accuracy: 0.6000\n",
            "Epoch 270/1000\n",
            "8/8 [==============================] - 0s 17ms/step - loss: 0.0087 - accuracy: 0.3622 - val_loss: 0.0094 - val_accuracy: 0.6000\n",
            "Epoch 271/1000\n",
            "8/8 [==============================] - 0s 18ms/step - loss: 0.0087 - accuracy: 0.3465 - val_loss: 0.0082 - val_accuracy: 0.6000\n",
            "Epoch 272/1000\n",
            "8/8 [==============================] - 0s 20ms/step - loss: 0.0092 - accuracy: 0.2756 - val_loss: 0.0070 - val_accuracy: 0.6000\n",
            "Epoch 273/1000\n",
            "8/8 [==============================] - 0s 18ms/step - loss: 0.0088 - accuracy: 0.3386 - val_loss: 0.0099 - val_accuracy: 0.6000\n",
            "Epoch 274/1000\n",
            "8/8 [==============================] - 0s 21ms/step - loss: 0.0096 - accuracy: 0.3386 - val_loss: 0.0069 - val_accuracy: 0.4000\n",
            "Epoch 275/1000\n",
            "8/8 [==============================] - 0s 21ms/step - loss: 0.0095 - accuracy: 0.4094 - val_loss: 0.0077 - val_accuracy: 0.6000\n",
            "Epoch 276/1000\n",
            "8/8 [==============================] - 0s 19ms/step - loss: 0.0089 - accuracy: 0.3622 - val_loss: 0.0060 - val_accuracy: 0.6000\n",
            "Epoch 277/1000\n",
            "8/8 [==============================] - 0s 18ms/step - loss: 0.0076 - accuracy: 0.3228 - val_loss: 0.0086 - val_accuracy: 0.6000\n",
            "Epoch 278/1000\n",
            "8/8 [==============================] - 0s 19ms/step - loss: 0.0085 - accuracy: 0.4016 - val_loss: 0.0097 - val_accuracy: 0.6000\n",
            "Epoch 279/1000\n",
            "8/8 [==============================] - 0s 17ms/step - loss: 0.0086 - accuracy: 0.3465 - val_loss: 0.0076 - val_accuracy: 0.6000\n",
            "Epoch 280/1000\n",
            "8/8 [==============================] - 0s 17ms/step - loss: 0.0092 - accuracy: 0.3858 - val_loss: 0.0110 - val_accuracy: 0.6000\n",
            "Epoch 281/1000\n",
            "8/8 [==============================] - 0s 17ms/step - loss: 0.0091 - accuracy: 0.3543 - val_loss: 0.0060 - val_accuracy: 0.6000\n",
            "Epoch 282/1000\n",
            "8/8 [==============================] - 0s 20ms/step - loss: 0.0083 - accuracy: 0.4016 - val_loss: 0.0056 - val_accuracy: 0.6000\n",
            "Epoch 283/1000\n",
            "8/8 [==============================] - 0s 18ms/step - loss: 0.0075 - accuracy: 0.3150 - val_loss: 0.0074 - val_accuracy: 0.6000\n",
            "Epoch 284/1000\n",
            "8/8 [==============================] - 0s 18ms/step - loss: 0.0084 - accuracy: 0.3465 - val_loss: 0.0067 - val_accuracy: 0.6000\n",
            "Epoch 285/1000\n",
            "8/8 [==============================] - 0s 20ms/step - loss: 0.0072 - accuracy: 0.4173 - val_loss: 0.0077 - val_accuracy: 0.6000\n",
            "Epoch 286/1000\n",
            "8/8 [==============================] - 0s 20ms/step - loss: 0.0079 - accuracy: 0.4094 - val_loss: 0.0079 - val_accuracy: 0.6000\n",
            "Epoch 287/1000\n",
            "8/8 [==============================] - 0s 20ms/step - loss: 0.0086 - accuracy: 0.4016 - val_loss: 0.0081 - val_accuracy: 0.6000\n",
            "Epoch 288/1000\n",
            "8/8 [==============================] - 0s 17ms/step - loss: 0.0091 - accuracy: 0.3701 - val_loss: 0.0066 - val_accuracy: 0.6000\n",
            "Epoch 289/1000\n",
            "8/8 [==============================] - 0s 17ms/step - loss: 0.0081 - accuracy: 0.4331 - val_loss: 0.0086 - val_accuracy: 0.6000\n",
            "Epoch 290/1000\n",
            "8/8 [==============================] - 0s 17ms/step - loss: 0.0078 - accuracy: 0.3071 - val_loss: 0.0081 - val_accuracy: 0.6000\n",
            "Epoch 291/1000\n",
            "8/8 [==============================] - 0s 19ms/step - loss: 0.0072 - accuracy: 0.3622 - val_loss: 0.0068 - val_accuracy: 0.4000\n",
            "Epoch 292/1000\n",
            "8/8 [==============================] - 0s 20ms/step - loss: 0.0082 - accuracy: 0.3937 - val_loss: 0.0073 - val_accuracy: 0.4000\n",
            "Epoch 293/1000\n",
            "8/8 [==============================] - 0s 20ms/step - loss: 0.0085 - accuracy: 0.4094 - val_loss: 0.0090 - val_accuracy: 0.6000\n",
            "Epoch 294/1000\n",
            "8/8 [==============================] - 0s 20ms/step - loss: 0.0073 - accuracy: 0.4173 - val_loss: 0.0070 - val_accuracy: 0.4000\n",
            "Epoch 295/1000\n",
            "8/8 [==============================] - 0s 18ms/step - loss: 0.0076 - accuracy: 0.4173 - val_loss: 0.0070 - val_accuracy: 0.4000\n",
            "Epoch 296/1000\n",
            "8/8 [==============================] - 0s 18ms/step - loss: 0.0083 - accuracy: 0.3622 - val_loss: 0.0077 - val_accuracy: 0.6000\n",
            "Epoch 297/1000\n",
            "8/8 [==============================] - 0s 21ms/step - loss: 0.0078 - accuracy: 0.3386 - val_loss: 0.0054 - val_accuracy: 0.6000\n",
            "Epoch 298/1000\n",
            "8/8 [==============================] - 0s 19ms/step - loss: 0.0086 - accuracy: 0.3780 - val_loss: 0.0063 - val_accuracy: 0.6000\n",
            "Epoch 299/1000\n",
            "8/8 [==============================] - 0s 18ms/step - loss: 0.0072 - accuracy: 0.4016 - val_loss: 0.0073 - val_accuracy: 0.6000\n",
            "Epoch 300/1000\n",
            "8/8 [==============================] - 0s 23ms/step - loss: 0.0066 - accuracy: 0.3701 - val_loss: 0.0070 - val_accuracy: 0.6000\n",
            "Epoch 301/1000\n",
            "8/8 [==============================] - 0s 20ms/step - loss: 0.0068 - accuracy: 0.4016 - val_loss: 0.0069 - val_accuracy: 0.6000\n",
            "Epoch 302/1000\n",
            "8/8 [==============================] - 0s 23ms/step - loss: 0.0076 - accuracy: 0.3465 - val_loss: 0.0048 - val_accuracy: 0.4000\n",
            "Epoch 303/1000\n",
            "8/8 [==============================] - 0s 18ms/step - loss: 0.0073 - accuracy: 0.3150 - val_loss: 0.0081 - val_accuracy: 0.6000\n",
            "Epoch 304/1000\n",
            "8/8 [==============================] - 0s 18ms/step - loss: 0.0077 - accuracy: 0.3465 - val_loss: 0.0074 - val_accuracy: 0.6000\n",
            "Epoch 305/1000\n",
            "8/8 [==============================] - 0s 21ms/step - loss: 0.0068 - accuracy: 0.4094 - val_loss: 0.0103 - val_accuracy: 0.4000\n",
            "Epoch 306/1000\n",
            "8/8 [==============================] - 0s 20ms/step - loss: 0.0066 - accuracy: 0.3780 - val_loss: 0.0087 - val_accuracy: 0.6000\n",
            "Epoch 307/1000\n",
            "8/8 [==============================] - 0s 18ms/step - loss: 0.0071 - accuracy: 0.3937 - val_loss: 0.0070 - val_accuracy: 0.4000\n",
            "Epoch 308/1000\n",
            "8/8 [==============================] - 0s 19ms/step - loss: 0.0071 - accuracy: 0.4331 - val_loss: 0.0057 - val_accuracy: 0.6000\n",
            "Epoch 309/1000\n",
            "8/8 [==============================] - 0s 20ms/step - loss: 0.0075 - accuracy: 0.4016 - val_loss: 0.0058 - val_accuracy: 0.6000\n",
            "Epoch 310/1000\n",
            "8/8 [==============================] - 0s 20ms/step - loss: 0.0069 - accuracy: 0.4094 - val_loss: 0.0063 - val_accuracy: 0.6000\n",
            "Epoch 311/1000\n",
            "8/8 [==============================] - 0s 17ms/step - loss: 0.0072 - accuracy: 0.3228 - val_loss: 0.0066 - val_accuracy: 0.6000\n",
            "Epoch 312/1000\n",
            "8/8 [==============================] - 0s 20ms/step - loss: 0.0065 - accuracy: 0.4409 - val_loss: 0.0059 - val_accuracy: 0.6000\n",
            "Epoch 313/1000\n",
            "8/8 [==============================] - 0s 18ms/step - loss: 0.0069 - accuracy: 0.4331 - val_loss: 0.0069 - val_accuracy: 0.6000\n",
            "Epoch 314/1000\n",
            "8/8 [==============================] - 0s 20ms/step - loss: 0.0074 - accuracy: 0.3858 - val_loss: 0.0063 - val_accuracy: 0.6000\n",
            "Epoch 315/1000\n",
            "8/8 [==============================] - 0s 20ms/step - loss: 0.0066 - accuracy: 0.3543 - val_loss: 0.0054 - val_accuracy: 0.4000\n",
            "Epoch 316/1000\n",
            "8/8 [==============================] - 0s 19ms/step - loss: 0.0068 - accuracy: 0.3780 - val_loss: 0.0055 - val_accuracy: 0.6000\n",
            "Epoch 317/1000\n",
            "8/8 [==============================] - 0s 17ms/step - loss: 0.0063 - accuracy: 0.4016 - val_loss: 0.0057 - val_accuracy: 0.6000\n",
            "Epoch 318/1000\n",
            "8/8 [==============================] - 0s 17ms/step - loss: 0.0063 - accuracy: 0.3465 - val_loss: 0.0061 - val_accuracy: 0.4000\n",
            "Epoch 319/1000\n",
            "8/8 [==============================] - 0s 20ms/step - loss: 0.0065 - accuracy: 0.3858 - val_loss: 0.0068 - val_accuracy: 0.4000\n",
            "Epoch 320/1000\n",
            "8/8 [==============================] - 0s 18ms/step - loss: 0.0058 - accuracy: 0.4094 - val_loss: 0.0057 - val_accuracy: 0.6000\n",
            "Epoch 321/1000\n",
            "8/8 [==============================] - 0s 18ms/step - loss: 0.0059 - accuracy: 0.3937 - val_loss: 0.0062 - val_accuracy: 0.6000\n",
            "Epoch 322/1000\n",
            "8/8 [==============================] - 0s 20ms/step - loss: 0.0065 - accuracy: 0.3543 - val_loss: 0.0067 - val_accuracy: 0.6000\n",
            "Epoch 323/1000\n",
            "8/8 [==============================] - 0s 18ms/step - loss: 0.0066 - accuracy: 0.3622 - val_loss: 0.0059 - val_accuracy: 0.6000\n",
            "Epoch 324/1000\n",
            "8/8 [==============================] - 0s 18ms/step - loss: 0.0055 - accuracy: 0.4252 - val_loss: 0.0067 - val_accuracy: 0.6000\n",
            "Epoch 325/1000\n",
            "8/8 [==============================] - 0s 20ms/step - loss: 0.0052 - accuracy: 0.3937 - val_loss: 0.0060 - val_accuracy: 0.6000\n",
            "Epoch 326/1000\n",
            "8/8 [==============================] - 0s 21ms/step - loss: 0.0059 - accuracy: 0.4646 - val_loss: 0.0060 - val_accuracy: 0.6000\n",
            "Epoch 327/1000\n",
            "8/8 [==============================] - 0s 18ms/step - loss: 0.0067 - accuracy: 0.4409 - val_loss: 0.0073 - val_accuracy: 0.4000\n",
            "Epoch 328/1000\n",
            "8/8 [==============================] - 0s 21ms/step - loss: 0.0057 - accuracy: 0.3937 - val_loss: 0.0075 - val_accuracy: 0.6000\n",
            "Epoch 329/1000\n",
            "8/8 [==============================] - 0s 21ms/step - loss: 0.0065 - accuracy: 0.4252 - val_loss: 0.0055 - val_accuracy: 0.4000\n",
            "Epoch 330/1000\n",
            "8/8 [==============================] - 0s 18ms/step - loss: 0.0066 - accuracy: 0.4094 - val_loss: 0.0062 - val_accuracy: 0.4000\n",
            "Epoch 331/1000\n",
            "8/8 [==============================] - 0s 21ms/step - loss: 0.0062 - accuracy: 0.4094 - val_loss: 0.0061 - val_accuracy: 0.4000\n",
            "Epoch 332/1000\n",
            "8/8 [==============================] - 0s 19ms/step - loss: 0.0060 - accuracy: 0.4488 - val_loss: 0.0065 - val_accuracy: 0.4000\n",
            "Epoch 333/1000\n",
            "8/8 [==============================] - 0s 21ms/step - loss: 0.0061 - accuracy: 0.3780 - val_loss: 0.0056 - val_accuracy: 0.4000\n",
            "Epoch 334/1000\n",
            "8/8 [==============================] - 0s 20ms/step - loss: 0.0055 - accuracy: 0.4016 - val_loss: 0.0059 - val_accuracy: 0.4000\n",
            "Epoch 335/1000\n",
            "8/8 [==============================] - 0s 20ms/step - loss: 0.0063 - accuracy: 0.3937 - val_loss: 0.0061 - val_accuracy: 0.4000\n",
            "Epoch 336/1000\n",
            "8/8 [==============================] - 0s 20ms/step - loss: 0.0056 - accuracy: 0.4016 - val_loss: 0.0079 - val_accuracy: 0.6000\n",
            "Epoch 337/1000\n",
            "8/8 [==============================] - 0s 18ms/step - loss: 0.0063 - accuracy: 0.4488 - val_loss: 0.0048 - val_accuracy: 0.4000\n",
            "Epoch 338/1000\n",
            "8/8 [==============================] - 0s 21ms/step - loss: 0.0067 - accuracy: 0.4252 - val_loss: 0.0058 - val_accuracy: 0.6000\n",
            "Epoch 339/1000\n",
            "8/8 [==============================] - 0s 18ms/step - loss: 0.0057 - accuracy: 0.4094 - val_loss: 0.0049 - val_accuracy: 0.4000\n",
            "Epoch 340/1000\n",
            "8/8 [==============================] - 0s 18ms/step - loss: 0.0061 - accuracy: 0.4724 - val_loss: 0.0047 - val_accuracy: 0.6000\n",
            "Epoch 341/1000\n",
            "8/8 [==============================] - 0s 20ms/step - loss: 0.0059 - accuracy: 0.4409 - val_loss: 0.0053 - val_accuracy: 0.4000\n",
            "Epoch 342/1000\n",
            "8/8 [==============================] - 0s 20ms/step - loss: 0.0053 - accuracy: 0.3858 - val_loss: 0.0058 - val_accuracy: 0.4000\n",
            "Epoch 343/1000\n",
            "8/8 [==============================] - 0s 20ms/step - loss: 0.0062 - accuracy: 0.3701 - val_loss: 0.0078 - val_accuracy: 0.6000\n",
            "Epoch 344/1000\n",
            "8/8 [==============================] - 0s 19ms/step - loss: 0.0059 - accuracy: 0.4252 - val_loss: 0.0044 - val_accuracy: 0.4000\n",
            "Epoch 345/1000\n",
            "8/8 [==============================] - 0s 19ms/step - loss: 0.0062 - accuracy: 0.4173 - val_loss: 0.0048 - val_accuracy: 0.6000\n",
            "Epoch 346/1000\n",
            "8/8 [==============================] - 0s 20ms/step - loss: 0.0061 - accuracy: 0.3858 - val_loss: 0.0057 - val_accuracy: 0.4000\n",
            "Epoch 347/1000\n",
            "8/8 [==============================] - 0s 20ms/step - loss: 0.0055 - accuracy: 0.4252 - val_loss: 0.0047 - val_accuracy: 0.6000\n",
            "Epoch 348/1000\n",
            "8/8 [==============================] - 0s 21ms/step - loss: 0.0052 - accuracy: 0.3858 - val_loss: 0.0057 - val_accuracy: 0.4000\n",
            "Epoch 349/1000\n",
            "8/8 [==============================] - 0s 18ms/step - loss: 0.0053 - accuracy: 0.4094 - val_loss: 0.0058 - val_accuracy: 0.6000\n",
            "Epoch 350/1000\n",
            "8/8 [==============================] - 0s 17ms/step - loss: 0.0062 - accuracy: 0.4646 - val_loss: 0.0056 - val_accuracy: 0.6000\n",
            "Epoch 351/1000\n",
            "8/8 [==============================] - 0s 20ms/step - loss: 0.0051 - accuracy: 0.4252 - val_loss: 0.0067 - val_accuracy: 0.4000\n",
            "Epoch 352/1000\n",
            "8/8 [==============================] - 0s 18ms/step - loss: 0.0051 - accuracy: 0.4094 - val_loss: 0.0050 - val_accuracy: 0.4000\n",
            "Epoch 353/1000\n",
            "8/8 [==============================] - 0s 21ms/step - loss: 0.0057 - accuracy: 0.4252 - val_loss: 0.0059 - val_accuracy: 0.4000\n",
            "Epoch 354/1000\n",
            "8/8 [==============================] - 0s 20ms/step - loss: 0.0057 - accuracy: 0.4094 - val_loss: 0.0056 - val_accuracy: 0.6000\n",
            "Epoch 355/1000\n",
            "8/8 [==============================] - 0s 20ms/step - loss: 0.0051 - accuracy: 0.4252 - val_loss: 0.0080 - val_accuracy: 0.4000\n",
            "Epoch 356/1000\n",
            "8/8 [==============================] - 0s 21ms/step - loss: 0.0060 - accuracy: 0.3543 - val_loss: 0.0066 - val_accuracy: 0.6000\n",
            "Epoch 357/1000\n",
            "8/8 [==============================] - 0s 18ms/step - loss: 0.0057 - accuracy: 0.4094 - val_loss: 0.0054 - val_accuracy: 0.4000\n",
            "Epoch 358/1000\n",
            "8/8 [==============================] - 0s 21ms/step - loss: 0.0047 - accuracy: 0.4488 - val_loss: 0.0054 - val_accuracy: 0.4000\n",
            "Epoch 359/1000\n",
            "8/8 [==============================] - 0s 20ms/step - loss: 0.0048 - accuracy: 0.3780 - val_loss: 0.0053 - val_accuracy: 0.4000\n",
            "Epoch 360/1000\n",
            "8/8 [==============================] - 0s 20ms/step - loss: 0.0043 - accuracy: 0.3780 - val_loss: 0.0056 - val_accuracy: 0.4000\n",
            "Epoch 361/1000\n",
            "8/8 [==============================] - 0s 18ms/step - loss: 0.0051 - accuracy: 0.4094 - val_loss: 0.0054 - val_accuracy: 0.4000\n",
            "Epoch 362/1000\n",
            "8/8 [==============================] - 0s 18ms/step - loss: 0.0045 - accuracy: 0.4567 - val_loss: 0.0056 - val_accuracy: 0.6000\n",
            "Epoch 363/1000\n",
            "8/8 [==============================] - 0s 18ms/step - loss: 0.0048 - accuracy: 0.3622 - val_loss: 0.0058 - val_accuracy: 0.4000\n",
            "Epoch 364/1000\n",
            "8/8 [==============================] - 0s 20ms/step - loss: 0.0045 - accuracy: 0.4488 - val_loss: 0.0047 - val_accuracy: 0.4000\n",
            "Epoch 365/1000\n",
            "8/8 [==============================] - 0s 21ms/step - loss: 0.0052 - accuracy: 0.3937 - val_loss: 0.0059 - val_accuracy: 0.4000\n",
            "Epoch 366/1000\n",
            "8/8 [==============================] - 0s 18ms/step - loss: 0.0050 - accuracy: 0.4646 - val_loss: 0.0060 - val_accuracy: 0.6000\n",
            "Epoch 367/1000\n",
            "8/8 [==============================] - 0s 18ms/step - loss: 0.0045 - accuracy: 0.4646 - val_loss: 0.0050 - val_accuracy: 0.4000\n",
            "Epoch 368/1000\n",
            "8/8 [==============================] - 0s 21ms/step - loss: 0.0041 - accuracy: 0.3937 - val_loss: 0.0052 - val_accuracy: 0.6000\n",
            "Epoch 369/1000\n",
            "8/8 [==============================] - 0s 19ms/step - loss: 0.0050 - accuracy: 0.4094 - val_loss: 0.0044 - val_accuracy: 0.6000\n",
            "Epoch 370/1000\n",
            "8/8 [==============================] - 0s 21ms/step - loss: 0.0056 - accuracy: 0.4803 - val_loss: 0.0041 - val_accuracy: 0.4000\n",
            "Epoch 371/1000\n",
            "8/8 [==============================] - 0s 18ms/step - loss: 0.0052 - accuracy: 0.4331 - val_loss: 0.0052 - val_accuracy: 0.6000\n",
            "Epoch 372/1000\n",
            "8/8 [==============================] - 0s 19ms/step - loss: 0.0051 - accuracy: 0.4252 - val_loss: 0.0051 - val_accuracy: 0.6000\n",
            "Epoch 373/1000\n",
            "8/8 [==============================] - 0s 20ms/step - loss: 0.0042 - accuracy: 0.4252 - val_loss: 0.0046 - val_accuracy: 0.4000\n",
            "Epoch 374/1000\n",
            "8/8 [==============================] - 0s 20ms/step - loss: 0.0049 - accuracy: 0.4252 - val_loss: 0.0055 - val_accuracy: 0.4000\n",
            "Epoch 375/1000\n",
            "8/8 [==============================] - 0s 20ms/step - loss: 0.0053 - accuracy: 0.4173 - val_loss: 0.0050 - val_accuracy: 0.6000\n",
            "Epoch 376/1000\n",
            "8/8 [==============================] - 0s 17ms/step - loss: 0.0045 - accuracy: 0.4567 - val_loss: 0.0052 - val_accuracy: 0.6000\n",
            "Epoch 377/1000\n",
            "8/8 [==============================] - 0s 20ms/step - loss: 0.0050 - accuracy: 0.4252 - val_loss: 0.0049 - val_accuracy: 0.4000\n",
            "Epoch 378/1000\n",
            "8/8 [==============================] - 0s 20ms/step - loss: 0.0051 - accuracy: 0.3858 - val_loss: 0.0048 - val_accuracy: 0.4000\n",
            "Epoch 379/1000\n",
            "8/8 [==============================] - 0s 21ms/step - loss: 0.0046 - accuracy: 0.4567 - val_loss: 0.0050 - val_accuracy: 0.4000\n",
            "Epoch 380/1000\n",
            "8/8 [==============================] - 0s 20ms/step - loss: 0.0045 - accuracy: 0.4173 - val_loss: 0.0051 - val_accuracy: 0.4000\n",
            "Epoch 381/1000\n",
            "8/8 [==============================] - 0s 20ms/step - loss: 0.0046 - accuracy: 0.4488 - val_loss: 0.0053 - val_accuracy: 0.4000\n",
            "Epoch 382/1000\n",
            "8/8 [==============================] - 0s 18ms/step - loss: 0.0044 - accuracy: 0.4252 - val_loss: 0.0066 - val_accuracy: 0.6000\n",
            "Epoch 383/1000\n",
            "8/8 [==============================] - 0s 22ms/step - loss: 0.0048 - accuracy: 0.4016 - val_loss: 0.0048 - val_accuracy: 0.4000\n",
            "Epoch 384/1000\n",
            "8/8 [==============================] - 0s 18ms/step - loss: 0.0045 - accuracy: 0.4331 - val_loss: 0.0055 - val_accuracy: 0.4000\n",
            "Epoch 385/1000\n",
            "8/8 [==============================] - 0s 20ms/step - loss: 0.0044 - accuracy: 0.4094 - val_loss: 0.0061 - val_accuracy: 0.4000\n",
            "Epoch 386/1000\n",
            "8/8 [==============================] - 0s 21ms/step - loss: 0.0045 - accuracy: 0.4882 - val_loss: 0.0057 - val_accuracy: 0.6000\n",
            "Epoch 387/1000\n",
            "8/8 [==============================] - 0s 19ms/step - loss: 0.0045 - accuracy: 0.4724 - val_loss: 0.0052 - val_accuracy: 0.6000\n",
            "Epoch 388/1000\n",
            "8/8 [==============================] - 0s 17ms/step - loss: 0.0046 - accuracy: 0.4803 - val_loss: 0.0047 - val_accuracy: 0.4000\n",
            "Epoch 389/1000\n",
            "8/8 [==============================] - 0s 18ms/step - loss: 0.0038 - accuracy: 0.4252 - val_loss: 0.0057 - val_accuracy: 0.6000\n",
            "Epoch 390/1000\n",
            "8/8 [==============================] - 0s 18ms/step - loss: 0.0043 - accuracy: 0.4882 - val_loss: 0.0064 - val_accuracy: 0.6000\n",
            "Epoch 391/1000\n",
            "8/8 [==============================] - 0s 19ms/step - loss: 0.0044 - accuracy: 0.4409 - val_loss: 0.0056 - val_accuracy: 0.6000\n",
            "Epoch 392/1000\n",
            "8/8 [==============================] - 0s 20ms/step - loss: 0.0050 - accuracy: 0.4331 - val_loss: 0.0056 - val_accuracy: 0.6000\n",
            "Epoch 393/1000\n",
            "8/8 [==============================] - 0s 20ms/step - loss: 0.0045 - accuracy: 0.4803 - val_loss: 0.0080 - val_accuracy: 0.6000\n",
            "Epoch 394/1000\n",
            "8/8 [==============================] - 0s 17ms/step - loss: 0.0050 - accuracy: 0.4488 - val_loss: 0.0064 - val_accuracy: 0.4000\n",
            "Epoch 395/1000\n",
            "8/8 [==============================] - 0s 21ms/step - loss: 0.0046 - accuracy: 0.4331 - val_loss: 0.0043 - val_accuracy: 0.6000\n",
            "Epoch 396/1000\n",
            "8/8 [==============================] - 0s 17ms/step - loss: 0.0042 - accuracy: 0.4488 - val_loss: 0.0044 - val_accuracy: 0.6000\n",
            "Epoch 397/1000\n",
            "8/8 [==============================] - 0s 17ms/step - loss: 0.0041 - accuracy: 0.4646 - val_loss: 0.0053 - val_accuracy: 0.6000\n",
            "Epoch 398/1000\n",
            "8/8 [==============================] - 0s 19ms/step - loss: 0.0041 - accuracy: 0.4252 - val_loss: 0.0053 - val_accuracy: 0.6000\n",
            "Epoch 399/1000\n",
            "8/8 [==============================] - 0s 20ms/step - loss: 0.0042 - accuracy: 0.4488 - val_loss: 0.0047 - val_accuracy: 0.6000\n",
            "Epoch 400/1000\n",
            "8/8 [==============================] - 0s 18ms/step - loss: 0.0045 - accuracy: 0.4488 - val_loss: 0.0044 - val_accuracy: 0.6000\n",
            "Epoch 401/1000\n",
            "8/8 [==============================] - 0s 17ms/step - loss: 0.0044 - accuracy: 0.4488 - val_loss: 0.0051 - val_accuracy: 0.6000\n",
            "Epoch 402/1000\n",
            "8/8 [==============================] - 0s 23ms/step - loss: 0.0035 - accuracy: 0.4331 - val_loss: 0.0043 - val_accuracy: 0.4000\n",
            "Epoch 403/1000\n",
            "8/8 [==============================] - 0s 20ms/step - loss: 0.0041 - accuracy: 0.4724 - val_loss: 0.0046 - val_accuracy: 0.6000\n",
            "Epoch 404/1000\n",
            "8/8 [==============================] - 0s 21ms/step - loss: 0.0041 - accuracy: 0.4646 - val_loss: 0.0043 - val_accuracy: 0.6000\n",
            "Epoch 405/1000\n",
            "8/8 [==============================] - 0s 19ms/step - loss: 0.0039 - accuracy: 0.4882 - val_loss: 0.0043 - val_accuracy: 0.6000\n",
            "Epoch 406/1000\n",
            "8/8 [==============================] - 0s 21ms/step - loss: 0.0039 - accuracy: 0.4803 - val_loss: 0.0038 - val_accuracy: 0.6000\n",
            "Epoch 407/1000\n",
            "8/8 [==============================] - 0s 18ms/step - loss: 0.0038 - accuracy: 0.4882 - val_loss: 0.0045 - val_accuracy: 0.6000\n",
            "Epoch 408/1000\n",
            "8/8 [==============================] - 0s 20ms/step - loss: 0.0037 - accuracy: 0.4646 - val_loss: 0.0066 - val_accuracy: 0.6000\n",
            "Epoch 409/1000\n",
            "8/8 [==============================] - 0s 20ms/step - loss: 0.0035 - accuracy: 0.4331 - val_loss: 0.0048 - val_accuracy: 0.6000\n",
            "Epoch 410/1000\n",
            "8/8 [==============================] - 0s 22ms/step - loss: 0.0046 - accuracy: 0.4409 - val_loss: 0.0052 - val_accuracy: 0.4000\n",
            "Epoch 411/1000\n",
            "8/8 [==============================] - 0s 18ms/step - loss: 0.0046 - accuracy: 0.4331 - val_loss: 0.0059 - val_accuracy: 0.6000\n",
            "Epoch 412/1000\n",
            "8/8 [==============================] - 0s 21ms/step - loss: 0.0055 - accuracy: 0.5118 - val_loss: 0.0052 - val_accuracy: 0.6000\n",
            "Epoch 413/1000\n",
            "8/8 [==============================] - 0s 21ms/step - loss: 0.0050 - accuracy: 0.4252 - val_loss: 0.0045 - val_accuracy: 0.6000\n",
            "Epoch 414/1000\n",
            "8/8 [==============================] - 0s 23ms/step - loss: 0.0042 - accuracy: 0.4409 - val_loss: 0.0045 - val_accuracy: 0.4000\n",
            "Epoch 415/1000\n",
            "8/8 [==============================] - 0s 18ms/step - loss: 0.0038 - accuracy: 0.4488 - val_loss: 0.0064 - val_accuracy: 0.6000\n",
            "Epoch 416/1000\n",
            "8/8 [==============================] - 0s 17ms/step - loss: 0.0049 - accuracy: 0.4646 - val_loss: 0.0048 - val_accuracy: 0.6000\n",
            "Epoch 417/1000\n",
            "8/8 [==============================] - 0s 19ms/step - loss: 0.0037 - accuracy: 0.4409 - val_loss: 0.0047 - val_accuracy: 0.4000\n",
            "Epoch 418/1000\n",
            "8/8 [==============================] - 0s 18ms/step - loss: 0.0039 - accuracy: 0.4567 - val_loss: 0.0045 - val_accuracy: 0.4000\n",
            "Epoch 419/1000\n",
            "8/8 [==============================] - 0s 17ms/step - loss: 0.0040 - accuracy: 0.4882 - val_loss: 0.0051 - val_accuracy: 0.6000\n",
            "Epoch 420/1000\n",
            "8/8 [==============================] - 0s 17ms/step - loss: 0.0045 - accuracy: 0.4488 - val_loss: 0.0051 - val_accuracy: 0.6000\n",
            "Epoch 421/1000\n",
            "8/8 [==============================] - 0s 19ms/step - loss: 0.0042 - accuracy: 0.4173 - val_loss: 0.0058 - val_accuracy: 0.6000\n",
            "Epoch 422/1000\n",
            "8/8 [==============================] - 0s 21ms/step - loss: 0.0040 - accuracy: 0.4646 - val_loss: 0.0054 - val_accuracy: 0.6000\n",
            "Epoch 423/1000\n",
            "8/8 [==============================] - 0s 20ms/step - loss: 0.0045 - accuracy: 0.4252 - val_loss: 0.0051 - val_accuracy: 0.4000\n",
            "Epoch 424/1000\n",
            "8/8 [==============================] - 0s 20ms/step - loss: 0.0036 - accuracy: 0.4567 - val_loss: 0.0049 - val_accuracy: 0.6000\n",
            "Epoch 425/1000\n",
            "8/8 [==============================] - 0s 20ms/step - loss: 0.0043 - accuracy: 0.4724 - val_loss: 0.0051 - val_accuracy: 0.6000\n",
            "Epoch 426/1000\n",
            "8/8 [==============================] - 0s 21ms/step - loss: 0.0037 - accuracy: 0.4331 - val_loss: 0.0045 - val_accuracy: 0.6000\n",
            "Epoch 427/1000\n",
            "8/8 [==============================] - 0s 20ms/step - loss: 0.0038 - accuracy: 0.5118 - val_loss: 0.0049 - val_accuracy: 0.6000\n",
            "Epoch 428/1000\n",
            "8/8 [==============================] - 0s 25ms/step - loss: 0.0037 - accuracy: 0.4331 - val_loss: 0.0056 - val_accuracy: 0.6000\n",
            "Epoch 429/1000\n",
            "8/8 [==============================] - 0s 20ms/step - loss: 0.0043 - accuracy: 0.4646 - val_loss: 0.0045 - val_accuracy: 0.6000\n",
            "Epoch 430/1000\n",
            "8/8 [==============================] - 0s 23ms/step - loss: 0.0040 - accuracy: 0.4803 - val_loss: 0.0049 - val_accuracy: 0.4000\n",
            "Epoch 431/1000\n",
            "8/8 [==============================] - 0s 18ms/step - loss: 0.0045 - accuracy: 0.4882 - val_loss: 0.0060 - val_accuracy: 0.6000\n",
            "Epoch 432/1000\n",
            "8/8 [==============================] - 0s 21ms/step - loss: 0.0034 - accuracy: 0.4331 - val_loss: 0.0059 - val_accuracy: 0.6000\n",
            "Epoch 433/1000\n",
            "8/8 [==============================] - 0s 21ms/step - loss: 0.0036 - accuracy: 0.4488 - val_loss: 0.0055 - val_accuracy: 0.6000\n",
            "Epoch 434/1000\n",
            "8/8 [==============================] - 0s 20ms/step - loss: 0.0040 - accuracy: 0.4567 - val_loss: 0.0062 - val_accuracy: 0.6000\n",
            "Epoch 435/1000\n",
            "8/8 [==============================] - 0s 18ms/step - loss: 0.0043 - accuracy: 0.3780 - val_loss: 0.0061 - val_accuracy: 0.6000\n",
            "Epoch 436/1000\n",
            "8/8 [==============================] - 0s 20ms/step - loss: 0.0036 - accuracy: 0.4409 - val_loss: 0.0058 - val_accuracy: 0.6000\n",
            "Epoch 437/1000\n",
            "8/8 [==============================] - 0s 21ms/step - loss: 0.0036 - accuracy: 0.4567 - val_loss: 0.0041 - val_accuracy: 0.6000\n",
            "Epoch 438/1000\n",
            "8/8 [==============================] - 0s 19ms/step - loss: 0.0034 - accuracy: 0.4331 - val_loss: 0.0053 - val_accuracy: 0.6000\n",
            "Epoch 439/1000\n",
            "8/8 [==============================] - 0s 20ms/step - loss: 0.0036 - accuracy: 0.4882 - val_loss: 0.0070 - val_accuracy: 0.6000\n",
            "Epoch 440/1000\n",
            "8/8 [==============================] - 0s 20ms/step - loss: 0.0036 - accuracy: 0.4961 - val_loss: 0.0052 - val_accuracy: 0.6000\n",
            "Epoch 441/1000\n",
            "8/8 [==============================] - 0s 20ms/step - loss: 0.0037 - accuracy: 0.4488 - val_loss: 0.0053 - val_accuracy: 0.6000\n",
            "Epoch 442/1000\n",
            "8/8 [==============================] - 0s 21ms/step - loss: 0.0033 - accuracy: 0.4331 - val_loss: 0.0056 - val_accuracy: 0.6000\n",
            "Epoch 443/1000\n",
            "8/8 [==============================] - 0s 20ms/step - loss: 0.0038 - accuracy: 0.4646 - val_loss: 0.0059 - val_accuracy: 0.6000\n",
            "Epoch 444/1000\n",
            "8/8 [==============================] - 0s 21ms/step - loss: 0.0031 - accuracy: 0.4173 - val_loss: 0.0050 - val_accuracy: 0.6000\n",
            "Epoch 445/1000\n",
            "8/8 [==============================] - 0s 23ms/step - loss: 0.0035 - accuracy: 0.3937 - val_loss: 0.0055 - val_accuracy: 0.6000\n",
            "Epoch 446/1000\n",
            "8/8 [==============================] - 0s 22ms/step - loss: 0.0045 - accuracy: 0.4724 - val_loss: 0.0061 - val_accuracy: 0.6000\n",
            "Epoch 447/1000\n",
            "8/8 [==============================] - 0s 20ms/step - loss: 0.0040 - accuracy: 0.4252 - val_loss: 0.0056 - val_accuracy: 0.6000\n",
            "Epoch 448/1000\n",
            "8/8 [==============================] - 0s 19ms/step - loss: 0.0036 - accuracy: 0.4724 - val_loss: 0.0054 - val_accuracy: 0.6000\n",
            "Epoch 449/1000\n",
            "8/8 [==============================] - 0s 19ms/step - loss: 0.0037 - accuracy: 0.4331 - val_loss: 0.0051 - val_accuracy: 0.6000\n",
            "Epoch 450/1000\n",
            "8/8 [==============================] - 0s 19ms/step - loss: 0.0032 - accuracy: 0.4409 - val_loss: 0.0059 - val_accuracy: 0.6000\n",
            "Epoch 451/1000\n",
            "8/8 [==============================] - 0s 20ms/step - loss: 0.0036 - accuracy: 0.4882 - val_loss: 0.0068 - val_accuracy: 0.6000\n",
            "Epoch 452/1000\n",
            "8/8 [==============================] - 0s 23ms/step - loss: 0.0035 - accuracy: 0.4646 - val_loss: 0.0063 - val_accuracy: 0.6000\n",
            "Epoch 453/1000\n",
            "8/8 [==============================] - 0s 20ms/step - loss: 0.0032 - accuracy: 0.4882 - val_loss: 0.0056 - val_accuracy: 0.6000\n",
            "Epoch 454/1000\n",
            "8/8 [==============================] - 0s 21ms/step - loss: 0.0032 - accuracy: 0.4803 - val_loss: 0.0055 - val_accuracy: 0.6000\n",
            "Epoch 455/1000\n",
            "8/8 [==============================] - 0s 20ms/step - loss: 0.0031 - accuracy: 0.4488 - val_loss: 0.0062 - val_accuracy: 0.6000\n",
            "Epoch 456/1000\n",
            "8/8 [==============================] - 0s 20ms/step - loss: 0.0035 - accuracy: 0.5118 - val_loss: 0.0050 - val_accuracy: 0.6000\n",
            "Epoch 457/1000\n",
            "8/8 [==============================] - 0s 22ms/step - loss: 0.0031 - accuracy: 0.4724 - val_loss: 0.0059 - val_accuracy: 0.6000\n",
            "Epoch 458/1000\n",
            "8/8 [==============================] - 0s 21ms/step - loss: 0.0034 - accuracy: 0.4646 - val_loss: 0.0053 - val_accuracy: 0.6000\n",
            "Epoch 459/1000\n",
            "8/8 [==============================] - 0s 20ms/step - loss: 0.0036 - accuracy: 0.4961 - val_loss: 0.0043 - val_accuracy: 0.6000\n",
            "Epoch 460/1000\n",
            "8/8 [==============================] - 0s 20ms/step - loss: 0.0034 - accuracy: 0.4409 - val_loss: 0.0063 - val_accuracy: 0.6000\n",
            "Epoch 461/1000\n",
            "8/8 [==============================] - 0s 18ms/step - loss: 0.0036 - accuracy: 0.4724 - val_loss: 0.0088 - val_accuracy: 0.6000\n",
            "Epoch 462/1000\n",
            "8/8 [==============================] - 0s 19ms/step - loss: 0.0031 - accuracy: 0.5591 - val_loss: 0.0052 - val_accuracy: 0.6000\n",
            "Epoch 463/1000\n",
            "8/8 [==============================] - 0s 23ms/step - loss: 0.0036 - accuracy: 0.4961 - val_loss: 0.0075 - val_accuracy: 0.6000\n",
            "Epoch 464/1000\n",
            "8/8 [==============================] - 0s 21ms/step - loss: 0.0035 - accuracy: 0.4488 - val_loss: 0.0062 - val_accuracy: 0.6000\n",
            "Epoch 465/1000\n",
            "8/8 [==============================] - 0s 21ms/step - loss: 0.0035 - accuracy: 0.4331 - val_loss: 0.0067 - val_accuracy: 0.6000\n",
            "Epoch 466/1000\n",
            "8/8 [==============================] - 0s 21ms/step - loss: 0.0029 - accuracy: 0.4646 - val_loss: 0.0055 - val_accuracy: 0.6000\n",
            "Epoch 467/1000\n",
            "8/8 [==============================] - 0s 20ms/step - loss: 0.0034 - accuracy: 0.4882 - val_loss: 0.0069 - val_accuracy: 0.6000\n",
            "Epoch 468/1000\n",
            "8/8 [==============================] - 0s 18ms/step - loss: 0.0032 - accuracy: 0.4882 - val_loss: 0.0062 - val_accuracy: 0.6000\n",
            "Epoch 469/1000\n",
            "8/8 [==============================] - 0s 18ms/step - loss: 0.0032 - accuracy: 0.5197 - val_loss: 0.0057 - val_accuracy: 0.6000\n",
            "Epoch 470/1000\n",
            "8/8 [==============================] - 0s 20ms/step - loss: 0.0029 - accuracy: 0.5039 - val_loss: 0.0060 - val_accuracy: 0.6000\n",
            "Epoch 471/1000\n",
            "8/8 [==============================] - 0s 21ms/step - loss: 0.0035 - accuracy: 0.4724 - val_loss: 0.0127 - val_accuracy: 0.6000\n",
            "Epoch 472/1000\n",
            "8/8 [==============================] - 0s 18ms/step - loss: 0.0032 - accuracy: 0.4646 - val_loss: 0.0064 - val_accuracy: 0.6000\n",
            "Epoch 473/1000\n",
            "8/8 [==============================] - 0s 20ms/step - loss: 0.0033 - accuracy: 0.4409 - val_loss: 0.0069 - val_accuracy: 0.6000\n",
            "Epoch 474/1000\n",
            "8/8 [==============================] - 0s 21ms/step - loss: 0.0035 - accuracy: 0.4252 - val_loss: 0.0074 - val_accuracy: 0.6000\n",
            "Epoch 475/1000\n",
            "8/8 [==============================] - 0s 19ms/step - loss: 0.0033 - accuracy: 0.4646 - val_loss: 0.0072 - val_accuracy: 0.6000\n",
            "Epoch 476/1000\n",
            "8/8 [==============================] - 0s 18ms/step - loss: 0.0034 - accuracy: 0.4724 - val_loss: 0.0051 - val_accuracy: 0.6000\n",
            "Epoch 477/1000\n",
            "8/8 [==============================] - 0s 18ms/step - loss: 0.0037 - accuracy: 0.4252 - val_loss: 0.0124 - val_accuracy: 0.6000\n",
            "Epoch 478/1000\n",
            "8/8 [==============================] - 0s 20ms/step - loss: 0.0034 - accuracy: 0.4724 - val_loss: 0.0059 - val_accuracy: 0.6000\n",
            "Epoch 479/1000\n",
            "8/8 [==============================] - 0s 22ms/step - loss: 0.0037 - accuracy: 0.4803 - val_loss: 0.0087 - val_accuracy: 0.6000\n",
            "Epoch 480/1000\n",
            "8/8 [==============================] - 0s 18ms/step - loss: 0.0035 - accuracy: 0.5354 - val_loss: 0.0055 - val_accuracy: 0.6000\n",
            "Epoch 481/1000\n",
            "8/8 [==============================] - 0s 18ms/step - loss: 0.0034 - accuracy: 0.5276 - val_loss: 0.0070 - val_accuracy: 0.6000\n",
            "Epoch 482/1000\n",
            "8/8 [==============================] - 0s 21ms/step - loss: 0.0037 - accuracy: 0.5118 - val_loss: 0.0060 - val_accuracy: 0.6000\n",
            "Epoch 483/1000\n",
            "8/8 [==============================] - 0s 21ms/step - loss: 0.0031 - accuracy: 0.4331 - val_loss: 0.0070 - val_accuracy: 0.6000\n",
            "Epoch 484/1000\n",
            "8/8 [==============================] - 0s 20ms/step - loss: 0.0031 - accuracy: 0.4567 - val_loss: 0.0065 - val_accuracy: 0.6000\n",
            "Epoch 485/1000\n",
            "8/8 [==============================] - 0s 20ms/step - loss: 0.0031 - accuracy: 0.4724 - val_loss: 0.0052 - val_accuracy: 0.6000\n",
            "Epoch 486/1000\n",
            "8/8 [==============================] - 0s 21ms/step - loss: 0.0033 - accuracy: 0.4016 - val_loss: 0.0088 - val_accuracy: 0.6000\n",
            "Epoch 487/1000\n",
            "8/8 [==============================] - 0s 20ms/step - loss: 0.0032 - accuracy: 0.4488 - val_loss: 0.0073 - val_accuracy: 0.6000\n",
            "Epoch 488/1000\n",
            "8/8 [==============================] - 0s 20ms/step - loss: 0.0030 - accuracy: 0.4882 - val_loss: 0.0055 - val_accuracy: 0.6000\n",
            "Epoch 489/1000\n",
            "8/8 [==============================] - 0s 21ms/step - loss: 0.0032 - accuracy: 0.4882 - val_loss: 0.0075 - val_accuracy: 0.6000\n",
            "Epoch 490/1000\n",
            "8/8 [==============================] - 0s 19ms/step - loss: 0.0032 - accuracy: 0.4803 - val_loss: 0.0098 - val_accuracy: 0.6000\n",
            "Epoch 491/1000\n",
            "8/8 [==============================] - 0s 21ms/step - loss: 0.0035 - accuracy: 0.4961 - val_loss: 0.0066 - val_accuracy: 0.6000\n",
            "Epoch 492/1000\n",
            "8/8 [==============================] - 0s 18ms/step - loss: 0.0032 - accuracy: 0.5748 - val_loss: 0.0069 - val_accuracy: 0.6000\n",
            "Epoch 493/1000\n",
            "8/8 [==============================] - 0s 22ms/step - loss: 0.0031 - accuracy: 0.4488 - val_loss: 0.0078 - val_accuracy: 0.6000\n",
            "Epoch 494/1000\n",
            "8/8 [==============================] - 0s 21ms/step - loss: 0.0030 - accuracy: 0.4724 - val_loss: 0.0079 - val_accuracy: 0.6000\n",
            "Epoch 495/1000\n",
            "8/8 [==============================] - 0s 21ms/step - loss: 0.0030 - accuracy: 0.5118 - val_loss: 0.0069 - val_accuracy: 0.6000\n",
            "Epoch 496/1000\n",
            "8/8 [==============================] - 0s 20ms/step - loss: 0.0028 - accuracy: 0.4961 - val_loss: 0.0059 - val_accuracy: 0.6000\n",
            "Epoch 497/1000\n",
            "8/8 [==============================] - 0s 20ms/step - loss: 0.0032 - accuracy: 0.4409 - val_loss: 0.0077 - val_accuracy: 0.6000\n",
            "Epoch 498/1000\n",
            "8/8 [==============================] - 0s 20ms/step - loss: 0.0029 - accuracy: 0.5433 - val_loss: 0.0079 - val_accuracy: 0.6000\n",
            "Epoch 499/1000\n",
            "8/8 [==============================] - 0s 18ms/step - loss: 0.0032 - accuracy: 0.5039 - val_loss: 0.0070 - val_accuracy: 0.6000\n",
            "Epoch 500/1000\n",
            "8/8 [==============================] - 0s 21ms/step - loss: 0.0034 - accuracy: 0.4567 - val_loss: 0.0083 - val_accuracy: 0.6000\n",
            "Epoch 501/1000\n",
            "8/8 [==============================] - 0s 22ms/step - loss: 0.0029 - accuracy: 0.5512 - val_loss: 0.0069 - val_accuracy: 0.6000\n",
            "Epoch 502/1000\n",
            "8/8 [==============================] - 0s 19ms/step - loss: 0.0032 - accuracy: 0.5197 - val_loss: 0.0103 - val_accuracy: 0.6000\n",
            "Epoch 503/1000\n",
            "8/8 [==============================] - 0s 18ms/step - loss: 0.0031 - accuracy: 0.5118 - val_loss: 0.0099 - val_accuracy: 0.6000\n",
            "Epoch 504/1000\n",
            "8/8 [==============================] - 0s 21ms/step - loss: 0.0034 - accuracy: 0.5039 - val_loss: 0.0112 - val_accuracy: 0.6000\n",
            "Epoch 505/1000\n",
            "8/8 [==============================] - 0s 20ms/step - loss: 0.0033 - accuracy: 0.5433 - val_loss: 0.0078 - val_accuracy: 0.6000\n",
            "Epoch 506/1000\n",
            "8/8 [==============================] - 0s 21ms/step - loss: 0.0030 - accuracy: 0.4724 - val_loss: 0.0075 - val_accuracy: 0.6000\n",
            "Epoch 507/1000\n",
            "8/8 [==============================] - 0s 21ms/step - loss: 0.0032 - accuracy: 0.4882 - val_loss: 0.0107 - val_accuracy: 0.6000\n",
            "Epoch 508/1000\n",
            "8/8 [==============================] - 0s 20ms/step - loss: 0.0030 - accuracy: 0.4646 - val_loss: 0.0088 - val_accuracy: 0.6000\n",
            "Epoch 509/1000\n",
            "8/8 [==============================] - 0s 20ms/step - loss: 0.0037 - accuracy: 0.4724 - val_loss: 0.0076 - val_accuracy: 0.6000\n",
            "Epoch 510/1000\n",
            "8/8 [==============================] - 0s 21ms/step - loss: 0.0036 - accuracy: 0.4646 - val_loss: 0.0069 - val_accuracy: 0.6000\n",
            "Epoch 511/1000\n",
            "8/8 [==============================] - 0s 21ms/step - loss: 0.0028 - accuracy: 0.5118 - val_loss: 0.0109 - val_accuracy: 0.6000\n",
            "Epoch 512/1000\n",
            "8/8 [==============================] - 0s 21ms/step - loss: 0.0027 - accuracy: 0.5039 - val_loss: 0.0066 - val_accuracy: 0.6000\n",
            "Epoch 513/1000\n",
            "8/8 [==============================] - 0s 22ms/step - loss: 0.0029 - accuracy: 0.5118 - val_loss: 0.0095 - val_accuracy: 0.6000\n",
            "Epoch 514/1000\n",
            "8/8 [==============================] - 0s 20ms/step - loss: 0.0031 - accuracy: 0.4803 - val_loss: 0.0086 - val_accuracy: 0.6000\n",
            "Epoch 515/1000\n",
            "8/8 [==============================] - 0s 22ms/step - loss: 0.0029 - accuracy: 0.5118 - val_loss: 0.0104 - val_accuracy: 0.6000\n",
            "Epoch 516/1000\n",
            "8/8 [==============================] - 0s 22ms/step - loss: 0.0026 - accuracy: 0.4803 - val_loss: 0.0089 - val_accuracy: 0.6000\n",
            "Epoch 517/1000\n",
            "8/8 [==============================] - 0s 21ms/step - loss: 0.0030 - accuracy: 0.4882 - val_loss: 0.0095 - val_accuracy: 0.6000\n",
            "Epoch 518/1000\n",
            "8/8 [==============================] - 0s 22ms/step - loss: 0.0028 - accuracy: 0.5197 - val_loss: 0.0094 - val_accuracy: 0.6000\n",
            "Epoch 519/1000\n",
            "8/8 [==============================] - 0s 20ms/step - loss: 0.0026 - accuracy: 0.4724 - val_loss: 0.0106 - val_accuracy: 0.6000\n",
            "Epoch 520/1000\n",
            "8/8 [==============================] - 0s 20ms/step - loss: 0.0031 - accuracy: 0.4961 - val_loss: 0.0073 - val_accuracy: 0.6000\n",
            "Epoch 521/1000\n",
            "8/8 [==============================] - 0s 20ms/step - loss: 0.0029 - accuracy: 0.4961 - val_loss: 0.0114 - val_accuracy: 0.6000\n",
            "Epoch 522/1000\n",
            "8/8 [==============================] - 0s 20ms/step - loss: 0.0029 - accuracy: 0.4803 - val_loss: 0.0066 - val_accuracy: 0.6000\n",
            "Epoch 523/1000\n",
            "8/8 [==============================] - 0s 21ms/step - loss: 0.0035 - accuracy: 0.5276 - val_loss: 0.0090 - val_accuracy: 0.6000\n",
            "Epoch 524/1000\n",
            "8/8 [==============================] - 0s 21ms/step - loss: 0.0034 - accuracy: 0.5118 - val_loss: 0.0111 - val_accuracy: 0.6000\n",
            "Epoch 525/1000\n",
            "8/8 [==============================] - 0s 19ms/step - loss: 0.0034 - accuracy: 0.4409 - val_loss: 0.0101 - val_accuracy: 0.6000\n",
            "Epoch 526/1000\n",
            "8/8 [==============================] - 0s 22ms/step - loss: 0.0033 - accuracy: 0.4488 - val_loss: 0.0106 - val_accuracy: 0.6000\n",
            "Epoch 527/1000\n",
            "8/8 [==============================] - 0s 20ms/step - loss: 0.0035 - accuracy: 0.4803 - val_loss: 0.0101 - val_accuracy: 0.6000\n",
            "Epoch 528/1000\n",
            "8/8 [==============================] - 0s 21ms/step - loss: 0.0029 - accuracy: 0.4803 - val_loss: 0.0094 - val_accuracy: 0.6000\n",
            "Epoch 529/1000\n",
            "8/8 [==============================] - 0s 22ms/step - loss: 0.0031 - accuracy: 0.4488 - val_loss: 0.0099 - val_accuracy: 0.6000\n",
            "Epoch 530/1000\n",
            "8/8 [==============================] - 0s 20ms/step - loss: 0.0030 - accuracy: 0.5118 - val_loss: 0.0085 - val_accuracy: 0.6000\n",
            "Epoch 531/1000\n",
            "8/8 [==============================] - 0s 22ms/step - loss: 0.0028 - accuracy: 0.5669 - val_loss: 0.0102 - val_accuracy: 0.6000\n",
            "Epoch 532/1000\n",
            "8/8 [==============================] - 0s 22ms/step - loss: 0.0031 - accuracy: 0.5118 - val_loss: 0.0073 - val_accuracy: 0.6000\n",
            "Epoch 533/1000\n",
            "8/8 [==============================] - 0s 20ms/step - loss: 0.0030 - accuracy: 0.4882 - val_loss: 0.0062 - val_accuracy: 0.6000\n",
            "Epoch 534/1000\n",
            "8/8 [==============================] - 0s 22ms/step - loss: 0.0027 - accuracy: 0.4803 - val_loss: 0.0113 - val_accuracy: 0.6000\n",
            "Epoch 535/1000\n",
            "8/8 [==============================] - 0s 21ms/step - loss: 0.0029 - accuracy: 0.5197 - val_loss: 0.0069 - val_accuracy: 0.6000\n",
            "Epoch 536/1000\n",
            "8/8 [==============================] - 0s 20ms/step - loss: 0.0027 - accuracy: 0.5669 - val_loss: 0.0113 - val_accuracy: 0.6000\n",
            "Epoch 537/1000\n",
            "8/8 [==============================] - 0s 22ms/step - loss: 0.0026 - accuracy: 0.5197 - val_loss: 0.0073 - val_accuracy: 0.6000\n",
            "Epoch 538/1000\n",
            "8/8 [==============================] - 0s 18ms/step - loss: 0.0028 - accuracy: 0.5669 - val_loss: 0.0094 - val_accuracy: 0.6000\n",
            "Epoch 539/1000\n",
            "8/8 [==============================] - 0s 21ms/step - loss: 0.0027 - accuracy: 0.4882 - val_loss: 0.0084 - val_accuracy: 0.6000\n",
            "Epoch 540/1000\n",
            "8/8 [==============================] - 0s 20ms/step - loss: 0.0024 - accuracy: 0.4646 - val_loss: 0.0106 - val_accuracy: 0.6000\n",
            "Epoch 541/1000\n",
            "8/8 [==============================] - 0s 20ms/step - loss: 0.0028 - accuracy: 0.4646 - val_loss: 0.0068 - val_accuracy: 0.6000\n",
            "Epoch 542/1000\n",
            "8/8 [==============================] - 0s 21ms/step - loss: 0.0027 - accuracy: 0.4961 - val_loss: 0.0136 - val_accuracy: 0.6000\n",
            "Epoch 543/1000\n",
            "8/8 [==============================] - 0s 18ms/step - loss: 0.0029 - accuracy: 0.5354 - val_loss: 0.0091 - val_accuracy: 0.6000\n",
            "Epoch 544/1000\n",
            "8/8 [==============================] - 0s 22ms/step - loss: 0.0027 - accuracy: 0.4882 - val_loss: 0.0109 - val_accuracy: 0.6000\n",
            "Epoch 545/1000\n",
            "8/8 [==============================] - 0s 21ms/step - loss: 0.0026 - accuracy: 0.5118 - val_loss: 0.0073 - val_accuracy: 0.6000\n",
            "Epoch 546/1000\n",
            "8/8 [==============================] - 0s 20ms/step - loss: 0.0028 - accuracy: 0.4646 - val_loss: 0.0099 - val_accuracy: 0.6000\n",
            "Epoch 547/1000\n",
            "8/8 [==============================] - 0s 23ms/step - loss: 0.0026 - accuracy: 0.4724 - val_loss: 0.0122 - val_accuracy: 0.6000\n",
            "Epoch 548/1000\n",
            "8/8 [==============================] - 0s 20ms/step - loss: 0.0027 - accuracy: 0.4961 - val_loss: 0.0103 - val_accuracy: 0.6000\n",
            "Epoch 549/1000\n",
            "8/8 [==============================] - 0s 20ms/step - loss: 0.0024 - accuracy: 0.5118 - val_loss: 0.0097 - val_accuracy: 0.6000\n",
            "Epoch 550/1000\n",
            "8/8 [==============================] - 0s 22ms/step - loss: 0.0026 - accuracy: 0.4882 - val_loss: 0.0134 - val_accuracy: 0.6000\n",
            "Epoch 551/1000\n",
            "8/8 [==============================] - 0s 18ms/step - loss: 0.0026 - accuracy: 0.5591 - val_loss: 0.0112 - val_accuracy: 0.6000\n",
            "Epoch 552/1000\n",
            "8/8 [==============================] - 0s 20ms/step - loss: 0.0027 - accuracy: 0.5433 - val_loss: 0.0099 - val_accuracy: 0.6000\n",
            "Epoch 553/1000\n",
            "8/8 [==============================] - 0s 23ms/step - loss: 0.0026 - accuracy: 0.5118 - val_loss: 0.0098 - val_accuracy: 0.6000\n",
            "Epoch 554/1000\n",
            "8/8 [==============================] - 0s 20ms/step - loss: 0.0027 - accuracy: 0.5512 - val_loss: 0.0132 - val_accuracy: 0.6000\n",
            "Epoch 555/1000\n",
            "8/8 [==============================] - 0s 21ms/step - loss: 0.0031 - accuracy: 0.4646 - val_loss: 0.0122 - val_accuracy: 0.6000\n",
            "Epoch 556/1000\n",
            "8/8 [==============================] - 0s 18ms/step - loss: 0.0030 - accuracy: 0.4961 - val_loss: 0.0088 - val_accuracy: 0.6000\n",
            "Epoch 557/1000\n",
            "8/8 [==============================] - 0s 18ms/step - loss: 0.0027 - accuracy: 0.5039 - val_loss: 0.0104 - val_accuracy: 0.6000\n",
            "Epoch 558/1000\n",
            "8/8 [==============================] - 0s 20ms/step - loss: 0.0028 - accuracy: 0.4646 - val_loss: 0.0147 - val_accuracy: 0.6000\n",
            "Epoch 559/1000\n",
            "8/8 [==============================] - 0s 22ms/step - loss: 0.0028 - accuracy: 0.5197 - val_loss: 0.0124 - val_accuracy: 0.6000\n",
            "Epoch 560/1000\n",
            "8/8 [==============================] - 0s 20ms/step - loss: 0.0026 - accuracy: 0.5197 - val_loss: 0.0107 - val_accuracy: 0.6000\n",
            "Epoch 561/1000\n",
            "8/8 [==============================] - 0s 21ms/step - loss: 0.0028 - accuracy: 0.5039 - val_loss: 0.0087 - val_accuracy: 0.6000\n",
            "Epoch 562/1000\n",
            "8/8 [==============================] - 0s 22ms/step - loss: 0.0026 - accuracy: 0.4961 - val_loss: 0.0108 - val_accuracy: 0.6000\n",
            "Epoch 563/1000\n",
            "8/8 [==============================] - 0s 22ms/step - loss: 0.0028 - accuracy: 0.4961 - val_loss: 0.0087 - val_accuracy: 0.6000\n",
            "Epoch 564/1000\n",
            "8/8 [==============================] - 0s 21ms/step - loss: 0.0028 - accuracy: 0.5354 - val_loss: 0.0100 - val_accuracy: 0.6000\n",
            "Epoch 565/1000\n",
            "8/8 [==============================] - 0s 21ms/step - loss: 0.0028 - accuracy: 0.4961 - val_loss: 0.0116 - val_accuracy: 0.6000\n",
            "Epoch 566/1000\n",
            "8/8 [==============================] - 0s 21ms/step - loss: 0.0026 - accuracy: 0.4803 - val_loss: 0.0056 - val_accuracy: 0.6000\n",
            "Epoch 567/1000\n",
            "8/8 [==============================] - 0s 22ms/step - loss: 0.0024 - accuracy: 0.4961 - val_loss: 0.0100 - val_accuracy: 0.6000\n",
            "Epoch 568/1000\n",
            "8/8 [==============================] - 0s 22ms/step - loss: 0.0025 - accuracy: 0.5039 - val_loss: 0.0103 - val_accuracy: 0.6000\n",
            "Epoch 569/1000\n",
            "8/8 [==============================] - 0s 21ms/step - loss: 0.0024 - accuracy: 0.5433 - val_loss: 0.0105 - val_accuracy: 0.6000\n",
            "Epoch 570/1000\n",
            "8/8 [==============================] - 0s 21ms/step - loss: 0.0024 - accuracy: 0.5276 - val_loss: 0.0092 - val_accuracy: 0.6000\n",
            "Epoch 571/1000\n",
            "8/8 [==============================] - 0s 22ms/step - loss: 0.0027 - accuracy: 0.5512 - val_loss: 0.0096 - val_accuracy: 0.6000\n",
            "Epoch 572/1000\n",
            "8/8 [==============================] - 0s 19ms/step - loss: 0.0027 - accuracy: 0.4724 - val_loss: 0.0102 - val_accuracy: 0.6000\n",
            "Epoch 573/1000\n",
            "8/8 [==============================] - 0s 21ms/step - loss: 0.0024 - accuracy: 0.5354 - val_loss: 0.0126 - val_accuracy: 0.6000\n",
            "Epoch 574/1000\n",
            "8/8 [==============================] - 0s 22ms/step - loss: 0.0026 - accuracy: 0.5039 - val_loss: 0.0054 - val_accuracy: 0.4000\n",
            "Epoch 575/1000\n",
            "8/8 [==============================] - 0s 20ms/step - loss: 0.0028 - accuracy: 0.5197 - val_loss: 0.0078 - val_accuracy: 0.6000\n",
            "Epoch 576/1000\n",
            "8/8 [==============================] - 0s 21ms/step - loss: 0.0027 - accuracy: 0.5039 - val_loss: 0.0081 - val_accuracy: 0.6000\n",
            "Epoch 577/1000\n",
            "8/8 [==============================] - 0s 21ms/step - loss: 0.0025 - accuracy: 0.4961 - val_loss: 0.0080 - val_accuracy: 0.6000\n",
            "Epoch 578/1000\n",
            "8/8 [==============================] - 0s 21ms/step - loss: 0.0029 - accuracy: 0.4961 - val_loss: 0.0083 - val_accuracy: 0.6000\n",
            "Epoch 579/1000\n",
            "8/8 [==============================] - 0s 20ms/step - loss: 0.0024 - accuracy: 0.5039 - val_loss: 0.0096 - val_accuracy: 0.6000\n",
            "Epoch 580/1000\n",
            "8/8 [==============================] - 0s 18ms/step - loss: 0.0027 - accuracy: 0.4724 - val_loss: 0.0111 - val_accuracy: 0.6000\n",
            "Epoch 581/1000\n",
            "8/8 [==============================] - 0s 20ms/step - loss: 0.0025 - accuracy: 0.4882 - val_loss: 0.0057 - val_accuracy: 0.6000\n",
            "Epoch 582/1000\n",
            "8/8 [==============================] - 0s 22ms/step - loss: 0.0026 - accuracy: 0.5039 - val_loss: 0.0118 - val_accuracy: 0.6000\n",
            "Epoch 583/1000\n",
            "8/8 [==============================] - 0s 23ms/step - loss: 0.0023 - accuracy: 0.5118 - val_loss: 0.0092 - val_accuracy: 0.6000\n",
            "Epoch 584/1000\n",
            "8/8 [==============================] - 0s 21ms/step - loss: 0.0028 - accuracy: 0.5197 - val_loss: 0.0078 - val_accuracy: 0.6000\n",
            "Epoch 585/1000\n",
            "8/8 [==============================] - 0s 22ms/step - loss: 0.0028 - accuracy: 0.5591 - val_loss: 0.0140 - val_accuracy: 0.6000\n",
            "Epoch 586/1000\n",
            "8/8 [==============================] - 0s 19ms/step - loss: 0.0025 - accuracy: 0.5354 - val_loss: 0.0071 - val_accuracy: 0.6000\n",
            "Epoch 587/1000\n",
            "8/8 [==============================] - 0s 24ms/step - loss: 0.0025 - accuracy: 0.5276 - val_loss: 0.0082 - val_accuracy: 0.6000\n",
            "Epoch 588/1000\n",
            "8/8 [==============================] - 0s 21ms/step - loss: 0.0027 - accuracy: 0.5197 - val_loss: 0.0111 - val_accuracy: 0.6000\n",
            "Epoch 589/1000\n",
            "8/8 [==============================] - 0s 20ms/step - loss: 0.0024 - accuracy: 0.5512 - val_loss: 0.0085 - val_accuracy: 0.6000\n",
            "Epoch 590/1000\n",
            "8/8 [==============================] - 0s 21ms/step - loss: 0.0023 - accuracy: 0.5276 - val_loss: 0.0084 - val_accuracy: 0.6000\n",
            "Epoch 591/1000\n",
            "8/8 [==============================] - 0s 21ms/step - loss: 0.0024 - accuracy: 0.5748 - val_loss: 0.0078 - val_accuracy: 0.6000\n",
            "Epoch 592/1000\n",
            "8/8 [==============================] - 0s 22ms/step - loss: 0.0027 - accuracy: 0.5591 - val_loss: 0.0084 - val_accuracy: 0.6000\n",
            "Epoch 593/1000\n",
            "8/8 [==============================] - 0s 22ms/step - loss: 0.0024 - accuracy: 0.5748 - val_loss: 0.0074 - val_accuracy: 0.6000\n",
            "Epoch 594/1000\n",
            "8/8 [==============================] - 0s 22ms/step - loss: 0.0024 - accuracy: 0.5276 - val_loss: 0.0067 - val_accuracy: 0.6000\n",
            "Epoch 595/1000\n",
            "8/8 [==============================] - 0s 23ms/step - loss: 0.0023 - accuracy: 0.5591 - val_loss: 0.0073 - val_accuracy: 0.6000\n",
            "Epoch 596/1000\n",
            "8/8 [==============================] - 0s 20ms/step - loss: 0.0025 - accuracy: 0.5039 - val_loss: 0.0050 - val_accuracy: 0.6000\n",
            "Epoch 597/1000\n",
            "8/8 [==============================] - 0s 23ms/step - loss: 0.0024 - accuracy: 0.5669 - val_loss: 0.0085 - val_accuracy: 0.6000\n",
            "Epoch 598/1000\n",
            "8/8 [==============================] - 0s 22ms/step - loss: 0.0027 - accuracy: 0.5591 - val_loss: 0.0076 - val_accuracy: 0.6000\n",
            "Epoch 599/1000\n",
            "8/8 [==============================] - 0s 20ms/step - loss: 0.0024 - accuracy: 0.4882 - val_loss: 0.0086 - val_accuracy: 0.6000\n",
            "Epoch 600/1000\n",
            "8/8 [==============================] - 0s 21ms/step - loss: 0.0023 - accuracy: 0.4961 - val_loss: 0.0091 - val_accuracy: 0.6000\n",
            "Epoch 601/1000\n",
            "8/8 [==============================] - 0s 22ms/step - loss: 0.0024 - accuracy: 0.5669 - val_loss: 0.0052 - val_accuracy: 0.6000\n",
            "Epoch 602/1000\n",
            "8/8 [==============================] - 0s 21ms/step - loss: 0.0027 - accuracy: 0.5354 - val_loss: 0.0098 - val_accuracy: 0.6000\n",
            "Epoch 603/1000\n",
            "8/8 [==============================] - 0s 22ms/step - loss: 0.0027 - accuracy: 0.4882 - val_loss: 0.0060 - val_accuracy: 0.6000\n",
            "Epoch 604/1000\n",
            "8/8 [==============================] - 0s 22ms/step - loss: 0.0027 - accuracy: 0.5433 - val_loss: 0.0067 - val_accuracy: 0.6000\n",
            "Epoch 605/1000\n",
            "8/8 [==============================] - 0s 21ms/step - loss: 0.0028 - accuracy: 0.5276 - val_loss: 0.0063 - val_accuracy: 0.6000\n",
            "Epoch 606/1000\n",
            "8/8 [==============================] - 0s 23ms/step - loss: 0.0026 - accuracy: 0.5118 - val_loss: 0.0058 - val_accuracy: 0.6000\n",
            "Epoch 607/1000\n",
            "8/8 [==============================] - 0s 22ms/step - loss: 0.0023 - accuracy: 0.5748 - val_loss: 0.0097 - val_accuracy: 0.6000\n",
            "Epoch 608/1000\n",
            "8/8 [==============================] - 0s 22ms/step - loss: 0.0023 - accuracy: 0.5276 - val_loss: 0.0050 - val_accuracy: 0.6000\n",
            "Epoch 609/1000\n",
            "8/8 [==============================] - 0s 21ms/step - loss: 0.0024 - accuracy: 0.5433 - val_loss: 0.0089 - val_accuracy: 0.6000\n",
            "Epoch 610/1000\n",
            "8/8 [==============================] - 0s 22ms/step - loss: 0.0028 - accuracy: 0.5118 - val_loss: 0.0064 - val_accuracy: 0.6000\n",
            "Epoch 611/1000\n",
            "8/8 [==============================] - 0s 21ms/step - loss: 0.0028 - accuracy: 0.5118 - val_loss: 0.0057 - val_accuracy: 0.6000\n",
            "Epoch 612/1000\n",
            "8/8 [==============================] - 0s 18ms/step - loss: 0.0026 - accuracy: 0.5669 - val_loss: 0.0062 - val_accuracy: 0.6000\n",
            "Epoch 613/1000\n",
            "8/8 [==============================] - 0s 21ms/step - loss: 0.0023 - accuracy: 0.5118 - val_loss: 0.0077 - val_accuracy: 0.6000\n",
            "Epoch 614/1000\n",
            "8/8 [==============================] - 0s 21ms/step - loss: 0.0021 - accuracy: 0.5433 - val_loss: 0.0064 - val_accuracy: 0.6000\n",
            "Epoch 615/1000\n",
            "8/8 [==============================] - 0s 22ms/step - loss: 0.0022 - accuracy: 0.5197 - val_loss: 0.0059 - val_accuracy: 0.6000\n",
            "Epoch 616/1000\n",
            "8/8 [==============================] - 0s 21ms/step - loss: 0.0024 - accuracy: 0.5354 - val_loss: 0.0130 - val_accuracy: 0.6000\n",
            "Epoch 617/1000\n",
            "8/8 [==============================] - 0s 22ms/step - loss: 0.0023 - accuracy: 0.5354 - val_loss: 0.0074 - val_accuracy: 0.6000\n",
            "Epoch 618/1000\n",
            "8/8 [==============================] - 0s 21ms/step - loss: 0.0024 - accuracy: 0.5354 - val_loss: 0.0095 - val_accuracy: 0.6000\n",
            "Epoch 619/1000\n",
            "8/8 [==============================] - 0s 21ms/step - loss: 0.0022 - accuracy: 0.5591 - val_loss: 0.0095 - val_accuracy: 0.6000\n",
            "Epoch 620/1000\n",
            "8/8 [==============================] - 0s 21ms/step - loss: 0.0023 - accuracy: 0.5512 - val_loss: 0.0117 - val_accuracy: 0.6000\n",
            "Epoch 621/1000\n",
            "8/8 [==============================] - 0s 20ms/step - loss: 0.0026 - accuracy: 0.5197 - val_loss: 0.0071 - val_accuracy: 0.6000\n",
            "Epoch 622/1000\n",
            "8/8 [==============================] - 0s 22ms/step - loss: 0.0021 - accuracy: 0.5827 - val_loss: 0.0126 - val_accuracy: 0.6000\n",
            "Epoch 623/1000\n",
            "8/8 [==============================] - 0s 21ms/step - loss: 0.0021 - accuracy: 0.5276 - val_loss: 0.0081 - val_accuracy: 0.6000\n",
            "Epoch 624/1000\n",
            "8/8 [==============================] - 0s 20ms/step - loss: 0.0021 - accuracy: 0.5748 - val_loss: 0.0125 - val_accuracy: 0.6000\n",
            "Epoch 625/1000\n",
            "8/8 [==============================] - 0s 20ms/step - loss: 0.0023 - accuracy: 0.4961 - val_loss: 0.0085 - val_accuracy: 0.6000\n",
            "Epoch 626/1000\n",
            "8/8 [==============================] - 0s 23ms/step - loss: 0.0022 - accuracy: 0.5669 - val_loss: 0.0073 - val_accuracy: 0.6000\n",
            "Epoch 627/1000\n",
            "8/8 [==============================] - 0s 21ms/step - loss: 0.0023 - accuracy: 0.5591 - val_loss: 0.0061 - val_accuracy: 0.6000\n",
            "Epoch 628/1000\n",
            "8/8 [==============================] - 0s 21ms/step - loss: 0.0025 - accuracy: 0.4961 - val_loss: 0.0098 - val_accuracy: 0.6000\n",
            "Epoch 629/1000\n",
            "8/8 [==============================] - 0s 21ms/step - loss: 0.0025 - accuracy: 0.5118 - val_loss: 0.0058 - val_accuracy: 0.6000\n",
            "Epoch 630/1000\n",
            "8/8 [==============================] - 0s 23ms/step - loss: 0.0022 - accuracy: 0.4803 - val_loss: 0.0062 - val_accuracy: 0.6000\n",
            "Epoch 631/1000\n",
            "8/8 [==============================] - 0s 21ms/step - loss: 0.0021 - accuracy: 0.5354 - val_loss: 0.0063 - val_accuracy: 0.6000\n",
            "Epoch 632/1000\n",
            "8/8 [==============================] - 0s 20ms/step - loss: 0.0025 - accuracy: 0.5354 - val_loss: 0.0068 - val_accuracy: 0.6000\n",
            "Epoch 633/1000\n",
            "8/8 [==============================] - 0s 22ms/step - loss: 0.0022 - accuracy: 0.5512 - val_loss: 0.0081 - val_accuracy: 0.6000\n",
            "Epoch 634/1000\n",
            "8/8 [==============================] - 0s 20ms/step - loss: 0.0021 - accuracy: 0.5669 - val_loss: 0.0063 - val_accuracy: 0.6000\n",
            "Epoch 635/1000\n",
            "8/8 [==============================] - 0s 20ms/step - loss: 0.0019 - accuracy: 0.5197 - val_loss: 0.0097 - val_accuracy: 0.6000\n",
            "Epoch 636/1000\n",
            "8/8 [==============================] - 0s 22ms/step - loss: 0.0021 - accuracy: 0.5118 - val_loss: 0.0052 - val_accuracy: 0.6000\n",
            "Epoch 637/1000\n",
            "8/8 [==============================] - 0s 21ms/step - loss: 0.0021 - accuracy: 0.5591 - val_loss: 0.0059 - val_accuracy: 0.6000\n",
            "Epoch 638/1000\n",
            "8/8 [==============================] - 0s 21ms/step - loss: 0.0020 - accuracy: 0.5748 - val_loss: 0.0067 - val_accuracy: 0.6000\n",
            "Epoch 639/1000\n",
            "8/8 [==============================] - 0s 22ms/step - loss: 0.0023 - accuracy: 0.5827 - val_loss: 0.0062 - val_accuracy: 0.6000\n",
            "Epoch 640/1000\n",
            "8/8 [==============================] - 0s 20ms/step - loss: 0.0024 - accuracy: 0.5354 - val_loss: 0.0078 - val_accuracy: 0.6000\n",
            "Epoch 641/1000\n",
            "8/8 [==============================] - 0s 22ms/step - loss: 0.0022 - accuracy: 0.5433 - val_loss: 0.0086 - val_accuracy: 0.6000\n",
            "Epoch 642/1000\n",
            "8/8 [==============================] - 0s 21ms/step - loss: 0.0023 - accuracy: 0.5748 - val_loss: 0.0069 - val_accuracy: 0.6000\n",
            "Epoch 643/1000\n",
            "8/8 [==============================] - 0s 20ms/step - loss: 0.0024 - accuracy: 0.5512 - val_loss: 0.0077 - val_accuracy: 0.6000\n",
            "Epoch 644/1000\n",
            "8/8 [==============================] - 0s 22ms/step - loss: 0.0024 - accuracy: 0.5276 - val_loss: 0.0065 - val_accuracy: 0.6000\n",
            "Epoch 645/1000\n",
            "8/8 [==============================] - 0s 18ms/step - loss: 0.0024 - accuracy: 0.4724 - val_loss: 0.0054 - val_accuracy: 0.6000\n",
            "Epoch 646/1000\n",
            "8/8 [==============================] - 0s 21ms/step - loss: 0.0022 - accuracy: 0.5906 - val_loss: 0.0094 - val_accuracy: 0.6000\n",
            "Epoch 647/1000\n",
            "8/8 [==============================] - 0s 21ms/step - loss: 0.0024 - accuracy: 0.5669 - val_loss: 0.0088 - val_accuracy: 0.6000\n",
            "Epoch 648/1000\n",
            "8/8 [==============================] - 0s 23ms/step - loss: 0.0024 - accuracy: 0.5748 - val_loss: 0.0070 - val_accuracy: 0.6000\n",
            "Epoch 649/1000\n",
            "8/8 [==============================] - 0s 21ms/step - loss: 0.0023 - accuracy: 0.5118 - val_loss: 0.0059 - val_accuracy: 0.6000\n",
            "Epoch 650/1000\n",
            "8/8 [==============================] - 0s 19ms/step - loss: 0.0021 - accuracy: 0.4961 - val_loss: 0.0066 - val_accuracy: 0.6000\n",
            "Epoch 651/1000\n",
            "8/8 [==============================] - 0s 21ms/step - loss: 0.0025 - accuracy: 0.5276 - val_loss: 0.0082 - val_accuracy: 0.6000\n",
            "Epoch 652/1000\n",
            "8/8 [==============================] - 0s 22ms/step - loss: 0.0023 - accuracy: 0.5276 - val_loss: 0.0067 - val_accuracy: 0.6000\n",
            "Epoch 653/1000\n",
            "8/8 [==============================] - 0s 20ms/step - loss: 0.0019 - accuracy: 0.5748 - val_loss: 0.0049 - val_accuracy: 0.6000\n",
            "Epoch 654/1000\n",
            "8/8 [==============================] - 0s 22ms/step - loss: 0.0021 - accuracy: 0.5197 - val_loss: 0.0092 - val_accuracy: 0.6000\n",
            "Epoch 655/1000\n",
            "8/8 [==============================] - 0s 21ms/step - loss: 0.0020 - accuracy: 0.5591 - val_loss: 0.0074 - val_accuracy: 0.6000\n",
            "Epoch 656/1000\n",
            "8/8 [==============================] - 0s 22ms/step - loss: 0.0023 - accuracy: 0.5354 - val_loss: 0.0087 - val_accuracy: 0.6000\n",
            "Epoch 657/1000\n",
            "8/8 [==============================] - 0s 20ms/step - loss: 0.0020 - accuracy: 0.5512 - val_loss: 0.0085 - val_accuracy: 0.6000\n",
            "Epoch 658/1000\n",
            "8/8 [==============================] - 0s 22ms/step - loss: 0.0020 - accuracy: 0.5197 - val_loss: 0.0083 - val_accuracy: 0.6000\n",
            "Epoch 659/1000\n",
            "8/8 [==============================] - 0s 18ms/step - loss: 0.0020 - accuracy: 0.5591 - val_loss: 0.0083 - val_accuracy: 0.6000\n",
            "Epoch 660/1000\n",
            "8/8 [==============================] - 0s 20ms/step - loss: 0.0019 - accuracy: 0.5433 - val_loss: 0.0069 - val_accuracy: 0.6000\n",
            "Epoch 661/1000\n",
            "8/8 [==============================] - 0s 23ms/step - loss: 0.0020 - accuracy: 0.5512 - val_loss: 0.0090 - val_accuracy: 0.6000\n",
            "Epoch 662/1000\n",
            "8/8 [==============================] - 0s 18ms/step - loss: 0.0020 - accuracy: 0.5906 - val_loss: 0.0063 - val_accuracy: 0.6000\n",
            "Epoch 663/1000\n",
            "8/8 [==============================] - 0s 21ms/step - loss: 0.0022 - accuracy: 0.5433 - val_loss: 0.0095 - val_accuracy: 0.6000\n",
            "Epoch 664/1000\n",
            "8/8 [==============================] - 0s 23ms/step - loss: 0.0020 - accuracy: 0.5512 - val_loss: 0.0077 - val_accuracy: 0.6000\n",
            "Epoch 665/1000\n",
            "8/8 [==============================] - 0s 21ms/step - loss: 0.0021 - accuracy: 0.5512 - val_loss: 0.0070 - val_accuracy: 0.6000\n",
            "Epoch 666/1000\n",
            "8/8 [==============================] - 0s 21ms/step - loss: 0.0022 - accuracy: 0.5433 - val_loss: 0.0045 - val_accuracy: 0.6000\n",
            "Epoch 667/1000\n",
            "8/8 [==============================] - 0s 22ms/step - loss: 0.0023 - accuracy: 0.5197 - val_loss: 0.0083 - val_accuracy: 0.6000\n",
            "Epoch 668/1000\n",
            "8/8 [==============================] - 0s 22ms/step - loss: 0.0019 - accuracy: 0.5827 - val_loss: 0.0055 - val_accuracy: 0.6000\n",
            "Epoch 669/1000\n",
            "8/8 [==============================] - 0s 21ms/step - loss: 0.0022 - accuracy: 0.5669 - val_loss: 0.0063 - val_accuracy: 0.6000\n",
            "Epoch 670/1000\n",
            "8/8 [==============================] - 0s 22ms/step - loss: 0.0023 - accuracy: 0.5512 - val_loss: 0.0076 - val_accuracy: 0.6000\n",
            "Epoch 671/1000\n",
            "8/8 [==============================] - 0s 21ms/step - loss: 0.0021 - accuracy: 0.6063 - val_loss: 0.0070 - val_accuracy: 0.6000\n",
            "Epoch 672/1000\n",
            "8/8 [==============================] - 0s 22ms/step - loss: 0.0023 - accuracy: 0.4882 - val_loss: 0.0052 - val_accuracy: 0.6000\n",
            "Epoch 673/1000\n",
            "8/8 [==============================] - 0s 21ms/step - loss: 0.0020 - accuracy: 0.5276 - val_loss: 0.0101 - val_accuracy: 0.6000\n",
            "Epoch 674/1000\n",
            "8/8 [==============================] - 0s 21ms/step - loss: 0.0022 - accuracy: 0.6142 - val_loss: 0.0052 - val_accuracy: 0.6000\n",
            "Epoch 675/1000\n",
            "8/8 [==============================] - 0s 20ms/step - loss: 0.0018 - accuracy: 0.5512 - val_loss: 0.0055 - val_accuracy: 0.6000\n",
            "Epoch 676/1000\n",
            "8/8 [==============================] - 0s 22ms/step - loss: 0.0019 - accuracy: 0.5512 - val_loss: 0.0087 - val_accuracy: 0.6000\n",
            "Epoch 677/1000\n",
            "8/8 [==============================] - 0s 21ms/step - loss: 0.0019 - accuracy: 0.5118 - val_loss: 0.0081 - val_accuracy: 0.6000\n",
            "Epoch 678/1000\n",
            "8/8 [==============================] - 0s 20ms/step - loss: 0.0020 - accuracy: 0.5984 - val_loss: 0.0067 - val_accuracy: 0.6000\n",
            "Epoch 679/1000\n",
            "8/8 [==============================] - 0s 22ms/step - loss: 0.0020 - accuracy: 0.5669 - val_loss: 0.0067 - val_accuracy: 0.6000\n",
            "Epoch 680/1000\n",
            "8/8 [==============================] - 0s 22ms/step - loss: 0.0020 - accuracy: 0.4961 - val_loss: 0.0065 - val_accuracy: 0.6000\n",
            "Epoch 681/1000\n",
            "8/8 [==============================] - 0s 21ms/step - loss: 0.0020 - accuracy: 0.5512 - val_loss: 0.0065 - val_accuracy: 0.6000\n",
            "Epoch 682/1000\n",
            "8/8 [==============================] - 0s 22ms/step - loss: 0.0023 - accuracy: 0.5433 - val_loss: 0.0116 - val_accuracy: 0.6000\n",
            "Epoch 683/1000\n",
            "8/8 [==============================] - 0s 22ms/step - loss: 0.0024 - accuracy: 0.5118 - val_loss: 0.0084 - val_accuracy: 0.6000\n",
            "Epoch 684/1000\n",
            "8/8 [==============================] - 0s 21ms/step - loss: 0.0022 - accuracy: 0.5669 - val_loss: 0.0071 - val_accuracy: 0.6000\n",
            "Epoch 685/1000\n",
            "8/8 [==============================] - 0s 21ms/step - loss: 0.0026 - accuracy: 0.5748 - val_loss: 0.0058 - val_accuracy: 0.4000\n",
            "Epoch 686/1000\n",
            "8/8 [==============================] - 0s 20ms/step - loss: 0.0028 - accuracy: 0.5591 - val_loss: 0.0061 - val_accuracy: 0.6000\n",
            "Epoch 687/1000\n",
            "8/8 [==============================] - 0s 23ms/step - loss: 0.0019 - accuracy: 0.5118 - val_loss: 0.0047 - val_accuracy: 0.6000\n",
            "Epoch 688/1000\n",
            "8/8 [==============================] - 0s 20ms/step - loss: 0.0018 - accuracy: 0.5906 - val_loss: 0.0049 - val_accuracy: 0.6000\n",
            "Epoch 689/1000\n",
            "8/8 [==============================] - 0s 20ms/step - loss: 0.0021 - accuracy: 0.5512 - val_loss: 0.0054 - val_accuracy: 0.6000\n",
            "Epoch 690/1000\n",
            "8/8 [==============================] - 0s 23ms/step - loss: 0.0020 - accuracy: 0.5512 - val_loss: 0.0054 - val_accuracy: 0.6000\n",
            "Epoch 691/1000\n",
            "8/8 [==============================] - 0s 23ms/step - loss: 0.0021 - accuracy: 0.5984 - val_loss: 0.0055 - val_accuracy: 0.6000\n",
            "Epoch 692/1000\n",
            "8/8 [==============================] - 0s 20ms/step - loss: 0.0023 - accuracy: 0.4961 - val_loss: 0.0051 - val_accuracy: 0.6000\n",
            "Epoch 693/1000\n",
            "8/8 [==============================] - 0s 24ms/step - loss: 0.0021 - accuracy: 0.5512 - val_loss: 0.0053 - val_accuracy: 0.6000\n",
            "Epoch 694/1000\n",
            "8/8 [==============================] - 0s 21ms/step - loss: 0.0023 - accuracy: 0.5197 - val_loss: 0.0078 - val_accuracy: 0.6000\n",
            "Epoch 695/1000\n",
            "8/8 [==============================] - 0s 22ms/step - loss: 0.0019 - accuracy: 0.5354 - val_loss: 0.0056 - val_accuracy: 0.6000\n",
            "Epoch 696/1000\n",
            "8/8 [==============================] - 0s 19ms/step - loss: 0.0019 - accuracy: 0.5512 - val_loss: 0.0061 - val_accuracy: 0.6000\n",
            "Epoch 697/1000\n",
            "8/8 [==============================] - 0s 21ms/step - loss: 0.0019 - accuracy: 0.5433 - val_loss: 0.0064 - val_accuracy: 0.6000\n",
            "Epoch 698/1000\n",
            "8/8 [==============================] - 0s 23ms/step - loss: 0.0017 - accuracy: 0.6142 - val_loss: 0.0065 - val_accuracy: 0.6000\n",
            "Epoch 699/1000\n",
            "8/8 [==============================] - 0s 23ms/step - loss: 0.0018 - accuracy: 0.5748 - val_loss: 0.0063 - val_accuracy: 0.6000\n",
            "Epoch 700/1000\n",
            "8/8 [==============================] - 0s 22ms/step - loss: 0.0018 - accuracy: 0.5984 - val_loss: 0.0056 - val_accuracy: 0.6000\n",
            "Epoch 701/1000\n",
            "8/8 [==============================] - 0s 24ms/step - loss: 0.0022 - accuracy: 0.4567 - val_loss: 0.0055 - val_accuracy: 0.6000\n",
            "Epoch 702/1000\n",
            "8/8 [==============================] - 0s 22ms/step - loss: 0.0023 - accuracy: 0.5118 - val_loss: 0.0060 - val_accuracy: 0.6000\n",
            "Epoch 703/1000\n",
            "8/8 [==============================] - 0s 21ms/step - loss: 0.0020 - accuracy: 0.5748 - val_loss: 0.0068 - val_accuracy: 0.6000\n",
            "Epoch 704/1000\n",
            "8/8 [==============================] - 0s 22ms/step - loss: 0.0021 - accuracy: 0.5512 - val_loss: 0.0052 - val_accuracy: 0.6000\n",
            "Epoch 705/1000\n",
            "8/8 [==============================] - 0s 18ms/step - loss: 0.0021 - accuracy: 0.5827 - val_loss: 0.0058 - val_accuracy: 0.6000\n",
            "Epoch 706/1000\n",
            "8/8 [==============================] - 0s 21ms/step - loss: 0.0018 - accuracy: 0.6220 - val_loss: 0.0058 - val_accuracy: 0.6000\n",
            "Epoch 707/1000\n",
            "8/8 [==============================] - 0s 21ms/step - loss: 0.0019 - accuracy: 0.5591 - val_loss: 0.0070 - val_accuracy: 0.6000\n",
            "Epoch 708/1000\n",
            "8/8 [==============================] - 0s 23ms/step - loss: 0.0019 - accuracy: 0.5197 - val_loss: 0.0056 - val_accuracy: 0.6000\n",
            "Epoch 709/1000\n",
            "8/8 [==============================] - 0s 20ms/step - loss: 0.0017 - accuracy: 0.5591 - val_loss: 0.0067 - val_accuracy: 0.6000\n",
            "Epoch 710/1000\n",
            "8/8 [==============================] - 0s 23ms/step - loss: 0.0019 - accuracy: 0.5591 - val_loss: 0.0061 - val_accuracy: 0.6000\n",
            "Epoch 711/1000\n",
            "8/8 [==============================] - 0s 25ms/step - loss: 0.0019 - accuracy: 0.5669 - val_loss: 0.0087 - val_accuracy: 0.6000\n",
            "Epoch 712/1000\n",
            "8/8 [==============================] - 0s 23ms/step - loss: 0.0018 - accuracy: 0.5591 - val_loss: 0.0056 - val_accuracy: 0.6000\n",
            "Epoch 713/1000\n",
            "8/8 [==============================] - 0s 22ms/step - loss: 0.0020 - accuracy: 0.5669 - val_loss: 0.0062 - val_accuracy: 0.6000\n",
            "Epoch 714/1000\n",
            "8/8 [==============================] - 0s 19ms/step - loss: 0.0019 - accuracy: 0.5748 - val_loss: 0.0049 - val_accuracy: 0.6000\n",
            "Epoch 715/1000\n",
            "8/8 [==============================] - 0s 21ms/step - loss: 0.0017 - accuracy: 0.5748 - val_loss: 0.0073 - val_accuracy: 0.6000\n",
            "Epoch 716/1000\n",
            "8/8 [==============================] - 0s 23ms/step - loss: 0.0019 - accuracy: 0.5906 - val_loss: 0.0066 - val_accuracy: 0.6000\n",
            "Epoch 717/1000\n",
            "8/8 [==============================] - 0s 22ms/step - loss: 0.0017 - accuracy: 0.5748 - val_loss: 0.0078 - val_accuracy: 0.6000\n",
            "Epoch 718/1000\n",
            "8/8 [==============================] - 0s 18ms/step - loss: 0.0020 - accuracy: 0.5748 - val_loss: 0.0064 - val_accuracy: 0.6000\n",
            "Epoch 719/1000\n",
            "8/8 [==============================] - 0s 22ms/step - loss: 0.0018 - accuracy: 0.5512 - val_loss: 0.0073 - val_accuracy: 0.6000\n",
            "Epoch 720/1000\n",
            "8/8 [==============================] - 0s 20ms/step - loss: 0.0017 - accuracy: 0.5039 - val_loss: 0.0064 - val_accuracy: 0.6000\n",
            "Epoch 721/1000\n",
            "8/8 [==============================] - 0s 22ms/step - loss: 0.0019 - accuracy: 0.5118 - val_loss: 0.0091 - val_accuracy: 0.6000\n",
            "Epoch 722/1000\n",
            "8/8 [==============================] - 0s 22ms/step - loss: 0.0019 - accuracy: 0.5354 - val_loss: 0.0082 - val_accuracy: 0.6000\n",
            "Epoch 723/1000\n",
            "8/8 [==============================] - 0s 22ms/step - loss: 0.0019 - accuracy: 0.6142 - val_loss: 0.0078 - val_accuracy: 0.6000\n",
            "Epoch 724/1000\n",
            "8/8 [==============================] - 0s 23ms/step - loss: 0.0018 - accuracy: 0.5669 - val_loss: 0.0072 - val_accuracy: 0.6000\n",
            "Epoch 725/1000\n",
            "8/8 [==============================] - 0s 21ms/step - loss: 0.0018 - accuracy: 0.5512 - val_loss: 0.0062 - val_accuracy: 0.6000\n",
            "Epoch 726/1000\n",
            "8/8 [==============================] - 0s 20ms/step - loss: 0.0019 - accuracy: 0.5354 - val_loss: 0.0077 - val_accuracy: 0.6000\n",
            "Epoch 727/1000\n",
            "8/8 [==============================] - 0s 22ms/step - loss: 0.0017 - accuracy: 0.5197 - val_loss: 0.0054 - val_accuracy: 0.6000\n",
            "Epoch 728/1000\n",
            "8/8 [==============================] - 0s 21ms/step - loss: 0.0017 - accuracy: 0.5906 - val_loss: 0.0064 - val_accuracy: 0.6000\n",
            "Epoch 729/1000\n",
            "8/8 [==============================] - 0s 21ms/step - loss: 0.0018 - accuracy: 0.5197 - val_loss: 0.0078 - val_accuracy: 0.6000\n",
            "Epoch 730/1000\n",
            "8/8 [==============================] - 0s 21ms/step - loss: 0.0017 - accuracy: 0.5669 - val_loss: 0.0062 - val_accuracy: 0.6000\n",
            "Epoch 731/1000\n",
            "8/8 [==============================] - 0s 21ms/step - loss: 0.0017 - accuracy: 0.6299 - val_loss: 0.0062 - val_accuracy: 0.6000\n",
            "Epoch 732/1000\n",
            "8/8 [==============================] - 0s 19ms/step - loss: 0.0018 - accuracy: 0.5276 - val_loss: 0.0061 - val_accuracy: 0.6000\n",
            "Epoch 733/1000\n",
            "8/8 [==============================] - 0s 22ms/step - loss: 0.0020 - accuracy: 0.5984 - val_loss: 0.0074 - val_accuracy: 0.6000\n",
            "Epoch 734/1000\n",
            "8/8 [==============================] - 0s 21ms/step - loss: 0.0019 - accuracy: 0.5591 - val_loss: 0.0061 - val_accuracy: 0.6000\n",
            "Epoch 735/1000\n",
            "8/8 [==============================] - 0s 21ms/step - loss: 0.0017 - accuracy: 0.5276 - val_loss: 0.0058 - val_accuracy: 0.6000\n",
            "Epoch 736/1000\n",
            "8/8 [==============================] - 0s 22ms/step - loss: 0.0021 - accuracy: 0.5984 - val_loss: 0.0062 - val_accuracy: 0.6000\n",
            "Epoch 737/1000\n",
            "8/8 [==============================] - 0s 20ms/step - loss: 0.0020 - accuracy: 0.5354 - val_loss: 0.0060 - val_accuracy: 0.6000\n",
            "Epoch 738/1000\n",
            "8/8 [==============================] - 0s 20ms/step - loss: 0.0020 - accuracy: 0.5354 - val_loss: 0.0105 - val_accuracy: 0.6000\n",
            "Epoch 739/1000\n",
            "8/8 [==============================] - 0s 24ms/step - loss: 0.0020 - accuracy: 0.5984 - val_loss: 0.0072 - val_accuracy: 0.6000\n",
            "Epoch 740/1000\n",
            "8/8 [==============================] - 0s 21ms/step - loss: 0.0017 - accuracy: 0.5984 - val_loss: 0.0076 - val_accuracy: 0.6000\n",
            "Epoch 741/1000\n",
            "8/8 [==============================] - 0s 23ms/step - loss: 0.0017 - accuracy: 0.5669 - val_loss: 0.0087 - val_accuracy: 0.6000\n",
            "Epoch 742/1000\n",
            "8/8 [==============================] - 0s 22ms/step - loss: 0.0017 - accuracy: 0.5984 - val_loss: 0.0059 - val_accuracy: 0.6000\n",
            "Epoch 743/1000\n",
            "8/8 [==============================] - 0s 21ms/step - loss: 0.0019 - accuracy: 0.5276 - val_loss: 0.0085 - val_accuracy: 0.6000\n",
            "Epoch 744/1000\n",
            "8/8 [==============================] - 0s 20ms/step - loss: 0.0018 - accuracy: 0.6142 - val_loss: 0.0089 - val_accuracy: 0.6000\n",
            "Epoch 745/1000\n",
            "8/8 [==============================] - 0s 22ms/step - loss: 0.0019 - accuracy: 0.5433 - val_loss: 0.0063 - val_accuracy: 0.6000\n",
            "Epoch 746/1000\n",
            "8/8 [==============================] - 0s 22ms/step - loss: 0.0018 - accuracy: 0.6063 - val_loss: 0.0066 - val_accuracy: 0.6000\n",
            "Epoch 747/1000\n",
            "8/8 [==============================] - 0s 21ms/step - loss: 0.0018 - accuracy: 0.6142 - val_loss: 0.0075 - val_accuracy: 0.6000\n",
            "Epoch 748/1000\n",
            "8/8 [==============================] - 0s 21ms/step - loss: 0.0020 - accuracy: 0.5276 - val_loss: 0.0063 - val_accuracy: 0.6000\n",
            "Epoch 749/1000\n",
            "8/8 [==============================] - 0s 18ms/step - loss: 0.0019 - accuracy: 0.6220 - val_loss: 0.0059 - val_accuracy: 0.6000\n",
            "Epoch 750/1000\n",
            "8/8 [==============================] - 0s 21ms/step - loss: 0.0018 - accuracy: 0.5433 - val_loss: 0.0075 - val_accuracy: 0.6000\n",
            "Epoch 751/1000\n",
            "8/8 [==============================] - 0s 21ms/step - loss: 0.0020 - accuracy: 0.5197 - val_loss: 0.0123 - val_accuracy: 0.6000\n",
            "Epoch 752/1000\n",
            "8/8 [==============================] - 0s 22ms/step - loss: 0.0020 - accuracy: 0.5591 - val_loss: 0.0107 - val_accuracy: 0.4000\n",
            "Epoch 753/1000\n",
            "8/8 [==============================] - 0s 18ms/step - loss: 0.0020 - accuracy: 0.5669 - val_loss: 0.0089 - val_accuracy: 0.6000\n",
            "Epoch 754/1000\n",
            "8/8 [==============================] - 0s 19ms/step - loss: 0.0020 - accuracy: 0.5354 - val_loss: 0.0088 - val_accuracy: 0.6000\n",
            "Epoch 755/1000\n",
            "8/8 [==============================] - 0s 22ms/step - loss: 0.0021 - accuracy: 0.5433 - val_loss: 0.0056 - val_accuracy: 0.6000\n",
            "Epoch 756/1000\n",
            "8/8 [==============================] - 0s 22ms/step - loss: 0.0017 - accuracy: 0.5748 - val_loss: 0.0070 - val_accuracy: 0.6000\n",
            "Epoch 757/1000\n",
            "8/8 [==============================] - 0s 21ms/step - loss: 0.0017 - accuracy: 0.5433 - val_loss: 0.0105 - val_accuracy: 0.6000\n",
            "Epoch 758/1000\n",
            "8/8 [==============================] - 0s 21ms/step - loss: 0.0022 - accuracy: 0.5433 - val_loss: 0.0054 - val_accuracy: 0.6000\n",
            "Epoch 759/1000\n",
            "8/8 [==============================] - 0s 20ms/step - loss: 0.0021 - accuracy: 0.5984 - val_loss: 0.0081 - val_accuracy: 0.6000\n",
            "Epoch 760/1000\n",
            "8/8 [==============================] - 0s 23ms/step - loss: 0.0017 - accuracy: 0.5433 - val_loss: 0.0085 - val_accuracy: 0.6000\n",
            "Epoch 761/1000\n",
            "8/8 [==============================] - 0s 20ms/step - loss: 0.0020 - accuracy: 0.5591 - val_loss: 0.0051 - val_accuracy: 0.6000\n",
            "Epoch 762/1000\n",
            "8/8 [==============================] - 0s 23ms/step - loss: 0.0020 - accuracy: 0.6063 - val_loss: 0.0065 - val_accuracy: 0.6000\n",
            "Epoch 763/1000\n",
            "8/8 [==============================] - 0s 21ms/step - loss: 0.0019 - accuracy: 0.5748 - val_loss: 0.0055 - val_accuracy: 0.6000\n",
            "Epoch 764/1000\n",
            "8/8 [==============================] - 0s 22ms/step - loss: 0.0018 - accuracy: 0.6299 - val_loss: 0.0057 - val_accuracy: 0.6000\n",
            "Epoch 765/1000\n",
            "8/8 [==============================] - 0s 21ms/step - loss: 0.0019 - accuracy: 0.6063 - val_loss: 0.0054 - val_accuracy: 0.6000\n",
            "Epoch 766/1000\n",
            "8/8 [==============================] - 0s 20ms/step - loss: 0.0020 - accuracy: 0.5669 - val_loss: 0.0063 - val_accuracy: 0.6000\n",
            "Epoch 767/1000\n",
            "8/8 [==============================] - 0s 22ms/step - loss: 0.0018 - accuracy: 0.5512 - val_loss: 0.0059 - val_accuracy: 0.6000\n",
            "Epoch 768/1000\n",
            "8/8 [==============================] - 0s 21ms/step - loss: 0.0016 - accuracy: 0.5748 - val_loss: 0.0060 - val_accuracy: 0.6000\n",
            "Epoch 769/1000\n",
            "8/8 [==============================] - 0s 23ms/step - loss: 0.0015 - accuracy: 0.5354 - val_loss: 0.0069 - val_accuracy: 0.6000\n",
            "Epoch 770/1000\n",
            "8/8 [==============================] - 0s 23ms/step - loss: 0.0016 - accuracy: 0.5827 - val_loss: 0.0073 - val_accuracy: 0.6000\n",
            "Epoch 771/1000\n",
            "8/8 [==============================] - 0s 22ms/step - loss: 0.0016 - accuracy: 0.5984 - val_loss: 0.0086 - val_accuracy: 0.6000\n",
            "Epoch 772/1000\n",
            "8/8 [==============================] - 0s 22ms/step - loss: 0.0016 - accuracy: 0.5906 - val_loss: 0.0068 - val_accuracy: 0.6000\n",
            "Epoch 773/1000\n",
            "8/8 [==============================] - 0s 20ms/step - loss: 0.0017 - accuracy: 0.6063 - val_loss: 0.0072 - val_accuracy: 0.6000\n",
            "Epoch 774/1000\n",
            "8/8 [==============================] - 0s 22ms/step - loss: 0.0019 - accuracy: 0.5748 - val_loss: 0.0065 - val_accuracy: 0.6000\n",
            "Epoch 775/1000\n",
            "8/8 [==============================] - 0s 21ms/step - loss: 0.0019 - accuracy: 0.5906 - val_loss: 0.0061 - val_accuracy: 0.6000\n",
            "Epoch 776/1000\n",
            "8/8 [==============================] - 0s 20ms/step - loss: 0.0017 - accuracy: 0.5591 - val_loss: 0.0060 - val_accuracy: 0.6000\n",
            "Epoch 777/1000\n",
            "8/8 [==============================] - 0s 19ms/step - loss: 0.0017 - accuracy: 0.5984 - val_loss: 0.0074 - val_accuracy: 0.6000\n",
            "Epoch 778/1000\n",
            "8/8 [==============================] - 0s 21ms/step - loss: 0.0018 - accuracy: 0.5512 - val_loss: 0.0087 - val_accuracy: 0.6000\n",
            "Epoch 779/1000\n",
            "8/8 [==============================] - 0s 20ms/step - loss: 0.0016 - accuracy: 0.5984 - val_loss: 0.0070 - val_accuracy: 0.6000\n",
            "Epoch 780/1000\n",
            "8/8 [==============================] - 0s 23ms/step - loss: 0.0014 - accuracy: 0.5906 - val_loss: 0.0068 - val_accuracy: 0.6000\n",
            "Epoch 781/1000\n",
            "8/8 [==============================] - 0s 23ms/step - loss: 0.0016 - accuracy: 0.5433 - val_loss: 0.0077 - val_accuracy: 0.6000\n",
            "Epoch 782/1000\n",
            "8/8 [==============================] - 0s 20ms/step - loss: 0.0018 - accuracy: 0.5669 - val_loss: 0.0097 - val_accuracy: 0.6000\n",
            "Epoch 783/1000\n",
            "8/8 [==============================] - 0s 21ms/step - loss: 0.0022 - accuracy: 0.5276 - val_loss: 0.0070 - val_accuracy: 0.6000\n",
            "Epoch 784/1000\n",
            "8/8 [==============================] - 0s 22ms/step - loss: 0.0018 - accuracy: 0.5276 - val_loss: 0.0085 - val_accuracy: 0.6000\n",
            "Epoch 785/1000\n",
            "8/8 [==============================] - 0s 21ms/step - loss: 0.0018 - accuracy: 0.5512 - val_loss: 0.0051 - val_accuracy: 0.6000\n",
            "Epoch 786/1000\n",
            "8/8 [==============================] - 0s 21ms/step - loss: 0.0016 - accuracy: 0.5669 - val_loss: 0.0087 - val_accuracy: 0.6000\n",
            "Epoch 787/1000\n",
            "8/8 [==============================] - 0s 21ms/step - loss: 0.0019 - accuracy: 0.5276 - val_loss: 0.0053 - val_accuracy: 0.6000\n",
            "Epoch 788/1000\n",
            "8/8 [==============================] - 0s 21ms/step - loss: 0.0016 - accuracy: 0.5906 - val_loss: 0.0070 - val_accuracy: 0.6000\n",
            "Epoch 789/1000\n",
            "8/8 [==============================] - 0s 21ms/step - loss: 0.0017 - accuracy: 0.5669 - val_loss: 0.0063 - val_accuracy: 0.6000\n",
            "Epoch 790/1000\n",
            "8/8 [==============================] - 0s 23ms/step - loss: 0.0015 - accuracy: 0.5197 - val_loss: 0.0052 - val_accuracy: 0.6000\n",
            "Epoch 791/1000\n",
            "8/8 [==============================] - 0s 23ms/step - loss: 0.0019 - accuracy: 0.5276 - val_loss: 0.0060 - val_accuracy: 0.6000\n",
            "Epoch 792/1000\n",
            "8/8 [==============================] - 0s 22ms/step - loss: 0.0017 - accuracy: 0.5906 - val_loss: 0.0068 - val_accuracy: 0.6000\n",
            "Epoch 793/1000\n",
            "8/8 [==============================] - 0s 23ms/step - loss: 0.0018 - accuracy: 0.5512 - val_loss: 0.0061 - val_accuracy: 0.6000\n",
            "Epoch 794/1000\n",
            "8/8 [==============================] - 0s 23ms/step - loss: 0.0018 - accuracy: 0.5827 - val_loss: 0.0082 - val_accuracy: 0.6000\n",
            "Epoch 795/1000\n",
            "8/8 [==============================] - 0s 22ms/step - loss: 0.0016 - accuracy: 0.5906 - val_loss: 0.0073 - val_accuracy: 0.4000\n",
            "Epoch 796/1000\n",
            "8/8 [==============================] - 0s 21ms/step - loss: 0.0018 - accuracy: 0.5906 - val_loss: 0.0068 - val_accuracy: 0.6000\n",
            "Epoch 797/1000\n",
            "8/8 [==============================] - 0s 22ms/step - loss: 0.0016 - accuracy: 0.5748 - val_loss: 0.0070 - val_accuracy: 0.6000\n",
            "Epoch 798/1000\n",
            "8/8 [==============================] - 0s 22ms/step - loss: 0.0015 - accuracy: 0.6063 - val_loss: 0.0073 - val_accuracy: 0.6000\n",
            "Epoch 799/1000\n",
            "8/8 [==============================] - 0s 20ms/step - loss: 0.0014 - accuracy: 0.5748 - val_loss: 0.0069 - val_accuracy: 0.6000\n",
            "Epoch 800/1000\n",
            "8/8 [==============================] - 0s 23ms/step - loss: 0.0015 - accuracy: 0.5827 - val_loss: 0.0086 - val_accuracy: 0.6000\n",
            "Epoch 801/1000\n",
            "8/8 [==============================] - 0s 21ms/step - loss: 0.0017 - accuracy: 0.5827 - val_loss: 0.0069 - val_accuracy: 0.6000\n",
            "Epoch 802/1000\n",
            "8/8 [==============================] - 0s 26ms/step - loss: 0.0016 - accuracy: 0.5433 - val_loss: 0.0057 - val_accuracy: 0.6000\n",
            "Epoch 803/1000\n",
            "8/8 [==============================] - 0s 23ms/step - loss: 0.0015 - accuracy: 0.5669 - val_loss: 0.0081 - val_accuracy: 0.6000\n",
            "Epoch 804/1000\n",
            "8/8 [==============================] - 0s 21ms/step - loss: 0.0017 - accuracy: 0.5984 - val_loss: 0.0062 - val_accuracy: 0.6000\n",
            "Epoch 805/1000\n",
            "8/8 [==============================] - 0s 22ms/step - loss: 0.0016 - accuracy: 0.6063 - val_loss: 0.0063 - val_accuracy: 0.6000\n",
            "Epoch 806/1000\n",
            "8/8 [==============================] - 0s 21ms/step - loss: 0.0016 - accuracy: 0.5906 - val_loss: 0.0067 - val_accuracy: 0.6000\n",
            "Epoch 807/1000\n",
            "8/8 [==============================] - 0s 22ms/step - loss: 0.0014 - accuracy: 0.5748 - val_loss: 0.0057 - val_accuracy: 0.6000\n",
            "Epoch 808/1000\n",
            "8/8 [==============================] - 0s 21ms/step - loss: 0.0015 - accuracy: 0.5591 - val_loss: 0.0066 - val_accuracy: 0.6000\n",
            "Epoch 809/1000\n",
            "8/8 [==============================] - 0s 20ms/step - loss: 0.0013 - accuracy: 0.5748 - val_loss: 0.0076 - val_accuracy: 0.6000\n",
            "Epoch 810/1000\n",
            "8/8 [==============================] - 0s 23ms/step - loss: 0.0015 - accuracy: 0.5906 - val_loss: 0.0120 - val_accuracy: 0.6000\n",
            "Epoch 811/1000\n",
            "8/8 [==============================] - 0s 23ms/step - loss: 0.0017 - accuracy: 0.5512 - val_loss: 0.0067 - val_accuracy: 0.6000\n",
            "Epoch 812/1000\n",
            "8/8 [==============================] - 0s 20ms/step - loss: 0.0015 - accuracy: 0.5827 - val_loss: 0.0085 - val_accuracy: 0.6000\n",
            "Epoch 813/1000\n",
            "8/8 [==============================] - 0s 20ms/step - loss: 0.0016 - accuracy: 0.5591 - val_loss: 0.0063 - val_accuracy: 0.6000\n",
            "Epoch 814/1000\n",
            "8/8 [==============================] - 0s 24ms/step - loss: 0.0017 - accuracy: 0.5512 - val_loss: 0.0077 - val_accuracy: 0.6000\n",
            "Epoch 815/1000\n",
            "8/8 [==============================] - 0s 21ms/step - loss: 0.0015 - accuracy: 0.5748 - val_loss: 0.0068 - val_accuracy: 0.6000\n",
            "Epoch 816/1000\n",
            "8/8 [==============================] - 0s 22ms/step - loss: 0.0014 - accuracy: 0.6535 - val_loss: 0.0081 - val_accuracy: 0.6000\n",
            "Epoch 817/1000\n",
            "8/8 [==============================] - 0s 23ms/step - loss: 0.0015 - accuracy: 0.6142 - val_loss: 0.0078 - val_accuracy: 0.6000\n",
            "Epoch 818/1000\n",
            "8/8 [==============================] - 0s 21ms/step - loss: 0.0015 - accuracy: 0.5748 - val_loss: 0.0086 - val_accuracy: 0.6000\n",
            "Epoch 819/1000\n",
            "8/8 [==============================] - 0s 22ms/step - loss: 0.0016 - accuracy: 0.5748 - val_loss: 0.0085 - val_accuracy: 0.6000\n",
            "Epoch 820/1000\n",
            "8/8 [==============================] - 0s 22ms/step - loss: 0.0015 - accuracy: 0.5512 - val_loss: 0.0079 - val_accuracy: 0.6000\n",
            "Epoch 821/1000\n",
            "8/8 [==============================] - 0s 24ms/step - loss: 0.0014 - accuracy: 0.5433 - val_loss: 0.0092 - val_accuracy: 0.6000\n",
            "Epoch 822/1000\n",
            "8/8 [==============================] - 0s 26ms/step - loss: 0.0014 - accuracy: 0.6220 - val_loss: 0.0071 - val_accuracy: 0.6000\n",
            "Epoch 823/1000\n",
            "8/8 [==============================] - 0s 27ms/step - loss: 0.0016 - accuracy: 0.5906 - val_loss: 0.0068 - val_accuracy: 0.6000\n",
            "Epoch 824/1000\n",
            "8/8 [==============================] - 0s 23ms/step - loss: 0.0016 - accuracy: 0.5984 - val_loss: 0.0077 - val_accuracy: 0.6000\n",
            "Epoch 825/1000\n",
            "8/8 [==============================] - 0s 21ms/step - loss: 0.0018 - accuracy: 0.5669 - val_loss: 0.0062 - val_accuracy: 0.6000\n",
            "Epoch 826/1000\n",
            "8/8 [==============================] - 0s 22ms/step - loss: 0.0017 - accuracy: 0.5984 - val_loss: 0.0075 - val_accuracy: 0.6000\n",
            "Epoch 827/1000\n",
            "8/8 [==============================] - 0s 21ms/step - loss: 0.0018 - accuracy: 0.5827 - val_loss: 0.0061 - val_accuracy: 0.6000\n",
            "Epoch 828/1000\n",
            "8/8 [==============================] - 0s 24ms/step - loss: 0.0018 - accuracy: 0.6142 - val_loss: 0.0068 - val_accuracy: 0.6000\n",
            "Epoch 829/1000\n",
            "8/8 [==============================] - 0s 21ms/step - loss: 0.0015 - accuracy: 0.6063 - val_loss: 0.0070 - val_accuracy: 0.6000\n",
            "Epoch 830/1000\n",
            "8/8 [==============================] - 0s 22ms/step - loss: 0.0016 - accuracy: 0.6063 - val_loss: 0.0073 - val_accuracy: 0.6000\n",
            "Epoch 831/1000\n",
            "8/8 [==============================] - 0s 20ms/step - loss: 0.0014 - accuracy: 0.5827 - val_loss: 0.0073 - val_accuracy: 0.6000\n",
            "Epoch 832/1000\n",
            "8/8 [==============================] - 0s 20ms/step - loss: 0.0015 - accuracy: 0.5906 - val_loss: 0.0067 - val_accuracy: 0.6000\n",
            "Epoch 833/1000\n",
            "8/8 [==============================] - 0s 21ms/step - loss: 0.0014 - accuracy: 0.6535 - val_loss: 0.0082 - val_accuracy: 0.6000\n",
            "Epoch 834/1000\n",
            "8/8 [==============================] - 0s 19ms/step - loss: 0.0013 - accuracy: 0.6142 - val_loss: 0.0082 - val_accuracy: 0.6000\n",
            "Epoch 835/1000\n",
            "8/8 [==============================] - 0s 21ms/step - loss: 0.0014 - accuracy: 0.5984 - val_loss: 0.0094 - val_accuracy: 0.6000\n",
            "Epoch 836/1000\n",
            "8/8 [==============================] - 0s 22ms/step - loss: 0.0016 - accuracy: 0.6063 - val_loss: 0.0074 - val_accuracy: 0.6000\n",
            "Epoch 837/1000\n",
            "8/8 [==============================] - 0s 20ms/step - loss: 0.0015 - accuracy: 0.5591 - val_loss: 0.0068 - val_accuracy: 0.6000\n",
            "Epoch 838/1000\n",
            "8/8 [==============================] - 0s 22ms/step - loss: 0.0015 - accuracy: 0.6142 - val_loss: 0.0094 - val_accuracy: 0.6000\n",
            "Epoch 839/1000\n",
            "8/8 [==============================] - 0s 20ms/step - loss: 0.0021 - accuracy: 0.5906 - val_loss: 0.0083 - val_accuracy: 0.6000\n",
            "Epoch 840/1000\n",
            "8/8 [==============================] - 0s 22ms/step - loss: 0.0019 - accuracy: 0.6614 - val_loss: 0.0060 - val_accuracy: 0.6000\n",
            "Epoch 841/1000\n",
            "8/8 [==============================] - 0s 21ms/step - loss: 0.0018 - accuracy: 0.5591 - val_loss: 0.0051 - val_accuracy: 0.6000\n",
            "Epoch 842/1000\n",
            "8/8 [==============================] - 0s 21ms/step - loss: 0.0018 - accuracy: 0.5591 - val_loss: 0.0069 - val_accuracy: 0.6000\n",
            "Epoch 843/1000\n",
            "8/8 [==============================] - 0s 22ms/step - loss: 0.0018 - accuracy: 0.6063 - val_loss: 0.0064 - val_accuracy: 0.6000\n",
            "Epoch 844/1000\n",
            "8/8 [==============================] - 0s 20ms/step - loss: 0.0019 - accuracy: 0.5591 - val_loss: 0.0085 - val_accuracy: 0.6000\n",
            "Epoch 845/1000\n",
            "8/8 [==============================] - 0s 21ms/step - loss: 0.0015 - accuracy: 0.6063 - val_loss: 0.0084 - val_accuracy: 0.6000\n",
            "Epoch 846/1000\n",
            "8/8 [==============================] - 0s 21ms/step - loss: 0.0016 - accuracy: 0.5433 - val_loss: 0.0069 - val_accuracy: 0.6000\n",
            "Epoch 847/1000\n",
            "8/8 [==============================] - 0s 22ms/step - loss: 0.0015 - accuracy: 0.5906 - val_loss: 0.0117 - val_accuracy: 0.6000\n",
            "Epoch 848/1000\n",
            "8/8 [==============================] - 0s 21ms/step - loss: 0.0015 - accuracy: 0.6063 - val_loss: 0.0075 - val_accuracy: 0.6000\n",
            "Epoch 849/1000\n",
            "8/8 [==============================] - 0s 21ms/step - loss: 0.0018 - accuracy: 0.5118 - val_loss: 0.0112 - val_accuracy: 0.6000\n",
            "Epoch 850/1000\n",
            "8/8 [==============================] - 0s 22ms/step - loss: 0.0015 - accuracy: 0.6299 - val_loss: 0.0074 - val_accuracy: 0.6000\n",
            "Epoch 851/1000\n",
            "8/8 [==============================] - 0s 21ms/step - loss: 0.0017 - accuracy: 0.5748 - val_loss: 0.0125 - val_accuracy: 0.6000\n",
            "Epoch 852/1000\n",
            "8/8 [==============================] - 0s 21ms/step - loss: 0.0016 - accuracy: 0.5827 - val_loss: 0.0070 - val_accuracy: 0.6000\n",
            "Epoch 853/1000\n",
            "8/8 [==============================] - 0s 23ms/step - loss: 0.0018 - accuracy: 0.6063 - val_loss: 0.0088 - val_accuracy: 0.6000\n",
            "Epoch 854/1000\n",
            "8/8 [==============================] - 0s 20ms/step - loss: 0.0018 - accuracy: 0.5591 - val_loss: 0.0081 - val_accuracy: 0.6000\n",
            "Epoch 855/1000\n",
            "8/8 [==============================] - 0s 21ms/step - loss: 0.0016 - accuracy: 0.5669 - val_loss: 0.0075 - val_accuracy: 0.6000\n",
            "Epoch 856/1000\n",
            "8/8 [==============================] - 0s 22ms/step - loss: 0.0015 - accuracy: 0.5433 - val_loss: 0.0073 - val_accuracy: 0.6000\n",
            "Epoch 857/1000\n",
            "8/8 [==============================] - 0s 22ms/step - loss: 0.0014 - accuracy: 0.6063 - val_loss: 0.0087 - val_accuracy: 0.6000\n",
            "Epoch 858/1000\n",
            "8/8 [==============================] - 0s 24ms/step - loss: 0.0015 - accuracy: 0.6457 - val_loss: 0.0083 - val_accuracy: 0.6000\n",
            "Epoch 859/1000\n",
            "8/8 [==============================] - 0s 21ms/step - loss: 0.0016 - accuracy: 0.5984 - val_loss: 0.0076 - val_accuracy: 0.6000\n",
            "Epoch 860/1000\n",
            "8/8 [==============================] - 0s 22ms/step - loss: 0.0016 - accuracy: 0.5591 - val_loss: 0.0095 - val_accuracy: 0.6000\n",
            "Epoch 861/1000\n",
            "8/8 [==============================] - 0s 23ms/step - loss: 0.0014 - accuracy: 0.6457 - val_loss: 0.0087 - val_accuracy: 0.6000\n",
            "Epoch 862/1000\n",
            "8/8 [==============================] - 0s 21ms/step - loss: 0.0014 - accuracy: 0.5748 - val_loss: 0.0081 - val_accuracy: 0.6000\n",
            "Epoch 863/1000\n",
            "8/8 [==============================] - 0s 22ms/step - loss: 0.0014 - accuracy: 0.6220 - val_loss: 0.0096 - val_accuracy: 0.6000\n",
            "Epoch 864/1000\n",
            "8/8 [==============================] - 0s 22ms/step - loss: 0.0014 - accuracy: 0.5984 - val_loss: 0.0071 - val_accuracy: 0.6000\n",
            "Epoch 865/1000\n",
            "8/8 [==============================] - 0s 21ms/step - loss: 0.0013 - accuracy: 0.6220 - val_loss: 0.0084 - val_accuracy: 0.6000\n",
            "Epoch 866/1000\n",
            "8/8 [==============================] - 0s 22ms/step - loss: 0.0012 - accuracy: 0.6220 - val_loss: 0.0079 - val_accuracy: 0.6000\n",
            "Epoch 867/1000\n",
            "8/8 [==============================] - 0s 20ms/step - loss: 0.0014 - accuracy: 0.5984 - val_loss: 0.0091 - val_accuracy: 0.6000\n",
            "Epoch 868/1000\n",
            "8/8 [==============================] - 0s 22ms/step - loss: 0.0015 - accuracy: 0.6063 - val_loss: 0.0076 - val_accuracy: 0.6000\n",
            "Epoch 869/1000\n",
            "8/8 [==============================] - 0s 22ms/step - loss: 0.0017 - accuracy: 0.5669 - val_loss: 0.0100 - val_accuracy: 0.6000\n",
            "Epoch 870/1000\n",
            "8/8 [==============================] - 0s 23ms/step - loss: 0.0015 - accuracy: 0.6299 - val_loss: 0.0081 - val_accuracy: 0.6000\n",
            "Epoch 871/1000\n",
            "8/8 [==============================] - 0s 22ms/step - loss: 0.0015 - accuracy: 0.6220 - val_loss: 0.0078 - val_accuracy: 0.6000\n",
            "Epoch 872/1000\n",
            "8/8 [==============================] - 0s 25ms/step - loss: 0.0015 - accuracy: 0.6063 - val_loss: 0.0107 - val_accuracy: 0.6000\n",
            "Epoch 873/1000\n",
            "8/8 [==============================] - 0s 21ms/step - loss: 0.0014 - accuracy: 0.5748 - val_loss: 0.0085 - val_accuracy: 0.6000\n",
            "Epoch 874/1000\n",
            "8/8 [==============================] - 0s 23ms/step - loss: 0.0013 - accuracy: 0.6142 - val_loss: 0.0080 - val_accuracy: 0.6000\n",
            "Epoch 875/1000\n",
            "8/8 [==============================] - 0s 23ms/step - loss: 0.0013 - accuracy: 0.6378 - val_loss: 0.0069 - val_accuracy: 0.6000\n",
            "Epoch 876/1000\n",
            "8/8 [==============================] - 0s 23ms/step - loss: 0.0014 - accuracy: 0.6142 - val_loss: 0.0079 - val_accuracy: 0.6000\n",
            "Epoch 877/1000\n",
            "8/8 [==============================] - 0s 23ms/step - loss: 0.0014 - accuracy: 0.6220 - val_loss: 0.0075 - val_accuracy: 0.6000\n",
            "Epoch 878/1000\n",
            "8/8 [==============================] - 0s 22ms/step - loss: 0.0012 - accuracy: 0.6063 - val_loss: 0.0067 - val_accuracy: 0.6000\n",
            "Epoch 879/1000\n",
            "8/8 [==============================] - 0s 21ms/step - loss: 0.0014 - accuracy: 0.5827 - val_loss: 0.0064 - val_accuracy: 0.6000\n",
            "Epoch 880/1000\n",
            "8/8 [==============================] - 0s 22ms/step - loss: 0.0014 - accuracy: 0.6378 - val_loss: 0.0073 - val_accuracy: 0.6000\n",
            "Epoch 881/1000\n",
            "8/8 [==============================] - 0s 23ms/step - loss: 0.0013 - accuracy: 0.5984 - val_loss: 0.0074 - val_accuracy: 0.6000\n",
            "Epoch 882/1000\n",
            "8/8 [==============================] - 0s 23ms/step - loss: 0.0013 - accuracy: 0.6142 - val_loss: 0.0075 - val_accuracy: 0.6000\n",
            "Epoch 883/1000\n",
            "8/8 [==============================] - 0s 22ms/step - loss: 0.0015 - accuracy: 0.6378 - val_loss: 0.0090 - val_accuracy: 0.6000\n",
            "Epoch 884/1000\n",
            "8/8 [==============================] - 0s 21ms/step - loss: 0.0012 - accuracy: 0.6535 - val_loss: 0.0064 - val_accuracy: 0.6000\n",
            "Epoch 885/1000\n",
            "8/8 [==============================] - 0s 21ms/step - loss: 0.0013 - accuracy: 0.6772 - val_loss: 0.0065 - val_accuracy: 0.6000\n",
            "Epoch 886/1000\n",
            "8/8 [==============================] - 0s 22ms/step - loss: 0.0015 - accuracy: 0.6142 - val_loss: 0.0074 - val_accuracy: 0.6000\n",
            "Epoch 887/1000\n",
            "8/8 [==============================] - 0s 21ms/step - loss: 0.0016 - accuracy: 0.5827 - val_loss: 0.0078 - val_accuracy: 0.6000\n",
            "Epoch 888/1000\n",
            "8/8 [==============================] - 0s 22ms/step - loss: 0.0013 - accuracy: 0.5591 - val_loss: 0.0069 - val_accuracy: 0.6000\n",
            "Epoch 889/1000\n",
            "8/8 [==============================] - 0s 20ms/step - loss: 0.0014 - accuracy: 0.6063 - val_loss: 0.0119 - val_accuracy: 0.6000\n",
            "Epoch 890/1000\n",
            "8/8 [==============================] - 0s 22ms/step - loss: 0.0014 - accuracy: 0.6063 - val_loss: 0.0074 - val_accuracy: 0.6000\n",
            "Epoch 891/1000\n",
            "8/8 [==============================] - 0s 22ms/step - loss: 0.0016 - accuracy: 0.5827 - val_loss: 0.0089 - val_accuracy: 0.6000\n",
            "Epoch 892/1000\n",
            "8/8 [==============================] - 0s 24ms/step - loss: 0.0014 - accuracy: 0.5591 - val_loss: 0.0075 - val_accuracy: 0.6000\n",
            "Epoch 893/1000\n",
            "8/8 [==============================] - 0s 22ms/step - loss: 0.0015 - accuracy: 0.6220 - val_loss: 0.0088 - val_accuracy: 0.6000\n",
            "Epoch 894/1000\n",
            "8/8 [==============================] - 0s 22ms/step - loss: 0.0012 - accuracy: 0.5827 - val_loss: 0.0067 - val_accuracy: 0.6000\n",
            "Epoch 895/1000\n",
            "8/8 [==============================] - 0s 21ms/step - loss: 0.0013 - accuracy: 0.6063 - val_loss: 0.0081 - val_accuracy: 0.6000\n",
            "Epoch 896/1000\n",
            "8/8 [==============================] - 0s 21ms/step - loss: 0.0015 - accuracy: 0.5591 - val_loss: 0.0072 - val_accuracy: 0.6000\n",
            "Epoch 897/1000\n",
            "8/8 [==============================] - 0s 22ms/step - loss: 0.0013 - accuracy: 0.5906 - val_loss: 0.0071 - val_accuracy: 0.6000\n",
            "Epoch 898/1000\n",
            "8/8 [==============================] - 0s 26ms/step - loss: 0.0013 - accuracy: 0.5354 - val_loss: 0.0062 - val_accuracy: 0.6000\n",
            "Epoch 899/1000\n",
            "8/8 [==============================] - 0s 24ms/step - loss: 0.0014 - accuracy: 0.6614 - val_loss: 0.0103 - val_accuracy: 0.6000\n",
            "Epoch 900/1000\n",
            "8/8 [==============================] - 0s 22ms/step - loss: 0.0017 - accuracy: 0.5669 - val_loss: 0.0049 - val_accuracy: 0.6000\n",
            "Epoch 901/1000\n",
            "8/8 [==============================] - 0s 23ms/step - loss: 0.0013 - accuracy: 0.5906 - val_loss: 0.0053 - val_accuracy: 0.6000\n",
            "Epoch 902/1000\n",
            "8/8 [==============================] - 0s 22ms/step - loss: 0.0015 - accuracy: 0.6299 - val_loss: 0.0074 - val_accuracy: 0.6000\n",
            "Epoch 903/1000\n",
            "8/8 [==============================] - 0s 27ms/step - loss: 0.0016 - accuracy: 0.6063 - val_loss: 0.0064 - val_accuracy: 0.6000\n",
            "Epoch 904/1000\n",
            "8/8 [==============================] - 0s 22ms/step - loss: 0.0014 - accuracy: 0.5984 - val_loss: 0.0056 - val_accuracy: 0.6000\n",
            "Epoch 905/1000\n",
            "8/8 [==============================] - 0s 21ms/step - loss: 0.0016 - accuracy: 0.5984 - val_loss: 0.0066 - val_accuracy: 0.6000\n",
            "Epoch 906/1000\n",
            "8/8 [==============================] - 0s 23ms/step - loss: 0.0019 - accuracy: 0.5433 - val_loss: 0.0056 - val_accuracy: 0.6000\n",
            "Epoch 907/1000\n",
            "8/8 [==============================] - 0s 22ms/step - loss: 0.0017 - accuracy: 0.6535 - val_loss: 0.0074 - val_accuracy: 0.6000\n",
            "Epoch 908/1000\n",
            "8/8 [==============================] - 0s 23ms/step - loss: 0.0017 - accuracy: 0.5669 - val_loss: 0.0074 - val_accuracy: 0.6000\n",
            "Epoch 909/1000\n",
            "8/8 [==============================] - 0s 23ms/step - loss: 0.0015 - accuracy: 0.5984 - val_loss: 0.0068 - val_accuracy: 0.6000\n",
            "Epoch 910/1000\n",
            "8/8 [==============================] - 0s 22ms/step - loss: 0.0013 - accuracy: 0.5669 - val_loss: 0.0076 - val_accuracy: 0.6000\n",
            "Epoch 911/1000\n",
            "8/8 [==============================] - 0s 21ms/step - loss: 0.0013 - accuracy: 0.6614 - val_loss: 0.0076 - val_accuracy: 0.6000\n",
            "Epoch 912/1000\n",
            "8/8 [==============================] - 0s 22ms/step - loss: 0.0014 - accuracy: 0.6063 - val_loss: 0.0089 - val_accuracy: 0.6000\n",
            "Epoch 913/1000\n",
            "8/8 [==============================] - 0s 23ms/step - loss: 0.0013 - accuracy: 0.6378 - val_loss: 0.0069 - val_accuracy: 0.6000\n",
            "Epoch 914/1000\n",
            "8/8 [==============================] - 0s 23ms/step - loss: 0.0013 - accuracy: 0.6299 - val_loss: 0.0064 - val_accuracy: 0.6000\n",
            "Epoch 915/1000\n",
            "8/8 [==============================] - 0s 22ms/step - loss: 0.0013 - accuracy: 0.6378 - val_loss: 0.0074 - val_accuracy: 0.6000\n",
            "Epoch 916/1000\n",
            "8/8 [==============================] - 0s 21ms/step - loss: 0.0013 - accuracy: 0.5906 - val_loss: 0.0068 - val_accuracy: 0.6000\n",
            "Epoch 917/1000\n",
            "8/8 [==============================] - 0s 22ms/step - loss: 0.0017 - accuracy: 0.5591 - val_loss: 0.0052 - val_accuracy: 0.6000\n",
            "Epoch 918/1000\n",
            "8/8 [==============================] - 0s 21ms/step - loss: 0.0017 - accuracy: 0.5354 - val_loss: 0.0073 - val_accuracy: 0.6000\n",
            "Epoch 919/1000\n",
            "8/8 [==============================] - 0s 24ms/step - loss: 0.0019 - accuracy: 0.5591 - val_loss: 0.0047 - val_accuracy: 0.6000\n",
            "Epoch 920/1000\n",
            "8/8 [==============================] - 0s 21ms/step - loss: 0.0017 - accuracy: 0.5984 - val_loss: 0.0066 - val_accuracy: 0.6000\n",
            "Epoch 921/1000\n",
            "8/8 [==============================] - 0s 22ms/step - loss: 0.0014 - accuracy: 0.6299 - val_loss: 0.0065 - val_accuracy: 0.6000\n",
            "Epoch 922/1000\n",
            "8/8 [==============================] - 0s 22ms/step - loss: 0.0016 - accuracy: 0.5984 - val_loss: 0.0049 - val_accuracy: 0.6000\n",
            "Epoch 923/1000\n",
            "8/8 [==============================] - 0s 21ms/step - loss: 0.0014 - accuracy: 0.5827 - val_loss: 0.0059 - val_accuracy: 0.6000\n",
            "Epoch 924/1000\n",
            "8/8 [==============================] - 0s 22ms/step - loss: 0.0015 - accuracy: 0.5827 - val_loss: 0.0062 - val_accuracy: 0.6000\n",
            "Epoch 925/1000\n",
            "8/8 [==============================] - 0s 24ms/step - loss: 0.0015 - accuracy: 0.5827 - val_loss: 0.0051 - val_accuracy: 0.6000\n",
            "Epoch 926/1000\n",
            "8/8 [==============================] - 0s 22ms/step - loss: 0.0014 - accuracy: 0.5827 - val_loss: 0.0068 - val_accuracy: 0.6000\n",
            "Epoch 927/1000\n",
            "8/8 [==============================] - 0s 24ms/step - loss: 0.0013 - accuracy: 0.5827 - val_loss: 0.0059 - val_accuracy: 0.6000\n",
            "Epoch 928/1000\n",
            "8/8 [==============================] - 0s 18ms/step - loss: 0.0013 - accuracy: 0.6063 - val_loss: 0.0062 - val_accuracy: 0.6000\n",
            "Epoch 929/1000\n",
            "8/8 [==============================] - 0s 25ms/step - loss: 0.0012 - accuracy: 0.5984 - val_loss: 0.0058 - val_accuracy: 0.6000\n",
            "Epoch 930/1000\n",
            "8/8 [==============================] - 0s 26ms/step - loss: 0.0013 - accuracy: 0.6457 - val_loss: 0.0061 - val_accuracy: 0.6000\n",
            "Epoch 931/1000\n",
            "8/8 [==============================] - 0s 23ms/step - loss: 0.0013 - accuracy: 0.5669 - val_loss: 0.0070 - val_accuracy: 0.6000\n",
            "Epoch 932/1000\n",
            "8/8 [==============================] - 0s 22ms/step - loss: 0.0012 - accuracy: 0.6299 - val_loss: 0.0061 - val_accuracy: 0.6000\n",
            "Epoch 933/1000\n",
            "8/8 [==============================] - 0s 22ms/step - loss: 0.0013 - accuracy: 0.6220 - val_loss: 0.0064 - val_accuracy: 0.6000\n",
            "Epoch 934/1000\n",
            "8/8 [==============================] - 0s 21ms/step - loss: 0.0012 - accuracy: 0.6378 - val_loss: 0.0070 - val_accuracy: 0.6000\n",
            "Epoch 935/1000\n",
            "8/8 [==============================] - 0s 22ms/step - loss: 0.0012 - accuracy: 0.5827 - val_loss: 0.0065 - val_accuracy: 0.6000\n",
            "Epoch 936/1000\n",
            "8/8 [==============================] - 0s 23ms/step - loss: 0.0013 - accuracy: 0.6063 - val_loss: 0.0078 - val_accuracy: 0.6000\n",
            "Epoch 937/1000\n",
            "8/8 [==============================] - 0s 23ms/step - loss: 0.0012 - accuracy: 0.5669 - val_loss: 0.0064 - val_accuracy: 0.6000\n",
            "Epoch 938/1000\n",
            "8/8 [==============================] - 0s 22ms/step - loss: 0.0012 - accuracy: 0.6614 - val_loss: 0.0067 - val_accuracy: 0.6000\n",
            "Epoch 939/1000\n",
            "8/8 [==============================] - 0s 21ms/step - loss: 0.0011 - accuracy: 0.5827 - val_loss: 0.0062 - val_accuracy: 0.6000\n",
            "Epoch 940/1000\n",
            "8/8 [==============================] - 0s 22ms/step - loss: 0.0011 - accuracy: 0.6142 - val_loss: 0.0067 - val_accuracy: 0.6000\n",
            "Epoch 941/1000\n",
            "8/8 [==============================] - 0s 22ms/step - loss: 0.0013 - accuracy: 0.6142 - val_loss: 0.0058 - val_accuracy: 0.6000\n",
            "Epoch 942/1000\n",
            "8/8 [==============================] - 0s 21ms/step - loss: 0.0013 - accuracy: 0.5984 - val_loss: 0.0056 - val_accuracy: 0.6000\n",
            "Epoch 943/1000\n",
            "8/8 [==============================] - 0s 21ms/step - loss: 0.0014 - accuracy: 0.6220 - val_loss: 0.0064 - val_accuracy: 0.6000\n",
            "Epoch 944/1000\n",
            "8/8 [==============================] - 0s 21ms/step - loss: 0.0014 - accuracy: 0.5984 - val_loss: 0.0052 - val_accuracy: 0.6000\n",
            "Epoch 945/1000\n",
            "8/8 [==============================] - 0s 24ms/step - loss: 0.0014 - accuracy: 0.6299 - val_loss: 0.0063 - val_accuracy: 0.6000\n",
            "Epoch 946/1000\n",
            "8/8 [==============================] - 0s 22ms/step - loss: 0.0017 - accuracy: 0.6299 - val_loss: 0.0057 - val_accuracy: 0.6000\n",
            "Epoch 947/1000\n",
            "8/8 [==============================] - 0s 22ms/step - loss: 0.0015 - accuracy: 0.6220 - val_loss: 0.0052 - val_accuracy: 0.6000\n",
            "Epoch 948/1000\n",
            "8/8 [==============================] - 0s 23ms/step - loss: 0.0014 - accuracy: 0.6142 - val_loss: 0.0054 - val_accuracy: 0.6000\n",
            "Epoch 949/1000\n",
            "8/8 [==============================] - 0s 22ms/step - loss: 0.0014 - accuracy: 0.5748 - val_loss: 0.0074 - val_accuracy: 0.6000\n",
            "Epoch 950/1000\n",
            "8/8 [==============================] - 0s 25ms/step - loss: 0.0014 - accuracy: 0.6142 - val_loss: 0.0053 - val_accuracy: 0.6000\n",
            "Epoch 951/1000\n",
            "8/8 [==============================] - 0s 27ms/step - loss: 0.0013 - accuracy: 0.6142 - val_loss: 0.0068 - val_accuracy: 0.6000\n",
            "Epoch 952/1000\n",
            "8/8 [==============================] - 0s 24ms/step - loss: 0.0013 - accuracy: 0.6220 - val_loss: 0.0056 - val_accuracy: 0.6000\n",
            "Epoch 953/1000\n",
            "8/8 [==============================] - 0s 24ms/step - loss: 0.0015 - accuracy: 0.5748 - val_loss: 0.0053 - val_accuracy: 0.6000\n",
            "Epoch 954/1000\n",
            "8/8 [==============================] - 0s 24ms/step - loss: 0.0015 - accuracy: 0.6142 - val_loss: 0.0073 - val_accuracy: 0.6000\n",
            "Epoch 955/1000\n",
            "8/8 [==============================] - 0s 25ms/step - loss: 0.0013 - accuracy: 0.5748 - val_loss: 0.0066 - val_accuracy: 0.6000\n",
            "Epoch 956/1000\n",
            "8/8 [==============================] - 0s 23ms/step - loss: 0.0011 - accuracy: 0.6142 - val_loss: 0.0065 - val_accuracy: 0.6000\n",
            "Epoch 957/1000\n",
            "8/8 [==============================] - 0s 25ms/step - loss: 0.0012 - accuracy: 0.6063 - val_loss: 0.0056 - val_accuracy: 0.6000\n",
            "Epoch 958/1000\n",
            "8/8 [==============================] - 0s 22ms/step - loss: 0.0013 - accuracy: 0.5748 - val_loss: 0.0057 - val_accuracy: 0.6000\n",
            "Epoch 959/1000\n",
            "8/8 [==============================] - 0s 23ms/step - loss: 0.0012 - accuracy: 0.6535 - val_loss: 0.0059 - val_accuracy: 0.6000\n",
            "Epoch 960/1000\n",
            "8/8 [==============================] - 0s 23ms/step - loss: 0.0012 - accuracy: 0.6378 - val_loss: 0.0057 - val_accuracy: 0.6000\n",
            "Epoch 961/1000\n",
            "8/8 [==============================] - 0s 22ms/step - loss: 0.0012 - accuracy: 0.6850 - val_loss: 0.0060 - val_accuracy: 0.6000\n",
            "Epoch 962/1000\n",
            "8/8 [==============================] - 0s 23ms/step - loss: 0.0011 - accuracy: 0.6693 - val_loss: 0.0064 - val_accuracy: 0.6000\n",
            "Epoch 963/1000\n",
            "8/8 [==============================] - 0s 22ms/step - loss: 0.0010 - accuracy: 0.6378 - val_loss: 0.0059 - val_accuracy: 0.6000\n",
            "Epoch 964/1000\n",
            "8/8 [==============================] - 0s 18ms/step - loss: 0.0011 - accuracy: 0.6220 - val_loss: 0.0062 - val_accuracy: 0.6000\n",
            "Epoch 965/1000\n",
            "8/8 [==============================] - 0s 20ms/step - loss: 0.0013 - accuracy: 0.6142 - val_loss: 0.0058 - val_accuracy: 0.6000\n",
            "Epoch 966/1000\n",
            "8/8 [==============================] - 0s 22ms/step - loss: 0.0013 - accuracy: 0.6063 - val_loss: 0.0058 - val_accuracy: 0.6000\n",
            "Epoch 967/1000\n",
            "8/8 [==============================] - 0s 23ms/step - loss: 0.0014 - accuracy: 0.6457 - val_loss: 0.0074 - val_accuracy: 0.6000\n",
            "Epoch 968/1000\n",
            "8/8 [==============================] - 0s 23ms/step - loss: 0.0012 - accuracy: 0.6220 - val_loss: 0.0069 - val_accuracy: 0.6000\n",
            "Epoch 969/1000\n",
            "8/8 [==============================] - 0s 23ms/step - loss: 0.0013 - accuracy: 0.6142 - val_loss: 0.0056 - val_accuracy: 0.6000\n",
            "Epoch 970/1000\n",
            "8/8 [==============================] - 0s 23ms/step - loss: 0.0012 - accuracy: 0.5591 - val_loss: 0.0075 - val_accuracy: 0.6000\n",
            "Epoch 971/1000\n",
            "8/8 [==============================] - 0s 24ms/step - loss: 0.0013 - accuracy: 0.6220 - val_loss: 0.0062 - val_accuracy: 0.6000\n",
            "Epoch 972/1000\n",
            "8/8 [==============================] - 0s 22ms/step - loss: 0.0015 - accuracy: 0.6142 - val_loss: 0.0048 - val_accuracy: 0.6000\n",
            "Epoch 973/1000\n",
            "8/8 [==============================] - 0s 22ms/step - loss: 0.0012 - accuracy: 0.6220 - val_loss: 0.0056 - val_accuracy: 0.6000\n",
            "Epoch 974/1000\n",
            "8/8 [==============================] - 0s 23ms/step - loss: 0.0013 - accuracy: 0.6063 - val_loss: 0.0056 - val_accuracy: 0.6000\n",
            "Epoch 975/1000\n",
            "8/8 [==============================] - 0s 23ms/step - loss: 0.0012 - accuracy: 0.6378 - val_loss: 0.0064 - val_accuracy: 0.6000\n",
            "Epoch 976/1000\n",
            "8/8 [==============================] - 0s 22ms/step - loss: 0.0012 - accuracy: 0.6063 - val_loss: 0.0065 - val_accuracy: 0.6000\n",
            "Epoch 977/1000\n",
            "8/8 [==============================] - 0s 22ms/step - loss: 0.0013 - accuracy: 0.6220 - val_loss: 0.0043 - val_accuracy: 0.6000\n",
            "Epoch 978/1000\n",
            "8/8 [==============================] - 0s 23ms/step - loss: 0.0014 - accuracy: 0.6142 - val_loss: 0.0054 - val_accuracy: 0.6000\n",
            "Epoch 979/1000\n",
            "8/8 [==============================] - 0s 22ms/step - loss: 0.0012 - accuracy: 0.6142 - val_loss: 0.0056 - val_accuracy: 0.6000\n",
            "Epoch 980/1000\n",
            "8/8 [==============================] - 0s 21ms/step - loss: 0.0011 - accuracy: 0.6693 - val_loss: 0.0053 - val_accuracy: 0.6000\n",
            "Epoch 981/1000\n",
            "8/8 [==============================] - 0s 24ms/step - loss: 0.0013 - accuracy: 0.6063 - val_loss: 0.0056 - val_accuracy: 0.6000\n",
            "Epoch 982/1000\n",
            "8/8 [==============================] - 0s 24ms/step - loss: 0.0012 - accuracy: 0.5827 - val_loss: 0.0053 - val_accuracy: 0.6000\n",
            "Epoch 983/1000\n",
            "8/8 [==============================] - 0s 22ms/step - loss: 0.0012 - accuracy: 0.5748 - val_loss: 0.0051 - val_accuracy: 0.6000\n",
            "Epoch 984/1000\n",
            "8/8 [==============================] - 0s 22ms/step - loss: 0.0013 - accuracy: 0.5748 - val_loss: 0.0052 - val_accuracy: 0.6000\n",
            "Epoch 985/1000\n",
            "8/8 [==============================] - 0s 21ms/step - loss: 0.0013 - accuracy: 0.6220 - val_loss: 0.0044 - val_accuracy: 0.6000\n",
            "Epoch 986/1000\n",
            "8/8 [==============================] - 0s 21ms/step - loss: 0.0014 - accuracy: 0.5906 - val_loss: 0.0054 - val_accuracy: 0.6000\n",
            "Epoch 987/1000\n",
            "8/8 [==============================] - 0s 22ms/step - loss: 0.0012 - accuracy: 0.6378 - val_loss: 0.0051 - val_accuracy: 0.6000\n",
            "Epoch 988/1000\n",
            "8/8 [==============================] - 0s 23ms/step - loss: 0.0014 - accuracy: 0.6457 - val_loss: 0.0046 - val_accuracy: 0.6000\n",
            "Epoch 989/1000\n",
            "8/8 [==============================] - 0s 22ms/step - loss: 0.0011 - accuracy: 0.6220 - val_loss: 0.0046 - val_accuracy: 0.6000\n",
            "Epoch 990/1000\n",
            "8/8 [==============================] - 0s 22ms/step - loss: 0.0011 - accuracy: 0.6220 - val_loss: 0.0054 - val_accuracy: 0.6000\n",
            "Epoch 991/1000\n",
            "8/8 [==============================] - 0s 21ms/step - loss: 0.0011 - accuracy: 0.6299 - val_loss: 0.0054 - val_accuracy: 0.6000\n",
            "Epoch 992/1000\n",
            "8/8 [==============================] - 0s 24ms/step - loss: 0.0013 - accuracy: 0.6142 - val_loss: 0.0059 - val_accuracy: 0.6000\n",
            "Epoch 993/1000\n",
            "8/8 [==============================] - 0s 21ms/step - loss: 0.0014 - accuracy: 0.6378 - val_loss: 0.0043 - val_accuracy: 0.6000\n",
            "Epoch 994/1000\n",
            "8/8 [==============================] - 0s 22ms/step - loss: 0.0015 - accuracy: 0.5827 - val_loss: 0.0054 - val_accuracy: 0.6000\n",
            "Epoch 995/1000\n",
            "8/8 [==============================] - 0s 23ms/step - loss: 0.0013 - accuracy: 0.6457 - val_loss: 0.0061 - val_accuracy: 0.6000\n",
            "Epoch 996/1000\n",
            "8/8 [==============================] - 0s 23ms/step - loss: 0.0012 - accuracy: 0.6299 - val_loss: 0.0044 - val_accuracy: 0.6000\n",
            "Epoch 997/1000\n",
            "8/8 [==============================] - 0s 23ms/step - loss: 0.0012 - accuracy: 0.6614 - val_loss: 0.0051 - val_accuracy: 0.6000\n",
            "Epoch 998/1000\n",
            "8/8 [==============================] - 0s 24ms/step - loss: 0.0012 - accuracy: 0.6378 - val_loss: 0.0057 - val_accuracy: 0.6000\n",
            "Epoch 999/1000\n",
            "8/8 [==============================] - 0s 21ms/step - loss: 0.0011 - accuracy: 0.5906 - val_loss: 0.0042 - val_accuracy: 0.6000\n",
            "Epoch 1000/1000\n",
            "8/8 [==============================] - 0s 24ms/step - loss: 0.0012 - accuracy: 0.6378 - val_loss: 0.0046 - val_accuracy: 0.6000\n"
          ],
          "name": "stdout"
        }
      ]
    },
    {
      "cell_type": "markdown",
      "metadata": {
        "id": "-rNaeEWgSoFm"
      },
      "source": [
        "Export trained model:"
      ]
    },
    {
      "cell_type": "code",
      "metadata": {
        "id": "m7_Paq6cQ8-z"
      },
      "source": [
        "filename=\"model.h5\"\n",
        "model.save(filename)"
      ],
      "execution_count": null,
      "outputs": []
    },
    {
      "cell_type": "code",
      "metadata": {
        "id": "_nABNzfGRPbG"
      },
      "source": [
        "from tensorflow.keras.models import load_model\n",
        "loaded_model=load_model(filename)"
      ],
      "execution_count": null,
      "outputs": []
    },
    {
      "cell_type": "markdown",
      "metadata": {
        "id": "gS3wKniSSqch"
      },
      "source": [
        "Generate forecasts:"
      ]
    },
    {
      "cell_type": "code",
      "metadata": {
        "id": "nnjdJ30qRxT6"
      },
      "source": [
        "forecast = loaded_model.predict(testX) #forecast "
      ],
      "execution_count": null,
      "outputs": []
    },
    {
      "cell_type": "code",
      "metadata": {
        "id": "8g2Ne_DXjXuq"
      },
      "source": [
        "forecast = model.predict(testX) #forecast "
      ],
      "execution_count": null,
      "outputs": []
    },
    {
      "cell_type": "code",
      "metadata": {
        "colab": {
          "base_uri": "https://localhost:8080/"
        },
        "id": "mdOpIhwCjawR",
        "outputId": "05f4bd0e-9f52-4a0c-d0ae-b2d84fb1cab4"
      },
      "source": [
        "forecast.shape"
      ],
      "execution_count": null,
      "outputs": [
        {
          "output_type": "execute_result",
          "data": {
            "text/plain": [
              "(5, 5)"
            ]
          },
          "metadata": {
            "tags": []
          },
          "execution_count": 108
        }
      ]
    },
    {
      "cell_type": "code",
      "metadata": {
        "colab": {
          "base_uri": "https://localhost:8080/"
        },
        "id": "ZR3FfK_LjdB7",
        "outputId": "84b18efe-3643-42bf-a3bf-2612d8873ab3"
      },
      "source": [
        "import math\n",
        "from sklearn.metrics import mean_squared_error\n",
        "math.sqrt(mean_squared_error(testY,forecast))\n",
        "# Scaled RMSE values"
      ],
      "execution_count": null,
      "outputs": [
        {
          "output_type": "execute_result",
          "data": {
            "text/plain": [
              "0.06753505970801249"
            ]
          },
          "metadata": {
            "tags": []
          },
          "execution_count": 109
        }
      ]
    },
    {
      "cell_type": "code",
      "metadata": {
        "colab": {
          "base_uri": "https://localhost:8080/"
        },
        "id": "nSu6OQSejhhM",
        "outputId": "c53e928d-c379-491d-9c5a-9d5899717bfa"
      },
      "source": [
        "forecast[0].shape #Prediction on first testing example"
      ],
      "execution_count": null,
      "outputs": [
        {
          "output_type": "execute_result",
          "data": {
            "text/plain": [
              "(5,)"
            ]
          },
          "metadata": {
            "tags": []
          },
          "execution_count": 110
        }
      ]
    },
    {
      "cell_type": "code",
      "metadata": {
        "colab": {
          "base_uri": "https://localhost:8080/"
        },
        "id": "32IkZAhoj1V8",
        "outputId": "207ce844-7976-4294-fb78-ad945bd1ba7a"
      },
      "source": [
        "element=forecast[0]\n",
        "element= np. reshape(element, (element.shape[0], 1))\n",
        "print(element.shape)"
      ],
      "execution_count": null,
      "outputs": [
        {
          "output_type": "stream",
          "text": [
            "(5, 1)\n"
          ],
          "name": "stdout"
        }
      ]
    },
    {
      "cell_type": "code",
      "metadata": {
        "colab": {
          "base_uri": "https://localhost:8080/"
        },
        "id": "esRPITjksPJB",
        "outputId": "d43dfaf0-747a-4419-aa4b-bf29e7bfd8b5"
      },
      "source": [
        "forecast_copies = np.repeat(element, 2, axis=1)\n",
        "forecast_copies.shape"
      ],
      "execution_count": null,
      "outputs": [
        {
          "output_type": "execute_result",
          "data": {
            "text/plain": [
              "(5, 2)"
            ]
          },
          "metadata": {
            "tags": []
          },
          "execution_count": 136
        }
      ]
    },
    {
      "cell_type": "code",
      "metadata": {
        "id": "B5PkB8fpsap4"
      },
      "source": [
        "y_pred_future = scaler.inverse_transform(forecast_copies)"
      ],
      "execution_count": null,
      "outputs": []
    },
    {
      "cell_type": "code",
      "metadata": {
        "colab": {
          "base_uri": "https://localhost:8080/"
        },
        "id": "_bJvk1K_shJG",
        "outputId": "91669fcf-dbd3-4c20-aeff-ab50c496f3e3"
      },
      "source": [
        "print(y_pred_future.shape)"
      ],
      "execution_count": null,
      "outputs": [
        {
          "output_type": "stream",
          "text": [
            "(5, 2)\n"
          ],
          "name": "stdout"
        }
      ]
    },
    {
      "cell_type": "code",
      "metadata": {
        "colab": {
          "base_uri": "https://localhost:8080/"
        },
        "id": "oM8VDAs2siwi",
        "outputId": "c57c2016-4f36-48d9-cd37-f9787d32cead"
      },
      "source": [
        "#extracting required column from 2 repeated columns\n",
        "y_pred=[] \n",
        "for arr in y_pred_future:\n",
        "  y_pred.append(arr[0])\n",
        "y_pred= np.array(y_pred)\n",
        "print(y_pred.shape)\n"
      ],
      "execution_count": null,
      "outputs": [
        {
          "output_type": "stream",
          "text": [
            "(5,)\n"
          ],
          "name": "stdout"
        }
      ]
    },
    {
      "cell_type": "code",
      "metadata": {
        "colab": {
          "base_uri": "https://localhost:8080/"
        },
        "id": "s7BREl77spzB",
        "outputId": "09afde3b-d1ef-45e4-da66-2b83cd16764e"
      },
      "source": [
        "print(y_pred) #predictions on first test example"
      ],
      "execution_count": null,
      "outputs": [
        {
          "output_type": "stream",
          "text": [
            "[1764.3114 1705.5793 1734.2003 1836.6914 1913.4918]\n"
          ],
          "name": "stdout"
        }
      ]
    },
    {
      "cell_type": "markdown",
      "metadata": {
        "id": "9gRVk7xTtAxj"
      },
      "source": [
        "# Preparing Unscaled Test data for visualisation of predictions\n"
      ]
    },
    {
      "cell_type": "code",
      "metadata": {
        "colab": {
          "base_uri": "https://localhost:8080/"
        },
        "id": "PzIav2L8u1nQ",
        "outputId": "af6d14f5-123b-4edb-8933-8d9c139c4750"
      },
      "source": [
        "print(data)\n",
        "print(type(data))\n",
        "print(data.shape)"
      ],
      "execution_count": null,
      "outputs": [
        {
          "output_type": "stream",
          "text": [
            "     Lead Monthly Avg  Exchange Rate Monthly Avg\n",
            "0         2601.678175                  39.245904\n",
            "1         2797.112343                  39.643000\n",
            "2         1802.000000                  40.080613\n",
            "3         1802.000000                  39.889666\n",
            "4         1802.000000                  41.944484\n",
            "..                ...                        ...\n",
            "156       2012.419036                  73.138439\n",
            "157       2089.104842                  72.791140\n",
            "158       1954.569200                  72.801716\n",
            "159       1997.856000                  74.454233\n",
            "160       2188.551802                  73.582459\n",
            "\n",
            "[161 rows x 2 columns]\n",
            "<class 'pandas.core.frame.DataFrame'>\n",
            "(161, 2)\n"
          ],
          "name": "stdout"
        }
      ]
    },
    {
      "cell_type": "code",
      "metadata": {
        "id": "NPtUnggMu97C"
      },
      "source": [
        "dataLead=data['Lead Monthly Avg']"
      ],
      "execution_count": null,
      "outputs": []
    },
    {
      "cell_type": "code",
      "metadata": {
        "colab": {
          "base_uri": "https://localhost:8080/"
        },
        "id": "6r3xaIXDvH8D",
        "outputId": "1bad8a37-56a6-4d42-89d2-7a862229d4a1"
      },
      "source": [
        "test_size #number of data points"
      ],
      "execution_count": null,
      "outputs": [
        {
          "output_type": "execute_result",
          "data": {
            "text/plain": [
              "20"
            ]
          },
          "metadata": {
            "tags": []
          },
          "execution_count": 51
        }
      ]
    },
    {
      "cell_type": "code",
      "metadata": {
        "colab": {
          "base_uri": "https://localhost:8080/"
        },
        "id": "0FdRmSQzvIGt",
        "outputId": "7b09ecda-ba0c-465a-e1d9-7aaeed1f87f4"
      },
      "source": [
        "dataLead_list = dataLead.values.tolist()\n",
        "print(dataLead_list)"
      ],
      "execution_count": null,
      "outputs": [
        {
          "output_type": "stream",
          "text": [
            "[2601.678175, 2797.112343, 1802.0, 1802.0, 1802.0, 1800.8000260000001, 1932.2514010000002, 1919.9304550000002, 1863.798966, 1478.6081869999998, 1294.481297, 950.4675999, 1128.465077, 1099.761684, 1239.395415, 1390.705523, 1451.034369, 1671.34512, 1679.909568, 1916.011438, 2195.296487, 2240.709609, 2307.430887, 2328.488271, 2359.6682969999997, 2127.8501890000002, 2173.757048, 2261.099385, 1896.6256809999998, 1705.4655699999998, 1837.386732, 2069.193951, 2187.428754, 2382.550097, 2368.328173, 2426.179182, 2595.425094, 2595.308998, 2625.126786, 2719.9422210000002, 2427.840538, 2502.843121, 2677.2933780000003, 2399.913868, 2286.0870059999997, 1957.7660079999998, 1984.9174670000002, 2012.756325, 2085.0759399999997, 2123.661616, 2061.625692, 2063.169193, 2000.7096780000002, 1862.433443, 1871.6992890000001, 1895.665738, 2163.495925, 2137.181228, 2176.0087510000003, 2278.581847, 2334.878668, 2379.799591, 2174.872431, 2026.452779, 2027.6163649999999, 2103.857061, 2046.9753600000001, 2175.370258, 2081.7083820000003, 2112.534525, 2090.222845, 2145.501518, 2149.801391, 2109.675855, 2054.097209, 2089.3484949999997, 2099.705861, 2104.348709, 2192.2856739999997, 2236.809216, 2116.459844, 2038.3545789999998, 2023.762072, 1924.326467, 1831.294029, 1803.8457420000002, 1788.092059, 1984.9196940000002, 2003.924921, 1824.628328, 1760.8866309999999, 1693.614468, 1675.722363, 1724.912198, 1617.0313800000001, 1715.614298, 1656.0944880000002, 1774.1051109999999, 1811.111886, 1730.7009870000002, 1711.8882079999998, 1711.927916, 1837.310478, 1839.714171, 1935.421582, 2041.976663, 2189.6797079999997, 2206.329279, 2228.068538, 2322.46421, 2276.235557, 2228.125085, 2132.218268, 2127.659018, 2269.976679, 2355.7766690000003, 2381.671172, 2504.1504800000002, 2465.550585, 2516.085, 2590.40443, 2584.5109469999998, 2391.978045, 2360.26971, 2364.6618789999998, 2437.445434, 2217.652789, 2061.679552, 2034.967281, 1991.8958329999998, 1941.6657690000002, 1968.1286, 1989.424104, 2062.7832789999998, 2052.464481, 1947.3073140000001, 1818.1600010000002, 1884.7527120000002, 1971.0770969999999, 2043.0557030000002, 2073.927473, 2185.288213, 2035.110116, 1898.9783760000003, 1922.7241199999999, 1871.7212260000001, 1739.584314, 1651.294321, 1622.391202, 1741.9496609999999, 1813.1038199999998, 1935.842196, 1878.6803719999998, 1773.9616850000002, 1918.8884239999998, 2001.907066, 2012.419036, 2089.104842, 1954.5692, 1997.856, 2188.551802]\n"
          ],
          "name": "stdout"
        }
      ]
    },
    {
      "cell_type": "code",
      "metadata": {
        "colab": {
          "base_uri": "https://localhost:8080/"
        },
        "id": "Qj64JaqnvWHD",
        "outputId": "c8e7b9f0-2e96-4861-cec8-e467fa867547"
      },
      "source": [
        "dataLead_list = dataLead_list[-test_size:]\n",
        "print(dataLead_list)\n",
        "print(len(dataLead_list)) #last 20 values of the entire Lead data points"
      ],
      "execution_count": null,
      "outputs": [
        {
          "output_type": "stream",
          "text": [
            "[2185.288213, 2035.110116, 1898.9783760000003, 1922.7241199999999, 1871.7212260000001, 1739.584314, 1651.294321, 1622.391202, 1741.9496609999999, 1813.1038199999998, 1935.842196, 1878.6803719999998, 1773.9616850000002, 1918.8884239999998, 2001.907066, 2012.419036, 2089.104842, 1954.5692, 1997.856, 2188.551802]\n",
            "20\n"
          ],
          "name": "stdout"
        }
      ]
    },
    {
      "cell_type": "code",
      "metadata": {
        "id": "RVDgUzLsvdat"
      },
      "source": [
        "#Making test data\n",
        "testX_unscaled=[]\n",
        "testY_unscaled=[]\n",
        "n_future=5\n",
        "n_past=10\n",
        "for i in range(len(dataLead_list)-n_future-n_past):\n",
        "    temp=[]\n",
        "    testX_unscaled.append(dataLead_list[i:i+n_past])\n",
        "    for j in range(i+n_past,i+n_past+n_future):\n",
        "      temp.append(dataLead_list[j])\n",
        "    testY_unscaled.append(temp)"
      ],
      "execution_count": null,
      "outputs": []
    },
    {
      "cell_type": "code",
      "metadata": {
        "colab": {
          "base_uri": "https://localhost:8080/"
        },
        "id": "8RSkXzn1vm9Q",
        "outputId": "9076350e-4d63-433e-e178-611923e4ca6c"
      },
      "source": [
        "testX_unscaled= np.array(testX_unscaled)\n",
        "testY_unscaled= np.array(testY_unscaled)\n",
        "print(testX_unscaled)\n",
        "print(testX_unscaled.shape)\n",
        "print(type(testX_unscaled))\n",
        "\n",
        "print(testY_unscaled)\n",
        "print(testY_unscaled.shape)\n",
        "print(type(testY_unscaled))"
      ],
      "execution_count": null,
      "outputs": [
        {
          "output_type": "stream",
          "text": [
            "[[2185.288213 2035.110116 1898.978376 1922.72412  1871.721226 1739.584314\n",
            "  1651.294321 1622.391202 1741.949661 1813.10382 ]\n",
            " [2035.110116 1898.978376 1922.72412  1871.721226 1739.584314 1651.294321\n",
            "  1622.391202 1741.949661 1813.10382  1935.842196]\n",
            " [1898.978376 1922.72412  1871.721226 1739.584314 1651.294321 1622.391202\n",
            "  1741.949661 1813.10382  1935.842196 1878.680372]\n",
            " [1922.72412  1871.721226 1739.584314 1651.294321 1622.391202 1741.949661\n",
            "  1813.10382  1935.842196 1878.680372 1773.961685]\n",
            " [1871.721226 1739.584314 1651.294321 1622.391202 1741.949661 1813.10382\n",
            "  1935.842196 1878.680372 1773.961685 1918.888424]]\n",
            "(5, 10)\n",
            "<class 'numpy.ndarray'>\n",
            "[[1935.842196 1878.680372 1773.961685 1918.888424 2001.907066]\n",
            " [1878.680372 1773.961685 1918.888424 2001.907066 2012.419036]\n",
            " [1773.961685 1918.888424 2001.907066 2012.419036 2089.104842]\n",
            " [1918.888424 2001.907066 2012.419036 2089.104842 1954.5692  ]\n",
            " [2001.907066 2012.419036 2089.104842 1954.5692   1997.856   ]]\n",
            "(5, 5)\n",
            "<class 'numpy.ndarray'>\n"
          ],
          "name": "stdout"
        }
      ]
    },
    {
      "cell_type": "code",
      "metadata": {
        "colab": {
          "base_uri": "https://localhost:8080/",
          "height": 265
        },
        "id": "lvqMmqEyvsA-",
        "outputId": "0e202b64-df80-4b59-be34-6a15640e5aaf"
      },
      "source": [
        "#testX_unscaled[0] - original x test series\n",
        "#testY_unscaled[0] - original y value\n",
        "#y_pred - prediction\n",
        "#on x axis: 10+5 = 15 days\n",
        "\n",
        "x_axis=np.array([])\n",
        "for i in range(15):\n",
        "  x_axis=np.append(x_axis, i)\n",
        "\n",
        "plt.plot(x_axis[0:10],testX_unscaled[0])#Traintemp and testtemp store actual values, not transformed. \n",
        "plt.plot(x_axis[10:15],testY_unscaled[0])\n",
        "plt.plot(x_axis[10:15],y_pred)\n",
        "plt.legend([\"Original\",\"original y\",\"Predicted\"])\n",
        "plt.show()"
      ],
      "execution_count": null,
      "outputs": [
        {
          "output_type": "display_data",
          "data": {
            "image/png": "[encoded data removed]",
            "text/plain": [
              "<Figure size 432x288 with 1 Axes>"
            ]
          },
          "metadata": {
            "tags": [],
            "needs_background": "light"
          }
        }
      ]
    },
    {
      "cell_type": "code",
      "metadata": {
        "colab": {
          "base_uri": "https://localhost:8080/",
          "height": 265
        },
        "id": "nOi1ZvgIlrbP",
        "outputId": "44167fea-cfd2-427d-bdf5-d80a3a54fd26"
      },
      "source": [
        "#testX_unscaled[0] - original x test series\n",
        "#testY_unscaled[0] - original y value\n",
        "#y_pred - prediction\n",
        "#on x axis: 10+5 = 15 days\n",
        "\n",
        "plt.plot(testXdates[0],testX_unscaled[0])#Traintemp and testtemp store actual values, not transformed. \n",
        "plt.plot(testYdates[0],testY_unscaled[0])\n",
        "plt.plot(testYdates[0],y_pred)\n",
        "plt.legend([\"Original\",\"original y\",\"Predicted\"])\n",
        "plt.show()"
      ],
      "execution_count": null,
      "outputs": [
        {
          "output_type": "display_data",
          "data": {
            "image/png": "[encoded data removed]",
            "text/plain": [
              "<Figure size 432x288 with 1 Axes>"
            ]
          },
          "metadata": {
            "tags": [],
            "needs_background": "light"
          }
        }
      ]
    },
    {
      "cell_type": "code",
      "metadata": {
        "colab": {
          "base_uri": "https://localhost:8080/",
          "height": 265
        },
        "id": "29xu12lfwFvV",
        "outputId": "2546ad0a-3723-4ada-8ce6-833896d564f9"
      },
      "source": [
        "#forecast[1]\n",
        "test_num=1\n",
        "\n",
        "element=forecast[test_num]\n",
        "element= np. reshape(element, (element.shape[0], 1))\n",
        "forecast_copies = np.repeat(element, 2, axis=1)\n",
        "y_pred_future = scaler.inverse_transform(forecast_copies)\n",
        "y_pred=[] \n",
        "for arr in y_pred_future:\n",
        "  y_pred.append(arr[0])\n",
        "y_pred= np.array(y_pred)\n",
        "\n",
        "\n",
        "plt.plot(x_axis[0:10],testX_unscaled[test_num])#Traintemp and testtemp store actual values, not transformed. \n",
        "plt.plot(x_axis[10:15],testY_unscaled[test_num])\n",
        "plt.plot(x_axis[10:15],y_pred)\n",
        "plt.legend([\"Original\",\"original y\",\"Predicted\"])\n",
        "plt.show()"
      ],
      "execution_count": null,
      "outputs": [
        {
          "output_type": "display_data",
          "data": {
            "image/png": "[encoded data removed]",
            "text/plain": [
              "<Figure size 432x288 with 1 Axes>"
            ]
          },
          "metadata": {
            "tags": [],
            "needs_background": "light"
          }
        }
      ]
    },
    {
      "cell_type": "code",
      "metadata": {
        "colab": {
          "base_uri": "https://localhost:8080/",
          "height": 265
        },
        "id": "a1nfYa7owc51",
        "outputId": "ac9b937a-f016-4e35-9394-f0806e4ea24e"
      },
      "source": [
        "#forecast[1]\n",
        "test_num=1\n",
        "\n",
        "element=forecast[test_num]\n",
        "element= np. reshape(element, (element.shape[0], 1))\n",
        "forecast_copies = np.repeat(element, 2, axis=1)\n",
        "y_pred_future = scaler.inverse_transform(forecast_copies)\n",
        "y_pred=[] \n",
        "for arr in y_pred_future:\n",
        "  y_pred.append(arr[0])\n",
        "y_pred= np.array(y_pred)\n",
        "\n",
        "\n",
        "plt.plot(testXdates[test_num],testX_unscaled[test_num])#Traintemp and testtemp store actual values, not transformed. \n",
        "plt.plot(testYdates[test_num],testY_unscaled[test_num])\n",
        "plt.plot(testYdates[test_num],y_pred)\n",
        "plt.legend([\"Original\",\"original y\",\"Predicted\"])\n",
        "plt.show()"
      ],
      "execution_count": null,
      "outputs": [
        {
          "output_type": "display_data",
          "data": {
            "image/png": "[encoded data removed]",
            "text/plain": [
              "<Figure size 432x288 with 1 Axes>"
            ]
          },
          "metadata": {
            "tags": [],
            "needs_background": "light"
          }
        }
      ]
    },
    {
      "cell_type": "code",
      "metadata": {
        "colab": {
          "base_uri": "https://localhost:8080/"
        },
        "id": "mysP8xvGxJMg",
        "outputId": "6f21b0ae-969c-478b-aa6c-a192daab18d3"
      },
      "source": [
        "print(y_pred)"
      ],
      "execution_count": null,
      "outputs": [
        {
          "output_type": "stream",
          "text": [
            "[1995.6671 2017.7094 2028.6504 2041.9011 2073.3762]\n"
          ],
          "name": "stdout"
        }
      ]
    },
    {
      "cell_type": "code",
      "metadata": {
        "colab": {
          "base_uri": "https://localhost:8080/"
        },
        "id": "67gT5_7nSDtY",
        "outputId": "8ec4834b-f450-45c1-ef57-69b572faaef2"
      },
      "source": [
        "print(y_pred)"
      ],
      "execution_count": null,
      "outputs": [
        {
          "output_type": "stream",
          "text": [
            "[1890.1875 1904.4059 1938.8877 1920.8733 1949.9019]\n"
          ],
          "name": "stdout"
        }
      ]
    },
    {
      "cell_type": "code",
      "metadata": {
        "colab": {
          "base_uri": "https://localhost:8080/"
        },
        "id": "ARzB2nnMxPnK",
        "outputId": "054a0d11-9080-44de-fc0a-38fbcd036a4d"
      },
      "source": [
        "print(testY_unscaled[1])"
      ],
      "execution_count": null,
      "outputs": [
        {
          "output_type": "stream",
          "text": [
            "[1878.680372 1773.961685 1918.888424 2001.907066 2012.419036]\n"
          ],
          "name": "stdout"
        }
      ]
    },
    {
      "cell_type": "code",
      "metadata": {
        "colab": {
          "base_uri": "https://localhost:8080/",
          "height": 265
        },
        "id": "NqbZBmZIw6AF",
        "outputId": "d09b2d83-733d-42e4-e1ee-79f728ebf776"
      },
      "source": [
        "#forecast[2]\n",
        "test_num=2\n",
        "\n",
        "element=forecast[test_num]\n",
        "element= np. reshape(element, (element.shape[0], 1))\n",
        "forecast_copies = np.repeat(element, 2, axis=1)\n",
        "y_pred_future = scaler.inverse_transform(forecast_copies)\n",
        "y_pred=[] \n",
        "for arr in y_pred_future:\n",
        "  y_pred.append(arr[0])\n",
        "y_pred= np.array(y_pred)\n",
        "\n",
        "\n",
        "plt.plot(testXdates[test_num],testX_unscaled[test_num])#Traintemp and testtemp store actual values, not transformed. \n",
        "plt.plot(testYdates[test_num],testY_unscaled[test_num])\n",
        "plt.plot(testYdates[test_num],y_pred)\n",
        "plt.legend([\"Original\",\"original y\",\"Predicted\"])\n",
        "plt.show()"
      ],
      "execution_count": null,
      "outputs": [
        {
          "output_type": "display_data",
          "data": {
            "image/png": "[encoded data removed]",
            "text/plain": [
              "<Figure size 432x288 with 1 Axes>"
            ]
          },
          "metadata": {
            "tags": [],
            "needs_background": "light"
          }
        }
      ]
    },
    {
      "cell_type": "code",
      "metadata": {
        "colab": {
          "base_uri": "https://localhost:8080/"
        },
        "id": "FNJ2fUGow_oE",
        "outputId": "1bbafa0c-18b8-4bd1-8e68-5483c4a01fb1"
      },
      "source": [
        "print(y_pred)"
      ],
      "execution_count": null,
      "outputs": [
        {
          "output_type": "stream",
          "text": [
            "[2062.1467 2076.3748 2081.4946 2083.398  2106.0903]\n"
          ],
          "name": "stdout"
        }
      ]
    },
    {
      "cell_type": "code",
      "metadata": {
        "colab": {
          "base_uri": "https://localhost:8080/",
          "height": 265
        },
        "id": "B31wnjH-xfE2",
        "outputId": "d934fa5c-a37a-475a-bf58-b8e3a924217f"
      },
      "source": [
        "#forecast[3]\n",
        "test_num=3\n",
        "\n",
        "element=forecast[test_num]\n",
        "element= np. reshape(element, (element.shape[0], 1))\n",
        "forecast_copies = np.repeat(element, 2, axis=1)\n",
        "y_pred_future = scaler.inverse_transform(forecast_copies)\n",
        "y_pred=[] \n",
        "for arr in y_pred_future:\n",
        "  y_pred.append(arr[0])\n",
        "y_pred= np.array(y_pred)\n",
        "\n",
        "\n",
        "plt.plot(testXdates[test_num],testX_unscaled[test_num])#Traintemp and testtemp store actual values, not transformed. \n",
        "plt.plot(testYdates[test_num],testY_unscaled[test_num])\n",
        "plt.plot(testYdates[test_num],y_pred)\n",
        "plt.legend([\"Original\",\"original y\",\"Predicted\"])\n",
        "plt.show()"
      ],
      "execution_count": null,
      "outputs": [
        {
          "output_type": "display_data",
          "data": {
            "image/png": "[encoded data removed]",
            "text/plain": [
              "<Figure size 432x288 with 1 Axes>"
            ]
          },
          "metadata": {
            "tags": [],
            "needs_background": "light"
          }
        }
      ]
    },
    {
      "cell_type": "code",
      "metadata": {
        "colab": {
          "base_uri": "https://localhost:8080/",
          "height": 265
        },
        "id": "cnFcGRtqxkvU",
        "outputId": "081b6166-315f-4d09-9e7e-e192089d2baa"
      },
      "source": [
        "#forecast[4]\n",
        "test_num=4\n",
        "\n",
        "element=forecast[test_num]\n",
        "element= np. reshape(element, (element.shape[0], 1))\n",
        "forecast_copies = np.repeat(element, 2, axis=1)\n",
        "y_pred_future = scaler.inverse_transform(forecast_copies)\n",
        "y_pred=[] \n",
        "for arr in y_pred_future:\n",
        "  y_pred.append(arr[0])\n",
        "y_pred= np.array(y_pred)\n",
        "\n",
        "\n",
        "plt.plot(testXdates[test_num],testX_unscaled[test_num])#Traintemp and testtemp store actual values, not transformed. \n",
        "plt.plot(testYdates[test_num],testY_unscaled[test_num])\n",
        "plt.plot(testYdates[test_num],y_pred)\n",
        "plt.legend([\"Original\",\"original y\",\"Predicted\"])\n",
        "plt.show()"
      ],
      "execution_count": null,
      "outputs": [
        {
          "output_type": "display_data",
          "data": {
            "image/png": "[encoded data removed]",
            "text/plain": [
              "<Figure size 432x288 with 1 Axes>"
            ]
          },
          "metadata": {
            "tags": [],
            "needs_background": "light"
          }
        }
      ]
    },
    {
      "cell_type": "code",
      "metadata": {
        "colab": {
          "base_uri": "https://localhost:8080/"
        },
        "id": "YfIL-ylLyGyw",
        "outputId": "eb9272bb-b51a-41a0-c01f-1eea39a9b4b5"
      },
      "source": [
        "import math\n",
        "from sklearn.metrics import mean_squared_error\n",
        "math.sqrt(mean_squared_error(testY_unscaled[4],y_pred))\n",
        "# Unscaled RMSE values"
      ],
      "execution_count": null,
      "outputs": [
        {
          "output_type": "execute_result",
          "data": {
            "text/plain": [
              "58.789541549093656"
            ]
          },
          "metadata": {
            "tags": []
          },
          "execution_count": 132
        }
      ]
    }
  ]
}