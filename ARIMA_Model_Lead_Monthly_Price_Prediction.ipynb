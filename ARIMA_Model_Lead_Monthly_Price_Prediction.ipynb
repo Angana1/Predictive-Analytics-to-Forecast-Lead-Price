{
  "nbformat": 4,
  "nbformat_minor": 0,
  "metadata": {
    "colab": {
      "name": "ARIMA Model Lead Monthly Price Prediction.ipynb",
      "provenance": [],
      "include_colab_link": true
    },
    "kernelspec": {
      "name": "python3",
      "display_name": "Python 3"
    },
    "language_info": {
      "name": "python"
    }
  },
  "cells": [
    {
      "cell_type": "markdown",
      "metadata": {
        "id": "view-in-github",
        "colab_type": "text"
      },
      "source": [
        "<a href=\"https://colab.research.google.com/github/Angana1/Stock-Price-Prediction-London-Metal-Exchange-/blob/main/ARIMA_Model_Lead_Monthly_Price_Prediction.ipynb\" target=\"_parent\"><img src=\"https://colab.research.google.com/assets/colab-badge.svg\" alt=\"Open In Colab\"/></a>"
      ]
    },
    {
      "cell_type": "code",
      "metadata": {
        "colab": {
          "base_uri": "https://localhost:8080/"
        },
        "id": "U1OpyS-GifEn",
        "outputId": "907615e4-2d41-4fb1-a769-64b8cac257b9"
      },
      "source": [
        "import pandas as pd\n",
        "from pandas import datetime\n",
        "import matplotlib.pyplot as plt\n",
        "import datetime"
      ],
      "execution_count": null,
      "outputs": [
        {
          "output_type": "stream",
          "text": [
            "/usr/local/lib/python3.7/dist-packages/ipykernel_launcher.py:2: FutureWarning: The pandas.datetime class is deprecated and will be removed from pandas in a future version. Import from datetime module instead.\n",
            "  \n"
          ],
          "name": "stderr"
        }
      ]
    },
    {
      "cell_type": "markdown",
      "metadata": {
        "id": "nYgw5igtT3se"
      },
      "source": [
        "# Getting Data"
      ]
    },
    {
      "cell_type": "code",
      "metadata": {
        "id": "Wrep_RB_jIe_"
      },
      "source": [
        "#importing Monthly Weighted Average Lead Price csv dataset\n",
        "sales = pd.read_csv('/content/Monthly Weighted Avg Lead Price.csv')"
      ],
      "execution_count": null,
      "outputs": []
    },
    {
      "cell_type": "code",
      "metadata": {
        "id": "XGKTch4UjrXN"
      },
      "source": [
        "sales['Date']=pd.to_datetime(sales['Date'],format=\"%b-%y\")"
      ],
      "execution_count": null,
      "outputs": []
    },
    {
      "cell_type": "code",
      "metadata": {
        "colab": {
          "base_uri": "https://localhost:8080/"
        },
        "id": "36TB1MD8kToS",
        "outputId": "5a74a9d1-c1b2-42ae-b08b-fe01363118c2"
      },
      "source": [
        "print(sales)\n",
        "print(\"Datatype of column Date:\",sales['Date'].dtype)"
      ],
      "execution_count": null,
      "outputs": [
        {
          "output_type": "stream",
          "text": [
            "          Date  Weighted Average Price\n",
            "0   2008-01-01             2601.678175\n",
            "1   2008-02-01             2797.112343\n",
            "2   2008-03-01             1802.000000\n",
            "3   2008-04-01             1802.000000\n",
            "4   2008-05-01             1802.000000\n",
            "..         ...                     ...\n",
            "156 2021-01-01             2012.419036\n",
            "157 2021-02-01             2089.104842\n",
            "158 2021-03-01             1954.569200\n",
            "159 2021-04-01             1997.856000\n",
            "160 2021-05-01             2188.551802\n",
            "\n",
            "[161 rows x 2 columns]\n",
            "Datatype of column Date: datetime64[ns]\n"
          ],
          "name": "stdout"
        }
      ]
    },
    {
      "cell_type": "code",
      "metadata": {
        "colab": {
          "base_uri": "https://localhost:8080/",
          "height": 235
        },
        "id": "VBiL3TCylKgY",
        "outputId": "8f4aec79-b0e7-4830-be83-4f05de7bd640"
      },
      "source": [
        "sales = sales.set_index(['Date'])\n",
        "sales.head()"
      ],
      "execution_count": null,
      "outputs": [
        {
          "output_type": "execute_result",
          "data": {
            "text/html": [
              "<div>\n",
              "<style scoped>\n",
              "    .dataframe tbody tr th:only-of-type {\n",
              "        vertical-align: middle;\n",
              "    }\n",
              "\n",
              "    .dataframe tbody tr th {\n",
              "        vertical-align: top;\n",
              "    }\n",
              "\n",
              "    .dataframe thead th {\n",
              "        text-align: right;\n",
              "    }\n",
              "</style>\n",
              "<table border=\"1\" class=\"dataframe\">\n",
              "  <thead>\n",
              "    <tr style=\"text-align: right;\">\n",
              "      <th></th>\n",
              "      <th>Weighted Average Price</th>\n",
              "    </tr>\n",
              "    <tr>\n",
              "      <th>Date</th>\n",
              "      <th></th>\n",
              "    </tr>\n",
              "  </thead>\n",
              "  <tbody>\n",
              "    <tr>\n",
              "      <th>2008-01-01</th>\n",
              "      <td>2601.678175</td>\n",
              "    </tr>\n",
              "    <tr>\n",
              "      <th>2008-02-01</th>\n",
              "      <td>2797.112343</td>\n",
              "    </tr>\n",
              "    <tr>\n",
              "      <th>2008-03-01</th>\n",
              "      <td>1802.000000</td>\n",
              "    </tr>\n",
              "    <tr>\n",
              "      <th>2008-04-01</th>\n",
              "      <td>1802.000000</td>\n",
              "    </tr>\n",
              "    <tr>\n",
              "      <th>2008-05-01</th>\n",
              "      <td>1802.000000</td>\n",
              "    </tr>\n",
              "  </tbody>\n",
              "</table>\n",
              "</div>"
            ],
            "text/plain": [
              "            Weighted Average Price\n",
              "Date                              \n",
              "2008-01-01             2601.678175\n",
              "2008-02-01             2797.112343\n",
              "2008-03-01             1802.000000\n",
              "2008-04-01             1802.000000\n",
              "2008-05-01             1802.000000"
            ]
          },
          "metadata": {
            "tags": []
          },
          "execution_count": 5
        }
      ]
    },
    {
      "cell_type": "code",
      "metadata": {
        "colab": {
          "base_uri": "https://localhost:8080/"
        },
        "id": "QKJ9TWlblQVV",
        "outputId": "a08ee3d6-c52b-4dbd-bc73-0efafdfec291"
      },
      "source": [
        "#sales.shape : (161,1)\n",
        "print(\"Number of data points in timeseries: \", len(sales))"
      ],
      "execution_count": null,
      "outputs": [
        {
          "output_type": "stream",
          "text": [
            "Number of data points in timeseries:  161\n"
          ],
          "name": "stdout"
        }
      ]
    },
    {
      "cell_type": "code",
      "metadata": {
        "id": "1xLLqlPplfqz",
        "colab": {
          "base_uri": "https://localhost:8080/",
          "height": 297
        },
        "outputId": "195a8e75-92ef-4916-8b22-95fa5a65dd86"
      },
      "source": [
        "sales.plot()"
      ],
      "execution_count": null,
      "outputs": [
        {
          "output_type": "execute_result",
          "data": {
            "text/plain": [
              "<matplotlib.axes._subplots.AxesSubplot at 0x7ffa6e8c9310>"
            ]
          },
          "metadata": {
            "tags": []
          },
          "execution_count": 7
        },
        {
          "output_type": "display_data",
          "data": {
            "image/png": "[encoded data removed]",
            "text/plain": [
              "<Figure size 432x288 with 1 Axes>"
            ]
          },
          "metadata": {
            "tags": [],
            "needs_background": "light"
          }
        }
      ]
    },
    {
      "cell_type": "code",
      "metadata": {
        "colab": {
          "base_uri": "https://localhost:8080/",
          "height": 600
        },
        "id": "3uG3ZlB5TGCX",
        "outputId": "333d9861-cdf8-4282-af43-eb93e0702297"
      },
      "source": [
        "from statsmodels.graphics.tsaplots import plot_acf\n",
        "plot_acf(sales)"
      ],
      "execution_count": null,
      "outputs": [
        {
          "output_type": "stream",
          "text": [
            "/usr/local/lib/python3.7/dist-packages/statsmodels/tools/_testing.py:19: FutureWarning: pandas.util.testing is deprecated. Use the functions in the public API at pandas.testing instead.\n",
            "  import pandas.util.testing as tm\n"
          ],
          "name": "stderr"
        },
        {
          "output_type": "execute_result",
          "data": {
            "image/png": "[encoded data removed]",
            "text/plain": [
              "<Figure size 432x288 with 1 Axes>"
            ]
          },
          "metadata": {
            "tags": []
          },
          "execution_count": 8
        },
        {
          "output_type": "display_data",
          "data": {
            "image/png": "[encoded data removed]",
            "text/plain": [
              "<Figure size 432x288 with 1 Axes>"
            ]
          },
          "metadata": {
            "tags": [],
            "needs_background": "light"
          }
        }
      ]
    },
    {
      "cell_type": "markdown",
      "metadata": {
        "id": "Hx3bJshDTQDv"
      },
      "source": [
        "This shows that data is non-stationary. "
      ]
    },
    {
      "cell_type": "markdown",
      "metadata": {
        "id": "Xx2NiDNYTVxg"
      },
      "source": [
        "# Converting series to stationary"
      ]
    },
    {
      "cell_type": "code",
      "metadata": {
        "id": "gQTp5ElfTNtS"
      },
      "source": [
        "sales_diff = sales.diff(periods=1)\n",
        "# integrated of order 1, denoted by d (for diff), one of the parameter of ARIMA model\n"
      ],
      "execution_count": null,
      "outputs": []
    },
    {
      "cell_type": "code",
      "metadata": {
        "colab": {
          "base_uri": "https://localhost:8080/",
          "height": 235
        },
        "id": "WvtpM-jaTeli",
        "outputId": "f233f4e8-4995-4165-de15-7e9216fbc405"
      },
      "source": [
        "sales_diff = sales_diff[1:]\n",
        "sales_diff.head()"
      ],
      "execution_count": null,
      "outputs": [
        {
          "output_type": "execute_result",
          "data": {
            "text/html": [
              "<div>\n",
              "<style scoped>\n",
              "    .dataframe tbody tr th:only-of-type {\n",
              "        vertical-align: middle;\n",
              "    }\n",
              "\n",
              "    .dataframe tbody tr th {\n",
              "        vertical-align: top;\n",
              "    }\n",
              "\n",
              "    .dataframe thead th {\n",
              "        text-align: right;\n",
              "    }\n",
              "</style>\n",
              "<table border=\"1\" class=\"dataframe\">\n",
              "  <thead>\n",
              "    <tr style=\"text-align: right;\">\n",
              "      <th></th>\n",
              "      <th>Weighted Average Price</th>\n",
              "    </tr>\n",
              "    <tr>\n",
              "      <th>Date</th>\n",
              "      <th></th>\n",
              "    </tr>\n",
              "  </thead>\n",
              "  <tbody>\n",
              "    <tr>\n",
              "      <th>2008-02-01</th>\n",
              "      <td>195.434168</td>\n",
              "    </tr>\n",
              "    <tr>\n",
              "      <th>2008-03-01</th>\n",
              "      <td>-995.112343</td>\n",
              "    </tr>\n",
              "    <tr>\n",
              "      <th>2008-04-01</th>\n",
              "      <td>0.000000</td>\n",
              "    </tr>\n",
              "    <tr>\n",
              "      <th>2008-05-01</th>\n",
              "      <td>0.000000</td>\n",
              "    </tr>\n",
              "    <tr>\n",
              "      <th>2008-06-01</th>\n",
              "      <td>-1.199974</td>\n",
              "    </tr>\n",
              "  </tbody>\n",
              "</table>\n",
              "</div>"
            ],
            "text/plain": [
              "            Weighted Average Price\n",
              "Date                              \n",
              "2008-02-01              195.434168\n",
              "2008-03-01             -995.112343\n",
              "2008-04-01                0.000000\n",
              "2008-05-01                0.000000\n",
              "2008-06-01               -1.199974"
            ]
          },
          "metadata": {
            "tags": []
          },
          "execution_count": 11
        }
      ]
    },
    {
      "cell_type": "code",
      "metadata": {
        "colab": {
          "base_uri": "https://localhost:8080/"
        },
        "id": "3oyIB8PkTlvl",
        "outputId": "db6512fc-be55-4b33-a058-6f7907590987"
      },
      "source": [
        "print(sales_diff.shape)"
      ],
      "execution_count": null,
      "outputs": [
        {
          "output_type": "stream",
          "text": [
            "(160, 1)\n"
          ],
          "name": "stdout"
        }
      ]
    },
    {
      "cell_type": "code",
      "metadata": {
        "colab": {
          "base_uri": "https://localhost:8080/",
          "height": 545
        },
        "id": "bmmx4qTWTpUu",
        "outputId": "eb6886b8-91a5-46cd-b51e-b7903f0ab85d"
      },
      "source": [
        "plot_acf(sales_diff)"
      ],
      "execution_count": null,
      "outputs": [
        {
          "output_type": "execute_result",
          "data": {
            "image/png": "[encoded data removed]",
            "text/plain": [
              "<Figure size 432x288 with 1 Axes>"
            ]
          },
          "metadata": {
            "tags": []
          },
          "execution_count": 13
        },
        {
          "output_type": "display_data",
          "data": {
            "image/png": "[encoded data removed]",
            "text/plain": [
              "<Figure size 432x288 with 1 Axes>"
            ]
          },
          "metadata": {
            "tags": [],
            "needs_background": "light"
          }
        }
      ]
    },
    {
      "cell_type": "markdown",
      "metadata": {
        "id": "mFQoGNhDTuJT"
      },
      "source": [
        "Data is now stationary, as can be seen from the autocorrelation plot."
      ]
    },
    {
      "cell_type": "code",
      "metadata": {
        "colab": {
          "base_uri": "https://localhost:8080/",
          "height": 297
        },
        "id": "h2xx8ipgTyZQ",
        "outputId": "7e94ca22-2ee4-40db-d271-8de3aa602a45"
      },
      "source": [
        "sales_diff.plot()"
      ],
      "execution_count": null,
      "outputs": [
        {
          "output_type": "execute_result",
          "data": {
            "text/plain": [
              "<matplotlib.axes._subplots.AxesSubplot at 0x7ffa5715b150>"
            ]
          },
          "metadata": {
            "tags": []
          },
          "execution_count": 14
        },
        {
          "output_type": "display_data",
          "data": {
            "image/png": "[encoded data removed]",
            "text/plain": [
              "<Figure size 432x288 with 1 Axes>"
            ]
          },
          "metadata": {
            "tags": [],
            "needs_background": "light"
          }
        }
      ]
    },
    {
      "cell_type": "markdown",
      "metadata": {
        "id": "8sCYSX5jVtI9"
      },
      "source": [
        "# Creating dataset input for AR Model and ARIMA Model"
      ]
    },
    {
      "cell_type": "code",
      "metadata": {
        "colab": {
          "base_uri": "https://localhost:8080/"
        },
        "id": "6FCpINVjVAPd",
        "outputId": "6e409be0-b364-4f3c-9fd3-e509476b14ee"
      },
      "source": [
        "X = sales.values # 160 values\n",
        "print(len(X))"
      ],
      "execution_count": null,
      "outputs": [
        {
          "output_type": "stream",
          "text": [
            "161\n"
          ],
          "name": "stdout"
        }
      ]
    },
    {
      "cell_type": "code",
      "metadata": {
        "colab": {
          "base_uri": "https://localhost:8080/"
        },
        "id": "9g4qbfTuUA3A",
        "outputId": "4b017a29-ef39-48a6-a14f-8c2caafeab52"
      },
      "source": [
        "train = X[0:156] # 156 training\n",
        "test = X[156:161]  # 5 tests. these will act as labels used to check how accurate our predictions are\n",
        "predictions = []\n",
        "print(\"Train size: \", train.size)\n",
        "print(\"Test size: \", test.size)"
      ],
      "execution_count": null,
      "outputs": [
        {
          "output_type": "stream",
          "text": [
            "Train size:  156\n",
            "Test size:  5\n"
          ],
          "name": "stdout"
        }
      ]
    },
    {
      "cell_type": "markdown",
      "metadata": {
        "id": "Dlw9TzP4VNxI"
      },
      "source": [
        "# Autoreggresive AR Model"
      ]
    },
    {
      "cell_type": "code",
      "metadata": {
        "id": "jeuueqDjVKFv"
      },
      "source": [
        "from statsmodels.tsa.ar_model import AR\n",
        "from sklearn.metrics import mean_squared_error\n",
        "model_ar = AR(train)\n",
        "model_ar_fit = model_ar.fit()"
      ],
      "execution_count": null,
      "outputs": []
    },
    {
      "cell_type": "code",
      "metadata": {
        "id": "s0iwkXe5VTnF"
      },
      "source": [
        "predictions = model_ar_fit.predict(start=156,end=160)"
      ],
      "execution_count": null,
      "outputs": []
    },
    {
      "cell_type": "code",
      "metadata": {
        "colab": {
          "base_uri": "https://localhost:8080/",
          "height": 287
        },
        "id": "iMDtArsgVepm",
        "outputId": "23e5ced7-209b-4997-9b4f-31c8d5552066"
      },
      "source": [
        "plt.plot(test)\n",
        "plt.plot(predictions,color='red')"
      ],
      "execution_count": null,
      "outputs": [
        {
          "output_type": "execute_result",
          "data": {
            "text/plain": [
              "[<matplotlib.lines.Line2D at 0x7ffa55840c50>]"
            ]
          },
          "metadata": {
            "tags": []
          },
          "execution_count": 25
        },
        {
          "output_type": "display_data",
          "data": {
            "image/png": "[encoded data removed]",
            "text/plain": [
              "<Figure size 432x288 with 1 Axes>"
            ]
          },
          "metadata": {
            "tags": [],
            "needs_background": "light"
          }
        }
      ]
    },
    {
      "cell_type": "markdown",
      "metadata": {
        "id": "PUpIHTgGWHEJ"
      },
      "source": [
        "The overall trend has been identified, however the peaks and lows are not being predicted."
      ]
    },
    {
      "cell_type": "code",
      "metadata": {
        "colab": {
          "base_uri": "https://localhost:8080/"
        },
        "id": "imWg533VWAJS",
        "outputId": "981e5fb5-c49f-4bdd-a791-17c899b79f84"
      },
      "source": [
        "test #labels"
      ],
      "execution_count": null,
      "outputs": [
        {
          "output_type": "execute_result",
          "data": {
            "text/plain": [
              "array([[2012.419036],\n",
              "       [2089.104842],\n",
              "       [1954.5692  ],\n",
              "       [1997.856   ],\n",
              "       [2188.551802]])"
            ]
          },
          "metadata": {
            "tags": []
          },
          "execution_count": 27
        }
      ]
    },
    {
      "cell_type": "code",
      "metadata": {
        "colab": {
          "base_uri": "https://localhost:8080/"
        },
        "id": "85z1FZwGVhb1",
        "outputId": "73553769-4dfa-4d85-f6a0-16b064818d9e"
      },
      "source": [
        "predictions #predictions"
      ],
      "execution_count": null,
      "outputs": [
        {
          "output_type": "execute_result",
          "data": {
            "text/plain": [
              "array([2030.63116804, 2034.19128813, 2041.28935493, 2074.97528296,\n",
              "       2099.07521031])"
            ]
          },
          "metadata": {
            "tags": []
          },
          "execution_count": 26
        }
      ]
    },
    {
      "cell_type": "markdown",
      "metadata": {
        "id": "CkVg0i0pWQDp"
      },
      "source": [
        "# ARIMA Model"
      ]
    },
    {
      "cell_type": "code",
      "metadata": {
        "id": "VeZn83gNWT24"
      },
      "source": [
        "from statsmodels.tsa.arima_model import ARIMA"
      ],
      "execution_count": null,
      "outputs": []
    },
    {
      "cell_type": "code",
      "metadata": {
        "colab": {
          "base_uri": "https://localhost:8080/"
        },
        "id": "YOJYQi-iWnne",
        "outputId": "0fd65b67-89d6-48ef-c43f-713bfc15b9b9"
      },
      "source": [
        "# figuring out a good combination of p,d,q\n",
        "\n",
        "import itertools\n",
        "p=d=q=range(0,9)\n",
        "pdq = list(itertools.product(p,d,q))\n",
        "maxi=10000\n",
        "param_opt=(0,0,0)\n",
        "import warnings\n",
        "warnings.filterwarnings('ignore')\n",
        "for param in pdq:\n",
        "    try:\n",
        "        model_arima = ARIMA(train,order=param)\n",
        "        model_arima_fit = model_arima.fit()\n",
        "        print(param,model_arima_fit.aic)\n",
        "        if(model_arima_fit.aic<maxi):\n",
        "          maxi=model_arima_fit.aic\n",
        "          param_opt=param\n",
        "    except:\n",
        "        continue\n",
        "    "
      ],
      "execution_count": null,
      "outputs": [
        {
          "output_type": "stream",
          "text": [
            "(0, 0, 0) 2239.8329842220332\n",
            "(0, 0, 1) 2099.1347985134653\n",
            "(0, 1, 0) 1984.5289831491714\n",
            "(0, 1, 1) 1985.6981909093317\n",
            "(0, 1, 2) 1987.3535054867898\n",
            "(0, 1, 3) 1989.3369038236542\n",
            "(0, 1, 4) 1989.7924405788997\n",
            "(0, 1, 5) 1991.3485560786794\n",
            "(0, 1, 6) 1991.2807788197306\n",
            "(0, 1, 7) 1993.122317533296\n",
            "(0, 1, 8) 1991.5696430451458\n",
            "(0, 2, 0) 2066.238915382858\n",
            "(0, 2, 1) 1979.52172186048\n",
            "(0, 2, 2) 1980.6030333137448\n",
            "(1, 0, 0) 1993.0907573135341\n",
            "(1, 0, 1) 1992.4505413362335\n",
            "(1, 0, 2) 1992.8525860538311\n",
            "(1, 0, 3) 1994.2052500049795\n",
            "(1, 0, 4) 1995.9331111918145\n",
            "(1, 0, 5) 1996.1817494939787\n",
            "(1, 0, 6) 1997.5914817683238\n",
            "(1, 0, 7) 1997.9207915269553\n",
            "(1, 0, 8) 1999.8235820859563\n",
            "(1, 1, 0) 1985.6448522236346\n",
            "(1, 1, 1) 1985.519446863245\n",
            "(1, 2, 0) 2022.03581697895\n",
            "(1, 2, 1) 1980.5296296813285\n",
            "(1, 2, 2) 1980.4870777226972\n",
            "(1, 2, 4) 1982.7659429725686\n",
            "(1, 2, 5) 1983.9479127355694\n",
            "(2, 0, 0) 1991.9541250086281\n",
            "(2, 0, 1) 1993.1987217340893\n",
            "(2, 1, 0) 1987.450256434797\n",
            "(2, 1, 1) 1989.4353170520344\n",
            "(2, 1, 2) 1988.3169066615683\n",
            "(2, 2, 0) 2012.5596320017619\n",
            "(2, 2, 1) 1982.216693203024\n",
            "(2, 2, 4) 1981.0305424933094\n",
            "(2, 2, 5) 1982.7279986987426\n",
            "(3, 0, 0) 1992.4387869124557\n",
            "(3, 0, 1) 1985.7352386334428\n",
            "(3, 0, 2) 1985.4259275176496\n",
            "(3, 0, 3) 1987.3806083105865\n",
            "(3, 1, 0) 1989.3578820410703\n",
            "(3, 1, 1) 1983.61818099296\n",
            "(3, 1, 2) 1980.4080843105276\n",
            "(3, 2, 0) 2010.8394355038813\n",
            "(3, 2, 1) 1984.1752688362585\n",
            "(3, 2, 2) 1985.7277900063048\n",
            "(3, 2, 4) 1989.2140162122555\n",
            "(4, 0, 0) 1994.1405532381182\n",
            "(4, 0, 1) 1987.629673846825\n",
            "(4, 0, 2) 1993.4652299722106\n",
            "(4, 0, 3) 1987.4329193724066\n",
            "(4, 1, 0) 1990.1491835456663\n",
            "(4, 1, 1) 1988.3844332858437\n",
            "(4, 1, 2) 1987.736597225297\n",
            "(4, 1, 3) 1984.594883640288\n",
            "(4, 1, 4) 1986.460984171844\n",
            "(4, 2, 0) 2004.3232667919046\n",
            "(4, 2, 1) 1985.1657860802957\n",
            "(4, 2, 2) 1987.57993651568\n",
            "(5, 0, 0) 1996.057593206493\n",
            "(5, 0, 1) 1994.1144350583654\n",
            "(5, 0, 2) 1995.3504796175562\n",
            "(5, 0, 4) 2000.837635991105\n",
            "(5, 1, 0) 1992.0083527570832\n",
            "(5, 1, 1) 1990.3821302516\n",
            "(5, 1, 2) 1985.288397707329\n",
            "(5, 1, 3) 1983.6191764450082\n",
            "(5, 1, 4) 1995.8877809284543\n",
            "(5, 1, 5) 1995.673779674878\n",
            "(5, 2, 0) 2004.6510230735987\n",
            "(5, 2, 1) 1986.938594815015\n",
            "(6, 0, 0) 1996.6023037063237\n",
            "(6, 0, 1) 1995.371039619144\n",
            "(6, 0, 2) 1988.3694368962806\n",
            "(6, 0, 4) 2000.137865370732\n",
            "(6, 0, 5) 1998.2052041779561\n",
            "(6, 1, 0) 1993.3338395040994\n",
            "(6, 1, 1) 1991.779782691379\n",
            "(6, 1, 2) 1990.9753145754726\n",
            "(6, 1, 3) 2000.9415739493495\n",
            "(6, 1, 5) 2001.9281181809954\n",
            "(6, 1, 6) 1994.731353067934\n",
            "(6, 2, 0) 1999.7078075219079\n",
            "(6, 2, 1) 1988.4181250764384\n",
            "(6, 2, 2) 1986.8086896848542\n",
            "(6, 2, 3) 1985.9396804302867\n",
            "(7, 0, 0) 1998.5995230070612\n",
            "(7, 0, 1) 1997.3672191984374\n",
            "(7, 0, 2) 1990.3639100891182\n",
            "(7, 0, 4) 1999.5124638660945\n",
            "(7, 0, 5) 1993.239091609983\n",
            "(7, 1, 0) 1994.6471240457638\n",
            "(7, 1, 1) 1993.5585103171486\n",
            "(7, 1, 2) 1988.6766386232846\n",
            "(7, 1, 4) 1999.1422282617689\n",
            "(7, 1, 5) 1999.7037847874028\n",
            "(7, 1, 6) 1997.6677032219477\n",
            "(7, 2, 0) 2001.4476970144467\n",
            "(7, 2, 1) 1989.544748343919\n",
            "(7, 2, 2) 1988.4788924771453\n",
            "(7, 2, 3) 1989.1514040333063\n",
            "(8, 0, 0) 1997.3849226555071\n",
            "(8, 0, 1) 1997.4160300765661\n",
            "(8, 0, 2) 1991.5872980970726\n",
            "(8, 0, 3) 2002.223358816686\n",
            "(8, 0, 5) 1999.2459444256206\n",
            "(8, 1, 0) 1995.3855504160101\n",
            "(8, 1, 1) 1989.1107575309509\n",
            "(8, 1, 2) 1994.0090492924767\n",
            "(8, 1, 4) 1988.5218985289118\n",
            "(8, 2, 0) 1998.0650039819611\n",
            "(8, 2, 1) 1999.4985365429563\n",
            "(8, 2, 2) 1990.2616478856037\n",
            "(8, 2, 3) 2008.138916948879\n",
            "(8, 2, 4) 1994.632487813555\n",
            "(8, 2, 5) 1992.5047245298415\n"
          ],
          "name": "stdout"
        }
      ]
    },
    {
      "cell_type": "code",
      "metadata": {
        "colab": {
          "base_uri": "https://localhost:8080/"
        },
        "id": "-mEGt4pJXXIn",
        "outputId": "35b8dd71-649d-4c76-8091-a2d062163dd4"
      },
      "source": [
        "print(param_opt)"
      ],
      "execution_count": null,
      "outputs": [
        {
          "output_type": "stream",
          "text": [
            "(0, 2, 1)\n"
          ],
          "name": "stdout"
        }
      ]
    },
    {
      "cell_type": "code",
      "metadata": {
        "colab": {
          "base_uri": "https://localhost:8080/"
        },
        "id": "aw-DXejwWVkd",
        "outputId": "ce2a9d1f-da9d-4cb5-aa4d-6d5e37c04bb3"
      },
      "source": [
        "#p,d,q  p = periods taken for autoregressive model\n",
        "#d -> Integrated order, difference\n",
        "# q periods in moving average model\n",
        "model_arima = ARIMA(train,order=(1,2,1))\n",
        "model_arima_fit = model_arima.fit()\n",
        "print(model_arima_fit.aic)"
      ],
      "execution_count": null,
      "outputs": [
        {
          "output_type": "stream",
          "text": [
            "1980.5296296813285\n"
          ],
          "name": "stdout"
        }
      ]
    },
    {
      "cell_type": "code",
      "metadata": {
        "colab": {
          "base_uri": "https://localhost:8080/"
        },
        "id": "d_07WhCBWbPA",
        "outputId": "f9cf878e-4096-4c15-b5aa-f665554e7354"
      },
      "source": [
        "predictions= model_arima_fit.forecast(steps=5)[0]\n",
        "predictions "
      ],
      "execution_count": null,
      "outputs": [
        {
          "output_type": "execute_result",
          "data": {
            "text/plain": [
              "array([2014.20185425, 2020.8913465 , 2027.24745306, 2033.69698065,\n",
              "       2040.27448296])"
            ]
          },
          "metadata": {
            "tags": []
          },
          "execution_count": 77
        }
      ]
    },
    {
      "cell_type": "code",
      "metadata": {
        "colab": {
          "base_uri": "https://localhost:8080/"
        },
        "id": "yQs4rFRZZszn",
        "outputId": "a9b30480-b23d-44fb-9f45-c36189cda58d"
      },
      "source": [
        "test #labels"
      ],
      "execution_count": null,
      "outputs": [
        {
          "output_type": "execute_result",
          "data": {
            "text/plain": [
              "array([[2012.419036],\n",
              "       [2089.104842],\n",
              "       [1954.5692  ],\n",
              "       [1997.856   ],\n",
              "       [2188.551802]])"
            ]
          },
          "metadata": {
            "tags": []
          },
          "execution_count": 80
        }
      ]
    },
    {
      "cell_type": "code",
      "metadata": {
        "colab": {
          "base_uri": "https://localhost:8080/",
          "height": 287
        },
        "id": "efThKcP3Wfum",
        "outputId": "d8369820-8595-4590-f83c-97f3cf79e369"
      },
      "source": [
        "plt.plot(test)\n",
        "plt.plot(predictions,color='red')"
      ],
      "execution_count": null,
      "outputs": [
        {
          "output_type": "execute_result",
          "data": {
            "text/plain": [
              "[<matplotlib.lines.Line2D at 0x7ffa5314ecd0>]"
            ]
          },
          "metadata": {
            "tags": []
          },
          "execution_count": 78
        },
        {
          "output_type": "display_data",
          "data": {
            "image/png": "[encoded data removed]",
            "text/plain": [
              "<Figure size 432x288 with 1 Axes>"
            ]
          },
          "metadata": {
            "tags": [],
            "needs_background": "light"
          }
        }
      ]
    },
    {
      "cell_type": "markdown",
      "metadata": {
        "id": "2RltufzYZnpc"
      },
      "source": [
        "Close Regression line. But cannot capture nuances.\n"
      ]
    },
    {
      "cell_type": "code",
      "metadata": {
        "colab": {
          "base_uri": "https://localhost:8080/"
        },
        "id": "AicsaCFjWjho",
        "outputId": "ddbc61e1-3e71-450c-bf50-ea949ade20ad"
      },
      "source": [
        "mean_squared_error(test,predictions)"
      ],
      "execution_count": null,
      "outputs": [
        {
          "output_type": "execute_result",
          "data": {
            "text/plain": [
              "6641.825422171778"
            ]
          },
          "metadata": {
            "tags": []
          },
          "execution_count": 79
        }
      ]
    }
  ]
}